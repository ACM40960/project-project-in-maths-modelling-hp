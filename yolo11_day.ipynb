{
 "cells": [
  {
   "cell_type": "markdown",
   "id": "c78c36c7-cbee-4a9b-962b-f07fb6b8739f",
   "metadata": {},
   "source": [
    "## *<u>YOLO V11 (Day Model)</u>*"
   ]
  },
  {
   "cell_type": "markdown",
   "id": "2aaf2454-4352-4bff-9f7d-ef7775c2377b",
   "metadata": {},
   "source": [
    "The following code checks for **`GPU`** availability. If it returns **`False`**, you will need to either use the **`CPU`** for training or explore ways to enable *GPU support*, if your system is compatible.\n"
   ]
  },
  {
   "cell_type": "code",
   "execution_count": 1,
   "id": "a4b2f1f2-56ec-4dcd-8c99-abe648234d45",
   "metadata": {},
   "outputs": [
    {
     "name": "stdout",
     "output_type": "stream",
     "text": [
      "CUDA available: True\n",
      "GPU device name: NVIDIA GeForce GTX 1650 Ti\n"
     ]
    }
   ],
   "source": [
    "# Importing torch for checking the availability of GPU\n",
    "import torch\n",
    "print(\"CUDA available:\", torch.cuda.is_available())\n",
    "print(\"GPU device name:\", torch.cuda.get_device_name(0))"
   ]
  },
  {
   "cell_type": "markdown",
   "id": "bc1c338a-833f-44ae-b7d1-9da0fe068bfe",
   "metadata": {},
   "source": [
    "Now we are going to install the **Ultralytics YOLO** package and import the necessary module."
   ]
  },
  {
   "cell_type": "code",
   "execution_count": 2,
   "id": "906c0d32-8244-46a3-87ac-326666e99d06",
   "metadata": {},
   "outputs": [
    {
     "name": "stdout",
     "output_type": "stream",
     "text": [
      "Requirement already satisfied: ultralytics in d:\\university college dublin\\trimester 3\\pimm\\project\\yolo-artnc\\lib\\site-packages (8.3.165)\n",
      "Requirement already satisfied: numpy>=1.23.0 in d:\\university college dublin\\trimester 3\\pimm\\project\\yolo-artnc\\lib\\site-packages (from ultralytics) (2.1.2)\n",
      "Requirement already satisfied: matplotlib>=3.3.0 in d:\\university college dublin\\trimester 3\\pimm\\project\\yolo-artnc\\lib\\site-packages (from ultralytics) (3.10.3)\n",
      "Requirement already satisfied: opencv-python>=4.6.0 in d:\\university college dublin\\trimester 3\\pimm\\project\\yolo-artnc\\lib\\site-packages (from ultralytics) (4.12.0.88)\n",
      "Requirement already satisfied: pillow>=7.1.2 in d:\\university college dublin\\trimester 3\\pimm\\project\\yolo-artnc\\lib\\site-packages (from ultralytics) (11.0.0)\n",
      "Requirement already satisfied: pyyaml>=5.3.1 in d:\\university college dublin\\trimester 3\\pimm\\project\\yolo-artnc\\lib\\site-packages (from ultralytics) (6.0.2)\n",
      "Requirement already satisfied: requests>=2.23.0 in d:\\university college dublin\\trimester 3\\pimm\\project\\yolo-artnc\\lib\\site-packages (from ultralytics) (2.32.4)\n",
      "Requirement already satisfied: scipy>=1.4.1 in d:\\university college dublin\\trimester 3\\pimm\\project\\yolo-artnc\\lib\\site-packages (from ultralytics) (1.15.3)\n",
      "Requirement already satisfied: torch>=1.8.0 in d:\\university college dublin\\trimester 3\\pimm\\project\\yolo-artnc\\lib\\site-packages (from ultralytics) (2.5.1+cu121)\n",
      "Requirement already satisfied: torchvision>=0.9.0 in d:\\university college dublin\\trimester 3\\pimm\\project\\yolo-artnc\\lib\\site-packages (from ultralytics) (0.20.1+cu121)\n",
      "Requirement already satisfied: tqdm>=4.64.0 in d:\\university college dublin\\trimester 3\\pimm\\project\\yolo-artnc\\lib\\site-packages (from ultralytics) (4.67.1)\n",
      "Requirement already satisfied: psutil in d:\\university college dublin\\trimester 3\\pimm\\project\\yolo-artnc\\lib\\site-packages (from ultralytics) (7.0.0)\n",
      "Requirement already satisfied: py-cpuinfo in d:\\university college dublin\\trimester 3\\pimm\\project\\yolo-artnc\\lib\\site-packages (from ultralytics) (9.0.0)\n",
      "Requirement already satisfied: pandas>=1.1.4 in d:\\university college dublin\\trimester 3\\pimm\\project\\yolo-artnc\\lib\\site-packages (from ultralytics) (2.3.1)\n",
      "Requirement already satisfied: ultralytics-thop>=2.0.0 in d:\\university college dublin\\trimester 3\\pimm\\project\\yolo-artnc\\lib\\site-packages (from ultralytics) (2.0.14)\n",
      "Requirement already satisfied: contourpy>=1.0.1 in d:\\university college dublin\\trimester 3\\pimm\\project\\yolo-artnc\\lib\\site-packages (from matplotlib>=3.3.0->ultralytics) (1.3.2)\n",
      "Requirement already satisfied: cycler>=0.10 in d:\\university college dublin\\trimester 3\\pimm\\project\\yolo-artnc\\lib\\site-packages (from matplotlib>=3.3.0->ultralytics) (0.12.1)\n",
      "Requirement already satisfied: fonttools>=4.22.0 in d:\\university college dublin\\trimester 3\\pimm\\project\\yolo-artnc\\lib\\site-packages (from matplotlib>=3.3.0->ultralytics) (4.58.5)\n",
      "Requirement already satisfied: kiwisolver>=1.3.1 in d:\\university college dublin\\trimester 3\\pimm\\project\\yolo-artnc\\lib\\site-packages (from matplotlib>=3.3.0->ultralytics) (1.4.8)\n",
      "Requirement already satisfied: packaging>=20.0 in d:\\university college dublin\\trimester 3\\pimm\\project\\yolo-artnc\\lib\\site-packages (from matplotlib>=3.3.0->ultralytics) (25.0)\n",
      "Requirement already satisfied: pyparsing>=2.3.1 in d:\\university college dublin\\trimester 3\\pimm\\project\\yolo-artnc\\lib\\site-packages (from matplotlib>=3.3.0->ultralytics) (3.2.3)\n",
      "Requirement already satisfied: python-dateutil>=2.7 in d:\\university college dublin\\trimester 3\\pimm\\project\\yolo-artnc\\lib\\site-packages (from matplotlib>=3.3.0->ultralytics) (2.9.0.post0)\n",
      "Requirement already satisfied: pytz>=2020.1 in d:\\university college dublin\\trimester 3\\pimm\\project\\yolo-artnc\\lib\\site-packages (from pandas>=1.1.4->ultralytics) (2025.2)\n",
      "Requirement already satisfied: tzdata>=2022.7 in d:\\university college dublin\\trimester 3\\pimm\\project\\yolo-artnc\\lib\\site-packages (from pandas>=1.1.4->ultralytics) (2025.2)\n",
      "Requirement already satisfied: six>=1.5 in d:\\university college dublin\\trimester 3\\pimm\\project\\yolo-artnc\\lib\\site-packages (from python-dateutil>=2.7->matplotlib>=3.3.0->ultralytics) (1.17.0)\n",
      "Requirement already satisfied: charset_normalizer<4,>=2 in d:\\university college dublin\\trimester 3\\pimm\\project\\yolo-artnc\\lib\\site-packages (from requests>=2.23.0->ultralytics) (3.4.2)\n",
      "Requirement already satisfied: idna<4,>=2.5 in d:\\university college dublin\\trimester 3\\pimm\\project\\yolo-artnc\\lib\\site-packages (from requests>=2.23.0->ultralytics) (3.10)\n",
      "Requirement already satisfied: urllib3<3,>=1.21.1 in d:\\university college dublin\\trimester 3\\pimm\\project\\yolo-artnc\\lib\\site-packages (from requests>=2.23.0->ultralytics) (2.5.0)\n",
      "Requirement already satisfied: certifi>=2017.4.17 in d:\\university college dublin\\trimester 3\\pimm\\project\\yolo-artnc\\lib\\site-packages (from requests>=2.23.0->ultralytics) (2025.7.9)\n",
      "Requirement already satisfied: filelock in d:\\university college dublin\\trimester 3\\pimm\\project\\yolo-artnc\\lib\\site-packages (from torch>=1.8.0->ultralytics) (3.13.1)\n",
      "Requirement already satisfied: typing-extensions>=4.8.0 in d:\\university college dublin\\trimester 3\\pimm\\project\\yolo-artnc\\lib\\site-packages (from torch>=1.8.0->ultralytics) (4.14.1)\n",
      "Requirement already satisfied: networkx in d:\\university college dublin\\trimester 3\\pimm\\project\\yolo-artnc\\lib\\site-packages (from torch>=1.8.0->ultralytics) (3.3)\n",
      "Requirement already satisfied: jinja2 in d:\\university college dublin\\trimester 3\\pimm\\project\\yolo-artnc\\lib\\site-packages (from torch>=1.8.0->ultralytics) (3.1.6)\n",
      "Requirement already satisfied: fsspec in d:\\university college dublin\\trimester 3\\pimm\\project\\yolo-artnc\\lib\\site-packages (from torch>=1.8.0->ultralytics) (2024.6.1)\n",
      "Requirement already satisfied: sympy==1.13.1 in d:\\university college dublin\\trimester 3\\pimm\\project\\yolo-artnc\\lib\\site-packages (from torch>=1.8.0->ultralytics) (1.13.1)\n",
      "Requirement already satisfied: mpmath<1.4,>=1.1.0 in d:\\university college dublin\\trimester 3\\pimm\\project\\yolo-artnc\\lib\\site-packages (from sympy==1.13.1->torch>=1.8.0->ultralytics) (1.3.0)\n",
      "Requirement already satisfied: colorama in d:\\university college dublin\\trimester 3\\pimm\\project\\yolo-artnc\\lib\\site-packages (from tqdm>=4.64.0->ultralytics) (0.4.6)\n",
      "Requirement already satisfied: MarkupSafe>=2.0 in d:\\university college dublin\\trimester 3\\pimm\\project\\yolo-artnc\\lib\\site-packages (from jinja2->torch>=1.8.0->ultralytics) (3.0.2)\n"
     ]
    }
   ],
   "source": [
    "# Installing ultralytics\n",
    "!pip install ultralytics"
   ]
  },
  {
   "cell_type": "code",
   "execution_count": 3,
   "id": "53577ab3-75a7-496a-9875-15cd6e11f8cc",
   "metadata": {},
   "outputs": [],
   "source": [
    "# Importing YOLO\n",
    "from ultralytics import YOLO"
   ]
  },
  {
   "cell_type": "markdown",
   "id": "f4405d4d-3a20-4bd9-8470-c7a9f53541ee",
   "metadata": {},
   "source": [
    "The above code will install the **ultralytics** library, which provides access to **YOLOv8** and above **(including YOLOv11 and YOLOv12)**. We also import the *`YOLO`* class so we can load and train YOLO models in the following steps.\n",
    "\n",
    "---"
   ]
  },
  {
   "cell_type": "markdown",
   "id": "9cb734a8-bee9-471a-890b-a8069de8c1a1",
   "metadata": {},
   "source": [
    "### <u>*Training*</u>"
   ]
  },
  {
   "cell_type": "markdown",
   "id": "7c8e4fd2-65c7-4bc7-96d0-d9b48f5c40bb",
   "metadata": {},
   "source": [
    "Now we are going to train the **Yolov11** model on the **Day dataset**."
   ]
  },
  {
   "cell_type": "code",
   "execution_count": 4,
   "id": "9e3695fb-877f-474e-a652-cea98655a343",
   "metadata": {},
   "outputs": [
    {
     "name": "stdout",
     "output_type": "stream",
     "text": [
      "Downloading https://github.com/ultralytics/assets/releases/download/v8.3.0/yolo11m.pt to 'yolo11m.pt'...\n"
     ]
    },
    {
     "name": "stderr",
     "output_type": "stream",
     "text": [
      "100%|█████████████████████████████████████████████████████████████████████████████| 38.8M/38.8M [00:03<00:00, 11.8MB/s]\n"
     ]
    },
    {
     "name": "stdout",
     "output_type": "stream",
     "text": [
      "New https://pypi.org/project/ultralytics/8.3.170 available  Update with 'pip install -U ultralytics'\n",
      "Ultralytics 8.3.165  Python-3.10.7 torch-2.5.1+cu121 CUDA:1 (NVIDIA GeForce GTX 1650 Ti, 4096MiB)\n",
      "\u001b[34m\u001b[1mengine\\trainer: \u001b[0magnostic_nms=False, amp=True, augment=False, auto_augment=randaugment, batch=8, bgr=0.0, box=7.5, cache=False, cfg=None, classes=None, close_mosaic=10, cls=0.5, conf=None, copy_paste=0.0, copy_paste_mode=flip, cos_lr=False, cutmix=0.0, data=dataset_day.yaml, degrees=0.0, deterministic=True, device=1, dfl=1.5, dnn=False, dropout=0.0, dynamic=False, embed=None, epochs=30, erasing=0.4, exist_ok=True, fliplr=0.5, flipud=0.0, format=torchscript, fraction=1.0, freeze=None, half=False, hsv_h=0.015, hsv_s=0.7, hsv_v=0.4, imgsz=416, int8=False, iou=0.7, keras=False, kobj=1.0, line_width=None, lr0=0.01, lrf=0.01, mask_ratio=4, max_det=300, mixup=0.0, mode=train, model=yolo11m.pt, momentum=0.937, mosaic=1.0, multi_scale=False, name=yolov11m_day, nbs=64, nms=False, opset=None, optimize=False, optimizer=auto, overlap_mask=True, patience=100, perspective=0.0, plots=True, pose=12.0, pretrained=True, profile=False, project=yolo11_day, rect=False, resume=False, retina_masks=False, save=True, save_conf=False, save_crop=False, save_dir=yolo11_day\\yolov11m_day, save_frames=False, save_json=False, save_period=-1, save_txt=False, scale=0.5, seed=0, shear=0.0, show=False, show_boxes=True, show_conf=True, show_labels=True, simplify=True, single_cls=False, source=None, split=val, stream_buffer=False, task=detect, time=None, tracker=botsort.yaml, translate=0.1, val=True, verbose=True, vid_stride=1, visualize=False, warmup_bias_lr=0.1, warmup_epochs=3.0, warmup_momentum=0.8, weight_decay=0.0005, workers=8, workspace=None\n",
      "Overriding model.yaml nc=80 with nc=6\n",
      "\n",
      "                   from  n    params  module                                       arguments                     \n",
      "  0                  -1  1      1856  ultralytics.nn.modules.conv.Conv             [3, 64, 3, 2]                 \n",
      "  1                  -1  1     73984  ultralytics.nn.modules.conv.Conv             [64, 128, 3, 2]               \n",
      "  2                  -1  1    111872  ultralytics.nn.modules.block.C3k2            [128, 256, 1, True, 0.25]     \n",
      "  3                  -1  1    590336  ultralytics.nn.modules.conv.Conv             [256, 256, 3, 2]              \n",
      "  4                  -1  1    444928  ultralytics.nn.modules.block.C3k2            [256, 512, 1, True, 0.25]     \n",
      "  5                  -1  1   2360320  ultralytics.nn.modules.conv.Conv             [512, 512, 3, 2]              \n",
      "  6                  -1  1   1380352  ultralytics.nn.modules.block.C3k2            [512, 512, 1, True]           \n",
      "  7                  -1  1   2360320  ultralytics.nn.modules.conv.Conv             [512, 512, 3, 2]              \n",
      "  8                  -1  1   1380352  ultralytics.nn.modules.block.C3k2            [512, 512, 1, True]           \n",
      "  9                  -1  1    656896  ultralytics.nn.modules.block.SPPF            [512, 512, 5]                 \n",
      " 10                  -1  1    990976  ultralytics.nn.modules.block.C2PSA           [512, 512, 1]                 \n",
      " 11                  -1  1         0  torch.nn.modules.upsampling.Upsample         [None, 2, 'nearest']          \n",
      " 12             [-1, 6]  1         0  ultralytics.nn.modules.conv.Concat           [1]                           \n",
      " 13                  -1  1   1642496  ultralytics.nn.modules.block.C3k2            [1024, 512, 1, True]          \n",
      " 14                  -1  1         0  torch.nn.modules.upsampling.Upsample         [None, 2, 'nearest']          \n",
      " 15             [-1, 4]  1         0  ultralytics.nn.modules.conv.Concat           [1]                           \n",
      " 16                  -1  1    542720  ultralytics.nn.modules.block.C3k2            [1024, 256, 1, True]          \n",
      " 17                  -1  1    590336  ultralytics.nn.modules.conv.Conv             [256, 256, 3, 2]              \n",
      " 18            [-1, 13]  1         0  ultralytics.nn.modules.conv.Concat           [1]                           \n",
      " 19                  -1  1   1511424  ultralytics.nn.modules.block.C3k2            [768, 512, 1, True]           \n",
      " 20                  -1  1   2360320  ultralytics.nn.modules.conv.Conv             [512, 512, 3, 2]              \n",
      " 21            [-1, 10]  1         0  ultralytics.nn.modules.conv.Concat           [1]                           \n",
      " 22                  -1  1   1642496  ultralytics.nn.modules.block.C3k2            [1024, 512, 1, True]          \n",
      " 23        [16, 19, 22]  1   1415650  ultralytics.nn.modules.head.Detect           [6, [256, 512, 512]]          \n",
      "YOLO11m summary: 231 layers, 20,057,634 parameters, 20,057,618 gradients, 68.2 GFLOPs\n",
      "\n",
      "Transferred 643/649 items from pretrained weights\n",
      "Freezing layer 'model.23.dfl.conv.weight'\n",
      "WARNING \u001b[34m\u001b[1mAMP: \u001b[0mchecks failed . AMP training on NVIDIA GeForce GTX 1650 Ti GPU may cause NaN losses or zero-mAP results, so AMP will be disabled during training.\n",
      "\u001b[34m\u001b[1mtrain: \u001b[0mFast image access  (ping: 0.30.1 ms, read: 13.96.6 MB/s, size: 476.2 KB)\n"
     ]
    },
    {
     "name": "stderr",
     "output_type": "stream",
     "text": [
      "\u001b[34m\u001b[1mtrain: \u001b[0mScanning D:\\University College Dublin\\Trimester 3\\PIMM\\Project\\Final Project\\dataset_day\\labels\\train.cache... 2\u001b[0m\n"
     ]
    },
    {
     "name": "stdout",
     "output_type": "stream",
     "text": [
      "\u001b[34m\u001b[1mval: \u001b[0mFast image access  (ping: 0.40.1 ms, read: 6.15.1 MB/s, size: 570.7 KB)\n"
     ]
    },
    {
     "name": "stderr",
     "output_type": "stream",
     "text": [
      "\u001b[34m\u001b[1mval: \u001b[0mScanning D:\\University College Dublin\\Trimester 3\\PIMM\\Project\\Final Project\\dataset_day\\labels\\val.cache... 630 i\u001b[0m\n"
     ]
    },
    {
     "name": "stdout",
     "output_type": "stream",
     "text": [
      "Plotting labels to yolo11_day\\yolov11m_day\\labels.jpg... \n",
      "\u001b[34m\u001b[1moptimizer:\u001b[0m 'optimizer=auto' found, ignoring 'lr0=0.01' and 'momentum=0.937' and determining best 'optimizer', 'lr0' and 'momentum' automatically... \n",
      "\u001b[34m\u001b[1moptimizer:\u001b[0m AdamW(lr=0.001, momentum=0.9) with parameter groups 106 weight(decay=0.0), 113 weight(decay=0.0005), 112 bias(decay=0.0)\n",
      "Image sizes 416 train, 416 val\n",
      "Using 8 dataloader workers\n",
      "Logging results to \u001b[1myolo11_day\\yolov11m_day\u001b[0m\n",
      "Starting training for 30 epochs...\n",
      "\n",
      "      Epoch    GPU_mem   box_loss   cls_loss   dfl_loss  Instances       Size\n"
     ]
    },
    {
     "name": "stderr",
     "output_type": "stream",
     "text": [
      "       1/30      3.86G      1.009      1.403      1.203         13        416: 100%|██████████| 367/367 [06:26<00:00,  \n",
      "                 Class     Images  Instances      Box(P          R      mAP50  mAP50-95): 100%|██████████| 40/40 [00:45\n"
     ]
    },
    {
     "name": "stdout",
     "output_type": "stream",
     "text": [
      "                   all        630        636      0.686      0.759      0.807      0.537\n",
      "\n",
      "      Epoch    GPU_mem   box_loss   cls_loss   dfl_loss  Instances       Size\n"
     ]
    },
    {
     "name": "stderr",
     "output_type": "stream",
     "text": [
      "       2/30      3.67G      1.167      1.164      1.313         13        416: 100%|██████████| 367/367 [04:26<00:00,  \n",
      "                 Class     Images  Instances      Box(P          R      mAP50  mAP50-95): 100%|██████████| 40/40 [00:20\n"
     ]
    },
    {
     "name": "stdout",
     "output_type": "stream",
     "text": [
      "                   all        630        636       0.76      0.807      0.869      0.588\n",
      "\n",
      "      Epoch    GPU_mem   box_loss   cls_loss   dfl_loss  Instances       Size\n"
     ]
    },
    {
     "name": "stderr",
     "output_type": "stream",
     "text": [
      "       3/30      3.72G      1.195      1.126       1.33         16        416: 100%|██████████| 367/367 [04:57<00:00,  \n",
      "                 Class     Images  Instances      Box(P          R      mAP50  mAP50-95): 100%|██████████| 40/40 [00:10"
     ]
    },
    {
     "name": "stdout",
     "output_type": "stream",
     "text": [
      "                   all        630        636      0.815      0.809      0.889      0.606\n"
     ]
    },
    {
     "name": "stderr",
     "output_type": "stream",
     "text": [
      "\n"
     ]
    },
    {
     "name": "stdout",
     "output_type": "stream",
     "text": [
      "\n",
      "      Epoch    GPU_mem   box_loss   cls_loss   dfl_loss  Instances       Size\n"
     ]
    },
    {
     "name": "stderr",
     "output_type": "stream",
     "text": [
      "       4/30      3.73G      1.138       1.05      1.291         19        416: 100%|██████████| 367/367 [04:31<00:00,  \n",
      "                 Class     Images  Instances      Box(P          R      mAP50  mAP50-95): 100%|██████████| 40/40 [00:11"
     ]
    },
    {
     "name": "stdout",
     "output_type": "stream",
     "text": [
      "                   all        630        636      0.862      0.788      0.877      0.617\n"
     ]
    },
    {
     "name": "stderr",
     "output_type": "stream",
     "text": [
      "\n"
     ]
    },
    {
     "name": "stdout",
     "output_type": "stream",
     "text": [
      "\n",
      "      Epoch    GPU_mem   box_loss   cls_loss   dfl_loss  Instances       Size\n"
     ]
    },
    {
     "name": "stderr",
     "output_type": "stream",
     "text": [
      "       5/30      3.72G      1.077     0.9234      1.253          8        416: 100%|██████████| 367/367 [04:13<00:00,  \n",
      "                 Class     Images  Instances      Box(P          R      mAP50  mAP50-95): 100%|██████████| 40/40 [00:11"
     ]
    },
    {
     "name": "stdout",
     "output_type": "stream",
     "text": [
      "                   all        630        636      0.849      0.822      0.891      0.614\n"
     ]
    },
    {
     "name": "stderr",
     "output_type": "stream",
     "text": [
      "\n"
     ]
    },
    {
     "name": "stdout",
     "output_type": "stream",
     "text": [
      "\n",
      "      Epoch    GPU_mem   box_loss   cls_loss   dfl_loss  Instances       Size\n"
     ]
    },
    {
     "name": "stderr",
     "output_type": "stream",
     "text": [
      "       6/30      3.72G       1.03      0.877      1.214         13        416: 100%|██████████| 367/367 [04:39<00:00,  \n",
      "                 Class     Images  Instances      Box(P          R      mAP50  mAP50-95): 100%|██████████| 40/40 [00:12\n"
     ]
    },
    {
     "name": "stdout",
     "output_type": "stream",
     "text": [
      "                   all        630        636      0.895      0.914      0.952      0.721\n",
      "\n",
      "      Epoch    GPU_mem   box_loss   cls_loss   dfl_loss  Instances       Size\n"
     ]
    },
    {
     "name": "stderr",
     "output_type": "stream",
     "text": [
      "       7/30      3.72G     0.9872     0.8201      1.203         15        416: 100%|██████████| 367/367 [04:55<00:00,  \n",
      "                 Class     Images  Instances      Box(P          R      mAP50  mAP50-95): 100%|██████████| 40/40 [00:10"
     ]
    },
    {
     "name": "stdout",
     "output_type": "stream",
     "text": [
      "                   all        630        636      0.915      0.899      0.965      0.737\n"
     ]
    },
    {
     "name": "stderr",
     "output_type": "stream",
     "text": [
      "\n"
     ]
    },
    {
     "name": "stdout",
     "output_type": "stream",
     "text": [
      "\n",
      "      Epoch    GPU_mem   box_loss   cls_loss   dfl_loss  Instances       Size\n"
     ]
    },
    {
     "name": "stderr",
     "output_type": "stream",
     "text": [
      "       8/30      3.72G     0.9592     0.7531      1.183         15        416: 100%|██████████| 367/367 [04:25<00:00,  \n",
      "                 Class     Images  Instances      Box(P          R      mAP50  mAP50-95): 100%|██████████| 40/40 [00:13"
     ]
    },
    {
     "name": "stdout",
     "output_type": "stream",
     "text": [
      "                   all        630        636      0.933       0.93      0.974      0.761\n"
     ]
    },
    {
     "name": "stderr",
     "output_type": "stream",
     "text": [
      "\n"
     ]
    },
    {
     "name": "stdout",
     "output_type": "stream",
     "text": [
      "\n",
      "      Epoch    GPU_mem   box_loss   cls_loss   dfl_loss  Instances       Size\n"
     ]
    },
    {
     "name": "stderr",
     "output_type": "stream",
     "text": [
      "       9/30      3.72G     0.9424     0.7285      1.171         14        416: 100%|██████████| 367/367 [04:36<00:00,  \n",
      "                 Class     Images  Instances      Box(P          R      mAP50  mAP50-95): 100%|██████████| 40/40 [00:10\n"
     ]
    },
    {
     "name": "stdout",
     "output_type": "stream",
     "text": [
      "                   all        630        636      0.919      0.931       0.97      0.748\n",
      "\n",
      "      Epoch    GPU_mem   box_loss   cls_loss   dfl_loss  Instances       Size\n"
     ]
    },
    {
     "name": "stderr",
     "output_type": "stream",
     "text": [
      "      10/30      3.73G     0.9105     0.6851      1.145          8        416: 100%|██████████| 367/367 [04:08<00:00,  \n",
      "                 Class     Images  Instances      Box(P          R      mAP50  mAP50-95): 100%|██████████| 40/40 [00:10\n"
     ]
    },
    {
     "name": "stdout",
     "output_type": "stream",
     "text": [
      "                   all        630        636      0.941      0.945      0.973      0.753\n",
      "\n",
      "      Epoch    GPU_mem   box_loss   cls_loss   dfl_loss  Instances       Size\n"
     ]
    },
    {
     "name": "stderr",
     "output_type": "stream",
     "text": [
      "      11/30      3.67G     0.8905     0.6678       1.14         10        416: 100%|██████████| 367/367 [03:58<00:00,  \n",
      "                 Class     Images  Instances      Box(P          R      mAP50  mAP50-95): 100%|██████████| 40/40 [00:10\n"
     ]
    },
    {
     "name": "stdout",
     "output_type": "stream",
     "text": [
      "                   all        630        636      0.914      0.928      0.962      0.759\n",
      "\n",
      "      Epoch    GPU_mem   box_loss   cls_loss   dfl_loss  Instances       Size\n"
     ]
    },
    {
     "name": "stderr",
     "output_type": "stream",
     "text": [
      "      12/30      3.72G     0.8855     0.6378      1.136         16        416: 100%|██████████| 367/367 [04:32<00:00,  \n",
      "                 Class     Images  Instances      Box(P          R      mAP50  mAP50-95): 100%|██████████| 40/40 [00:10"
     ]
    },
    {
     "name": "stdout",
     "output_type": "stream",
     "text": [
      "                   all        630        636      0.934      0.945       0.97      0.772\n"
     ]
    },
    {
     "name": "stderr",
     "output_type": "stream",
     "text": [
      "\n"
     ]
    },
    {
     "name": "stdout",
     "output_type": "stream",
     "text": [
      "\n",
      "      Epoch    GPU_mem   box_loss   cls_loss   dfl_loss  Instances       Size\n"
     ]
    },
    {
     "name": "stderr",
     "output_type": "stream",
     "text": [
      "      13/30      3.72G     0.8451     0.5988      1.111         17        416: 100%|██████████| 367/367 [04:24<00:00,  \n",
      "                 Class     Images  Instances      Box(P          R      mAP50  mAP50-95): 100%|██████████| 40/40 [00:10"
     ]
    },
    {
     "name": "stdout",
     "output_type": "stream",
     "text": [
      "                   all        630        636       0.95      0.937      0.977      0.774\n"
     ]
    },
    {
     "name": "stderr",
     "output_type": "stream",
     "text": [
      "\n"
     ]
    },
    {
     "name": "stdout",
     "output_type": "stream",
     "text": [
      "\n",
      "      Epoch    GPU_mem   box_loss   cls_loss   dfl_loss  Instances       Size\n"
     ]
    },
    {
     "name": "stderr",
     "output_type": "stream",
     "text": [
      "      14/30      3.72G     0.8356     0.5934      1.103         11        416: 100%|██████████| 367/367 [04:07<00:00,  \n",
      "                 Class     Images  Instances      Box(P          R      mAP50  mAP50-95): 100%|██████████| 40/40 [00:10"
     ]
    },
    {
     "name": "stdout",
     "output_type": "stream",
     "text": [
      "                   all        630        636      0.944      0.915      0.961       0.76\n"
     ]
    },
    {
     "name": "stderr",
     "output_type": "stream",
     "text": [
      "\n"
     ]
    },
    {
     "name": "stdout",
     "output_type": "stream",
     "text": [
      "\n",
      "      Epoch    GPU_mem   box_loss   cls_loss   dfl_loss  Instances       Size\n"
     ]
    },
    {
     "name": "stderr",
     "output_type": "stream",
     "text": [
      "      15/30      3.72G     0.8241     0.5686      1.099         12        416: 100%|██████████| 367/367 [04:08<00:00,  \n",
      "                 Class     Images  Instances      Box(P          R      mAP50  mAP50-95): 100%|██████████| 40/40 [00:10\n"
     ]
    },
    {
     "name": "stdout",
     "output_type": "stream",
     "text": [
      "                   all        630        636      0.933      0.969      0.981      0.812\n",
      "\n",
      "      Epoch    GPU_mem   box_loss   cls_loss   dfl_loss  Instances       Size\n"
     ]
    },
    {
     "name": "stderr",
     "output_type": "stream",
     "text": [
      "      16/30      3.72G     0.8204     0.5552      1.092         11        416: 100%|██████████| 367/367 [04:58<00:00,  \n",
      "                 Class     Images  Instances      Box(P          R      mAP50  mAP50-95): 100%|██████████| 40/40 [00:11"
     ]
    },
    {
     "name": "stdout",
     "output_type": "stream",
     "text": [
      "                   all        630        636      0.962      0.979      0.986      0.817\n"
     ]
    },
    {
     "name": "stderr",
     "output_type": "stream",
     "text": [
      "\n"
     ]
    },
    {
     "name": "stdout",
     "output_type": "stream",
     "text": [
      "\n",
      "      Epoch    GPU_mem   box_loss   cls_loss   dfl_loss  Instances       Size\n"
     ]
    },
    {
     "name": "stderr",
     "output_type": "stream",
     "text": [
      "      17/30      3.72G     0.7896      0.546      1.075         17        416: 100%|██████████| 367/367 [03:45<00:00,  \n",
      "                 Class     Images  Instances      Box(P          R      mAP50  mAP50-95): 100%|██████████| 40/40 [00:10"
     ]
    },
    {
     "name": "stdout",
     "output_type": "stream",
     "text": [
      "                   all        630        636      0.967      0.945      0.983      0.807\n"
     ]
    },
    {
     "name": "stderr",
     "output_type": "stream",
     "text": [
      "\n"
     ]
    },
    {
     "name": "stdout",
     "output_type": "stream",
     "text": [
      "\n",
      "      Epoch    GPU_mem   box_loss   cls_loss   dfl_loss  Instances       Size\n"
     ]
    },
    {
     "name": "stderr",
     "output_type": "stream",
     "text": [
      "      18/30      3.73G     0.7821     0.5244      1.068         11        416: 100%|██████████| 367/367 [03:45<00:00,  \n",
      "                 Class     Images  Instances      Box(P          R      mAP50  mAP50-95): 100%|██████████| 40/40 [00:10"
     ]
    },
    {
     "name": "stdout",
     "output_type": "stream",
     "text": [
      "                   all        630        636      0.957      0.962      0.985      0.817\n"
     ]
    },
    {
     "name": "stderr",
     "output_type": "stream",
     "text": [
      "\n"
     ]
    },
    {
     "name": "stdout",
     "output_type": "stream",
     "text": [
      "\n",
      "      Epoch    GPU_mem   box_loss   cls_loss   dfl_loss  Instances       Size\n"
     ]
    },
    {
     "name": "stderr",
     "output_type": "stream",
     "text": [
      "      19/30      3.67G     0.7719     0.5095       1.06         15        416: 100%|██████████| 367/367 [03:28<00:00,  \n",
      "                 Class     Images  Instances      Box(P          R      mAP50  mAP50-95): 100%|██████████| 40/40 [00:10\n"
     ]
    },
    {
     "name": "stdout",
     "output_type": "stream",
     "text": [
      "                   all        630        636      0.952      0.967      0.986      0.817\n",
      "\n",
      "      Epoch    GPU_mem   box_loss   cls_loss   dfl_loss  Instances       Size\n"
     ]
    },
    {
     "name": "stderr",
     "output_type": "stream",
     "text": [
      "      20/30      3.72G     0.7589     0.4923      1.057         17        416: 100%|██████████| 367/367 [03:50<00:00,  \n",
      "                 Class     Images  Instances      Box(P          R      mAP50  mAP50-95): 100%|██████████| 40/40 [00:10\n"
     ]
    },
    {
     "name": "stdout",
     "output_type": "stream",
     "text": [
      "                   all        630        636      0.964      0.956      0.986      0.828\n",
      "Closing dataloader mosaic\n",
      "\n",
      "      Epoch    GPU_mem   box_loss   cls_loss   dfl_loss  Instances       Size\n"
     ]
    },
    {
     "name": "stderr",
     "output_type": "stream",
     "text": [
      "      21/30      3.72G     0.6955     0.4108      1.018          6        416: 100%|██████████| 367/367 [04:48<00:00,  \n",
      "                 Class     Images  Instances      Box(P          R      mAP50  mAP50-95): 100%|██████████| 40/40 [00:19\n"
     ]
    },
    {
     "name": "stdout",
     "output_type": "stream",
     "text": [
      "                   all        630        636      0.976      0.975      0.983      0.824\n",
      "\n",
      "      Epoch    GPU_mem   box_loss   cls_loss   dfl_loss  Instances       Size\n"
     ]
    },
    {
     "name": "stderr",
     "output_type": "stream",
     "text": [
      "      22/30      3.73G     0.6866     0.4101       1.01          6        416: 100%|██████████| 367/367 [04:45<00:00,  \n",
      "                 Class     Images  Instances      Box(P          R      mAP50  mAP50-95): 100%|██████████| 40/40 [00:14"
     ]
    },
    {
     "name": "stdout",
     "output_type": "stream",
     "text": [
      "                   all        630        636      0.973      0.977      0.991      0.834\n"
     ]
    },
    {
     "name": "stderr",
     "output_type": "stream",
     "text": [
      "\n"
     ]
    },
    {
     "name": "stdout",
     "output_type": "stream",
     "text": [
      "\n",
      "      Epoch    GPU_mem   box_loss   cls_loss   dfl_loss  Instances       Size\n"
     ]
    },
    {
     "name": "stderr",
     "output_type": "stream",
     "text": [
      "      23/30      3.72G     0.6692     0.3822     0.9984          6        416: 100%|██████████| 367/367 [04:18<00:00,  \n",
      "                 Class     Images  Instances      Box(P          R      mAP50  mAP50-95): 100%|██████████| 40/40 [00:10\n"
     ]
    },
    {
     "name": "stdout",
     "output_type": "stream",
     "text": [
      "                   all        630        636      0.981      0.977       0.99      0.834\n",
      "\n",
      "      Epoch    GPU_mem   box_loss   cls_loss   dfl_loss  Instances       Size\n"
     ]
    },
    {
     "name": "stderr",
     "output_type": "stream",
     "text": [
      "      24/30      3.72G     0.6647      0.376      1.004          6        416: 100%|██████████| 367/367 [05:22<00:00,  \n",
      "                 Class     Images  Instances      Box(P          R      mAP50  mAP50-95): 100%|██████████| 40/40 [00:10"
     ]
    },
    {
     "name": "stdout",
     "output_type": "stream",
     "text": [
      "                   all        630        636      0.976      0.975      0.988      0.843\n"
     ]
    },
    {
     "name": "stderr",
     "output_type": "stream",
     "text": [
      "\n"
     ]
    },
    {
     "name": "stdout",
     "output_type": "stream",
     "text": [
      "\n",
      "      Epoch    GPU_mem   box_loss   cls_loss   dfl_loss  Instances       Size\n"
     ]
    },
    {
     "name": "stderr",
     "output_type": "stream",
     "text": [
      "      25/30      3.72G     0.6351     0.3639     0.9831          6        416: 100%|██████████| 367/367 [03:55<00:00,  \n",
      "                 Class     Images  Instances      Box(P          R      mAP50  mAP50-95): 100%|██████████| 40/40 [00:10\n"
     ]
    },
    {
     "name": "stdout",
     "output_type": "stream",
     "text": [
      "                   all        630        636       0.98      0.972      0.987      0.851\n",
      "\n",
      "      Epoch    GPU_mem   box_loss   cls_loss   dfl_loss  Instances       Size\n"
     ]
    },
    {
     "name": "stderr",
     "output_type": "stream",
     "text": [
      "      26/30      3.73G     0.6211     0.3387     0.9694          6        416: 100%|██████████| 367/367 [03:55<00:00,  \n",
      "                 Class     Images  Instances      Box(P          R      mAP50  mAP50-95): 100%|██████████| 40/40 [00:10"
     ]
    },
    {
     "name": "stdout",
     "output_type": "stream",
     "text": [
      "                   all        630        636      0.979      0.979       0.99      0.853\n"
     ]
    },
    {
     "name": "stderr",
     "output_type": "stream",
     "text": [
      "\n"
     ]
    },
    {
     "name": "stdout",
     "output_type": "stream",
     "text": [
      "\n",
      "      Epoch    GPU_mem   box_loss   cls_loss   dfl_loss  Instances       Size\n"
     ]
    },
    {
     "name": "stderr",
     "output_type": "stream",
     "text": [
      "      27/30      3.67G     0.6162     0.3279     0.9699          6        416: 100%|██████████| 367/367 [03:46<00:00,  \n",
      "                 Class     Images  Instances      Box(P          R      mAP50  mAP50-95): 100%|██████████| 40/40 [00:10"
     ]
    },
    {
     "name": "stdout",
     "output_type": "stream",
     "text": [
      "                   all        630        636      0.975      0.981       0.99      0.857\n"
     ]
    },
    {
     "name": "stderr",
     "output_type": "stream",
     "text": [
      "\n"
     ]
    },
    {
     "name": "stdout",
     "output_type": "stream",
     "text": [
      "\n",
      "      Epoch    GPU_mem   box_loss   cls_loss   dfl_loss  Instances       Size\n"
     ]
    },
    {
     "name": "stderr",
     "output_type": "stream",
     "text": [
      "      28/30      3.72G     0.6057     0.3211     0.9639          6        416: 100%|██████████| 367/367 [04:34<00:00,  \n",
      "                 Class     Images  Instances      Box(P          R      mAP50  mAP50-95): 100%|██████████| 40/40 [00:12\n"
     ]
    },
    {
     "name": "stdout",
     "output_type": "stream",
     "text": [
      "                   all        630        636      0.982      0.984      0.991      0.864\n",
      "\n",
      "      Epoch    GPU_mem   box_loss   cls_loss   dfl_loss  Instances       Size\n"
     ]
    },
    {
     "name": "stderr",
     "output_type": "stream",
     "text": [
      "      29/30      3.72G     0.5854     0.3119     0.9577          6        416: 100%|██████████| 367/367 [03:45<00:00,  \n",
      "                 Class     Images  Instances      Box(P          R      mAP50  mAP50-95): 100%|██████████| 40/40 [00:10"
     ]
    },
    {
     "name": "stdout",
     "output_type": "stream",
     "text": [
      "                   all        630        636      0.983      0.984      0.992      0.864\n"
     ]
    },
    {
     "name": "stderr",
     "output_type": "stream",
     "text": [
      "\n"
     ]
    },
    {
     "name": "stdout",
     "output_type": "stream",
     "text": [
      "\n",
      "      Epoch    GPU_mem   box_loss   cls_loss   dfl_loss  Instances       Size\n"
     ]
    },
    {
     "name": "stderr",
     "output_type": "stream",
     "text": [
      "      30/30      3.72G     0.5698     0.2973     0.9521          6        416: 100%|██████████| 367/367 [03:46<00:00,  \n",
      "                 Class     Images  Instances      Box(P          R      mAP50  mAP50-95): 100%|██████████| 40/40 [00:10"
     ]
    },
    {
     "name": "stdout",
     "output_type": "stream",
     "text": [
      "                   all        630        636      0.981      0.984      0.991      0.867\n"
     ]
    },
    {
     "name": "stderr",
     "output_type": "stream",
     "text": [
      "\n"
     ]
    },
    {
     "name": "stdout",
     "output_type": "stream",
     "text": [
      "\n",
      "30 epochs completed in 2.389 hours.\n",
      "Optimizer stripped from yolo11_day\\yolov11m_day\\weights\\last.pt, 40.5MB\n",
      "Optimizer stripped from yolo11_day\\yolov11m_day\\weights\\best.pt, 40.5MB\n",
      "\n",
      "Validating yolo11_day\\yolov11m_day\\weights\\best.pt...\n",
      "Ultralytics 8.3.165  Python-3.10.7 torch-2.5.1+cu121 CUDA:1 (NVIDIA GeForce GTX 1650 Ti, 4096MiB)\n",
      "YOLO11m summary (fused): 125 layers, 20,034,658 parameters, 0 gradients, 67.7 GFLOPs\n"
     ]
    },
    {
     "name": "stderr",
     "output_type": "stream",
     "text": [
      "                 Class     Images  Instances      Box(P          R      mAP50  mAP50-95): 100%|██████████| 40/40 [00:10\n"
     ]
    },
    {
     "name": "stdout",
     "output_type": "stream",
     "text": [
      "                   all        630        636      0.981      0.984      0.991      0.867\n",
      "           AmurLeopard        105        106      0.997          1      0.995        0.9\n",
      "             AmurTiger        105        105      0.988          1      0.995      0.921\n",
      "            LeopardCat        105        105      0.973          1      0.992      0.912\n",
      "                RedFox        105        105      0.967      0.971      0.986      0.852\n",
      "                Weasel        105        109      0.981      0.939      0.986      0.711\n",
      "              WildBoar        105        106      0.981      0.995      0.994      0.906\n",
      "Speed: 0.1ms preprocess, 10.2ms inference, 0.0ms loss, 1.3ms postprocess per image\n",
      "Results saved to \u001b[1myolo11_day\\yolov11m_day\u001b[0m\n"
     ]
    }
   ],
   "source": [
    "# Training the model\n",
    "model = YOLO(\"yolo11m.pt\")  # loading the model\n",
    "results = model.train(\n",
    "    data=\"dataset_day.yaml\",\n",
    "    epochs=30,\n",
    "    imgsz=416,\n",
    "    batch=8,\n",
    "    device=1,      # Selecting the GPU \n",
    "    project=\"yolo11_day\",\n",
    "    name=\"yolov11m_day\",\n",
    "    exist_ok=True\n",
    ")"
   ]
  },
  {
   "cell_type": "markdown",
   "id": "5f7659db-4356-4744-9f4a-1f340b7b3b21",
   "metadata": {},
   "source": [
    "The above code:\n",
    "- Loads the YOLOv11 medium model (`yolo11m.pt`) as the base architecture.\n",
    "- Trains the model using the `dataset_day.yaml` configuration file.\n",
    "- Runs for **30 epochs** with an image size of **416x416** and a batch size of **8**.\n",
    "- Utilizes the **GPU 1** (`device=1`) for faster training. You can also use **GPU 0** (`device=0`) and **CPU** (`device=cpu`). If you are using GPU, you need to make sure that if its available in your system and can be used for training.\n",
    "- Saves the training outputs under the folder: `yolo11_day/yolov11m_day/`.\n",
    "- The `exist_ok=True` ensures the folder is reused if it already exists.\n",
    "\n",
    "--- "
   ]
  },
  {
   "cell_type": "markdown",
   "id": "e7c06242-f9b9-4694-bce6-5c08f653faaf",
   "metadata": {},
   "source": [
    "### <u>*Evaluation*</u>"
   ]
  },
  {
   "cell_type": "markdown",
   "id": "c34b92e0-d4ba-463f-b5fb-cf6c4599b7d1",
   "metadata": {},
   "source": [
    "Now we are loading the trained **YOLOv11 Day model** to evaluate its performance."
   ]
  },
  {
   "cell_type": "code",
   "execution_count": 5,
   "id": "96c9d3b7-fefa-4d32-a72a-9e55aa1aa517",
   "metadata": {},
   "outputs": [
    {
     "name": "stdout",
     "output_type": "stream",
     "text": [
      "Ultralytics 8.3.165  Python-3.10.7 torch-2.5.1+cu121 CUDA:1 (NVIDIA GeForce GTX 1650 Ti, 4096MiB)\n",
      "YOLO11m summary (fused): 125 layers, 20,034,658 parameters, 0 gradients, 67.7 GFLOPs\n",
      "\u001b[34m\u001b[1mval: \u001b[0mFast image access  (ping: 0.20.1 ms, read: 7.33.5 MB/s, size: 432.7 KB)\n"
     ]
    },
    {
     "name": "stderr",
     "output_type": "stream",
     "text": [
      "\u001b[34m\u001b[1mval: \u001b[0mScanning D:\\University College Dublin\\Trimester 3\\PIMM\\Project\\Final Project\\dataset_day\\labels\\test.cache... 636 \u001b[0m\n",
      "                 Class     Images  Instances      Box(P          R      mAP50  mAP50-95): 100%|██████████| 80/80 [00:11\n"
     ]
    },
    {
     "name": "stdout",
     "output_type": "stream",
     "text": [
      "                   all        636        649      0.989      0.982      0.991       0.86\n",
      "           AmurLeopard        106        108      0.996      0.991      0.995      0.895\n",
      "             AmurTiger        106        108      0.998      0.991      0.995      0.918\n",
      "            LeopardCat        106        108      0.999      0.972      0.994      0.891\n",
      "                RedFox        106        108      0.991      0.992      0.994      0.874\n",
      "                Weasel        106        109      0.981      0.962      0.991      0.729\n",
      "              WildBoar        106        108      0.966      0.981      0.978      0.854\n",
      "Speed: 0.1ms preprocess, 12.8ms inference, 0.0ms loss, 1.2ms postprocess per image\n",
      "Results saved to \u001b[1mruns\\detect\\yolo11_day_val\u001b[0m\n",
      "ultralytics.utils.metrics.DetMetrics object with attributes:\n",
      "\n",
      "ap_class_index: array([0, 1, 2, 3, 4, 5])\n",
      "box: ultralytics.utils.metrics.Metric object\n",
      "confusion_matrix: <ultralytics.utils.metrics.ConfusionMatrix object at 0x0000010FA3CB88B0>\n",
      "curves: ['Precision-Recall(B)', 'F1-Confidence(B)', 'Precision-Confidence(B)', 'Recall-Confidence(B)']\n",
      "curves_results: [[array([          0,    0.001001,    0.002002,    0.003003,    0.004004,    0.005005,    0.006006,    0.007007,    0.008008,    0.009009,     0.01001,    0.011011,    0.012012,    0.013013,    0.014014,    0.015015,    0.016016,    0.017017,    0.018018,    0.019019,     0.02002,    0.021021,    0.022022,    0.023023,\n",
      "          0.024024,    0.025025,    0.026026,    0.027027,    0.028028,    0.029029,     0.03003,    0.031031,    0.032032,    0.033033,    0.034034,    0.035035,    0.036036,    0.037037,    0.038038,    0.039039,     0.04004,    0.041041,    0.042042,    0.043043,    0.044044,    0.045045,    0.046046,    0.047047,\n",
      "          0.048048,    0.049049,     0.05005,    0.051051,    0.052052,    0.053053,    0.054054,    0.055055,    0.056056,    0.057057,    0.058058,    0.059059,     0.06006,    0.061061,    0.062062,    0.063063,    0.064064,    0.065065,    0.066066,    0.067067,    0.068068,    0.069069,     0.07007,    0.071071,\n",
      "          0.072072,    0.073073,    0.074074,    0.075075,    0.076076,    0.077077,    0.078078,    0.079079,     0.08008,    0.081081,    0.082082,    0.083083,    0.084084,    0.085085,    0.086086,    0.087087,    0.088088,    0.089089,     0.09009,    0.091091,    0.092092,    0.093093,    0.094094,    0.095095,\n",
      "          0.096096,    0.097097,    0.098098,    0.099099,      0.1001,      0.1011,      0.1021,      0.1031,      0.1041,     0.10511,     0.10611,     0.10711,     0.10811,     0.10911,     0.11011,     0.11111,     0.11211,     0.11311,     0.11411,     0.11512,     0.11612,     0.11712,     0.11812,     0.11912,\n",
      "           0.12012,     0.12112,     0.12212,     0.12312,     0.12412,     0.12513,     0.12613,     0.12713,     0.12813,     0.12913,     0.13013,     0.13113,     0.13213,     0.13313,     0.13413,     0.13514,     0.13614,     0.13714,     0.13814,     0.13914,     0.14014,     0.14114,     0.14214,     0.14314,\n",
      "           0.14414,     0.14515,     0.14615,     0.14715,     0.14815,     0.14915,     0.15015,     0.15115,     0.15215,     0.15315,     0.15415,     0.15516,     0.15616,     0.15716,     0.15816,     0.15916,     0.16016,     0.16116,     0.16216,     0.16316,     0.16416,     0.16517,     0.16617,     0.16717,\n",
      "           0.16817,     0.16917,     0.17017,     0.17117,     0.17217,     0.17317,     0.17417,     0.17518,     0.17618,     0.17718,     0.17818,     0.17918,     0.18018,     0.18118,     0.18218,     0.18318,     0.18418,     0.18519,     0.18619,     0.18719,     0.18819,     0.18919,     0.19019,     0.19119,\n",
      "           0.19219,     0.19319,     0.19419,      0.1952,      0.1962,      0.1972,      0.1982,      0.1992,      0.2002,      0.2012,      0.2022,      0.2032,      0.2042,     0.20521,     0.20621,     0.20721,     0.20821,     0.20921,     0.21021,     0.21121,     0.21221,     0.21321,     0.21421,     0.21522,\n",
      "           0.21622,     0.21722,     0.21822,     0.21922,     0.22022,     0.22122,     0.22222,     0.22322,     0.22422,     0.22523,     0.22623,     0.22723,     0.22823,     0.22923,     0.23023,     0.23123,     0.23223,     0.23323,     0.23423,     0.23524,     0.23624,     0.23724,     0.23824,     0.23924,\n",
      "           0.24024,     0.24124,     0.24224,     0.24324,     0.24424,     0.24525,     0.24625,     0.24725,     0.24825,     0.24925,     0.25025,     0.25125,     0.25225,     0.25325,     0.25425,     0.25526,     0.25626,     0.25726,     0.25826,     0.25926,     0.26026,     0.26126,     0.26226,     0.26326,\n",
      "           0.26426,     0.26527,     0.26627,     0.26727,     0.26827,     0.26927,     0.27027,     0.27127,     0.27227,     0.27327,     0.27427,     0.27528,     0.27628,     0.27728,     0.27828,     0.27928,     0.28028,     0.28128,     0.28228,     0.28328,     0.28428,     0.28529,     0.28629,     0.28729,\n",
      "           0.28829,     0.28929,     0.29029,     0.29129,     0.29229,     0.29329,     0.29429,      0.2953,      0.2963,      0.2973,      0.2983,      0.2993,      0.3003,      0.3013,      0.3023,      0.3033,      0.3043,     0.30531,     0.30631,     0.30731,     0.30831,     0.30931,     0.31031,     0.31131,\n",
      "           0.31231,     0.31331,     0.31431,     0.31532,     0.31632,     0.31732,     0.31832,     0.31932,     0.32032,     0.32132,     0.32232,     0.32332,     0.32432,     0.32533,     0.32633,     0.32733,     0.32833,     0.32933,     0.33033,     0.33133,     0.33233,     0.33333,     0.33433,     0.33534,\n",
      "           0.33634,     0.33734,     0.33834,     0.33934,     0.34034,     0.34134,     0.34234,     0.34334,     0.34434,     0.34535,     0.34635,     0.34735,     0.34835,     0.34935,     0.35035,     0.35135,     0.35235,     0.35335,     0.35435,     0.35536,     0.35636,     0.35736,     0.35836,     0.35936,\n",
      "           0.36036,     0.36136,     0.36236,     0.36336,     0.36436,     0.36537,     0.36637,     0.36737,     0.36837,     0.36937,     0.37037,     0.37137,     0.37237,     0.37337,     0.37437,     0.37538,     0.37638,     0.37738,     0.37838,     0.37938,     0.38038,     0.38138,     0.38238,     0.38338,\n",
      "           0.38438,     0.38539,     0.38639,     0.38739,     0.38839,     0.38939,     0.39039,     0.39139,     0.39239,     0.39339,     0.39439,      0.3954,      0.3964,      0.3974,      0.3984,      0.3994,      0.4004,      0.4014,      0.4024,      0.4034,      0.4044,     0.40541,     0.40641,     0.40741,\n",
      "           0.40841,     0.40941,     0.41041,     0.41141,     0.41241,     0.41341,     0.41441,     0.41542,     0.41642,     0.41742,     0.41842,     0.41942,     0.42042,     0.42142,     0.42242,     0.42342,     0.42442,     0.42543,     0.42643,     0.42743,     0.42843,     0.42943,     0.43043,     0.43143,\n",
      "           0.43243,     0.43343,     0.43443,     0.43544,     0.43644,     0.43744,     0.43844,     0.43944,     0.44044,     0.44144,     0.44244,     0.44344,     0.44444,     0.44545,     0.44645,     0.44745,     0.44845,     0.44945,     0.45045,     0.45145,     0.45245,     0.45345,     0.45445,     0.45546,\n",
      "           0.45646,     0.45746,     0.45846,     0.45946,     0.46046,     0.46146,     0.46246,     0.46346,     0.46446,     0.46547,     0.46647,     0.46747,     0.46847,     0.46947,     0.47047,     0.47147,     0.47247,     0.47347,     0.47447,     0.47548,     0.47648,     0.47748,     0.47848,     0.47948,\n",
      "           0.48048,     0.48148,     0.48248,     0.48348,     0.48448,     0.48549,     0.48649,     0.48749,     0.48849,     0.48949,     0.49049,     0.49149,     0.49249,     0.49349,     0.49449,      0.4955,      0.4965,      0.4975,      0.4985,      0.4995,      0.5005,      0.5015,      0.5025,      0.5035,\n",
      "            0.5045,     0.50551,     0.50651,     0.50751,     0.50851,     0.50951,     0.51051,     0.51151,     0.51251,     0.51351,     0.51451,     0.51552,     0.51652,     0.51752,     0.51852,     0.51952,     0.52052,     0.52152,     0.52252,     0.52352,     0.52452,     0.52553,     0.52653,     0.52753,\n",
      "           0.52853,     0.52953,     0.53053,     0.53153,     0.53253,     0.53353,     0.53453,     0.53554,     0.53654,     0.53754,     0.53854,     0.53954,     0.54054,     0.54154,     0.54254,     0.54354,     0.54454,     0.54555,     0.54655,     0.54755,     0.54855,     0.54955,     0.55055,     0.55155,\n",
      "           0.55255,     0.55355,     0.55455,     0.55556,     0.55656,     0.55756,     0.55856,     0.55956,     0.56056,     0.56156,     0.56256,     0.56356,     0.56456,     0.56557,     0.56657,     0.56757,     0.56857,     0.56957,     0.57057,     0.57157,     0.57257,     0.57357,     0.57457,     0.57558,\n",
      "           0.57658,     0.57758,     0.57858,     0.57958,     0.58058,     0.58158,     0.58258,     0.58358,     0.58458,     0.58559,     0.58659,     0.58759,     0.58859,     0.58959,     0.59059,     0.59159,     0.59259,     0.59359,     0.59459,      0.5956,      0.5966,      0.5976,      0.5986,      0.5996,\n",
      "            0.6006,      0.6016,      0.6026,      0.6036,      0.6046,     0.60561,     0.60661,     0.60761,     0.60861,     0.60961,     0.61061,     0.61161,     0.61261,     0.61361,     0.61461,     0.61562,     0.61662,     0.61762,     0.61862,     0.61962,     0.62062,     0.62162,     0.62262,     0.62362,\n",
      "           0.62462,     0.62563,     0.62663,     0.62763,     0.62863,     0.62963,     0.63063,     0.63163,     0.63263,     0.63363,     0.63463,     0.63564,     0.63664,     0.63764,     0.63864,     0.63964,     0.64064,     0.64164,     0.64264,     0.64364,     0.64464,     0.64565,     0.64665,     0.64765,\n",
      "           0.64865,     0.64965,     0.65065,     0.65165,     0.65265,     0.65365,     0.65465,     0.65566,     0.65666,     0.65766,     0.65866,     0.65966,     0.66066,     0.66166,     0.66266,     0.66366,     0.66466,     0.66567,     0.66667,     0.66767,     0.66867,     0.66967,     0.67067,     0.67167,\n",
      "           0.67267,     0.67367,     0.67467,     0.67568,     0.67668,     0.67768,     0.67868,     0.67968,     0.68068,     0.68168,     0.68268,     0.68368,     0.68468,     0.68569,     0.68669,     0.68769,     0.68869,     0.68969,     0.69069,     0.69169,     0.69269,     0.69369,     0.69469,      0.6957,\n",
      "            0.6967,      0.6977,      0.6987,      0.6997,      0.7007,      0.7017,      0.7027,      0.7037,      0.7047,     0.70571,     0.70671,     0.70771,     0.70871,     0.70971,     0.71071,     0.71171,     0.71271,     0.71371,     0.71471,     0.71572,     0.71672,     0.71772,     0.71872,     0.71972,\n",
      "           0.72072,     0.72172,     0.72272,     0.72372,     0.72472,     0.72573,     0.72673,     0.72773,     0.72873,     0.72973,     0.73073,     0.73173,     0.73273,     0.73373,     0.73473,     0.73574,     0.73674,     0.73774,     0.73874,     0.73974,     0.74074,     0.74174,     0.74274,     0.74374,\n",
      "           0.74474,     0.74575,     0.74675,     0.74775,     0.74875,     0.74975,     0.75075,     0.75175,     0.75275,     0.75375,     0.75475,     0.75576,     0.75676,     0.75776,     0.75876,     0.75976,     0.76076,     0.76176,     0.76276,     0.76376,     0.76476,     0.76577,     0.76677,     0.76777,\n",
      "           0.76877,     0.76977,     0.77077,     0.77177,     0.77277,     0.77377,     0.77477,     0.77578,     0.77678,     0.77778,     0.77878,     0.77978,     0.78078,     0.78178,     0.78278,     0.78378,     0.78478,     0.78579,     0.78679,     0.78779,     0.78879,     0.78979,     0.79079,     0.79179,\n",
      "           0.79279,     0.79379,     0.79479,      0.7958,      0.7968,      0.7978,      0.7988,      0.7998,      0.8008,      0.8018,      0.8028,      0.8038,      0.8048,     0.80581,     0.80681,     0.80781,     0.80881,     0.80981,     0.81081,     0.81181,     0.81281,     0.81381,     0.81481,     0.81582,\n",
      "           0.81682,     0.81782,     0.81882,     0.81982,     0.82082,     0.82182,     0.82282,     0.82382,     0.82482,     0.82583,     0.82683,     0.82783,     0.82883,     0.82983,     0.83083,     0.83183,     0.83283,     0.83383,     0.83483,     0.83584,     0.83684,     0.83784,     0.83884,     0.83984,\n",
      "           0.84084,     0.84184,     0.84284,     0.84384,     0.84484,     0.84585,     0.84685,     0.84785,     0.84885,     0.84985,     0.85085,     0.85185,     0.85285,     0.85385,     0.85485,     0.85586,     0.85686,     0.85786,     0.85886,     0.85986,     0.86086,     0.86186,     0.86286,     0.86386,\n",
      "           0.86486,     0.86587,     0.86687,     0.86787,     0.86887,     0.86987,     0.87087,     0.87187,     0.87287,     0.87387,     0.87487,     0.87588,     0.87688,     0.87788,     0.87888,     0.87988,     0.88088,     0.88188,     0.88288,     0.88388,     0.88488,     0.88589,     0.88689,     0.88789,\n",
      "           0.88889,     0.88989,     0.89089,     0.89189,     0.89289,     0.89389,     0.89489,      0.8959,      0.8969,      0.8979,      0.8989,      0.8999,      0.9009,      0.9019,      0.9029,      0.9039,      0.9049,     0.90591,     0.90691,     0.90791,     0.90891,     0.90991,     0.91091,     0.91191,\n",
      "           0.91291,     0.91391,     0.91491,     0.91592,     0.91692,     0.91792,     0.91892,     0.91992,     0.92092,     0.92192,     0.92292,     0.92392,     0.92492,     0.92593,     0.92693,     0.92793,     0.92893,     0.92993,     0.93093,     0.93193,     0.93293,     0.93393,     0.93493,     0.93594,\n",
      "           0.93694,     0.93794,     0.93894,     0.93994,     0.94094,     0.94194,     0.94294,     0.94394,     0.94494,     0.94595,     0.94695,     0.94795,     0.94895,     0.94995,     0.95095,     0.95195,     0.95295,     0.95395,     0.95495,     0.95596,     0.95696,     0.95796,     0.95896,     0.95996,\n",
      "           0.96096,     0.96196,     0.96296,     0.96396,     0.96496,     0.96597,     0.96697,     0.96797,     0.96897,     0.96997,     0.97097,     0.97197,     0.97297,     0.97397,     0.97497,     0.97598,     0.97698,     0.97798,     0.97898,     0.97998,     0.98098,     0.98198,     0.98298,     0.98398,\n",
      "           0.98498,     0.98599,     0.98699,     0.98799,     0.98899,     0.98999,     0.99099,     0.99199,     0.99299,     0.99399,     0.99499,       0.996,       0.997,       0.998,       0.999,           1]), array([[          1,           1,           1, ...,     0.78261,     0.78261,           0],\n",
      "       [          1,           1,           1, ...,     0.16525,    0.082625,           0],\n",
      "       [          1,           1,           1, ...,     0.71523,     0.71523,           0],\n",
      "       [          1,           1,           1, ...,     0.99083,     0.99083,           0],\n",
      "       [          1,           1,           1, ...,    0.092786,    0.046393,           0],\n",
      "       [          1,           1,           1, ...,     0.95575,     0.95575,           0]]), 'Recall', 'Precision'], [array([          0,    0.001001,    0.002002,    0.003003,    0.004004,    0.005005,    0.006006,    0.007007,    0.008008,    0.009009,     0.01001,    0.011011,    0.012012,    0.013013,    0.014014,    0.015015,    0.016016,    0.017017,    0.018018,    0.019019,     0.02002,    0.021021,    0.022022,    0.023023,\n",
      "          0.024024,    0.025025,    0.026026,    0.027027,    0.028028,    0.029029,     0.03003,    0.031031,    0.032032,    0.033033,    0.034034,    0.035035,    0.036036,    0.037037,    0.038038,    0.039039,     0.04004,    0.041041,    0.042042,    0.043043,    0.044044,    0.045045,    0.046046,    0.047047,\n",
      "          0.048048,    0.049049,     0.05005,    0.051051,    0.052052,    0.053053,    0.054054,    0.055055,    0.056056,    0.057057,    0.058058,    0.059059,     0.06006,    0.061061,    0.062062,    0.063063,    0.064064,    0.065065,    0.066066,    0.067067,    0.068068,    0.069069,     0.07007,    0.071071,\n",
      "          0.072072,    0.073073,    0.074074,    0.075075,    0.076076,    0.077077,    0.078078,    0.079079,     0.08008,    0.081081,    0.082082,    0.083083,    0.084084,    0.085085,    0.086086,    0.087087,    0.088088,    0.089089,     0.09009,    0.091091,    0.092092,    0.093093,    0.094094,    0.095095,\n",
      "          0.096096,    0.097097,    0.098098,    0.099099,      0.1001,      0.1011,      0.1021,      0.1031,      0.1041,     0.10511,     0.10611,     0.10711,     0.10811,     0.10911,     0.11011,     0.11111,     0.11211,     0.11311,     0.11411,     0.11512,     0.11612,     0.11712,     0.11812,     0.11912,\n",
      "           0.12012,     0.12112,     0.12212,     0.12312,     0.12412,     0.12513,     0.12613,     0.12713,     0.12813,     0.12913,     0.13013,     0.13113,     0.13213,     0.13313,     0.13413,     0.13514,     0.13614,     0.13714,     0.13814,     0.13914,     0.14014,     0.14114,     0.14214,     0.14314,\n",
      "           0.14414,     0.14515,     0.14615,     0.14715,     0.14815,     0.14915,     0.15015,     0.15115,     0.15215,     0.15315,     0.15415,     0.15516,     0.15616,     0.15716,     0.15816,     0.15916,     0.16016,     0.16116,     0.16216,     0.16316,     0.16416,     0.16517,     0.16617,     0.16717,\n",
      "           0.16817,     0.16917,     0.17017,     0.17117,     0.17217,     0.17317,     0.17417,     0.17518,     0.17618,     0.17718,     0.17818,     0.17918,     0.18018,     0.18118,     0.18218,     0.18318,     0.18418,     0.18519,     0.18619,     0.18719,     0.18819,     0.18919,     0.19019,     0.19119,\n",
      "           0.19219,     0.19319,     0.19419,      0.1952,      0.1962,      0.1972,      0.1982,      0.1992,      0.2002,      0.2012,      0.2022,      0.2032,      0.2042,     0.20521,     0.20621,     0.20721,     0.20821,     0.20921,     0.21021,     0.21121,     0.21221,     0.21321,     0.21421,     0.21522,\n",
      "           0.21622,     0.21722,     0.21822,     0.21922,     0.22022,     0.22122,     0.22222,     0.22322,     0.22422,     0.22523,     0.22623,     0.22723,     0.22823,     0.22923,     0.23023,     0.23123,     0.23223,     0.23323,     0.23423,     0.23524,     0.23624,     0.23724,     0.23824,     0.23924,\n",
      "           0.24024,     0.24124,     0.24224,     0.24324,     0.24424,     0.24525,     0.24625,     0.24725,     0.24825,     0.24925,     0.25025,     0.25125,     0.25225,     0.25325,     0.25425,     0.25526,     0.25626,     0.25726,     0.25826,     0.25926,     0.26026,     0.26126,     0.26226,     0.26326,\n",
      "           0.26426,     0.26527,     0.26627,     0.26727,     0.26827,     0.26927,     0.27027,     0.27127,     0.27227,     0.27327,     0.27427,     0.27528,     0.27628,     0.27728,     0.27828,     0.27928,     0.28028,     0.28128,     0.28228,     0.28328,     0.28428,     0.28529,     0.28629,     0.28729,\n",
      "           0.28829,     0.28929,     0.29029,     0.29129,     0.29229,     0.29329,     0.29429,      0.2953,      0.2963,      0.2973,      0.2983,      0.2993,      0.3003,      0.3013,      0.3023,      0.3033,      0.3043,     0.30531,     0.30631,     0.30731,     0.30831,     0.30931,     0.31031,     0.31131,\n",
      "           0.31231,     0.31331,     0.31431,     0.31532,     0.31632,     0.31732,     0.31832,     0.31932,     0.32032,     0.32132,     0.32232,     0.32332,     0.32432,     0.32533,     0.32633,     0.32733,     0.32833,     0.32933,     0.33033,     0.33133,     0.33233,     0.33333,     0.33433,     0.33534,\n",
      "           0.33634,     0.33734,     0.33834,     0.33934,     0.34034,     0.34134,     0.34234,     0.34334,     0.34434,     0.34535,     0.34635,     0.34735,     0.34835,     0.34935,     0.35035,     0.35135,     0.35235,     0.35335,     0.35435,     0.35536,     0.35636,     0.35736,     0.35836,     0.35936,\n",
      "           0.36036,     0.36136,     0.36236,     0.36336,     0.36436,     0.36537,     0.36637,     0.36737,     0.36837,     0.36937,     0.37037,     0.37137,     0.37237,     0.37337,     0.37437,     0.37538,     0.37638,     0.37738,     0.37838,     0.37938,     0.38038,     0.38138,     0.38238,     0.38338,\n",
      "           0.38438,     0.38539,     0.38639,     0.38739,     0.38839,     0.38939,     0.39039,     0.39139,     0.39239,     0.39339,     0.39439,      0.3954,      0.3964,      0.3974,      0.3984,      0.3994,      0.4004,      0.4014,      0.4024,      0.4034,      0.4044,     0.40541,     0.40641,     0.40741,\n",
      "           0.40841,     0.40941,     0.41041,     0.41141,     0.41241,     0.41341,     0.41441,     0.41542,     0.41642,     0.41742,     0.41842,     0.41942,     0.42042,     0.42142,     0.42242,     0.42342,     0.42442,     0.42543,     0.42643,     0.42743,     0.42843,     0.42943,     0.43043,     0.43143,\n",
      "           0.43243,     0.43343,     0.43443,     0.43544,     0.43644,     0.43744,     0.43844,     0.43944,     0.44044,     0.44144,     0.44244,     0.44344,     0.44444,     0.44545,     0.44645,     0.44745,     0.44845,     0.44945,     0.45045,     0.45145,     0.45245,     0.45345,     0.45445,     0.45546,\n",
      "           0.45646,     0.45746,     0.45846,     0.45946,     0.46046,     0.46146,     0.46246,     0.46346,     0.46446,     0.46547,     0.46647,     0.46747,     0.46847,     0.46947,     0.47047,     0.47147,     0.47247,     0.47347,     0.47447,     0.47548,     0.47648,     0.47748,     0.47848,     0.47948,\n",
      "           0.48048,     0.48148,     0.48248,     0.48348,     0.48448,     0.48549,     0.48649,     0.48749,     0.48849,     0.48949,     0.49049,     0.49149,     0.49249,     0.49349,     0.49449,      0.4955,      0.4965,      0.4975,      0.4985,      0.4995,      0.5005,      0.5015,      0.5025,      0.5035,\n",
      "            0.5045,     0.50551,     0.50651,     0.50751,     0.50851,     0.50951,     0.51051,     0.51151,     0.51251,     0.51351,     0.51451,     0.51552,     0.51652,     0.51752,     0.51852,     0.51952,     0.52052,     0.52152,     0.52252,     0.52352,     0.52452,     0.52553,     0.52653,     0.52753,\n",
      "           0.52853,     0.52953,     0.53053,     0.53153,     0.53253,     0.53353,     0.53453,     0.53554,     0.53654,     0.53754,     0.53854,     0.53954,     0.54054,     0.54154,     0.54254,     0.54354,     0.54454,     0.54555,     0.54655,     0.54755,     0.54855,     0.54955,     0.55055,     0.55155,\n",
      "           0.55255,     0.55355,     0.55455,     0.55556,     0.55656,     0.55756,     0.55856,     0.55956,     0.56056,     0.56156,     0.56256,     0.56356,     0.56456,     0.56557,     0.56657,     0.56757,     0.56857,     0.56957,     0.57057,     0.57157,     0.57257,     0.57357,     0.57457,     0.57558,\n",
      "           0.57658,     0.57758,     0.57858,     0.57958,     0.58058,     0.58158,     0.58258,     0.58358,     0.58458,     0.58559,     0.58659,     0.58759,     0.58859,     0.58959,     0.59059,     0.59159,     0.59259,     0.59359,     0.59459,      0.5956,      0.5966,      0.5976,      0.5986,      0.5996,\n",
      "            0.6006,      0.6016,      0.6026,      0.6036,      0.6046,     0.60561,     0.60661,     0.60761,     0.60861,     0.60961,     0.61061,     0.61161,     0.61261,     0.61361,     0.61461,     0.61562,     0.61662,     0.61762,     0.61862,     0.61962,     0.62062,     0.62162,     0.62262,     0.62362,\n",
      "           0.62462,     0.62563,     0.62663,     0.62763,     0.62863,     0.62963,     0.63063,     0.63163,     0.63263,     0.63363,     0.63463,     0.63564,     0.63664,     0.63764,     0.63864,     0.63964,     0.64064,     0.64164,     0.64264,     0.64364,     0.64464,     0.64565,     0.64665,     0.64765,\n",
      "           0.64865,     0.64965,     0.65065,     0.65165,     0.65265,     0.65365,     0.65465,     0.65566,     0.65666,     0.65766,     0.65866,     0.65966,     0.66066,     0.66166,     0.66266,     0.66366,     0.66466,     0.66567,     0.66667,     0.66767,     0.66867,     0.66967,     0.67067,     0.67167,\n",
      "           0.67267,     0.67367,     0.67467,     0.67568,     0.67668,     0.67768,     0.67868,     0.67968,     0.68068,     0.68168,     0.68268,     0.68368,     0.68468,     0.68569,     0.68669,     0.68769,     0.68869,     0.68969,     0.69069,     0.69169,     0.69269,     0.69369,     0.69469,      0.6957,\n",
      "            0.6967,      0.6977,      0.6987,      0.6997,      0.7007,      0.7017,      0.7027,      0.7037,      0.7047,     0.70571,     0.70671,     0.70771,     0.70871,     0.70971,     0.71071,     0.71171,     0.71271,     0.71371,     0.71471,     0.71572,     0.71672,     0.71772,     0.71872,     0.71972,\n",
      "           0.72072,     0.72172,     0.72272,     0.72372,     0.72472,     0.72573,     0.72673,     0.72773,     0.72873,     0.72973,     0.73073,     0.73173,     0.73273,     0.73373,     0.73473,     0.73574,     0.73674,     0.73774,     0.73874,     0.73974,     0.74074,     0.74174,     0.74274,     0.74374,\n",
      "           0.74474,     0.74575,     0.74675,     0.74775,     0.74875,     0.74975,     0.75075,     0.75175,     0.75275,     0.75375,     0.75475,     0.75576,     0.75676,     0.75776,     0.75876,     0.75976,     0.76076,     0.76176,     0.76276,     0.76376,     0.76476,     0.76577,     0.76677,     0.76777,\n",
      "           0.76877,     0.76977,     0.77077,     0.77177,     0.77277,     0.77377,     0.77477,     0.77578,     0.77678,     0.77778,     0.77878,     0.77978,     0.78078,     0.78178,     0.78278,     0.78378,     0.78478,     0.78579,     0.78679,     0.78779,     0.78879,     0.78979,     0.79079,     0.79179,\n",
      "           0.79279,     0.79379,     0.79479,      0.7958,      0.7968,      0.7978,      0.7988,      0.7998,      0.8008,      0.8018,      0.8028,      0.8038,      0.8048,     0.80581,     0.80681,     0.80781,     0.80881,     0.80981,     0.81081,     0.81181,     0.81281,     0.81381,     0.81481,     0.81582,\n",
      "           0.81682,     0.81782,     0.81882,     0.81982,     0.82082,     0.82182,     0.82282,     0.82382,     0.82482,     0.82583,     0.82683,     0.82783,     0.82883,     0.82983,     0.83083,     0.83183,     0.83283,     0.83383,     0.83483,     0.83584,     0.83684,     0.83784,     0.83884,     0.83984,\n",
      "           0.84084,     0.84184,     0.84284,     0.84384,     0.84484,     0.84585,     0.84685,     0.84785,     0.84885,     0.84985,     0.85085,     0.85185,     0.85285,     0.85385,     0.85485,     0.85586,     0.85686,     0.85786,     0.85886,     0.85986,     0.86086,     0.86186,     0.86286,     0.86386,\n",
      "           0.86486,     0.86587,     0.86687,     0.86787,     0.86887,     0.86987,     0.87087,     0.87187,     0.87287,     0.87387,     0.87487,     0.87588,     0.87688,     0.87788,     0.87888,     0.87988,     0.88088,     0.88188,     0.88288,     0.88388,     0.88488,     0.88589,     0.88689,     0.88789,\n",
      "           0.88889,     0.88989,     0.89089,     0.89189,     0.89289,     0.89389,     0.89489,      0.8959,      0.8969,      0.8979,      0.8989,      0.8999,      0.9009,      0.9019,      0.9029,      0.9039,      0.9049,     0.90591,     0.90691,     0.90791,     0.90891,     0.90991,     0.91091,     0.91191,\n",
      "           0.91291,     0.91391,     0.91491,     0.91592,     0.91692,     0.91792,     0.91892,     0.91992,     0.92092,     0.92192,     0.92292,     0.92392,     0.92492,     0.92593,     0.92693,     0.92793,     0.92893,     0.92993,     0.93093,     0.93193,     0.93293,     0.93393,     0.93493,     0.93594,\n",
      "           0.93694,     0.93794,     0.93894,     0.93994,     0.94094,     0.94194,     0.94294,     0.94394,     0.94494,     0.94595,     0.94695,     0.94795,     0.94895,     0.94995,     0.95095,     0.95195,     0.95295,     0.95395,     0.95495,     0.95596,     0.95696,     0.95796,     0.95896,     0.95996,\n",
      "           0.96096,     0.96196,     0.96296,     0.96396,     0.96496,     0.96597,     0.96697,     0.96797,     0.96897,     0.96997,     0.97097,     0.97197,     0.97297,     0.97397,     0.97497,     0.97598,     0.97698,     0.97798,     0.97898,     0.97998,     0.98098,     0.98198,     0.98298,     0.98398,\n",
      "           0.98498,     0.98599,     0.98699,     0.98799,     0.98899,     0.98999,     0.99099,     0.99199,     0.99299,     0.99399,     0.99499,       0.996,       0.997,       0.998,       0.999,           1]), array([[    0.59834,     0.59834,     0.74765, ...,           0,           0,           0],\n",
      "       [     0.8629,      0.8629,     0.90226, ...,           0,           0,           0],\n",
      "       [    0.78545,     0.78545,     0.84826, ...,           0,           0,           0],\n",
      "       [    0.67925,     0.67925,     0.76122, ...,           0,           0,           0],\n",
      "       [    0.59504,     0.59526,     0.68871, ...,           0,           0,           0],\n",
      "       [    0.80899,     0.80899,     0.86488, ...,           0,           0,           0]]), 'Confidence', 'F1'], [array([          0,    0.001001,    0.002002,    0.003003,    0.004004,    0.005005,    0.006006,    0.007007,    0.008008,    0.009009,     0.01001,    0.011011,    0.012012,    0.013013,    0.014014,    0.015015,    0.016016,    0.017017,    0.018018,    0.019019,     0.02002,    0.021021,    0.022022,    0.023023,\n",
      "          0.024024,    0.025025,    0.026026,    0.027027,    0.028028,    0.029029,     0.03003,    0.031031,    0.032032,    0.033033,    0.034034,    0.035035,    0.036036,    0.037037,    0.038038,    0.039039,     0.04004,    0.041041,    0.042042,    0.043043,    0.044044,    0.045045,    0.046046,    0.047047,\n",
      "          0.048048,    0.049049,     0.05005,    0.051051,    0.052052,    0.053053,    0.054054,    0.055055,    0.056056,    0.057057,    0.058058,    0.059059,     0.06006,    0.061061,    0.062062,    0.063063,    0.064064,    0.065065,    0.066066,    0.067067,    0.068068,    0.069069,     0.07007,    0.071071,\n",
      "          0.072072,    0.073073,    0.074074,    0.075075,    0.076076,    0.077077,    0.078078,    0.079079,     0.08008,    0.081081,    0.082082,    0.083083,    0.084084,    0.085085,    0.086086,    0.087087,    0.088088,    0.089089,     0.09009,    0.091091,    0.092092,    0.093093,    0.094094,    0.095095,\n",
      "          0.096096,    0.097097,    0.098098,    0.099099,      0.1001,      0.1011,      0.1021,      0.1031,      0.1041,     0.10511,     0.10611,     0.10711,     0.10811,     0.10911,     0.11011,     0.11111,     0.11211,     0.11311,     0.11411,     0.11512,     0.11612,     0.11712,     0.11812,     0.11912,\n",
      "           0.12012,     0.12112,     0.12212,     0.12312,     0.12412,     0.12513,     0.12613,     0.12713,     0.12813,     0.12913,     0.13013,     0.13113,     0.13213,     0.13313,     0.13413,     0.13514,     0.13614,     0.13714,     0.13814,     0.13914,     0.14014,     0.14114,     0.14214,     0.14314,\n",
      "           0.14414,     0.14515,     0.14615,     0.14715,     0.14815,     0.14915,     0.15015,     0.15115,     0.15215,     0.15315,     0.15415,     0.15516,     0.15616,     0.15716,     0.15816,     0.15916,     0.16016,     0.16116,     0.16216,     0.16316,     0.16416,     0.16517,     0.16617,     0.16717,\n",
      "           0.16817,     0.16917,     0.17017,     0.17117,     0.17217,     0.17317,     0.17417,     0.17518,     0.17618,     0.17718,     0.17818,     0.17918,     0.18018,     0.18118,     0.18218,     0.18318,     0.18418,     0.18519,     0.18619,     0.18719,     0.18819,     0.18919,     0.19019,     0.19119,\n",
      "           0.19219,     0.19319,     0.19419,      0.1952,      0.1962,      0.1972,      0.1982,      0.1992,      0.2002,      0.2012,      0.2022,      0.2032,      0.2042,     0.20521,     0.20621,     0.20721,     0.20821,     0.20921,     0.21021,     0.21121,     0.21221,     0.21321,     0.21421,     0.21522,\n",
      "           0.21622,     0.21722,     0.21822,     0.21922,     0.22022,     0.22122,     0.22222,     0.22322,     0.22422,     0.22523,     0.22623,     0.22723,     0.22823,     0.22923,     0.23023,     0.23123,     0.23223,     0.23323,     0.23423,     0.23524,     0.23624,     0.23724,     0.23824,     0.23924,\n",
      "           0.24024,     0.24124,     0.24224,     0.24324,     0.24424,     0.24525,     0.24625,     0.24725,     0.24825,     0.24925,     0.25025,     0.25125,     0.25225,     0.25325,     0.25425,     0.25526,     0.25626,     0.25726,     0.25826,     0.25926,     0.26026,     0.26126,     0.26226,     0.26326,\n",
      "           0.26426,     0.26527,     0.26627,     0.26727,     0.26827,     0.26927,     0.27027,     0.27127,     0.27227,     0.27327,     0.27427,     0.27528,     0.27628,     0.27728,     0.27828,     0.27928,     0.28028,     0.28128,     0.28228,     0.28328,     0.28428,     0.28529,     0.28629,     0.28729,\n",
      "           0.28829,     0.28929,     0.29029,     0.29129,     0.29229,     0.29329,     0.29429,      0.2953,      0.2963,      0.2973,      0.2983,      0.2993,      0.3003,      0.3013,      0.3023,      0.3033,      0.3043,     0.30531,     0.30631,     0.30731,     0.30831,     0.30931,     0.31031,     0.31131,\n",
      "           0.31231,     0.31331,     0.31431,     0.31532,     0.31632,     0.31732,     0.31832,     0.31932,     0.32032,     0.32132,     0.32232,     0.32332,     0.32432,     0.32533,     0.32633,     0.32733,     0.32833,     0.32933,     0.33033,     0.33133,     0.33233,     0.33333,     0.33433,     0.33534,\n",
      "           0.33634,     0.33734,     0.33834,     0.33934,     0.34034,     0.34134,     0.34234,     0.34334,     0.34434,     0.34535,     0.34635,     0.34735,     0.34835,     0.34935,     0.35035,     0.35135,     0.35235,     0.35335,     0.35435,     0.35536,     0.35636,     0.35736,     0.35836,     0.35936,\n",
      "           0.36036,     0.36136,     0.36236,     0.36336,     0.36436,     0.36537,     0.36637,     0.36737,     0.36837,     0.36937,     0.37037,     0.37137,     0.37237,     0.37337,     0.37437,     0.37538,     0.37638,     0.37738,     0.37838,     0.37938,     0.38038,     0.38138,     0.38238,     0.38338,\n",
      "           0.38438,     0.38539,     0.38639,     0.38739,     0.38839,     0.38939,     0.39039,     0.39139,     0.39239,     0.39339,     0.39439,      0.3954,      0.3964,      0.3974,      0.3984,      0.3994,      0.4004,      0.4014,      0.4024,      0.4034,      0.4044,     0.40541,     0.40641,     0.40741,\n",
      "           0.40841,     0.40941,     0.41041,     0.41141,     0.41241,     0.41341,     0.41441,     0.41542,     0.41642,     0.41742,     0.41842,     0.41942,     0.42042,     0.42142,     0.42242,     0.42342,     0.42442,     0.42543,     0.42643,     0.42743,     0.42843,     0.42943,     0.43043,     0.43143,\n",
      "           0.43243,     0.43343,     0.43443,     0.43544,     0.43644,     0.43744,     0.43844,     0.43944,     0.44044,     0.44144,     0.44244,     0.44344,     0.44444,     0.44545,     0.44645,     0.44745,     0.44845,     0.44945,     0.45045,     0.45145,     0.45245,     0.45345,     0.45445,     0.45546,\n",
      "           0.45646,     0.45746,     0.45846,     0.45946,     0.46046,     0.46146,     0.46246,     0.46346,     0.46446,     0.46547,     0.46647,     0.46747,     0.46847,     0.46947,     0.47047,     0.47147,     0.47247,     0.47347,     0.47447,     0.47548,     0.47648,     0.47748,     0.47848,     0.47948,\n",
      "           0.48048,     0.48148,     0.48248,     0.48348,     0.48448,     0.48549,     0.48649,     0.48749,     0.48849,     0.48949,     0.49049,     0.49149,     0.49249,     0.49349,     0.49449,      0.4955,      0.4965,      0.4975,      0.4985,      0.4995,      0.5005,      0.5015,      0.5025,      0.5035,\n",
      "            0.5045,     0.50551,     0.50651,     0.50751,     0.50851,     0.50951,     0.51051,     0.51151,     0.51251,     0.51351,     0.51451,     0.51552,     0.51652,     0.51752,     0.51852,     0.51952,     0.52052,     0.52152,     0.52252,     0.52352,     0.52452,     0.52553,     0.52653,     0.52753,\n",
      "           0.52853,     0.52953,     0.53053,     0.53153,     0.53253,     0.53353,     0.53453,     0.53554,     0.53654,     0.53754,     0.53854,     0.53954,     0.54054,     0.54154,     0.54254,     0.54354,     0.54454,     0.54555,     0.54655,     0.54755,     0.54855,     0.54955,     0.55055,     0.55155,\n",
      "           0.55255,     0.55355,     0.55455,     0.55556,     0.55656,     0.55756,     0.55856,     0.55956,     0.56056,     0.56156,     0.56256,     0.56356,     0.56456,     0.56557,     0.56657,     0.56757,     0.56857,     0.56957,     0.57057,     0.57157,     0.57257,     0.57357,     0.57457,     0.57558,\n",
      "           0.57658,     0.57758,     0.57858,     0.57958,     0.58058,     0.58158,     0.58258,     0.58358,     0.58458,     0.58559,     0.58659,     0.58759,     0.58859,     0.58959,     0.59059,     0.59159,     0.59259,     0.59359,     0.59459,      0.5956,      0.5966,      0.5976,      0.5986,      0.5996,\n",
      "            0.6006,      0.6016,      0.6026,      0.6036,      0.6046,     0.60561,     0.60661,     0.60761,     0.60861,     0.60961,     0.61061,     0.61161,     0.61261,     0.61361,     0.61461,     0.61562,     0.61662,     0.61762,     0.61862,     0.61962,     0.62062,     0.62162,     0.62262,     0.62362,\n",
      "           0.62462,     0.62563,     0.62663,     0.62763,     0.62863,     0.62963,     0.63063,     0.63163,     0.63263,     0.63363,     0.63463,     0.63564,     0.63664,     0.63764,     0.63864,     0.63964,     0.64064,     0.64164,     0.64264,     0.64364,     0.64464,     0.64565,     0.64665,     0.64765,\n",
      "           0.64865,     0.64965,     0.65065,     0.65165,     0.65265,     0.65365,     0.65465,     0.65566,     0.65666,     0.65766,     0.65866,     0.65966,     0.66066,     0.66166,     0.66266,     0.66366,     0.66466,     0.66567,     0.66667,     0.66767,     0.66867,     0.66967,     0.67067,     0.67167,\n",
      "           0.67267,     0.67367,     0.67467,     0.67568,     0.67668,     0.67768,     0.67868,     0.67968,     0.68068,     0.68168,     0.68268,     0.68368,     0.68468,     0.68569,     0.68669,     0.68769,     0.68869,     0.68969,     0.69069,     0.69169,     0.69269,     0.69369,     0.69469,      0.6957,\n",
      "            0.6967,      0.6977,      0.6987,      0.6997,      0.7007,      0.7017,      0.7027,      0.7037,      0.7047,     0.70571,     0.70671,     0.70771,     0.70871,     0.70971,     0.71071,     0.71171,     0.71271,     0.71371,     0.71471,     0.71572,     0.71672,     0.71772,     0.71872,     0.71972,\n",
      "           0.72072,     0.72172,     0.72272,     0.72372,     0.72472,     0.72573,     0.72673,     0.72773,     0.72873,     0.72973,     0.73073,     0.73173,     0.73273,     0.73373,     0.73473,     0.73574,     0.73674,     0.73774,     0.73874,     0.73974,     0.74074,     0.74174,     0.74274,     0.74374,\n",
      "           0.74474,     0.74575,     0.74675,     0.74775,     0.74875,     0.74975,     0.75075,     0.75175,     0.75275,     0.75375,     0.75475,     0.75576,     0.75676,     0.75776,     0.75876,     0.75976,     0.76076,     0.76176,     0.76276,     0.76376,     0.76476,     0.76577,     0.76677,     0.76777,\n",
      "           0.76877,     0.76977,     0.77077,     0.77177,     0.77277,     0.77377,     0.77477,     0.77578,     0.77678,     0.77778,     0.77878,     0.77978,     0.78078,     0.78178,     0.78278,     0.78378,     0.78478,     0.78579,     0.78679,     0.78779,     0.78879,     0.78979,     0.79079,     0.79179,\n",
      "           0.79279,     0.79379,     0.79479,      0.7958,      0.7968,      0.7978,      0.7988,      0.7998,      0.8008,      0.8018,      0.8028,      0.8038,      0.8048,     0.80581,     0.80681,     0.80781,     0.80881,     0.80981,     0.81081,     0.81181,     0.81281,     0.81381,     0.81481,     0.81582,\n",
      "           0.81682,     0.81782,     0.81882,     0.81982,     0.82082,     0.82182,     0.82282,     0.82382,     0.82482,     0.82583,     0.82683,     0.82783,     0.82883,     0.82983,     0.83083,     0.83183,     0.83283,     0.83383,     0.83483,     0.83584,     0.83684,     0.83784,     0.83884,     0.83984,\n",
      "           0.84084,     0.84184,     0.84284,     0.84384,     0.84484,     0.84585,     0.84685,     0.84785,     0.84885,     0.84985,     0.85085,     0.85185,     0.85285,     0.85385,     0.85485,     0.85586,     0.85686,     0.85786,     0.85886,     0.85986,     0.86086,     0.86186,     0.86286,     0.86386,\n",
      "           0.86486,     0.86587,     0.86687,     0.86787,     0.86887,     0.86987,     0.87087,     0.87187,     0.87287,     0.87387,     0.87487,     0.87588,     0.87688,     0.87788,     0.87888,     0.87988,     0.88088,     0.88188,     0.88288,     0.88388,     0.88488,     0.88589,     0.88689,     0.88789,\n",
      "           0.88889,     0.88989,     0.89089,     0.89189,     0.89289,     0.89389,     0.89489,      0.8959,      0.8969,      0.8979,      0.8989,      0.8999,      0.9009,      0.9019,      0.9029,      0.9039,      0.9049,     0.90591,     0.90691,     0.90791,     0.90891,     0.90991,     0.91091,     0.91191,\n",
      "           0.91291,     0.91391,     0.91491,     0.91592,     0.91692,     0.91792,     0.91892,     0.91992,     0.92092,     0.92192,     0.92292,     0.92392,     0.92492,     0.92593,     0.92693,     0.92793,     0.92893,     0.92993,     0.93093,     0.93193,     0.93293,     0.93393,     0.93493,     0.93594,\n",
      "           0.93694,     0.93794,     0.93894,     0.93994,     0.94094,     0.94194,     0.94294,     0.94394,     0.94494,     0.94595,     0.94695,     0.94795,     0.94895,     0.94995,     0.95095,     0.95195,     0.95295,     0.95395,     0.95495,     0.95596,     0.95696,     0.95796,     0.95896,     0.95996,\n",
      "           0.96096,     0.96196,     0.96296,     0.96396,     0.96496,     0.96597,     0.96697,     0.96797,     0.96897,     0.96997,     0.97097,     0.97197,     0.97297,     0.97397,     0.97497,     0.97598,     0.97698,     0.97798,     0.97898,     0.97998,     0.98098,     0.98198,     0.98298,     0.98398,\n",
      "           0.98498,     0.98599,     0.98699,     0.98799,     0.98899,     0.98999,     0.99099,     0.99199,     0.99299,     0.99399,     0.99499,       0.996,       0.997,       0.998,       0.999,           1]), array([[    0.42688,     0.42688,       0.597, ...,           1,           1,           1],\n",
      "       [    0.76429,     0.76429,     0.82829, ...,           1,           1,           1],\n",
      "       [    0.64671,     0.64671,     0.74161, ...,           1,           1,           1],\n",
      "       [    0.51429,     0.51429,     0.61449, ...,           1,           1,           1],\n",
      "       [     0.4252,     0.42542,     0.52778, ...,           1,           1,           1],\n",
      "       [    0.67925,     0.67925,     0.76192, ...,           1,           1,           1]]), 'Confidence', 'Precision'], [array([          0,    0.001001,    0.002002,    0.003003,    0.004004,    0.005005,    0.006006,    0.007007,    0.008008,    0.009009,     0.01001,    0.011011,    0.012012,    0.013013,    0.014014,    0.015015,    0.016016,    0.017017,    0.018018,    0.019019,     0.02002,    0.021021,    0.022022,    0.023023,\n",
      "          0.024024,    0.025025,    0.026026,    0.027027,    0.028028,    0.029029,     0.03003,    0.031031,    0.032032,    0.033033,    0.034034,    0.035035,    0.036036,    0.037037,    0.038038,    0.039039,     0.04004,    0.041041,    0.042042,    0.043043,    0.044044,    0.045045,    0.046046,    0.047047,\n",
      "          0.048048,    0.049049,     0.05005,    0.051051,    0.052052,    0.053053,    0.054054,    0.055055,    0.056056,    0.057057,    0.058058,    0.059059,     0.06006,    0.061061,    0.062062,    0.063063,    0.064064,    0.065065,    0.066066,    0.067067,    0.068068,    0.069069,     0.07007,    0.071071,\n",
      "          0.072072,    0.073073,    0.074074,    0.075075,    0.076076,    0.077077,    0.078078,    0.079079,     0.08008,    0.081081,    0.082082,    0.083083,    0.084084,    0.085085,    0.086086,    0.087087,    0.088088,    0.089089,     0.09009,    0.091091,    0.092092,    0.093093,    0.094094,    0.095095,\n",
      "          0.096096,    0.097097,    0.098098,    0.099099,      0.1001,      0.1011,      0.1021,      0.1031,      0.1041,     0.10511,     0.10611,     0.10711,     0.10811,     0.10911,     0.11011,     0.11111,     0.11211,     0.11311,     0.11411,     0.11512,     0.11612,     0.11712,     0.11812,     0.11912,\n",
      "           0.12012,     0.12112,     0.12212,     0.12312,     0.12412,     0.12513,     0.12613,     0.12713,     0.12813,     0.12913,     0.13013,     0.13113,     0.13213,     0.13313,     0.13413,     0.13514,     0.13614,     0.13714,     0.13814,     0.13914,     0.14014,     0.14114,     0.14214,     0.14314,\n",
      "           0.14414,     0.14515,     0.14615,     0.14715,     0.14815,     0.14915,     0.15015,     0.15115,     0.15215,     0.15315,     0.15415,     0.15516,     0.15616,     0.15716,     0.15816,     0.15916,     0.16016,     0.16116,     0.16216,     0.16316,     0.16416,     0.16517,     0.16617,     0.16717,\n",
      "           0.16817,     0.16917,     0.17017,     0.17117,     0.17217,     0.17317,     0.17417,     0.17518,     0.17618,     0.17718,     0.17818,     0.17918,     0.18018,     0.18118,     0.18218,     0.18318,     0.18418,     0.18519,     0.18619,     0.18719,     0.18819,     0.18919,     0.19019,     0.19119,\n",
      "           0.19219,     0.19319,     0.19419,      0.1952,      0.1962,      0.1972,      0.1982,      0.1992,      0.2002,      0.2012,      0.2022,      0.2032,      0.2042,     0.20521,     0.20621,     0.20721,     0.20821,     0.20921,     0.21021,     0.21121,     0.21221,     0.21321,     0.21421,     0.21522,\n",
      "           0.21622,     0.21722,     0.21822,     0.21922,     0.22022,     0.22122,     0.22222,     0.22322,     0.22422,     0.22523,     0.22623,     0.22723,     0.22823,     0.22923,     0.23023,     0.23123,     0.23223,     0.23323,     0.23423,     0.23524,     0.23624,     0.23724,     0.23824,     0.23924,\n",
      "           0.24024,     0.24124,     0.24224,     0.24324,     0.24424,     0.24525,     0.24625,     0.24725,     0.24825,     0.24925,     0.25025,     0.25125,     0.25225,     0.25325,     0.25425,     0.25526,     0.25626,     0.25726,     0.25826,     0.25926,     0.26026,     0.26126,     0.26226,     0.26326,\n",
      "           0.26426,     0.26527,     0.26627,     0.26727,     0.26827,     0.26927,     0.27027,     0.27127,     0.27227,     0.27327,     0.27427,     0.27528,     0.27628,     0.27728,     0.27828,     0.27928,     0.28028,     0.28128,     0.28228,     0.28328,     0.28428,     0.28529,     0.28629,     0.28729,\n",
      "           0.28829,     0.28929,     0.29029,     0.29129,     0.29229,     0.29329,     0.29429,      0.2953,      0.2963,      0.2973,      0.2983,      0.2993,      0.3003,      0.3013,      0.3023,      0.3033,      0.3043,     0.30531,     0.30631,     0.30731,     0.30831,     0.30931,     0.31031,     0.31131,\n",
      "           0.31231,     0.31331,     0.31431,     0.31532,     0.31632,     0.31732,     0.31832,     0.31932,     0.32032,     0.32132,     0.32232,     0.32332,     0.32432,     0.32533,     0.32633,     0.32733,     0.32833,     0.32933,     0.33033,     0.33133,     0.33233,     0.33333,     0.33433,     0.33534,\n",
      "           0.33634,     0.33734,     0.33834,     0.33934,     0.34034,     0.34134,     0.34234,     0.34334,     0.34434,     0.34535,     0.34635,     0.34735,     0.34835,     0.34935,     0.35035,     0.35135,     0.35235,     0.35335,     0.35435,     0.35536,     0.35636,     0.35736,     0.35836,     0.35936,\n",
      "           0.36036,     0.36136,     0.36236,     0.36336,     0.36436,     0.36537,     0.36637,     0.36737,     0.36837,     0.36937,     0.37037,     0.37137,     0.37237,     0.37337,     0.37437,     0.37538,     0.37638,     0.37738,     0.37838,     0.37938,     0.38038,     0.38138,     0.38238,     0.38338,\n",
      "           0.38438,     0.38539,     0.38639,     0.38739,     0.38839,     0.38939,     0.39039,     0.39139,     0.39239,     0.39339,     0.39439,      0.3954,      0.3964,      0.3974,      0.3984,      0.3994,      0.4004,      0.4014,      0.4024,      0.4034,      0.4044,     0.40541,     0.40641,     0.40741,\n",
      "           0.40841,     0.40941,     0.41041,     0.41141,     0.41241,     0.41341,     0.41441,     0.41542,     0.41642,     0.41742,     0.41842,     0.41942,     0.42042,     0.42142,     0.42242,     0.42342,     0.42442,     0.42543,     0.42643,     0.42743,     0.42843,     0.42943,     0.43043,     0.43143,\n",
      "           0.43243,     0.43343,     0.43443,     0.43544,     0.43644,     0.43744,     0.43844,     0.43944,     0.44044,     0.44144,     0.44244,     0.44344,     0.44444,     0.44545,     0.44645,     0.44745,     0.44845,     0.44945,     0.45045,     0.45145,     0.45245,     0.45345,     0.45445,     0.45546,\n",
      "           0.45646,     0.45746,     0.45846,     0.45946,     0.46046,     0.46146,     0.46246,     0.46346,     0.46446,     0.46547,     0.46647,     0.46747,     0.46847,     0.46947,     0.47047,     0.47147,     0.47247,     0.47347,     0.47447,     0.47548,     0.47648,     0.47748,     0.47848,     0.47948,\n",
      "           0.48048,     0.48148,     0.48248,     0.48348,     0.48448,     0.48549,     0.48649,     0.48749,     0.48849,     0.48949,     0.49049,     0.49149,     0.49249,     0.49349,     0.49449,      0.4955,      0.4965,      0.4975,      0.4985,      0.4995,      0.5005,      0.5015,      0.5025,      0.5035,\n",
      "            0.5045,     0.50551,     0.50651,     0.50751,     0.50851,     0.50951,     0.51051,     0.51151,     0.51251,     0.51351,     0.51451,     0.51552,     0.51652,     0.51752,     0.51852,     0.51952,     0.52052,     0.52152,     0.52252,     0.52352,     0.52452,     0.52553,     0.52653,     0.52753,\n",
      "           0.52853,     0.52953,     0.53053,     0.53153,     0.53253,     0.53353,     0.53453,     0.53554,     0.53654,     0.53754,     0.53854,     0.53954,     0.54054,     0.54154,     0.54254,     0.54354,     0.54454,     0.54555,     0.54655,     0.54755,     0.54855,     0.54955,     0.55055,     0.55155,\n",
      "           0.55255,     0.55355,     0.55455,     0.55556,     0.55656,     0.55756,     0.55856,     0.55956,     0.56056,     0.56156,     0.56256,     0.56356,     0.56456,     0.56557,     0.56657,     0.56757,     0.56857,     0.56957,     0.57057,     0.57157,     0.57257,     0.57357,     0.57457,     0.57558,\n",
      "           0.57658,     0.57758,     0.57858,     0.57958,     0.58058,     0.58158,     0.58258,     0.58358,     0.58458,     0.58559,     0.58659,     0.58759,     0.58859,     0.58959,     0.59059,     0.59159,     0.59259,     0.59359,     0.59459,      0.5956,      0.5966,      0.5976,      0.5986,      0.5996,\n",
      "            0.6006,      0.6016,      0.6026,      0.6036,      0.6046,     0.60561,     0.60661,     0.60761,     0.60861,     0.60961,     0.61061,     0.61161,     0.61261,     0.61361,     0.61461,     0.61562,     0.61662,     0.61762,     0.61862,     0.61962,     0.62062,     0.62162,     0.62262,     0.62362,\n",
      "           0.62462,     0.62563,     0.62663,     0.62763,     0.62863,     0.62963,     0.63063,     0.63163,     0.63263,     0.63363,     0.63463,     0.63564,     0.63664,     0.63764,     0.63864,     0.63964,     0.64064,     0.64164,     0.64264,     0.64364,     0.64464,     0.64565,     0.64665,     0.64765,\n",
      "           0.64865,     0.64965,     0.65065,     0.65165,     0.65265,     0.65365,     0.65465,     0.65566,     0.65666,     0.65766,     0.65866,     0.65966,     0.66066,     0.66166,     0.66266,     0.66366,     0.66466,     0.66567,     0.66667,     0.66767,     0.66867,     0.66967,     0.67067,     0.67167,\n",
      "           0.67267,     0.67367,     0.67467,     0.67568,     0.67668,     0.67768,     0.67868,     0.67968,     0.68068,     0.68168,     0.68268,     0.68368,     0.68468,     0.68569,     0.68669,     0.68769,     0.68869,     0.68969,     0.69069,     0.69169,     0.69269,     0.69369,     0.69469,      0.6957,\n",
      "            0.6967,      0.6977,      0.6987,      0.6997,      0.7007,      0.7017,      0.7027,      0.7037,      0.7047,     0.70571,     0.70671,     0.70771,     0.70871,     0.70971,     0.71071,     0.71171,     0.71271,     0.71371,     0.71471,     0.71572,     0.71672,     0.71772,     0.71872,     0.71972,\n",
      "           0.72072,     0.72172,     0.72272,     0.72372,     0.72472,     0.72573,     0.72673,     0.72773,     0.72873,     0.72973,     0.73073,     0.73173,     0.73273,     0.73373,     0.73473,     0.73574,     0.73674,     0.73774,     0.73874,     0.73974,     0.74074,     0.74174,     0.74274,     0.74374,\n",
      "           0.74474,     0.74575,     0.74675,     0.74775,     0.74875,     0.74975,     0.75075,     0.75175,     0.75275,     0.75375,     0.75475,     0.75576,     0.75676,     0.75776,     0.75876,     0.75976,     0.76076,     0.76176,     0.76276,     0.76376,     0.76476,     0.76577,     0.76677,     0.76777,\n",
      "           0.76877,     0.76977,     0.77077,     0.77177,     0.77277,     0.77377,     0.77477,     0.77578,     0.77678,     0.77778,     0.77878,     0.77978,     0.78078,     0.78178,     0.78278,     0.78378,     0.78478,     0.78579,     0.78679,     0.78779,     0.78879,     0.78979,     0.79079,     0.79179,\n",
      "           0.79279,     0.79379,     0.79479,      0.7958,      0.7968,      0.7978,      0.7988,      0.7998,      0.8008,      0.8018,      0.8028,      0.8038,      0.8048,     0.80581,     0.80681,     0.80781,     0.80881,     0.80981,     0.81081,     0.81181,     0.81281,     0.81381,     0.81481,     0.81582,\n",
      "           0.81682,     0.81782,     0.81882,     0.81982,     0.82082,     0.82182,     0.82282,     0.82382,     0.82482,     0.82583,     0.82683,     0.82783,     0.82883,     0.82983,     0.83083,     0.83183,     0.83283,     0.83383,     0.83483,     0.83584,     0.83684,     0.83784,     0.83884,     0.83984,\n",
      "           0.84084,     0.84184,     0.84284,     0.84384,     0.84484,     0.84585,     0.84685,     0.84785,     0.84885,     0.84985,     0.85085,     0.85185,     0.85285,     0.85385,     0.85485,     0.85586,     0.85686,     0.85786,     0.85886,     0.85986,     0.86086,     0.86186,     0.86286,     0.86386,\n",
      "           0.86486,     0.86587,     0.86687,     0.86787,     0.86887,     0.86987,     0.87087,     0.87187,     0.87287,     0.87387,     0.87487,     0.87588,     0.87688,     0.87788,     0.87888,     0.87988,     0.88088,     0.88188,     0.88288,     0.88388,     0.88488,     0.88589,     0.88689,     0.88789,\n",
      "           0.88889,     0.88989,     0.89089,     0.89189,     0.89289,     0.89389,     0.89489,      0.8959,      0.8969,      0.8979,      0.8989,      0.8999,      0.9009,      0.9019,      0.9029,      0.9039,      0.9049,     0.90591,     0.90691,     0.90791,     0.90891,     0.90991,     0.91091,     0.91191,\n",
      "           0.91291,     0.91391,     0.91491,     0.91592,     0.91692,     0.91792,     0.91892,     0.91992,     0.92092,     0.92192,     0.92292,     0.92392,     0.92492,     0.92593,     0.92693,     0.92793,     0.92893,     0.92993,     0.93093,     0.93193,     0.93293,     0.93393,     0.93493,     0.93594,\n",
      "           0.93694,     0.93794,     0.93894,     0.93994,     0.94094,     0.94194,     0.94294,     0.94394,     0.94494,     0.94595,     0.94695,     0.94795,     0.94895,     0.94995,     0.95095,     0.95195,     0.95295,     0.95395,     0.95495,     0.95596,     0.95696,     0.95796,     0.95896,     0.95996,\n",
      "           0.96096,     0.96196,     0.96296,     0.96396,     0.96496,     0.96597,     0.96697,     0.96797,     0.96897,     0.96997,     0.97097,     0.97197,     0.97297,     0.97397,     0.97497,     0.97598,     0.97698,     0.97798,     0.97898,     0.97998,     0.98098,     0.98198,     0.98298,     0.98398,\n",
      "           0.98498,     0.98599,     0.98699,     0.98799,     0.98899,     0.98999,     0.99099,     0.99199,     0.99299,     0.99399,     0.99499,       0.996,       0.997,       0.998,       0.999,           1]), array([[          1,           1,           1, ...,           0,           0,           0],\n",
      "       [    0.99074,     0.99074,     0.99074, ...,           0,           0,           0],\n",
      "       [          1,           1,     0.99074, ...,           0,           0,           0],\n",
      "       [          1,           1,           1, ...,           0,           0,           0],\n",
      "       [    0.99083,     0.99083,     0.99083, ...,           0,           0,           0],\n",
      "       [          1,           1,           1, ...,           0,           0,           0]]), 'Confidence', 'Recall']]\n",
      "fitness: np.float64(0.8733441033050101)\n",
      "keys: ['metrics/precision(B)', 'metrics/recall(B)', 'metrics/mAP50(B)', 'metrics/mAP50-95(B)']\n",
      "maps: array([    0.89549,     0.91778,     0.89089,     0.87387,      0.7292,     0.85432])\n",
      "names: {0: 'AmurLeopard', 1: 'AmurTiger', 2: 'LeopardCat', 3: 'RedFox', 4: 'Weasel', 5: 'WildBoar'}\n",
      "nt_per_class: array([108, 108, 108, 108, 109, 108])\n",
      "nt_per_image: array([106, 106, 106, 106, 106, 106])\n",
      "results_dict: {'metrics/precision(B)': np.float64(0.9885294674819418), 'metrics/recall(B)': np.float64(0.9815377363333188), 'metrics/mAP50(B)': np.float64(0.991123821275707), 'metrics/mAP50-95(B)': np.float64(0.8602574679749326), 'fitness': np.float64(0.8733441033050101)}\n",
      "save_dir: WindowsPath('runs/detect/yolo11_day_val')\n",
      "speed: {'preprocess': 0.14056918245510333, 'inference': 12.796490565983875, 'loss': 0.001796698157452984, 'postprocess': 1.206030188860158}\n",
      "stats: {'tp': [], 'conf': [], 'pred_cls': [], 'target_cls': [], 'target_img': []}\n",
      "task: 'detect'\n"
     ]
    }
   ],
   "source": [
    "# Loading the trained model\n",
    "model = YOLO(\"yolo11_day/yolov11m_day/weights/best.pt\")\n",
    "\n",
    "# Evaluating the model on Day images test set\n",
    "metrics = model.val(\n",
    "    data=\"dataset_day.yaml\",\n",
    "    split=\"test\",     \n",
    "    batch=8,\n",
    "    imgsz=416,\n",
    "    device=1,\n",
    "    project=\"runs/detect\",      \n",
    "    name=\"yolo11_day_val\",      \n",
    "    exist_ok=True \n",
    ")\n",
    "\n",
    "# Displaying evaluation metrics (mAP, precision, recall, etc.)\n",
    "print(metrics)"
   ]
  },
  {
   "cell_type": "markdown",
   "id": "414faa22-8889-4431-9116-783d9cefec02",
   "metadata": {},
   "source": [
    "The above code:\n",
    "- Loads the best weights saved during training (`best.pt`) from the **Day model** folder.\n",
    "- Runs evaluation on the **test split** of the Day dataset specified in `dataset_day.yaml`.\n",
    "- Uses a batch size of **8** and image size of **416x416** for evaluation.\n",
    "- Performs the evaluation on the **GPU device 1** (adjust to your appropriate GPU or CPU if needed).\n",
    "- Prints out key metrics like **mAP (mean Average Precision)**, **precision**, **recall**, and more to assess model quality.\n",
    "- It also stores the **confusion matrix**, **precision-recall curve**, **precision curve**, **recall curve**, and **f1-score curve** in the directory `runs/detect/yolo11_day_val`.\n",
    "\n",
    "---\n",
    "\n",
    "Now we run **object detection** on all test images in the **Day dataset**.\n"
   ]
  },
  {
   "cell_type": "code",
   "execution_count": 6,
   "id": "4c8916a2-9b21-436f-a956-2ad772fc8099",
   "metadata": {},
   "outputs": [
    {
     "name": "stdout",
     "output_type": "stream",
     "text": [
      "\n",
      "image 1/636 D:\\University College Dublin\\Trimester 3\\PIMM\\Project\\Final Project\\dataset_day\\images\\test\\AmurLeopard_1005.jpg: 256x416 1 AmurLeopard, 712.4ms\n",
      "image 2/636 D:\\University College Dublin\\Trimester 3\\PIMM\\Project\\Final Project\\dataset_day\\images\\test\\AmurLeopard_1031.jpg: 256x416 1 AmurLeopard, 151.5ms\n",
      "image 3/636 D:\\University College Dublin\\Trimester 3\\PIMM\\Project\\Final Project\\dataset_day\\images\\test\\AmurLeopard_1033.jpg: 256x416 2 AmurLeopards, 87.1ms\n",
      "image 4/636 D:\\University College Dublin\\Trimester 3\\PIMM\\Project\\Final Project\\dataset_day\\images\\test\\AmurLeopard_104.jpg: 256x416 1 AmurLeopard, 15.0ms\n",
      "image 5/636 D:\\University College Dublin\\Trimester 3\\PIMM\\Project\\Final Project\\dataset_day\\images\\test\\AmurLeopard_1043.jpg: 256x416 1 AmurLeopard, 14.2ms\n",
      "image 6/636 D:\\University College Dublin\\Trimester 3\\PIMM\\Project\\Final Project\\dataset_day\\images\\test\\AmurLeopard_1057.jpg: 256x416 1 AmurLeopard, 14.8ms\n",
      "image 7/636 D:\\University College Dublin\\Trimester 3\\PIMM\\Project\\Final Project\\dataset_day\\images\\test\\AmurLeopard_1059.jpg: 256x416 1 AmurLeopard, 14.6ms\n",
      "image 8/636 D:\\University College Dublin\\Trimester 3\\PIMM\\Project\\Final Project\\dataset_day\\images\\test\\AmurLeopard_1076.jpg: 256x416 1 AmurLeopard, 14.7ms\n",
      "image 9/636 D:\\University College Dublin\\Trimester 3\\PIMM\\Project\\Final Project\\dataset_day\\images\\test\\AmurLeopard_109.jpg: 256x416 1 AmurLeopard, 14.3ms\n",
      "image 10/636 D:\\University College Dublin\\Trimester 3\\PIMM\\Project\\Final Project\\dataset_day\\images\\test\\AmurLeopard_1095.jpg: 256x416 1 AmurLeopard, 14.3ms\n",
      "image 11/636 D:\\University College Dublin\\Trimester 3\\PIMM\\Project\\Final Project\\dataset_day\\images\\test\\AmurLeopard_1097.jpg: 256x416 1 AmurLeopard, 14.3ms\n",
      "image 12/636 D:\\University College Dublin\\Trimester 3\\PIMM\\Project\\Final Project\\dataset_day\\images\\test\\AmurLeopard_1109.jpg: 256x416 1 AmurLeopard, 14.6ms\n",
      "image 13/636 D:\\University College Dublin\\Trimester 3\\PIMM\\Project\\Final Project\\dataset_day\\images\\test\\AmurLeopard_111.jpg: 256x416 1 AmurLeopard, 13.5ms\n",
      "image 14/636 D:\\University College Dublin\\Trimester 3\\PIMM\\Project\\Final Project\\dataset_day\\images\\test\\AmurLeopard_1117.jpg: 256x416 1 AmurLeopard, 13.6ms\n",
      "image 15/636 D:\\University College Dublin\\Trimester 3\\PIMM\\Project\\Final Project\\dataset_day\\images\\test\\AmurLeopard_1121.jpg: 256x416 1 AmurLeopard, 13.5ms\n",
      "image 16/636 D:\\University College Dublin\\Trimester 3\\PIMM\\Project\\Final Project\\dataset_day\\images\\test\\AmurLeopard_1122.jpg: 256x416 1 AmurLeopard, 13.3ms\n",
      "image 17/636 D:\\University College Dublin\\Trimester 3\\PIMM\\Project\\Final Project\\dataset_day\\images\\test\\AmurLeopard_1125.jpg: 256x416 1 AmurLeopard, 13.4ms\n",
      "image 18/636 D:\\University College Dublin\\Trimester 3\\PIMM\\Project\\Final Project\\dataset_day\\images\\test\\AmurLeopard_1129.jpg: 256x416 1 AmurLeopard, 13.1ms\n",
      "image 19/636 D:\\University College Dublin\\Trimester 3\\PIMM\\Project\\Final Project\\dataset_day\\images\\test\\AmurLeopard_113.jpg: 256x416 1 AmurLeopard, 13.2ms\n",
      "image 20/636 D:\\University College Dublin\\Trimester 3\\PIMM\\Project\\Final Project\\dataset_day\\images\\test\\AmurLeopard_1143.jpg: 256x416 1 AmurLeopard, 13.1ms\n",
      "image 21/636 D:\\University College Dublin\\Trimester 3\\PIMM\\Project\\Final Project\\dataset_day\\images\\test\\AmurLeopard_1155.jpg: 256x416 1 AmurLeopard, 13.4ms\n",
      "image 22/636 D:\\University College Dublin\\Trimester 3\\PIMM\\Project\\Final Project\\dataset_day\\images\\test\\AmurLeopard_1169.jpg: 256x416 1 AmurLeopard, 13.7ms\n",
      "image 23/636 D:\\University College Dublin\\Trimester 3\\PIMM\\Project\\Final Project\\dataset_day\\images\\test\\AmurLeopard_1175.jpg: 256x416 1 AmurLeopard, 12.8ms\n",
      "image 24/636 D:\\University College Dublin\\Trimester 3\\PIMM\\Project\\Final Project\\dataset_day\\images\\test\\AmurLeopard_129.jpg: 256x416 1 AmurLeopard, 12.9ms\n",
      "image 25/636 D:\\University College Dublin\\Trimester 3\\PIMM\\Project\\Final Project\\dataset_day\\images\\test\\AmurLeopard_137.jpg: 256x416 1 AmurLeopard, 13.0ms\n",
      "image 26/636 D:\\University College Dublin\\Trimester 3\\PIMM\\Project\\Final Project\\dataset_day\\images\\test\\AmurLeopard_149.jpg: 256x416 1 AmurLeopard, 12.9ms\n",
      "image 27/636 D:\\University College Dublin\\Trimester 3\\PIMM\\Project\\Final Project\\dataset_day\\images\\test\\AmurLeopard_150.jpg: 256x416 1 AmurLeopard, 12.9ms\n",
      "image 28/636 D:\\University College Dublin\\Trimester 3\\PIMM\\Project\\Final Project\\dataset_day\\images\\test\\AmurLeopard_159.jpg: 256x416 1 AmurLeopard, 15.2ms\n",
      "image 29/636 D:\\University College Dublin\\Trimester 3\\PIMM\\Project\\Final Project\\dataset_day\\images\\test\\AmurLeopard_181.jpg: 256x416 1 AmurLeopard, 12.8ms\n",
      "image 30/636 D:\\University College Dublin\\Trimester 3\\PIMM\\Project\\Final Project\\dataset_day\\images\\test\\AmurLeopard_2.jpg: 256x416 1 AmurLeopard, 12.9ms\n",
      "image 31/636 D:\\University College Dublin\\Trimester 3\\PIMM\\Project\\Final Project\\dataset_day\\images\\test\\AmurLeopard_213.jpg: 256x416 1 AmurLeopard, 20.1ms\n",
      "image 32/636 D:\\University College Dublin\\Trimester 3\\PIMM\\Project\\Final Project\\dataset_day\\images\\test\\AmurLeopard_219.jpg: 256x416 1 AmurLeopard, 12.9ms\n",
      "image 33/636 D:\\University College Dublin\\Trimester 3\\PIMM\\Project\\Final Project\\dataset_day\\images\\test\\AmurLeopard_22.jpg: 256x416 1 AmurLeopard, 12.9ms\n",
      "image 34/636 D:\\University College Dublin\\Trimester 3\\PIMM\\Project\\Final Project\\dataset_day\\images\\test\\AmurLeopard_222.jpg: 256x416 1 AmurLeopard, 12.8ms\n",
      "image 35/636 D:\\University College Dublin\\Trimester 3\\PIMM\\Project\\Final Project\\dataset_day\\images\\test\\AmurLeopard_227.jpg: 256x416 1 AmurLeopard, 12.8ms\n",
      "image 36/636 D:\\University College Dublin\\Trimester 3\\PIMM\\Project\\Final Project\\dataset_day\\images\\test\\AmurLeopard_228.jpg: 256x416 1 AmurLeopard, 12.8ms\n",
      "image 37/636 D:\\University College Dublin\\Trimester 3\\PIMM\\Project\\Final Project\\dataset_day\\images\\test\\AmurLeopard_229.jpg: 256x416 1 AmurLeopard, 12.9ms\n",
      "image 38/636 D:\\University College Dublin\\Trimester 3\\PIMM\\Project\\Final Project\\dataset_day\\images\\test\\AmurLeopard_231.jpg: 256x416 1 AmurLeopard, 12.6ms\n",
      "image 39/636 D:\\University College Dublin\\Trimester 3\\PIMM\\Project\\Final Project\\dataset_day\\images\\test\\AmurLeopard_237.jpg: 256x416 1 AmurLeopard, 13.0ms\n",
      "image 40/636 D:\\University College Dublin\\Trimester 3\\PIMM\\Project\\Final Project\\dataset_day\\images\\test\\AmurLeopard_238.jpg: 256x416 1 AmurLeopard, 13.3ms\n",
      "image 41/636 D:\\University College Dublin\\Trimester 3\\PIMM\\Project\\Final Project\\dataset_day\\images\\test\\AmurLeopard_259.jpg: 256x416 1 AmurLeopard, 13.9ms\n",
      "image 42/636 D:\\University College Dublin\\Trimester 3\\PIMM\\Project\\Final Project\\dataset_day\\images\\test\\AmurLeopard_271.jpg: 256x416 1 AmurLeopard, 13.9ms\n",
      "image 43/636 D:\\University College Dublin\\Trimester 3\\PIMM\\Project\\Final Project\\dataset_day\\images\\test\\AmurLeopard_273.jpg: 256x416 1 AmurLeopard, 13.2ms\n",
      "image 44/636 D:\\University College Dublin\\Trimester 3\\PIMM\\Project\\Final Project\\dataset_day\\images\\test\\AmurLeopard_3.jpg: 256x416 1 AmurLeopard, 15.1ms\n",
      "image 45/636 D:\\University College Dublin\\Trimester 3\\PIMM\\Project\\Final Project\\dataset_day\\images\\test\\AmurLeopard_300.jpg: 256x416 2 AmurLeopards, 12.6ms\n",
      "image 46/636 D:\\University College Dublin\\Trimester 3\\PIMM\\Project\\Final Project\\dataset_day\\images\\test\\AmurLeopard_302.jpg: 256x416 1 AmurLeopard, 13.0ms\n",
      "image 47/636 D:\\University College Dublin\\Trimester 3\\PIMM\\Project\\Final Project\\dataset_day\\images\\test\\AmurLeopard_303.jpg: 256x416 1 AmurLeopard, 16.1ms\n",
      "image 48/636 D:\\University College Dublin\\Trimester 3\\PIMM\\Project\\Final Project\\dataset_day\\images\\test\\AmurLeopard_307.jpg: 256x416 1 AmurLeopard, 14.7ms\n",
      "image 49/636 D:\\University College Dublin\\Trimester 3\\PIMM\\Project\\Final Project\\dataset_day\\images\\test\\AmurLeopard_316.jpg: 256x416 1 AmurLeopard, 13.6ms\n",
      "image 50/636 D:\\University College Dublin\\Trimester 3\\PIMM\\Project\\Final Project\\dataset_day\\images\\test\\AmurLeopard_319.jpg: 256x416 1 AmurLeopard, 12.6ms\n",
      "image 51/636 D:\\University College Dublin\\Trimester 3\\PIMM\\Project\\Final Project\\dataset_day\\images\\test\\AmurLeopard_337.jpg: 256x416 1 AmurLeopard, 13.4ms\n",
      "image 52/636 D:\\University College Dublin\\Trimester 3\\PIMM\\Project\\Final Project\\dataset_day\\images\\test\\AmurLeopard_343.jpg: 256x416 1 AmurLeopard, 20.5ms\n",
      "image 53/636 D:\\University College Dublin\\Trimester 3\\PIMM\\Project\\Final Project\\dataset_day\\images\\test\\AmurLeopard_367.jpg: 256x416 1 AmurLeopard, 18.7ms\n",
      "image 54/636 D:\\University College Dublin\\Trimester 3\\PIMM\\Project\\Final Project\\dataset_day\\images\\test\\AmurLeopard_368.jpg: 256x416 1 AmurLeopard, 12.4ms\n",
      "image 55/636 D:\\University College Dublin\\Trimester 3\\PIMM\\Project\\Final Project\\dataset_day\\images\\test\\AmurLeopard_377.jpg: 256x416 1 AmurLeopard, 12.4ms\n",
      "image 56/636 D:\\University College Dublin\\Trimester 3\\PIMM\\Project\\Final Project\\dataset_day\\images\\test\\AmurLeopard_388.jpg: 256x416 1 AmurLeopard, 12.4ms\n",
      "image 57/636 D:\\University College Dublin\\Trimester 3\\PIMM\\Project\\Final Project\\dataset_day\\images\\test\\AmurLeopard_390_dup002.jpg: 256x416 1 AmurLeopard, 12.4ms\n",
      "image 58/636 D:\\University College Dublin\\Trimester 3\\PIMM\\Project\\Final Project\\dataset_day\\images\\test\\AmurLeopard_395.jpg: 256x416 1 AmurLeopard, 15.7ms\n",
      "image 59/636 D:\\University College Dublin\\Trimester 3\\PIMM\\Project\\Final Project\\dataset_day\\images\\test\\AmurLeopard_421.jpg: 256x416 1 AmurLeopard, 13.0ms\n",
      "image 60/636 D:\\University College Dublin\\Trimester 3\\PIMM\\Project\\Final Project\\dataset_day\\images\\test\\AmurLeopard_430.jpg: 256x416 1 AmurLeopard, 12.4ms\n",
      "image 61/636 D:\\University College Dublin\\Trimester 3\\PIMM\\Project\\Final Project\\dataset_day\\images\\test\\AmurLeopard_433.jpg: 256x416 1 AmurLeopard, 18.4ms\n",
      "image 62/636 D:\\University College Dublin\\Trimester 3\\PIMM\\Project\\Final Project\\dataset_day\\images\\test\\AmurLeopard_436.jpg: 256x416 1 AmurLeopard, 15.2ms\n",
      "image 63/636 D:\\University College Dublin\\Trimester 3\\PIMM\\Project\\Final Project\\dataset_day\\images\\test\\AmurLeopard_444.jpg: 256x416 1 AmurLeopard, 12.8ms\n",
      "image 64/636 D:\\University College Dublin\\Trimester 3\\PIMM\\Project\\Final Project\\dataset_day\\images\\test\\AmurLeopard_452.jpg: 256x416 1 AmurLeopard, 13.9ms\n",
      "image 65/636 D:\\University College Dublin\\Trimester 3\\PIMM\\Project\\Final Project\\dataset_day\\images\\test\\AmurLeopard_453.jpg: 256x416 1 AmurLeopard, 12.5ms\n",
      "image 66/636 D:\\University College Dublin\\Trimester 3\\PIMM\\Project\\Final Project\\dataset_day\\images\\test\\AmurLeopard_454.jpg: 256x416 1 AmurLeopard, 13.5ms\n",
      "image 67/636 D:\\University College Dublin\\Trimester 3\\PIMM\\Project\\Final Project\\dataset_day\\images\\test\\AmurLeopard_479.jpg: 256x416 1 AmurLeopard, 14.1ms\n",
      "image 68/636 D:\\University College Dublin\\Trimester 3\\PIMM\\Project\\Final Project\\dataset_day\\images\\test\\AmurLeopard_484.jpg: 256x416 1 AmurLeopard, 12.5ms\n",
      "image 69/636 D:\\University College Dublin\\Trimester 3\\PIMM\\Project\\Final Project\\dataset_day\\images\\test\\AmurLeopard_532.jpg: 256x416 1 AmurLeopard, 13.3ms\n",
      "image 70/636 D:\\University College Dublin\\Trimester 3\\PIMM\\Project\\Final Project\\dataset_day\\images\\test\\AmurLeopard_537.jpg: 256x416 1 AmurLeopard, 13.7ms\n",
      "image 71/636 D:\\University College Dublin\\Trimester 3\\PIMM\\Project\\Final Project\\dataset_day\\images\\test\\AmurLeopard_586.jpg: 256x416 1 AmurLeopard, 12.8ms\n",
      "image 72/636 D:\\University College Dublin\\Trimester 3\\PIMM\\Project\\Final Project\\dataset_day\\images\\test\\AmurLeopard_595.jpg: 256x416 1 AmurLeopard, 13.2ms\n",
      "image 73/636 D:\\University College Dublin\\Trimester 3\\PIMM\\Project\\Final Project\\dataset_day\\images\\test\\AmurLeopard_605.jpg: 256x416 1 AmurLeopard, 12.8ms\n",
      "image 74/636 D:\\University College Dublin\\Trimester 3\\PIMM\\Project\\Final Project\\dataset_day\\images\\test\\AmurLeopard_605_dup007.jpg: 256x416 1 AmurLeopard, 12.9ms\n",
      "image 75/636 D:\\University College Dublin\\Trimester 3\\PIMM\\Project\\Final Project\\dataset_day\\images\\test\\AmurLeopard_608.jpg: 256x416 1 AmurLeopard, 12.5ms\n",
      "image 76/636 D:\\University College Dublin\\Trimester 3\\PIMM\\Project\\Final Project\\dataset_day\\images\\test\\AmurLeopard_732.jpg: 256x416 1 AmurLeopard, 16.8ms\n",
      "image 77/636 D:\\University College Dublin\\Trimester 3\\PIMM\\Project\\Final Project\\dataset_day\\images\\test\\AmurLeopard_74.jpg: 256x416 1 AmurLeopard, 13.2ms\n",
      "image 78/636 D:\\University College Dublin\\Trimester 3\\PIMM\\Project\\Final Project\\dataset_day\\images\\test\\AmurLeopard_789.jpg: 256x416 1 AmurLeopard, 12.2ms\n",
      "image 79/636 D:\\University College Dublin\\Trimester 3\\PIMM\\Project\\Final Project\\dataset_day\\images\\test\\AmurLeopard_792.jpg: 256x416 1 AmurLeopard, 12.2ms\n",
      "image 80/636 D:\\University College Dublin\\Trimester 3\\PIMM\\Project\\Final Project\\dataset_day\\images\\test\\AmurLeopard_797.jpg: 256x416 1 AmurLeopard, 14.0ms\n",
      "image 81/636 D:\\University College Dublin\\Trimester 3\\PIMM\\Project\\Final Project\\dataset_day\\images\\test\\AmurLeopard_802.jpg: 256x416 1 AmurLeopard, 12.9ms\n",
      "image 82/636 D:\\University College Dublin\\Trimester 3\\PIMM\\Project\\Final Project\\dataset_day\\images\\test\\AmurLeopard_809.jpg: 256x416 1 AmurLeopard, 13.0ms\n",
      "image 83/636 D:\\University College Dublin\\Trimester 3\\PIMM\\Project\\Final Project\\dataset_day\\images\\test\\AmurLeopard_814.jpg: 256x416 1 AmurLeopard, 12.7ms\n",
      "image 84/636 D:\\University College Dublin\\Trimester 3\\PIMM\\Project\\Final Project\\dataset_day\\images\\test\\AmurLeopard_818.jpg: 256x416 1 AmurLeopard, 12.5ms\n",
      "image 85/636 D:\\University College Dublin\\Trimester 3\\PIMM\\Project\\Final Project\\dataset_day\\images\\test\\AmurLeopard_823_dup009.jpg: 256x416 1 AmurLeopard, 12.5ms\n",
      "image 86/636 D:\\University College Dublin\\Trimester 3\\PIMM\\Project\\Final Project\\dataset_day\\images\\test\\AmurLeopard_842.jpg: 256x416 1 AmurLeopard, 12.3ms\n",
      "image 87/636 D:\\University College Dublin\\Trimester 3\\PIMM\\Project\\Final Project\\dataset_day\\images\\test\\AmurLeopard_861.jpg: 256x416 1 AmurLeopard, 18.5ms\n",
      "image 88/636 D:\\University College Dublin\\Trimester 3\\PIMM\\Project\\Final Project\\dataset_day\\images\\test\\AmurLeopard_862.jpg: 256x416 1 AmurLeopard, 11.9ms\n",
      "image 89/636 D:\\University College Dublin\\Trimester 3\\PIMM\\Project\\Final Project\\dataset_day\\images\\test\\AmurLeopard_878.jpg: 256x416 1 AmurLeopard, 12.5ms\n",
      "image 90/636 D:\\University College Dublin\\Trimester 3\\PIMM\\Project\\Final Project\\dataset_day\\images\\test\\AmurLeopard_886.jpg: 256x416 1 AmurLeopard, 12.6ms\n",
      "image 91/636 D:\\University College Dublin\\Trimester 3\\PIMM\\Project\\Final Project\\dataset_day\\images\\test\\AmurLeopard_891.jpg: 256x416 1 AmurLeopard, 12.5ms\n",
      "image 92/636 D:\\University College Dublin\\Trimester 3\\PIMM\\Project\\Final Project\\dataset_day\\images\\test\\AmurLeopard_904.jpg: 256x416 1 AmurLeopard, 12.7ms\n",
      "image 93/636 D:\\University College Dublin\\Trimester 3\\PIMM\\Project\\Final Project\\dataset_day\\images\\test\\AmurLeopard_918.jpg: 256x416 1 AmurLeopard, 13.4ms\n",
      "image 94/636 D:\\University College Dublin\\Trimester 3\\PIMM\\Project\\Final Project\\dataset_day\\images\\test\\AmurLeopard_931.jpg: 256x416 1 AmurLeopard, 12.8ms\n",
      "image 95/636 D:\\University College Dublin\\Trimester 3\\PIMM\\Project\\Final Project\\dataset_day\\images\\test\\AmurLeopard_942.jpg: 256x416 1 AmurLeopard, 12.2ms\n",
      "image 96/636 D:\\University College Dublin\\Trimester 3\\PIMM\\Project\\Final Project\\dataset_day\\images\\test\\AmurLeopard_946.jpg: 256x416 1 AmurLeopard, 12.6ms\n",
      "image 97/636 D:\\University College Dublin\\Trimester 3\\PIMM\\Project\\Final Project\\dataset_day\\images\\test\\AmurLeopard_947.jpg: 256x416 1 AmurLeopard, 12.8ms\n",
      "image 98/636 D:\\University College Dublin\\Trimester 3\\PIMM\\Project\\Final Project\\dataset_day\\images\\test\\AmurLeopard_952.jpg: 256x416 1 AmurLeopard, 13.3ms\n",
      "image 99/636 D:\\University College Dublin\\Trimester 3\\PIMM\\Project\\Final Project\\dataset_day\\images\\test\\AmurLeopard_965.jpg: 256x416 1 AmurLeopard, 19.3ms\n",
      "image 100/636 D:\\University College Dublin\\Trimester 3\\PIMM\\Project\\Final Project\\dataset_day\\images\\test\\AmurLeopard_974.jpg: 256x416 1 AmurLeopard, 12.6ms\n",
      "image 101/636 D:\\University College Dublin\\Trimester 3\\PIMM\\Project\\Final Project\\dataset_day\\images\\test\\AmurLeopard_979.jpg: 256x416 1 AmurLeopard, 12.5ms\n",
      "image 102/636 D:\\University College Dublin\\Trimester 3\\PIMM\\Project\\Final Project\\dataset_day\\images\\test\\AmurLeopard_98.jpg: 256x416 1 AmurLeopard, 12.3ms\n",
      "image 103/636 D:\\University College Dublin\\Trimester 3\\PIMM\\Project\\Final Project\\dataset_day\\images\\test\\AmurLeopard_988.jpg: 256x416 1 AmurLeopard, 13.1ms\n",
      "image 104/636 D:\\University College Dublin\\Trimester 3\\PIMM\\Project\\Final Project\\dataset_day\\images\\test\\AmurLeopard_989.jpg: 256x416 1 AmurLeopard, 13.0ms\n",
      "image 105/636 D:\\University College Dublin\\Trimester 3\\PIMM\\Project\\Final Project\\dataset_day\\images\\test\\AmurLeopard_992.jpg: 256x416 1 AmurLeopard, 12.8ms\n",
      "image 106/636 D:\\University College Dublin\\Trimester 3\\PIMM\\Project\\Final Project\\dataset_day\\images\\test\\AmurLeopard_995.jpg: 256x416 1 AmurLeopard, 12.8ms\n",
      "image 107/636 D:\\University College Dublin\\Trimester 3\\PIMM\\Project\\Final Project\\dataset_day\\images\\test\\AmurTiger215.jpg: 256x416 1 AmurTiger, 14.6ms\n",
      "image 108/636 D:\\University College Dublin\\Trimester 3\\PIMM\\Project\\Final Project\\dataset_day\\images\\test\\AmurTiger318.jpg: 256x416 1 AmurTiger, 12.4ms\n",
      "image 109/636 D:\\University College Dublin\\Trimester 3\\PIMM\\Project\\Final Project\\dataset_day\\images\\test\\AmurTiger469.jpg: 256x416 1 AmurTiger, 14.7ms\n",
      "image 110/636 D:\\University College Dublin\\Trimester 3\\PIMM\\Project\\Final Project\\dataset_day\\images\\test\\AmurTiger472.jpg: 256x416 1 AmurTiger, 12.7ms\n",
      "image 111/636 D:\\University College Dublin\\Trimester 3\\PIMM\\Project\\Final Project\\dataset_day\\images\\test\\AmurTiger_10.jpg: 256x416 1 AmurTiger, 19.7ms\n",
      "image 112/636 D:\\University College Dublin\\Trimester 3\\PIMM\\Project\\Final Project\\dataset_day\\images\\test\\AmurTiger_103.jpg: 256x416 1 AmurTiger, 13.0ms\n",
      "image 113/636 D:\\University College Dublin\\Trimester 3\\PIMM\\Project\\Final Project\\dataset_day\\images\\test\\AmurTiger_105.jpg: 256x416 1 AmurTiger, 17.9ms\n",
      "image 114/636 D:\\University College Dublin\\Trimester 3\\PIMM\\Project\\Final Project\\dataset_day\\images\\test\\AmurTiger_114.jpg: 256x416 1 AmurTiger, 12.6ms\n",
      "image 115/636 D:\\University College Dublin\\Trimester 3\\PIMM\\Project\\Final Project\\dataset_day\\images\\test\\AmurTiger_115.jpg: 256x416 1 AmurTiger, 13.0ms\n",
      "image 116/636 D:\\University College Dublin\\Trimester 3\\PIMM\\Project\\Final Project\\dataset_day\\images\\test\\AmurTiger_125.jpg: 256x416 1 AmurTiger, 12.7ms\n",
      "image 117/636 D:\\University College Dublin\\Trimester 3\\PIMM\\Project\\Final Project\\dataset_day\\images\\test\\AmurTiger_145.jpg: 256x416 2 AmurTigers, 12.8ms\n",
      "image 118/636 D:\\University College Dublin\\Trimester 3\\PIMM\\Project\\Final Project\\dataset_day\\images\\test\\AmurTiger_151.jpg: 256x416 1 AmurTiger, 12.9ms\n",
      "image 119/636 D:\\University College Dublin\\Trimester 3\\PIMM\\Project\\Final Project\\dataset_day\\images\\test\\AmurTiger_160.jpg: 256x416 1 AmurTiger, 12.9ms\n",
      "image 120/636 D:\\University College Dublin\\Trimester 3\\PIMM\\Project\\Final Project\\dataset_day\\images\\test\\AmurTiger_161.jpg: 256x416 1 AmurTiger, 12.6ms\n",
      "image 121/636 D:\\University College Dublin\\Trimester 3\\PIMM\\Project\\Final Project\\dataset_day\\images\\test\\AmurTiger_187.jpg: 256x416 1 AmurTiger, 13.0ms\n",
      "image 122/636 D:\\University College Dublin\\Trimester 3\\PIMM\\Project\\Final Project\\dataset_day\\images\\test\\AmurTiger_190.jpg: 256x416 1 AmurTiger, 12.9ms\n",
      "image 123/636 D:\\University College Dublin\\Trimester 3\\PIMM\\Project\\Final Project\\dataset_day\\images\\test\\AmurTiger_192.jpg: 256x416 1 AmurTiger, 12.8ms\n",
      "image 124/636 D:\\University College Dublin\\Trimester 3\\PIMM\\Project\\Final Project\\dataset_day\\images\\test\\AmurTiger_2.jpg: 256x416 1 AmurTiger, 12.8ms\n",
      "image 125/636 D:\\University College Dublin\\Trimester 3\\PIMM\\Project\\Final Project\\dataset_day\\images\\test\\AmurTiger_207.jpg: 256x416 1 AmurTiger, 12.8ms\n",
      "image 126/636 D:\\University College Dublin\\Trimester 3\\PIMM\\Project\\Final Project\\dataset_day\\images\\test\\AmurTiger_22.jpg: 256x416 1 AmurTiger, 13.9ms\n",
      "image 127/636 D:\\University College Dublin\\Trimester 3\\PIMM\\Project\\Final Project\\dataset_day\\images\\test\\AmurTiger_289.jpg: 256x416 1 AmurTiger, 12.4ms\n",
      "image 128/636 D:\\University College Dublin\\Trimester 3\\PIMM\\Project\\Final Project\\dataset_day\\images\\test\\AmurTiger_306.jpg: 256x416 1 AmurTiger, 13.4ms\n",
      "image 129/636 D:\\University College Dublin\\Trimester 3\\PIMM\\Project\\Final Project\\dataset_day\\images\\test\\AmurTiger_310.jpg: 256x416 1 AmurTiger, 12.9ms\n",
      "image 130/636 D:\\University College Dublin\\Trimester 3\\PIMM\\Project\\Final Project\\dataset_day\\images\\test\\AmurTiger_322.jpg: 256x416 1 AmurTiger, 15.4ms\n",
      "image 131/636 D:\\University College Dublin\\Trimester 3\\PIMM\\Project\\Final Project\\dataset_day\\images\\test\\AmurTiger_329.jpg: 256x416 1 AmurTiger, 14.9ms\n",
      "image 132/636 D:\\University College Dublin\\Trimester 3\\PIMM\\Project\\Final Project\\dataset_day\\images\\test\\AmurTiger_339.jpg: 256x416 1 AmurTiger, 13.3ms\n",
      "image 133/636 D:\\University College Dublin\\Trimester 3\\PIMM\\Project\\Final Project\\dataset_day\\images\\test\\AmurTiger_349.jpg: 256x416 1 AmurTiger, 14.2ms\n",
      "image 134/636 D:\\University College Dublin\\Trimester 3\\PIMM\\Project\\Final Project\\dataset_day\\images\\test\\AmurTiger_350.jpg: 256x416 1 AmurTiger, 14.4ms\n",
      "image 135/636 D:\\University College Dublin\\Trimester 3\\PIMM\\Project\\Final Project\\dataset_day\\images\\test\\AmurTiger_369.jpg: 256x416 1 AmurTiger, 14.9ms\n",
      "image 136/636 D:\\University College Dublin\\Trimester 3\\PIMM\\Project\\Final Project\\dataset_day\\images\\test\\AmurTiger_374.jpg: 256x416 1 AmurTiger, 14.1ms\n",
      "image 137/636 D:\\University College Dublin\\Trimester 3\\PIMM\\Project\\Final Project\\dataset_day\\images\\test\\AmurTiger_380.jpg: 256x416 1 AmurTiger, 14.0ms\n",
      "image 138/636 D:\\University College Dublin\\Trimester 3\\PIMM\\Project\\Final Project\\dataset_day\\images\\test\\AmurTiger_400.jpg: 256x416 1 AmurTiger, 14.3ms\n",
      "image 139/636 D:\\University College Dublin\\Trimester 3\\PIMM\\Project\\Final Project\\dataset_day\\images\\test\\AmurTiger_402.jpg: 256x416 1 AmurTiger, 13.9ms\n",
      "image 140/636 D:\\University College Dublin\\Trimester 3\\PIMM\\Project\\Final Project\\dataset_day\\images\\test\\AmurTiger_403.jpg: 256x416 1 AmurTiger, 14.2ms\n",
      "image 141/636 D:\\University College Dublin\\Trimester 3\\PIMM\\Project\\Final Project\\dataset_day\\images\\test\\AmurTiger_404.jpg: 256x416 1 AmurTiger, 14.0ms\n",
      "image 142/636 D:\\University College Dublin\\Trimester 3\\PIMM\\Project\\Final Project\\dataset_day\\images\\test\\AmurTiger_405.jpg: 256x416 1 AmurTiger, 16.7ms\n",
      "image 143/636 D:\\University College Dublin\\Trimester 3\\PIMM\\Project\\Final Project\\dataset_day\\images\\test\\AmurTiger_407.jpg: 256x416 1 AmurTiger, 14.4ms\n",
      "image 144/636 D:\\University College Dublin\\Trimester 3\\PIMM\\Project\\Final Project\\dataset_day\\images\\test\\AmurTiger_409.jpg: 256x416 1 AmurTiger, 19.2ms\n",
      "image 145/636 D:\\University College Dublin\\Trimester 3\\PIMM\\Project\\Final Project\\dataset_day\\images\\test\\AmurTiger_431.jpg: 256x416 1 AmurTiger, 15.5ms\n",
      "image 146/636 D:\\University College Dublin\\Trimester 3\\PIMM\\Project\\Final Project\\dataset_day\\images\\test\\AmurTiger_433.jpg: 256x416 1 AmurTiger, 14.0ms\n",
      "image 147/636 D:\\University College Dublin\\Trimester 3\\PIMM\\Project\\Final Project\\dataset_day\\images\\test\\AmurTiger_45.jpg: 256x416 1 AmurTiger, 15.1ms\n",
      "image 148/636 D:\\University College Dublin\\Trimester 3\\PIMM\\Project\\Final Project\\dataset_day\\images\\test\\AmurTiger_452.jpg: 256x416 1 AmurTiger, 14.3ms\n",
      "image 149/636 D:\\University College Dublin\\Trimester 3\\PIMM\\Project\\Final Project\\dataset_day\\images\\test\\AmurTiger_458.jpg: 256x416 1 AmurTiger, 14.3ms\n",
      "image 150/636 D:\\University College Dublin\\Trimester 3\\PIMM\\Project\\Final Project\\dataset_day\\images\\test\\AmurTiger_460.jpg: 256x416 1 AmurTiger, 14.1ms\n",
      "image 151/636 D:\\University College Dublin\\Trimester 3\\PIMM\\Project\\Final Project\\dataset_day\\images\\test\\AmurTiger_461.jpg: 256x416 1 AmurTiger, 17.9ms\n",
      "image 152/636 D:\\University College Dublin\\Trimester 3\\PIMM\\Project\\Final Project\\dataset_day\\images\\test\\AmurTiger_495.jpg: 256x416 1 AmurTiger, 17.5ms\n",
      "image 153/636 D:\\University College Dublin\\Trimester 3\\PIMM\\Project\\Final Project\\dataset_day\\images\\test\\AmurTiger_503.jpg: 256x416 1 AmurTiger, 17.2ms\n",
      "image 154/636 D:\\University College Dublin\\Trimester 3\\PIMM\\Project\\Final Project\\dataset_day\\images\\test\\AmurTiger_504.jpg: 256x416 1 AmurTiger, 17.2ms\n",
      "image 155/636 D:\\University College Dublin\\Trimester 3\\PIMM\\Project\\Final Project\\dataset_day\\images\\test\\AmurTiger_514.jpg: 256x416 1 AmurTiger, 17.3ms\n",
      "image 156/636 D:\\University College Dublin\\Trimester 3\\PIMM\\Project\\Final Project\\dataset_day\\images\\test\\AmurTiger_516.jpg: 256x416 1 AmurTiger, 17.8ms\n",
      "image 157/636 D:\\University College Dublin\\Trimester 3\\PIMM\\Project\\Final Project\\dataset_day\\images\\test\\AmurTiger_527.jpg: 256x416 1 AmurTiger, 17.7ms\n",
      "image 158/636 D:\\University College Dublin\\Trimester 3\\PIMM\\Project\\Final Project\\dataset_day\\images\\test\\AmurTiger_530.jpg: 256x416 1 AmurTiger, 17.2ms\n",
      "image 159/636 D:\\University College Dublin\\Trimester 3\\PIMM\\Project\\Final Project\\dataset_day\\images\\test\\AmurTiger_531.jpg: 256x416 1 AmurTiger, 17.1ms\n",
      "image 160/636 D:\\University College Dublin\\Trimester 3\\PIMM\\Project\\Final Project\\dataset_day\\images\\test\\AmurTiger_537.jpg: 256x416 1 AmurTiger, 17.2ms\n",
      "image 161/636 D:\\University College Dublin\\Trimester 3\\PIMM\\Project\\Final Project\\dataset_day\\images\\test\\AmurTiger_54.jpg: 256x416 1 AmurTiger, 16.9ms\n",
      "image 162/636 D:\\University College Dublin\\Trimester 3\\PIMM\\Project\\Final Project\\dataset_day\\images\\test\\AmurTiger_544.jpg: 256x416 1 AmurTiger, 16.6ms\n",
      "image 163/636 D:\\University College Dublin\\Trimester 3\\PIMM\\Project\\Final Project\\dataset_day\\images\\test\\AmurTiger_550.jpg: 256x416 1 AmurTiger, 21.0ms\n",
      "image 164/636 D:\\University College Dublin\\Trimester 3\\PIMM\\Project\\Final Project\\dataset_day\\images\\test\\AmurTiger_557.jpg: 256x416 1 AmurTiger, 16.6ms\n",
      "image 165/636 D:\\University College Dublin\\Trimester 3\\PIMM\\Project\\Final Project\\dataset_day\\images\\test\\AmurTiger_559.jpg: 256x416 1 AmurTiger, 16.5ms\n",
      "image 166/636 D:\\University College Dublin\\Trimester 3\\PIMM\\Project\\Final Project\\dataset_day\\images\\test\\AmurTiger_563.jpg: 256x416 1 AmurTiger, 16.5ms\n",
      "image 167/636 D:\\University College Dublin\\Trimester 3\\PIMM\\Project\\Final Project\\dataset_day\\images\\test\\AmurTiger_567.jpg: 256x416 1 AmurTiger, 16.6ms\n",
      "image 168/636 D:\\University College Dublin\\Trimester 3\\PIMM\\Project\\Final Project\\dataset_day\\images\\test\\AmurTiger_583.jpg: 256x416 1 AmurTiger, 16.5ms\n",
      "image 169/636 D:\\University College Dublin\\Trimester 3\\PIMM\\Project\\Final Project\\dataset_day\\images\\test\\AmurTiger_592.jpg: 256x416 1 AmurTiger, 18.3ms\n",
      "image 170/636 D:\\University College Dublin\\Trimester 3\\PIMM\\Project\\Final Project\\dataset_day\\images\\test\\AmurTiger_604.jpg: 256x416 1 AmurTiger, 16.6ms\n",
      "image 171/636 D:\\University College Dublin\\Trimester 3\\PIMM\\Project\\Final Project\\dataset_day\\images\\test\\AmurTiger_611.jpg: 256x416 1 AmurTiger, 19.4ms\n",
      "image 172/636 D:\\University College Dublin\\Trimester 3\\PIMM\\Project\\Final Project\\dataset_day\\images\\test\\AmurTiger_616.jpg: 256x416 1 AmurTiger, 16.7ms\n",
      "image 173/636 D:\\University College Dublin\\Trimester 3\\PIMM\\Project\\Final Project\\dataset_day\\images\\test\\AmurTiger_618.jpg: 256x416 1 AmurTiger, 16.5ms\n",
      "image 174/636 D:\\University College Dublin\\Trimester 3\\PIMM\\Project\\Final Project\\dataset_day\\images\\test\\AmurTiger_619.jpg: 256x416 1 AmurTiger, 16.6ms\n",
      "image 175/636 D:\\University College Dublin\\Trimester 3\\PIMM\\Project\\Final Project\\dataset_day\\images\\test\\AmurTiger_632.jpg: 256x416 1 AmurTiger, 16.8ms\n",
      "image 176/636 D:\\University College Dublin\\Trimester 3\\PIMM\\Project\\Final Project\\dataset_day\\images\\test\\AmurTiger_640.jpg: 256x416 1 AmurTiger, 16.6ms\n",
      "image 177/636 D:\\University College Dublin\\Trimester 3\\PIMM\\Project\\Final Project\\dataset_day\\images\\test\\AmurTiger_645.jpg: 256x416 1 AmurTiger, 16.7ms\n",
      "image 178/636 D:\\University College Dublin\\Trimester 3\\PIMM\\Project\\Final Project\\dataset_day\\images\\test\\AmurTiger_646.jpg: 256x416 1 AmurTiger, 16.6ms\n",
      "image 179/636 D:\\University College Dublin\\Trimester 3\\PIMM\\Project\\Final Project\\dataset_day\\images\\test\\AmurTiger_650.jpg: 256x416 1 AmurTiger, 16.5ms\n",
      "image 180/636 D:\\University College Dublin\\Trimester 3\\PIMM\\Project\\Final Project\\dataset_day\\images\\test\\AmurTiger_653.jpg: 256x416 1 AmurTiger, 16.6ms\n",
      "image 181/636 D:\\University College Dublin\\Trimester 3\\PIMM\\Project\\Final Project\\dataset_day\\images\\test\\AmurTiger_663.jpg: 256x416 1 AmurTiger, 17.7ms\n",
      "image 182/636 D:\\University College Dublin\\Trimester 3\\PIMM\\Project\\Final Project\\dataset_day\\images\\test\\AmurTiger_667.jpg: 256x416 1 AmurTiger, 16.5ms\n",
      "image 183/636 D:\\University College Dublin\\Trimester 3\\PIMM\\Project\\Final Project\\dataset_day\\images\\test\\AmurTiger_668.jpg: 256x416 1 AmurTiger, 16.5ms\n",
      "image 184/636 D:\\University College Dublin\\Trimester 3\\PIMM\\Project\\Final Project\\dataset_day\\images\\test\\AmurTiger_669.jpg: 256x416 1 AmurTiger, 16.6ms\n",
      "image 185/636 D:\\University College Dublin\\Trimester 3\\PIMM\\Project\\Final Project\\dataset_day\\images\\test\\AmurTiger_673.jpg: 256x416 1 AmurTiger, 17.0ms\n",
      "image 186/636 D:\\University College Dublin\\Trimester 3\\PIMM\\Project\\Final Project\\dataset_day\\images\\test\\AmurTiger_684.jpg: 256x416 1 AmurTiger, 16.5ms\n",
      "image 187/636 D:\\University College Dublin\\Trimester 3\\PIMM\\Project\\Final Project\\dataset_day\\images\\test\\AmurTiger_694.jpg: 256x416 1 AmurTiger, 16.5ms\n",
      "image 188/636 D:\\University College Dublin\\Trimester 3\\PIMM\\Project\\Final Project\\dataset_day\\images\\test\\AmurTiger_699.jpg: 256x416 1 AmurTiger, 19.1ms\n",
      "image 189/636 D:\\University College Dublin\\Trimester 3\\PIMM\\Project\\Final Project\\dataset_day\\images\\test\\AmurTiger_708.jpg: 256x416 1 AmurTiger, 16.5ms\n",
      "image 190/636 D:\\University College Dublin\\Trimester 3\\PIMM\\Project\\Final Project\\dataset_day\\images\\test\\AmurTiger_713.jpg: 256x416 1 AmurTiger, 16.6ms\n",
      "image 191/636 D:\\University College Dublin\\Trimester 3\\PIMM\\Project\\Final Project\\dataset_day\\images\\test\\AmurTiger_714.jpg: 256x416 1 AmurTiger, 16.5ms\n",
      "image 192/636 D:\\University College Dublin\\Trimester 3\\PIMM\\Project\\Final Project\\dataset_day\\images\\test\\AmurTiger_730.jpg: 256x416 1 AmurTiger, 16.6ms\n",
      "image 193/636 D:\\University College Dublin\\Trimester 3\\PIMM\\Project\\Final Project\\dataset_day\\images\\test\\AmurTiger_731.jpg: 256x416 1 AmurTiger, 16.4ms\n",
      "image 194/636 D:\\University College Dublin\\Trimester 3\\PIMM\\Project\\Final Project\\dataset_day\\images\\test\\AmurTiger_739.jpg: 256x416 1 AmurTiger, 15.5ms\n",
      "image 195/636 D:\\University College Dublin\\Trimester 3\\PIMM\\Project\\Final Project\\dataset_day\\images\\test\\AmurTiger_741.jpg: 256x416 1 AmurTiger, 15.2ms\n",
      "image 196/636 D:\\University College Dublin\\Trimester 3\\PIMM\\Project\\Final Project\\dataset_day\\images\\test\\AmurTiger_745.jpg: 256x416 1 AmurTiger, 15.2ms\n",
      "image 197/636 D:\\University College Dublin\\Trimester 3\\PIMM\\Project\\Final Project\\dataset_day\\images\\test\\AmurTiger_751.jpg: 256x416 1 AmurTiger, 15.1ms\n",
      "image 198/636 D:\\University College Dublin\\Trimester 3\\PIMM\\Project\\Final Project\\dataset_day\\images\\test\\AmurTiger_754.jpg: 256x416 1 AmurTiger, 15.0ms\n",
      "image 199/636 D:\\University College Dublin\\Trimester 3\\PIMM\\Project\\Final Project\\dataset_day\\images\\test\\AmurTiger_768.jpg: 256x416 1 AmurTiger, 15.3ms\n",
      "image 200/636 D:\\University College Dublin\\Trimester 3\\PIMM\\Project\\Final Project\\dataset_day\\images\\test\\AmurTiger_775.jpg: 256x416 1 AmurTiger, 15.0ms\n",
      "image 201/636 D:\\University College Dublin\\Trimester 3\\PIMM\\Project\\Final Project\\dataset_day\\images\\test\\AmurTiger_780.jpg: 256x416 1 AmurTiger, 15.1ms\n",
      "image 202/636 D:\\University College Dublin\\Trimester 3\\PIMM\\Project\\Final Project\\dataset_day\\images\\test\\AmurTiger_781.jpg: 256x416 1 AmurTiger, 15.1ms\n",
      "image 203/636 D:\\University College Dublin\\Trimester 3\\PIMM\\Project\\Final Project\\dataset_day\\images\\test\\AmurTiger_79.jpg: 256x416 1 AmurTiger, 15.0ms\n",
      "image 204/636 D:\\University College Dublin\\Trimester 3\\PIMM\\Project\\Final Project\\dataset_day\\images\\test\\AmurTiger_795.jpg: 256x416 1 AmurTiger, 15.1ms\n",
      "image 205/636 D:\\University College Dublin\\Trimester 3\\PIMM\\Project\\Final Project\\dataset_day\\images\\test\\AmurTiger_80.jpg: 256x416 1 AmurTiger, 15.0ms\n",
      "image 206/636 D:\\University College Dublin\\Trimester 3\\PIMM\\Project\\Final Project\\dataset_day\\images\\test\\AmurTiger_815.jpg: 256x416 1 AmurTiger, 19.1ms\n",
      "image 207/636 D:\\University College Dublin\\Trimester 3\\PIMM\\Project\\Final Project\\dataset_day\\images\\test\\AmurTiger_821.jpg: 256x416 1 AmurTiger, 17.5ms\n",
      "image 208/636 D:\\University College Dublin\\Trimester 3\\PIMM\\Project\\Final Project\\dataset_day\\images\\test\\AmurTiger_823.jpg: 256x416 1 AmurTiger, 15.9ms\n",
      "image 209/636 D:\\University College Dublin\\Trimester 3\\PIMM\\Project\\Final Project\\dataset_day\\images\\test\\AmurTiger_833.jpg: 256x416 1 AmurTiger, 21.0ms\n",
      "image 210/636 D:\\University College Dublin\\Trimester 3\\PIMM\\Project\\Final Project\\dataset_day\\images\\test\\AmurTiger_836.jpg: 256x416 1 AmurTiger, 14.5ms\n",
      "image 211/636 D:\\University College Dublin\\Trimester 3\\PIMM\\Project\\Final Project\\dataset_day\\images\\test\\AmurTiger_840.jpg: 256x416 1 AmurTiger, 16.4ms\n",
      "image 212/636 D:\\University College Dublin\\Trimester 3\\PIMM\\Project\\Final Project\\dataset_day\\images\\test\\AmurTiger_89.jpg: 256x416 1 AmurTiger, 14.5ms\n",
      "image 213/636 D:\\University College Dublin\\Trimester 3\\PIMM\\Project\\Final Project\\dataset_day\\images\\test\\LeopardCat__1034.jpg: 320x416 1 LeopardCat, 37.9ms\n",
      "image 214/636 D:\\University College Dublin\\Trimester 3\\PIMM\\Project\\Final Project\\dataset_day\\images\\test\\LeopardCat__1047.jpg: 320x416 1 LeopardCat, 19.3ms\n",
      "image 215/636 D:\\University College Dublin\\Trimester 3\\PIMM\\Project\\Final Project\\dataset_day\\images\\test\\LeopardCat__1066.jpg: 320x416 1 LeopardCat, 19.1ms\n",
      "image 216/636 D:\\University College Dublin\\Trimester 3\\PIMM\\Project\\Final Project\\dataset_day\\images\\test\\LeopardCat__1076.jpg: 320x416 1 LeopardCat, 18.7ms\n",
      "image 217/636 D:\\University College Dublin\\Trimester 3\\PIMM\\Project\\Final Project\\dataset_day\\images\\test\\LeopardCat__108.jpg: 256x416 1 LeopardCat, 17.0ms\n",
      "image 218/636 D:\\University College Dublin\\Trimester 3\\PIMM\\Project\\Final Project\\dataset_day\\images\\test\\LeopardCat__1086.jpg: 320x416 1 LeopardCat, 20.2ms\n",
      "image 219/636 D:\\University College Dublin\\Trimester 3\\PIMM\\Project\\Final Project\\dataset_day\\images\\test\\LeopardCat__1088.jpg: 320x416 1 LeopardCat, 18.7ms\n",
      "image 220/636 D:\\University College Dublin\\Trimester 3\\PIMM\\Project\\Final Project\\dataset_day\\images\\test\\LeopardCat__1089.jpg: 320x416 1 LeopardCat, 18.7ms\n",
      "image 221/636 D:\\University College Dublin\\Trimester 3\\PIMM\\Project\\Final Project\\dataset_day\\images\\test\\LeopardCat__1098.jpg: 320x416 1 LeopardCat, 18.0ms\n",
      "image 222/636 D:\\University College Dublin\\Trimester 3\\PIMM\\Project\\Final Project\\dataset_day\\images\\test\\LeopardCat__1104.jpg: 320x416 1 LeopardCat, 17.9ms\n",
      "image 223/636 D:\\University College Dublin\\Trimester 3\\PIMM\\Project\\Final Project\\dataset_day\\images\\test\\LeopardCat__1121.jpg: 256x416 1 LeopardCat, 17.3ms\n",
      "image 224/636 D:\\University College Dublin\\Trimester 3\\PIMM\\Project\\Final Project\\dataset_day\\images\\test\\LeopardCat__1132.jpg: 256x416 1 LeopardCat, 14.6ms\n",
      "image 225/636 D:\\University College Dublin\\Trimester 3\\PIMM\\Project\\Final Project\\dataset_day\\images\\test\\LeopardCat__1134.jpg: 256x416 1 LeopardCat, 13.7ms\n",
      "image 226/636 D:\\University College Dublin\\Trimester 3\\PIMM\\Project\\Final Project\\dataset_day\\images\\test\\LeopardCat__1136.jpg: 256x416 1 LeopardCat, 13.7ms\n",
      "image 227/636 D:\\University College Dublin\\Trimester 3\\PIMM\\Project\\Final Project\\dataset_day\\images\\test\\LeopardCat__1137.jpg: 256x416 1 LeopardCat, 14.0ms\n",
      "image 228/636 D:\\University College Dublin\\Trimester 3\\PIMM\\Project\\Final Project\\dataset_day\\images\\test\\LeopardCat__1140.jpg: 256x416 1 LeopardCat, 20.8ms\n",
      "image 229/636 D:\\University College Dublin\\Trimester 3\\PIMM\\Project\\Final Project\\dataset_day\\images\\test\\LeopardCat__1148.jpg: 256x416 1 LeopardCat, 14.1ms\n",
      "image 230/636 D:\\University College Dublin\\Trimester 3\\PIMM\\Project\\Final Project\\dataset_day\\images\\test\\LeopardCat__1151.jpg: 256x416 1 LeopardCat, 18.2ms\n",
      "image 231/636 D:\\University College Dublin\\Trimester 3\\PIMM\\Project\\Final Project\\dataset_day\\images\\test\\LeopardCat__1152.jpg: 256x416 1 LeopardCat, 13.9ms\n",
      "image 232/636 D:\\University College Dublin\\Trimester 3\\PIMM\\Project\\Final Project\\dataset_day\\images\\test\\LeopardCat__1157.jpg: 256x416 1 LeopardCat, 13.8ms\n",
      "image 233/636 D:\\University College Dublin\\Trimester 3\\PIMM\\Project\\Final Project\\dataset_day\\images\\test\\LeopardCat__1158.jpg: 256x416 1 LeopardCat, 17.8ms\n",
      "image 234/636 D:\\University College Dublin\\Trimester 3\\PIMM\\Project\\Final Project\\dataset_day\\images\\test\\LeopardCat__1166.jpg: 256x416 1 LeopardCat, 13.8ms\n",
      "image 235/636 D:\\University College Dublin\\Trimester 3\\PIMM\\Project\\Final Project\\dataset_day\\images\\test\\LeopardCat__1170.jpg: 256x416 1 LeopardCat, 14.0ms\n",
      "image 236/636 D:\\University College Dublin\\Trimester 3\\PIMM\\Project\\Final Project\\dataset_day\\images\\test\\LeopardCat__1174.jpg: 256x416 1 LeopardCat, 13.9ms\n",
      "image 237/636 D:\\University College Dublin\\Trimester 3\\PIMM\\Project\\Final Project\\dataset_day\\images\\test\\LeopardCat__1203.jpg: 256x416 1 LeopardCat, 13.7ms\n",
      "image 238/636 D:\\University College Dublin\\Trimester 3\\PIMM\\Project\\Final Project\\dataset_day\\images\\test\\LeopardCat__1211.jpg: 256x416 1 LeopardCat, 23.4ms\n",
      "image 239/636 D:\\University College Dublin\\Trimester 3\\PIMM\\Project\\Final Project\\dataset_day\\images\\test\\LeopardCat__1213.jpg: 256x416 1 LeopardCat, 13.7ms\n",
      "image 240/636 D:\\University College Dublin\\Trimester 3\\PIMM\\Project\\Final Project\\dataset_day\\images\\test\\LeopardCat__261.jpg: 256x416 1 LeopardCat, 13.8ms\n",
      "image 241/636 D:\\University College Dublin\\Trimester 3\\PIMM\\Project\\Final Project\\dataset_day\\images\\test\\LeopardCat__264.jpg: 256x416 1 LeopardCat, 17.5ms\n",
      "image 242/636 D:\\University College Dublin\\Trimester 3\\PIMM\\Project\\Final Project\\dataset_day\\images\\test\\LeopardCat__271.jpg: 256x416 1 LeopardCat, 13.8ms\n",
      "image 243/636 D:\\University College Dublin\\Trimester 3\\PIMM\\Project\\Final Project\\dataset_day\\images\\test\\LeopardCat__275.jpg: 256x416 1 LeopardCat, 17.0ms\n",
      "image 244/636 D:\\University College Dublin\\Trimester 3\\PIMM\\Project\\Final Project\\dataset_day\\images\\test\\LeopardCat__277.jpg: 256x416 1 LeopardCat, 17.0ms\n",
      "image 245/636 D:\\University College Dublin\\Trimester 3\\PIMM\\Project\\Final Project\\dataset_day\\images\\test\\LeopardCat__281.jpg: 256x416 1 LeopardCat, 19.2ms\n",
      "image 246/636 D:\\University College Dublin\\Trimester 3\\PIMM\\Project\\Final Project\\dataset_day\\images\\test\\LeopardCat__322.jpg: 256x416 1 LeopardCat, 20.4ms\n",
      "image 247/636 D:\\University College Dublin\\Trimester 3\\PIMM\\Project\\Final Project\\dataset_day\\images\\test\\LeopardCat__362.jpg: 256x416 1 LeopardCat, 17.6ms\n",
      "image 248/636 D:\\University College Dublin\\Trimester 3\\PIMM\\Project\\Final Project\\dataset_day\\images\\test\\LeopardCat__366.jpg: 256x416 1 LeopardCat, 19.6ms\n",
      "image 249/636 D:\\University College Dublin\\Trimester 3\\PIMM\\Project\\Final Project\\dataset_day\\images\\test\\LeopardCat__379.jpg: 256x416 1 LeopardCat, 18.7ms\n",
      "image 250/636 D:\\University College Dublin\\Trimester 3\\PIMM\\Project\\Final Project\\dataset_day\\images\\test\\LeopardCat__39.jpg: 256x416 1 LeopardCat, 17.3ms\n",
      "image 251/636 D:\\University College Dublin\\Trimester 3\\PIMM\\Project\\Final Project\\dataset_day\\images\\test\\LeopardCat__400.jpg: 256x416 1 LeopardCat, 16.9ms\n",
      "image 252/636 D:\\University College Dublin\\Trimester 3\\PIMM\\Project\\Final Project\\dataset_day\\images\\test\\LeopardCat__416.jpg: 256x416 1 LeopardCat, 18.5ms\n",
      "image 253/636 D:\\University College Dublin\\Trimester 3\\PIMM\\Project\\Final Project\\dataset_day\\images\\test\\LeopardCat__42.jpg: 256x416 1 LeopardCat, 17.9ms\n",
      "image 254/636 D:\\University College Dublin\\Trimester 3\\PIMM\\Project\\Final Project\\dataset_day\\images\\test\\LeopardCat__428.jpg: 256x416 1 LeopardCat, 18.1ms\n",
      "image 255/636 D:\\University College Dublin\\Trimester 3\\PIMM\\Project\\Final Project\\dataset_day\\images\\test\\LeopardCat__430.jpg: 256x416 1 LeopardCat, 17.3ms\n",
      "image 256/636 D:\\University College Dublin\\Trimester 3\\PIMM\\Project\\Final Project\\dataset_day\\images\\test\\LeopardCat__439.jpg: 256x416 1 LeopardCat, 18.5ms\n",
      "image 257/636 D:\\University College Dublin\\Trimester 3\\PIMM\\Project\\Final Project\\dataset_day\\images\\test\\LeopardCat__469.jpg: 256x416 1 LeopardCat, 18.4ms\n",
      "image 258/636 D:\\University College Dublin\\Trimester 3\\PIMM\\Project\\Final Project\\dataset_day\\images\\test\\LeopardCat__488.jpg: 256x416 1 LeopardCat, 17.8ms\n",
      "image 259/636 D:\\University College Dublin\\Trimester 3\\PIMM\\Project\\Final Project\\dataset_day\\images\\test\\LeopardCat__49.jpg: 256x416 1 LeopardCat, 18.2ms\n",
      "image 260/636 D:\\University College Dublin\\Trimester 3\\PIMM\\Project\\Final Project\\dataset_day\\images\\test\\LeopardCat__495.jpg: 256x416 1 LeopardCat, 19.1ms\n",
      "image 261/636 D:\\University College Dublin\\Trimester 3\\PIMM\\Project\\Final Project\\dataset_day\\images\\test\\LeopardCat__503.jpg: 256x416 1 LeopardCat, 17.8ms\n",
      "image 262/636 D:\\University College Dublin\\Trimester 3\\PIMM\\Project\\Final Project\\dataset_day\\images\\test\\LeopardCat__511.jpg: 256x416 1 LeopardCat, 17.8ms\n",
      "image 263/636 D:\\University College Dublin\\Trimester 3\\PIMM\\Project\\Final Project\\dataset_day\\images\\test\\LeopardCat__533.jpg: 256x416 2 LeopardCats, 18.1ms\n",
      "image 264/636 D:\\University College Dublin\\Trimester 3\\PIMM\\Project\\Final Project\\dataset_day\\images\\test\\LeopardCat__535.jpg: 256x416 1 LeopardCat, 19.9ms\n",
      "image 265/636 D:\\University College Dublin\\Trimester 3\\PIMM\\Project\\Final Project\\dataset_day\\images\\test\\LeopardCat__542.jpg: 256x416 1 LeopardCat, 16.9ms\n",
      "image 266/636 D:\\University College Dublin\\Trimester 3\\PIMM\\Project\\Final Project\\dataset_day\\images\\test\\LeopardCat__563.jpg: 256x416 1 LeopardCat, 17.0ms\n",
      "image 267/636 D:\\University College Dublin\\Trimester 3\\PIMM\\Project\\Final Project\\dataset_day\\images\\test\\LeopardCat__566.jpg: 256x416 1 LeopardCat, 16.5ms\n",
      "image 268/636 D:\\University College Dublin\\Trimester 3\\PIMM\\Project\\Final Project\\dataset_day\\images\\test\\LeopardCat__581.jpg: 256x416 1 LeopardCat, 16.5ms\n",
      "image 269/636 D:\\University College Dublin\\Trimester 3\\PIMM\\Project\\Final Project\\dataset_day\\images\\test\\LeopardCat__584.jpg: 256x416 1 LeopardCat, 17.0ms\n",
      "image 270/636 D:\\University College Dublin\\Trimester 3\\PIMM\\Project\\Final Project\\dataset_day\\images\\test\\LeopardCat__589.jpg: 256x416 1 LeopardCat, 16.5ms\n",
      "image 271/636 D:\\University College Dublin\\Trimester 3\\PIMM\\Project\\Final Project\\dataset_day\\images\\test\\LeopardCat__60.jpg: 256x416 1 LeopardCat, 16.5ms\n",
      "image 272/636 D:\\University College Dublin\\Trimester 3\\PIMM\\Project\\Final Project\\dataset_day\\images\\test\\LeopardCat__604.jpg: 320x416 1 LeopardCat, 22.4ms\n",
      "image 273/636 D:\\University College Dublin\\Trimester 3\\PIMM\\Project\\Final Project\\dataset_day\\images\\test\\LeopardCat__605.jpg: 320x416 1 LeopardCat, 21.6ms\n",
      "image 274/636 D:\\University College Dublin\\Trimester 3\\PIMM\\Project\\Final Project\\dataset_day\\images\\test\\LeopardCat__61.jpg: 256x416 1 LeopardCat, 21.1ms\n",
      "image 275/636 D:\\University College Dublin\\Trimester 3\\PIMM\\Project\\Final Project\\dataset_day\\images\\test\\LeopardCat__618.jpg: 320x416 1 LeopardCat, 20.8ms\n",
      "image 276/636 D:\\University College Dublin\\Trimester 3\\PIMM\\Project\\Final Project\\dataset_day\\images\\test\\LeopardCat__62.jpg: 256x416 1 LeopardCat, 17.0ms\n",
      "image 277/636 D:\\University College Dublin\\Trimester 3\\PIMM\\Project\\Final Project\\dataset_day\\images\\test\\LeopardCat__634.jpg: 320x416 1 LeopardCat, 1 Weasel, 20.6ms\n",
      "image 278/636 D:\\University College Dublin\\Trimester 3\\PIMM\\Project\\Final Project\\dataset_day\\images\\test\\LeopardCat__639.jpg: 256x416 1 LeopardCat, 15.9ms\n",
      "image 279/636 D:\\University College Dublin\\Trimester 3\\PIMM\\Project\\Final Project\\dataset_day\\images\\test\\LeopardCat__647.jpg: 256x416 1 LeopardCat, 19.6ms\n",
      "image 280/636 D:\\University College Dublin\\Trimester 3\\PIMM\\Project\\Final Project\\dataset_day\\images\\test\\LeopardCat__649.jpg: 256x416 1 LeopardCat, 18.8ms\n",
      "image 281/636 D:\\University College Dublin\\Trimester 3\\PIMM\\Project\\Final Project\\dataset_day\\images\\test\\LeopardCat__653.jpg: 256x416 1 LeopardCat, 15.0ms\n",
      "image 282/636 D:\\University College Dublin\\Trimester 3\\PIMM\\Project\\Final Project\\dataset_day\\images\\test\\LeopardCat__690.jpg: 320x416 1 LeopardCat, 20.4ms\n",
      "image 283/636 D:\\University College Dublin\\Trimester 3\\PIMM\\Project\\Final Project\\dataset_day\\images\\test\\LeopardCat__692.jpg: 320x416 1 LeopardCat, 19.5ms\n",
      "image 284/636 D:\\University College Dublin\\Trimester 3\\PIMM\\Project\\Final Project\\dataset_day\\images\\test\\LeopardCat__695.jpg: 320x416 1 LeopardCat, 19.4ms\n",
      "image 285/636 D:\\University College Dublin\\Trimester 3\\PIMM\\Project\\Final Project\\dataset_day\\images\\test\\LeopardCat__698.jpg: 320x416 1 LeopardCat, 19.6ms\n",
      "image 286/636 D:\\University College Dublin\\Trimester 3\\PIMM\\Project\\Final Project\\dataset_day\\images\\test\\LeopardCat__718.jpg: 320x416 1 LeopardCat, 19.9ms\n",
      "image 287/636 D:\\University College Dublin\\Trimester 3\\PIMM\\Project\\Final Project\\dataset_day\\images\\test\\LeopardCat__733.jpg: 320x416 1 LeopardCat, 17.9ms\n",
      "image 288/636 D:\\University College Dublin\\Trimester 3\\PIMM\\Project\\Final Project\\dataset_day\\images\\test\\LeopardCat__735.jpg: 320x416 1 LeopardCat, 17.6ms\n",
      "image 289/636 D:\\University College Dublin\\Trimester 3\\PIMM\\Project\\Final Project\\dataset_day\\images\\test\\LeopardCat__737.jpg: 320x416 1 LeopardCat, 19.0ms\n",
      "image 290/636 D:\\University College Dublin\\Trimester 3\\PIMM\\Project\\Final Project\\dataset_day\\images\\test\\LeopardCat__746.jpg: 320x416 1 LeopardCat, 17.6ms\n",
      "image 291/636 D:\\University College Dublin\\Trimester 3\\PIMM\\Project\\Final Project\\dataset_day\\images\\test\\LeopardCat__753.jpg: 320x416 1 LeopardCat, 17.7ms\n",
      "image 292/636 D:\\University College Dublin\\Trimester 3\\PIMM\\Project\\Final Project\\dataset_day\\images\\test\\LeopardCat__758.jpg: 320x416 1 LeopardCat, 17.6ms\n",
      "image 293/636 D:\\University College Dublin\\Trimester 3\\PIMM\\Project\\Final Project\\dataset_day\\images\\test\\LeopardCat__762.jpg: 256x416 1 LeopardCat, 14.9ms\n",
      "image 294/636 D:\\University College Dublin\\Trimester 3\\PIMM\\Project\\Final Project\\dataset_day\\images\\test\\LeopardCat__796.jpg: 256x416 1 LeopardCat, 16.0ms\n",
      "image 295/636 D:\\University College Dublin\\Trimester 3\\PIMM\\Project\\Final Project\\dataset_day\\images\\test\\LeopardCat__799.jpg: 256x416 1 LeopardCat, 14.5ms\n",
      "image 296/636 D:\\University College Dublin\\Trimester 3\\PIMM\\Project\\Final Project\\dataset_day\\images\\test\\LeopardCat__803.jpg: 256x416 1 LeopardCat, 13.6ms\n",
      "image 297/636 D:\\University College Dublin\\Trimester 3\\PIMM\\Project\\Final Project\\dataset_day\\images\\test\\LeopardCat__83.jpg: 256x416 1 LeopardCat, 14.2ms\n",
      "image 298/636 D:\\University College Dublin\\Trimester 3\\PIMM\\Project\\Final Project\\dataset_day\\images\\test\\LeopardCat__844.jpg: 256x416 1 LeopardCat, 13.6ms\n",
      "image 299/636 D:\\University College Dublin\\Trimester 3\\PIMM\\Project\\Final Project\\dataset_day\\images\\test\\LeopardCat__85.jpg: 256x416 1 LeopardCat, 13.7ms\n",
      "image 300/636 D:\\University College Dublin\\Trimester 3\\PIMM\\Project\\Final Project\\dataset_day\\images\\test\\LeopardCat__861.jpg: 256x416 1 LeopardCat, 13.6ms\n",
      "image 301/636 D:\\University College Dublin\\Trimester 3\\PIMM\\Project\\Final Project\\dataset_day\\images\\test\\LeopardCat__862.jpg: 256x416 1 LeopardCat, 14.3ms\n",
      "image 302/636 D:\\University College Dublin\\Trimester 3\\PIMM\\Project\\Final Project\\dataset_day\\images\\test\\LeopardCat__869.jpg: 256x416 1 LeopardCat, 13.5ms\n",
      "image 303/636 D:\\University College Dublin\\Trimester 3\\PIMM\\Project\\Final Project\\dataset_day\\images\\test\\LeopardCat__872.jpg: 256x416 1 LeopardCat, 13.8ms\n",
      "image 304/636 D:\\University College Dublin\\Trimester 3\\PIMM\\Project\\Final Project\\dataset_day\\images\\test\\LeopardCat__88.jpg: 256x416 1 LeopardCat, 13.6ms\n",
      "image 305/636 D:\\University College Dublin\\Trimester 3\\PIMM\\Project\\Final Project\\dataset_day\\images\\test\\LeopardCat__880.jpg: 256x416 1 LeopardCat, 13.7ms\n",
      "image 306/636 D:\\University College Dublin\\Trimester 3\\PIMM\\Project\\Final Project\\dataset_day\\images\\test\\LeopardCat__882.jpg: 256x416 1 LeopardCat, 13.6ms\n",
      "image 307/636 D:\\University College Dublin\\Trimester 3\\PIMM\\Project\\Final Project\\dataset_day\\images\\test\\LeopardCat__883.jpg: 256x416 1 LeopardCat, 13.9ms\n",
      "image 308/636 D:\\University College Dublin\\Trimester 3\\PIMM\\Project\\Final Project\\dataset_day\\images\\test\\LeopardCat__892.jpg: 320x416 1 LeopardCat, 18.5ms\n",
      "image 309/636 D:\\University College Dublin\\Trimester 3\\PIMM\\Project\\Final Project\\dataset_day\\images\\test\\LeopardCat__902.jpg: 256x416 1 LeopardCat, 19.3ms\n",
      "image 310/636 D:\\University College Dublin\\Trimester 3\\PIMM\\Project\\Final Project\\dataset_day\\images\\test\\LeopardCat__903.jpg: 256x416 1 LeopardCat, 13.6ms\n",
      "image 311/636 D:\\University College Dublin\\Trimester 3\\PIMM\\Project\\Final Project\\dataset_day\\images\\test\\LeopardCat__921.jpg: 256x416 1 LeopardCat, 18.2ms\n",
      "image 312/636 D:\\University College Dublin\\Trimester 3\\PIMM\\Project\\Final Project\\dataset_day\\images\\test\\LeopardCat__923.jpg: 256x416 1 LeopardCat, 16.3ms\n",
      "image 313/636 D:\\University College Dublin\\Trimester 3\\PIMM\\Project\\Final Project\\dataset_day\\images\\test\\LeopardCat__925.jpg: 320x416 1 LeopardCat, 20.7ms\n",
      "image 314/636 D:\\University College Dublin\\Trimester 3\\PIMM\\Project\\Final Project\\dataset_day\\images\\test\\LeopardCat__928.jpg: 320x416 1 LeopardCat, 17.6ms\n",
      "image 315/636 D:\\University College Dublin\\Trimester 3\\PIMM\\Project\\Final Project\\dataset_day\\images\\test\\LeopardCat__932.jpg: 320x416 1 LeopardCat, 18.0ms\n",
      "image 316/636 D:\\University College Dublin\\Trimester 3\\PIMM\\Project\\Final Project\\dataset_day\\images\\test\\LeopardCat__960.jpg: 320x416 1 LeopardCat, 17.5ms\n",
      "image 317/636 D:\\University College Dublin\\Trimester 3\\PIMM\\Project\\Final Project\\dataset_day\\images\\test\\LeopardCat__961.jpg: 320x416 1 LeopardCat, 22.5ms\n",
      "image 318/636 D:\\University College Dublin\\Trimester 3\\PIMM\\Project\\Final Project\\dataset_day\\images\\test\\LeopardCat__990.jpg: 256x416 1 LeopardCat, 19.8ms\n",
      "image 319/636 D:\\University College Dublin\\Trimester 3\\PIMM\\Project\\Final Project\\dataset_day\\images\\test\\RedFox(147).jpg: 256x416 2 RedFoxs, 19.2ms\n",
      "image 320/636 D:\\University College Dublin\\Trimester 3\\PIMM\\Project\\Final Project\\dataset_day\\images\\test\\RedFox(150).jpg: 256x416 2 RedFoxs, 18.8ms\n",
      "image 321/636 D:\\University College Dublin\\Trimester 3\\PIMM\\Project\\Final Project\\dataset_day\\images\\test\\RedFox(152).jpg: 256x416 1 RedFox, 19.6ms\n",
      "image 322/636 D:\\University College Dublin\\Trimester 3\\PIMM\\Project\\Final Project\\dataset_day\\images\\test\\RedFox(184).jpg: 256x416 1 RedFox, 19.6ms\n",
      "image 323/636 D:\\University College Dublin\\Trimester 3\\PIMM\\Project\\Final Project\\dataset_day\\images\\test\\RedFox(188).jpg: 256x416 1 RedFox, 19.5ms\n",
      "image 324/636 D:\\University College Dublin\\Trimester 3\\PIMM\\Project\\Final Project\\dataset_day\\images\\test\\RedFox(206).jpg: 256x416 1 RedFox, 19.5ms\n",
      "image 325/636 D:\\University College Dublin\\Trimester 3\\PIMM\\Project\\Final Project\\dataset_day\\images\\test\\RedFox(230).jpg: 256x416 1 RedFox, 17.3ms\n",
      "image 326/636 D:\\University College Dublin\\Trimester 3\\PIMM\\Project\\Final Project\\dataset_day\\images\\test\\RedFox(259).jpg: 256x416 1 RedFox, 17.3ms\n",
      "image 327/636 D:\\University College Dublin\\Trimester 3\\PIMM\\Project\\Final Project\\dataset_day\\images\\test\\RedFox(260).jpg: 256x416 1 RedFox, 16.7ms\n",
      "image 328/636 D:\\University College Dublin\\Trimester 3\\PIMM\\Project\\Final Project\\dataset_day\\images\\test\\RedFox(268).jpg: 256x416 1 RedFox, 18.2ms\n",
      "image 329/636 D:\\University College Dublin\\Trimester 3\\PIMM\\Project\\Final Project\\dataset_day\\images\\test\\RedFox(269).jpg: 256x416 1 RedFox, 16.8ms\n",
      "image 330/636 D:\\University College Dublin\\Trimester 3\\PIMM\\Project\\Final Project\\dataset_day\\images\\test\\RedFox(274).jpg: 256x416 1 RedFox, 17.7ms\n",
      "image 331/636 D:\\University College Dublin\\Trimester 3\\PIMM\\Project\\Final Project\\dataset_day\\images\\test\\RedFox(277).jpg: 256x416 1 RedFox, 19.0ms\n",
      "image 332/636 D:\\University College Dublin\\Trimester 3\\PIMM\\Project\\Final Project\\dataset_day\\images\\test\\RedFox(281).jpg: 256x416 1 RedFox, 16.8ms\n",
      "image 333/636 D:\\University College Dublin\\Trimester 3\\PIMM\\Project\\Final Project\\dataset_day\\images\\test\\RedFox(31).jpg: 256x416 1 RedFox, 16.7ms\n",
      "image 334/636 D:\\University College Dublin\\Trimester 3\\PIMM\\Project\\Final Project\\dataset_day\\images\\test\\RedFox(386).jpg: 256x416 1 RedFox, 16.8ms\n",
      "image 335/636 D:\\University College Dublin\\Trimester 3\\PIMM\\Project\\Final Project\\dataset_day\\images\\test\\RedFox(397).jpg: 256x416 1 RedFox, 16.7ms\n",
      "image 336/636 D:\\University College Dublin\\Trimester 3\\PIMM\\Project\\Final Project\\dataset_day\\images\\test\\RedFox(398).jpg: 256x416 1 RedFox, 16.7ms\n",
      "image 337/636 D:\\University College Dublin\\Trimester 3\\PIMM\\Project\\Final Project\\dataset_day\\images\\test\\RedFox(407).jpg: 256x416 1 RedFox, 16.8ms\n",
      "image 338/636 D:\\University College Dublin\\Trimester 3\\PIMM\\Project\\Final Project\\dataset_day\\images\\test\\RedFox(41).jpg: 256x416 1 RedFox, 16.8ms\n",
      "image 339/636 D:\\University College Dublin\\Trimester 3\\PIMM\\Project\\Final Project\\dataset_day\\images\\test\\RedFox(58).jpg: 256x416 1 RedFox, 16.7ms\n",
      "image 340/636 D:\\University College Dublin\\Trimester 3\\PIMM\\Project\\Final Project\\dataset_day\\images\\test\\RedFox103.jpg: 256x416 1 RedFox, 16.8ms\n",
      "image 341/636 D:\\University College Dublin\\Trimester 3\\PIMM\\Project\\Final Project\\dataset_day\\images\\test\\RedFox104.jpg: 256x416 1 RedFox, 15.4ms\n",
      "image 342/636 D:\\University College Dublin\\Trimester 3\\PIMM\\Project\\Final Project\\dataset_day\\images\\test\\RedFox108.jpg: 256x416 1 RedFox, 15.6ms\n",
      "image 343/636 D:\\University College Dublin\\Trimester 3\\PIMM\\Project\\Final Project\\dataset_day\\images\\test\\RedFox116.jpg: 256x416 1 RedFox, 15.0ms\n",
      "image 344/636 D:\\University College Dublin\\Trimester 3\\PIMM\\Project\\Final Project\\dataset_day\\images\\test\\RedFox121.jpg: 256x416 1 RedFox, 14.8ms\n",
      "image 345/636 D:\\University College Dublin\\Trimester 3\\PIMM\\Project\\Final Project\\dataset_day\\images\\test\\RedFox128.jpg: 256x416 1 RedFox, 15.3ms\n",
      "image 346/636 D:\\University College Dublin\\Trimester 3\\PIMM\\Project\\Final Project\\dataset_day\\images\\test\\RedFox130.jpg: 256x416 1 RedFox, 15.4ms\n",
      "image 347/636 D:\\University College Dublin\\Trimester 3\\PIMM\\Project\\Final Project\\dataset_day\\images\\test\\RedFox133.jpg: 256x416 1 RedFox, 19.8ms\n",
      "image 348/636 D:\\University College Dublin\\Trimester 3\\PIMM\\Project\\Final Project\\dataset_day\\images\\test\\RedFox150.jpg: 256x416 1 RedFox, 14.9ms\n",
      "image 349/636 D:\\University College Dublin\\Trimester 3\\PIMM\\Project\\Final Project\\dataset_day\\images\\test\\RedFox17.jpg: 256x416 1 RedFox, 14.9ms\n",
      "image 350/636 D:\\University College Dublin\\Trimester 3\\PIMM\\Project\\Final Project\\dataset_day\\images\\test\\RedFox176.jpg: 256x416 1 RedFox, 14.9ms\n",
      "image 351/636 D:\\University College Dublin\\Trimester 3\\PIMM\\Project\\Final Project\\dataset_day\\images\\test\\RedFox188.jpg: 256x416 1 RedFox, 18.4ms\n",
      "image 352/636 D:\\University College Dublin\\Trimester 3\\PIMM\\Project\\Final Project\\dataset_day\\images\\test\\RedFox203.jpg: 256x416 1 RedFox, 14.8ms\n",
      "image 353/636 D:\\University College Dublin\\Trimester 3\\PIMM\\Project\\Final Project\\dataset_day\\images\\test\\RedFox204.jpg: 256x416 1 RedFox, 14.9ms\n",
      "image 354/636 D:\\University College Dublin\\Trimester 3\\PIMM\\Project\\Final Project\\dataset_day\\images\\test\\RedFox215.jpg: 256x416 1 RedFox, 14.9ms\n",
      "image 355/636 D:\\University College Dublin\\Trimester 3\\PIMM\\Project\\Final Project\\dataset_day\\images\\test\\RedFox222.jpg: 256x416 1 RedFox, 14.9ms\n",
      "image 356/636 D:\\University College Dublin\\Trimester 3\\PIMM\\Project\\Final Project\\dataset_day\\images\\test\\RedFox228.jpg: 256x416 1 RedFox, 19.6ms\n",
      "image 357/636 D:\\University College Dublin\\Trimester 3\\PIMM\\Project\\Final Project\\dataset_day\\images\\test\\RedFox25.jpg: 256x416 1 RedFox, 14.9ms\n",
      "image 358/636 D:\\University College Dublin\\Trimester 3\\PIMM\\Project\\Final Project\\dataset_day\\images\\test\\RedFox262.jpg: 256x416 1 RedFox, 14.8ms\n",
      "image 359/636 D:\\University College Dublin\\Trimester 3\\PIMM\\Project\\Final Project\\dataset_day\\images\\test\\RedFox271.jpg: 256x416 1 RedFox, 15.0ms\n",
      "image 360/636 D:\\University College Dublin\\Trimester 3\\PIMM\\Project\\Final Project\\dataset_day\\images\\test\\RedFox287.jpg: 256x416 1 RedFox, 14.9ms\n",
      "image 361/636 D:\\University College Dublin\\Trimester 3\\PIMM\\Project\\Final Project\\dataset_day\\images\\test\\RedFox288.jpg: 256x416 1 RedFox, 15.2ms\n",
      "image 362/636 D:\\University College Dublin\\Trimester 3\\PIMM\\Project\\Final Project\\dataset_day\\images\\test\\RedFox297.jpg: 256x416 1 RedFox, 14.9ms\n",
      "image 363/636 D:\\University College Dublin\\Trimester 3\\PIMM\\Project\\Final Project\\dataset_day\\images\\test\\RedFox3.jpg: 256x416 1 RedFox, 16.1ms\n",
      "image 364/636 D:\\University College Dublin\\Trimester 3\\PIMM\\Project\\Final Project\\dataset_day\\images\\test\\RedFox300.jpg: 256x416 1 RedFox, 15.0ms\n",
      "image 365/636 D:\\University College Dublin\\Trimester 3\\PIMM\\Project\\Final Project\\dataset_day\\images\\test\\RedFox301.jpg: 256x416 1 RedFox, 14.8ms\n",
      "image 366/636 D:\\University College Dublin\\Trimester 3\\PIMM\\Project\\Final Project\\dataset_day\\images\\test\\RedFox302.jpg: 256x416 1 RedFox, 14.8ms\n",
      "image 367/636 D:\\University College Dublin\\Trimester 3\\PIMM\\Project\\Final Project\\dataset_day\\images\\test\\RedFox307.jpg: 256x416 1 RedFox, 18.0ms\n",
      "image 368/636 D:\\University College Dublin\\Trimester 3\\PIMM\\Project\\Final Project\\dataset_day\\images\\test\\RedFox318.jpg: 256x416 1 RedFox, 15.0ms\n",
      "image 369/636 D:\\University College Dublin\\Trimester 3\\PIMM\\Project\\Final Project\\dataset_day\\images\\test\\RedFox325.jpg: 256x416 1 RedFox, 15.0ms\n",
      "image 370/636 D:\\University College Dublin\\Trimester 3\\PIMM\\Project\\Final Project\\dataset_day\\images\\test\\RedFox340.jpg: 256x416 1 RedFox, 15.2ms\n",
      "image 371/636 D:\\University College Dublin\\Trimester 3\\PIMM\\Project\\Final Project\\dataset_day\\images\\test\\RedFox347.jpg: 256x416 1 RedFox, 17.1ms\n",
      "image 372/636 D:\\University College Dublin\\Trimester 3\\PIMM\\Project\\Final Project\\dataset_day\\images\\test\\RedFox349.jpg: 256x416 1 RedFox, 20.1ms\n",
      "image 373/636 D:\\University College Dublin\\Trimester 3\\PIMM\\Project\\Final Project\\dataset_day\\images\\test\\RedFox35.jpg: 256x416 1 RedFox, 14.9ms\n",
      "image 374/636 D:\\University College Dublin\\Trimester 3\\PIMM\\Project\\Final Project\\dataset_day\\images\\test\\RedFox363.jpg: 256x416 1 RedFox, 16.0ms\n",
      "image 375/636 D:\\University College Dublin\\Trimester 3\\PIMM\\Project\\Final Project\\dataset_day\\images\\test\\RedFox364.jpg: 256x416 1 RedFox, 16.4ms\n",
      "image 376/636 D:\\University College Dublin\\Trimester 3\\PIMM\\Project\\Final Project\\dataset_day\\images\\test\\RedFox370.jpg: 256x416 1 RedFox, 15.0ms\n",
      "image 377/636 D:\\University College Dublin\\Trimester 3\\PIMM\\Project\\Final Project\\dataset_day\\images\\test\\RedFox408.jpg: 256x416 1 RedFox, 21.6ms\n",
      "image 378/636 D:\\University College Dublin\\Trimester 3\\PIMM\\Project\\Final Project\\dataset_day\\images\\test\\RedFox416.jpg: 256x416 1 RedFox, 14.9ms\n",
      "image 379/636 D:\\University College Dublin\\Trimester 3\\PIMM\\Project\\Final Project\\dataset_day\\images\\test\\RedFox420.jpg: 256x416 1 RedFox, 14.9ms\n",
      "image 380/636 D:\\University College Dublin\\Trimester 3\\PIMM\\Project\\Final Project\\dataset_day\\images\\test\\RedFox421.jpg: 256x416 1 RedFox, 14.8ms\n",
      "image 381/636 D:\\University College Dublin\\Trimester 3\\PIMM\\Project\\Final Project\\dataset_day\\images\\test\\RedFox427.jpg: 256x416 1 RedFox, 15.0ms\n",
      "image 382/636 D:\\University College Dublin\\Trimester 3\\PIMM\\Project\\Final Project\\dataset_day\\images\\test\\RedFox428.jpg: 256x416 1 RedFox, 16.3ms\n",
      "image 383/636 D:\\University College Dublin\\Trimester 3\\PIMM\\Project\\Final Project\\dataset_day\\images\\test\\RedFox445.jpg: 256x416 1 RedFox, 16.2ms\n",
      "image 384/636 D:\\University College Dublin\\Trimester 3\\PIMM\\Project\\Final Project\\dataset_day\\images\\test\\RedFox454.jpg: 320x416 1 RedFox, 21.7ms\n",
      "image 385/636 D:\\University College Dublin\\Trimester 3\\PIMM\\Project\\Final Project\\dataset_day\\images\\test\\RedFox479.jpg: 256x416 1 RedFox, 17.9ms\n",
      "image 386/636 D:\\University College Dublin\\Trimester 3\\PIMM\\Project\\Final Project\\dataset_day\\images\\test\\RedFox483.jpg: 320x416 1 RedFox, 23.1ms\n",
      "image 387/636 D:\\University College Dublin\\Trimester 3\\PIMM\\Project\\Final Project\\dataset_day\\images\\test\\RedFox496.jpg: 320x416 1 RedFox, 21.3ms\n",
      "image 388/636 D:\\University College Dublin\\Trimester 3\\PIMM\\Project\\Final Project\\dataset_day\\images\\test\\RedFox497.jpg: 320x416 1 RedFox, 21.6ms\n",
      "image 389/636 D:\\University College Dublin\\Trimester 3\\PIMM\\Project\\Final Project\\dataset_day\\images\\test\\RedFox77.jpg: 256x416 1 RedFox, 17.3ms\n",
      "image 390/636 D:\\University College Dublin\\Trimester 3\\PIMM\\Project\\Final Project\\dataset_day\\images\\test\\RedFox97.jpg: 256x416 3 RedFoxs, 17.4ms\n",
      "image 391/636 D:\\University College Dublin\\Trimester 3\\PIMM\\Project\\Final Project\\dataset_day\\images\\test\\RedFox_0 (1051).jpg: 256x416 1 RedFox, 16.9ms\n",
      "image 392/636 D:\\University College Dublin\\Trimester 3\\PIMM\\Project\\Final Project\\dataset_day\\images\\test\\RedFox_0 (127).jpg: 256x416 1 RedFox, 15.9ms\n",
      "image 393/636 D:\\University College Dublin\\Trimester 3\\PIMM\\Project\\Final Project\\dataset_day\\images\\test\\RedFox_0 (248).jpg: 256x416 1 RedFox, 16.0ms\n",
      "image 394/636 D:\\University College Dublin\\Trimester 3\\PIMM\\Project\\Final Project\\dataset_day\\images\\test\\RedFox_0 (378).jpg: 256x416 1 RedFox, 19.0ms\n",
      "image 395/636 D:\\University College Dublin\\Trimester 3\\PIMM\\Project\\Final Project\\dataset_day\\images\\test\\RedFox_0 (433).jpg: 256x416 1 RedFox, 16.4ms\n",
      "image 396/636 D:\\University College Dublin\\Trimester 3\\PIMM\\Project\\Final Project\\dataset_day\\images\\test\\RedFox_0 (447).jpg: 256x416 1 RedFox, 19.1ms\n",
      "image 397/636 D:\\University College Dublin\\Trimester 3\\PIMM\\Project\\Final Project\\dataset_day\\images\\test\\RedFox_0 (49).jpg: 256x416 1 RedFox, 15.9ms\n",
      "image 398/636 D:\\University College Dublin\\Trimester 3\\PIMM\\Project\\Final Project\\dataset_day\\images\\test\\RedFox_0 (546).jpg: 256x416 1 RedFox, 16.3ms\n",
      "image 399/636 D:\\University College Dublin\\Trimester 3\\PIMM\\Project\\Final Project\\dataset_day\\images\\test\\RedFox_0 (620).jpg: 256x416 1 RedFox, 14.5ms\n",
      "image 400/636 D:\\University College Dublin\\Trimester 3\\PIMM\\Project\\Final Project\\dataset_day\\images\\test\\RedFox_0 (696).jpg: 256x416 1 RedFox, 15.1ms\n",
      "image 401/636 D:\\University College Dublin\\Trimester 3\\PIMM\\Project\\Final Project\\dataset_day\\images\\test\\RedFox_0 (725).jpg: 256x416 1 RedFox, 15.9ms\n",
      "image 402/636 D:\\University College Dublin\\Trimester 3\\PIMM\\Project\\Final Project\\dataset_day\\images\\test\\RedFox_0 (78).jpg: 256x416 1 RedFox, 14.5ms\n",
      "image 403/636 D:\\University College Dublin\\Trimester 3\\PIMM\\Project\\Final Project\\dataset_day\\images\\test\\RedFox_0 (79).jpg: 256x416 1 RedFox, 14.5ms\n",
      "image 404/636 D:\\University College Dublin\\Trimester 3\\PIMM\\Project\\Final Project\\dataset_day\\images\\test\\RedFox_0 (816).jpg: 256x416 1 RedFox, 14.5ms\n",
      "image 405/636 D:\\University College Dublin\\Trimester 3\\PIMM\\Project\\Final Project\\dataset_day\\images\\test\\RedFox_0 (855).jpg: 256x416 1 RedFox, 14.5ms\n",
      "image 406/636 D:\\University College Dublin\\Trimester 3\\PIMM\\Project\\Final Project\\dataset_day\\images\\test\\RedFox_0 (877).jpg: 256x416 1 RedFox, 14.4ms\n",
      "image 407/636 D:\\University College Dublin\\Trimester 3\\PIMM\\Project\\Final Project\\dataset_day\\images\\test\\RedFox_0 (878).jpg: 256x416 1 RedFox, 14.5ms\n",
      "image 408/636 D:\\University College Dublin\\Trimester 3\\PIMM\\Project\\Final Project\\dataset_day\\images\\test\\RedFox_0 (885).jpg: 256x416 1 RedFox, 14.7ms\n",
      "image 409/636 D:\\University College Dublin\\Trimester 3\\PIMM\\Project\\Final Project\\dataset_day\\images\\test\\RedFox_0 (891).jpg: 256x416 1 RedFox, 14.8ms\n",
      "image 410/636 D:\\University College Dublin\\Trimester 3\\PIMM\\Project\\Final Project\\dataset_day\\images\\test\\RedFox_0 (906).jpg: 256x416 1 RedFox, 14.6ms\n",
      "image 411/636 D:\\University College Dublin\\Trimester 3\\PIMM\\Project\\Final Project\\dataset_day\\images\\test\\RedFox_0 (922).jpg: 256x416 1 RedFox, 14.6ms\n",
      "image 412/636 D:\\University College Dublin\\Trimester 3\\PIMM\\Project\\Final Project\\dataset_day\\images\\test\\RedFox_0 (930).jpg: 256x416 1 RedFox, 14.8ms\n",
      "image 413/636 D:\\University College Dublin\\Trimester 3\\PIMM\\Project\\Final Project\\dataset_day\\images\\test\\RedFox_0 (979).jpg: 256x416 1 RedFox, 17.4ms\n",
      "image 414/636 D:\\University College Dublin\\Trimester 3\\PIMM\\Project\\Final Project\\dataset_day\\images\\test\\RedFox_1 (1057).jpg: 256x416 1 RedFox, 17.4ms\n",
      "image 415/636 D:\\University College Dublin\\Trimester 3\\PIMM\\Project\\Final Project\\dataset_day\\images\\test\\RedFox_1 (951).jpg: 256x416 1 RedFox, 14.5ms\n",
      "image 416/636 D:\\University College Dublin\\Trimester 3\\PIMM\\Project\\Final Project\\dataset_day\\images\\test\\RedFox_2 (136).jpg: 256x416 1 RedFox, 13.5ms\n",
      "image 417/636 D:\\University College Dublin\\Trimester 3\\PIMM\\Project\\Final Project\\dataset_day\\images\\test\\RedFox_2 (388).jpg: 256x416 1 RedFox, 13.4ms\n",
      "image 418/636 D:\\University College Dublin\\Trimester 3\\PIMM\\Project\\Final Project\\dataset_day\\images\\test\\RedFox_2 (744).jpg: 256x416 1 RedFox, 13.4ms\n",
      "image 419/636 D:\\University College Dublin\\Trimester 3\\PIMM\\Project\\Final Project\\dataset_day\\images\\test\\RedFox_2 (766).jpg: 256x416 1 RedFox, 14.4ms\n",
      "image 420/636 D:\\University College Dublin\\Trimester 3\\PIMM\\Project\\Final Project\\dataset_day\\images\\test\\RedFox_3 (78).jpg: 256x416 1 RedFox, 14.3ms\n",
      "image 421/636 D:\\University College Dublin\\Trimester 3\\PIMM\\Project\\Final Project\\dataset_day\\images\\test\\RedFox_3 (859).jpg: 256x416 1 RedFox, 14.0ms\n",
      "image 422/636 D:\\University College Dublin\\Trimester 3\\PIMM\\Project\\Final Project\\dataset_day\\images\\test\\RedFox_4 (263).jpg: 256x416 1 RedFox, 18.8ms\n",
      "image 423/636 D:\\University College Dublin\\Trimester 3\\PIMM\\Project\\Final Project\\dataset_day\\images\\test\\RedFox_5 (6).jpg: 256x416 1 RedFox, 13.5ms\n",
      "image 424/636 D:\\University College Dublin\\Trimester 3\\PIMM\\Project\\Final Project\\dataset_day\\images\\test\\RedFox_6 (103).jpg: 256x416 1 RedFox, 21.7ms\n",
      "image 425/636 D:\\University College Dublin\\Trimester 3\\PIMM\\Project\\Final Project\\dataset_day\\images\\test\\Weasel111.jpg: 256x416 1 Weasel, 27.0ms\n",
      "image 426/636 D:\\University College Dublin\\Trimester 3\\PIMM\\Project\\Final Project\\dataset_day\\images\\test\\Weasel115.jpg: 256x416 1 LeopardCat, 1 Weasel, 26.8ms\n",
      "image 427/636 D:\\University College Dublin\\Trimester 3\\PIMM\\Project\\Final Project\\dataset_day\\images\\test\\Weasel121.jpg: 256x416 1 Weasel, 26.7ms\n",
      "image 428/636 D:\\University College Dublin\\Trimester 3\\PIMM\\Project\\Final Project\\dataset_day\\images\\test\\Weasel131.jpg: 256x416 1 Weasel, 25.0ms\n",
      "image 429/636 D:\\University College Dublin\\Trimester 3\\PIMM\\Project\\Final Project\\dataset_day\\images\\test\\Weasel132.jpg: 256x416 1 Weasel, 21.4ms\n",
      "image 430/636 D:\\University College Dublin\\Trimester 3\\PIMM\\Project\\Final Project\\dataset_day\\images\\test\\Weasel165.jpg: 256x416 1 Weasel, 22.4ms\n",
      "image 431/636 D:\\University College Dublin\\Trimester 3\\PIMM\\Project\\Final Project\\dataset_day\\images\\test\\Weasel181.jpg: 256x416 1 Weasel, 21.5ms\n",
      "image 432/636 D:\\University College Dublin\\Trimester 3\\PIMM\\Project\\Final Project\\dataset_day\\images\\test\\Weasel188.jpg: 256x416 3 Weasels, 21.5ms\n",
      "image 433/636 D:\\University College Dublin\\Trimester 3\\PIMM\\Project\\Final Project\\dataset_day\\images\\test\\Weasel199.jpg: 256x416 1 Weasel, 17.8ms\n",
      "image 434/636 D:\\University College Dublin\\Trimester 3\\PIMM\\Project\\Final Project\\dataset_day\\images\\test\\Weasel200.jpg: 256x416 1 Weasel, 17.4ms\n",
      "image 435/636 D:\\University College Dublin\\Trimester 3\\PIMM\\Project\\Final Project\\dataset_day\\images\\test\\Weasel213.jpg: 256x416 1 Weasel, 17.5ms\n",
      "image 436/636 D:\\University College Dublin\\Trimester 3\\PIMM\\Project\\Final Project\\dataset_day\\images\\test\\Weasel224.jpg: 256x416 1 LeopardCat, 1 Weasel, 21.1ms\n",
      "image 437/636 D:\\University College Dublin\\Trimester 3\\PIMM\\Project\\Final Project\\dataset_day\\images\\test\\Weasel4.jpg: 256x416 1 Weasel, 17.4ms\n",
      "image 438/636 D:\\University College Dublin\\Trimester 3\\PIMM\\Project\\Final Project\\dataset_day\\images\\test\\Weasel44.jpg: 256x416 1 Weasel, 18.0ms\n",
      "image 439/636 D:\\University College Dublin\\Trimester 3\\PIMM\\Project\\Final Project\\dataset_day\\images\\test\\Weasel60.jpg: 256x416 1 Weasel, 17.9ms\n",
      "image 440/636 D:\\University College Dublin\\Trimester 3\\PIMM\\Project\\Final Project\\dataset_day\\images\\test\\Weasel9.jpg: 256x416 1 Weasel, 17.3ms\n",
      "image 441/636 D:\\University College Dublin\\Trimester 3\\PIMM\\Project\\Final Project\\dataset_day\\images\\test\\Weasel_136.jpg: 256x416 1 Weasel, 17.9ms\n",
      "image 442/636 D:\\University College Dublin\\Trimester 3\\PIMM\\Project\\Final Project\\dataset_day\\images\\test\\Weasel_141.jpg: 256x416 1 Weasel, 21.2ms\n",
      "image 443/636 D:\\University College Dublin\\Trimester 3\\PIMM\\Project\\Final Project\\dataset_day\\images\\test\\Weasel_159.jpg: 256x416 1 Weasel, 16.0ms\n",
      "image 444/636 D:\\University College Dublin\\Trimester 3\\PIMM\\Project\\Final Project\\dataset_day\\images\\test\\Weasel_162.jpg: 256x416 3 Weasels, 15.9ms\n",
      "image 445/636 D:\\University College Dublin\\Trimester 3\\PIMM\\Project\\Final Project\\dataset_day\\images\\test\\Weasel_17.jpg: 256x416 1 Weasel, 15.4ms\n",
      "image 446/636 D:\\University College Dublin\\Trimester 3\\PIMM\\Project\\Final Project\\dataset_day\\images\\test\\Weasel_172.jpg: 256x416 3 Weasels, 15.5ms\n",
      "image 447/636 D:\\University College Dublin\\Trimester 3\\PIMM\\Project\\Final Project\\dataset_day\\images\\test\\Weasel_217.jpg: 256x416 1 Weasel, 15.5ms\n",
      "image 448/636 D:\\University College Dublin\\Trimester 3\\PIMM\\Project\\Final Project\\dataset_day\\images\\test\\Weasel_218.jpg: 256x416 1 Weasel, 15.6ms\n",
      "image 449/636 D:\\University College Dublin\\Trimester 3\\PIMM\\Project\\Final Project\\dataset_day\\images\\test\\Weasel_231.jpg: 256x416 1 Weasel, 18.2ms\n",
      "image 450/636 D:\\University College Dublin\\Trimester 3\\PIMM\\Project\\Final Project\\dataset_day\\images\\test\\Weasel_237.jpg: 256x416 1 Weasel, 15.8ms\n",
      "image 451/636 D:\\University College Dublin\\Trimester 3\\PIMM\\Project\\Final Project\\dataset_day\\images\\test\\Weasel_248.jpg: 256x416 1 Weasel, 15.6ms\n",
      "image 452/636 D:\\University College Dublin\\Trimester 3\\PIMM\\Project\\Final Project\\dataset_day\\images\\test\\Weasel_258.jpg: 256x416 1 Weasel, 15.8ms\n",
      "image 453/636 D:\\University College Dublin\\Trimester 3\\PIMM\\Project\\Final Project\\dataset_day\\images\\test\\Weasel_28.jpg: 256x416 1 Weasel, 16.1ms\n",
      "image 454/636 D:\\University College Dublin\\Trimester 3\\PIMM\\Project\\Final Project\\dataset_day\\images\\test\\Weasel_29.jpg: 256x416 1 Weasel, 14.7ms\n",
      "image 455/636 D:\\University College Dublin\\Trimester 3\\PIMM\\Project\\Final Project\\dataset_day\\images\\test\\Weasel_335.jpg: 256x416 1 Weasel, 14.2ms\n",
      "image 456/636 D:\\University College Dublin\\Trimester 3\\PIMM\\Project\\Final Project\\dataset_day\\images\\test\\Weasel_344.jpg: 256x416 1 Weasel, 14.2ms\n",
      "image 457/636 D:\\University College Dublin\\Trimester 3\\PIMM\\Project\\Final Project\\dataset_day\\images\\test\\Weasel_36.jpg: 256x416 1 Weasel, 14.2ms\n",
      "image 458/636 D:\\University College Dublin\\Trimester 3\\PIMM\\Project\\Final Project\\dataset_day\\images\\test\\Weasel_360.jpg: 256x416 1 Weasel, 14.3ms\n",
      "image 459/636 D:\\University College Dublin\\Trimester 3\\PIMM\\Project\\Final Project\\dataset_day\\images\\test\\Weasel_38.jpg: 256x416 1 Weasel, 14.2ms\n",
      "image 460/636 D:\\University College Dublin\\Trimester 3\\PIMM\\Project\\Final Project\\dataset_day\\images\\test\\Weasel_381.jpg: 256x416 1 Weasel, 14.2ms\n",
      "image 461/636 D:\\University College Dublin\\Trimester 3\\PIMM\\Project\\Final Project\\dataset_day\\images\\test\\Weasel_383.jpg: 256x416 1 Weasel, 14.2ms\n",
      "image 462/636 D:\\University College Dublin\\Trimester 3\\PIMM\\Project\\Final Project\\dataset_day\\images\\test\\Weasel_386.jpg: 256x416 1 Weasel, 14.2ms\n",
      "image 463/636 D:\\University College Dublin\\Trimester 3\\PIMM\\Project\\Final Project\\dataset_day\\images\\test\\Weasel_423.jpg: 256x416 1 Weasel, 13.9ms\n",
      "image 464/636 D:\\University College Dublin\\Trimester 3\\PIMM\\Project\\Final Project\\dataset_day\\images\\test\\Weasel_438.jpg: 256x416 1 Weasel, 17.8ms\n",
      "image 465/636 D:\\University College Dublin\\Trimester 3\\PIMM\\Project\\Final Project\\dataset_day\\images\\test\\Weasel_442.jpg: 256x416 1 Weasel, 13.8ms\n",
      "image 466/636 D:\\University College Dublin\\Trimester 3\\PIMM\\Project\\Final Project\\dataset_day\\images\\test\\Weasel_457.jpg: 256x416 1 Weasel, 13.6ms\n",
      "image 467/636 D:\\University College Dublin\\Trimester 3\\PIMM\\Project\\Final Project\\dataset_day\\images\\test\\Weasel_465.jpg: 256x416 1 Weasel, 13.8ms\n",
      "image 468/636 D:\\University College Dublin\\Trimester 3\\PIMM\\Project\\Final Project\\dataset_day\\images\\test\\Weasel_488.jpg: 256x416 1 Weasel, 20.1ms\n",
      "image 469/636 D:\\University College Dublin\\Trimester 3\\PIMM\\Project\\Final Project\\dataset_day\\images\\test\\Weasel_492.jpg: 256x416 1 Weasel, 13.4ms\n",
      "image 470/636 D:\\University College Dublin\\Trimester 3\\PIMM\\Project\\Final Project\\dataset_day\\images\\test\\Weasel_508.jpg: 256x416 1 Weasel, 16.3ms\n",
      "image 471/636 D:\\University College Dublin\\Trimester 3\\PIMM\\Project\\Final Project\\dataset_day\\images\\test\\Weasel_521.jpg: 256x416 1 Weasel, 13.6ms\n",
      "image 472/636 D:\\University College Dublin\\Trimester 3\\PIMM\\Project\\Final Project\\dataset_day\\images\\test\\Weasel_526.jpg: 320x416 1 Weasel, 18.4ms\n",
      "image 473/636 D:\\University College Dublin\\Trimester 3\\PIMM\\Project\\Final Project\\dataset_day\\images\\test\\Weasel_533.jpg: 256x416 1 Weasel, 14.1ms\n",
      "image 474/636 D:\\University College Dublin\\Trimester 3\\PIMM\\Project\\Final Project\\dataset_day\\images\\test\\Weasel_535.jpg: 256x416 1 Weasel, 13.8ms\n",
      "image 475/636 D:\\University College Dublin\\Trimester 3\\PIMM\\Project\\Final Project\\dataset_day\\images\\test\\Weasel_543.jpg: 256x416 1 Weasel, 13.6ms\n",
      "image 476/636 D:\\University College Dublin\\Trimester 3\\PIMM\\Project\\Final Project\\dataset_day\\images\\test\\Weasel_554.jpg: 256x416 1 Weasel, 14.9ms\n",
      "image 477/636 D:\\University College Dublin\\Trimester 3\\PIMM\\Project\\Final Project\\dataset_day\\images\\test\\Weasel_569.jpg: 256x416 1 Weasel, 13.7ms\n",
      "image 478/636 D:\\University College Dublin\\Trimester 3\\PIMM\\Project\\Final Project\\dataset_day\\images\\test\\Weasel_571.jpg: 256x416 1 Weasel, 13.9ms\n",
      "image 479/636 D:\\University College Dublin\\Trimester 3\\PIMM\\Project\\Final Project\\dataset_day\\images\\test\\Weasel_579.jpg: 256x416 1 Weasel, 13.6ms\n",
      "image 480/636 D:\\University College Dublin\\Trimester 3\\PIMM\\Project\\Final Project\\dataset_day\\images\\test\\Weasel_580.jpg: 256x416 1 Weasel, 13.8ms\n",
      "image 481/636 D:\\University College Dublin\\Trimester 3\\PIMM\\Project\\Final Project\\dataset_day\\images\\test\\Weasel_596.jpg: 256x416 1 Weasel, 13.6ms\n",
      "image 482/636 D:\\University College Dublin\\Trimester 3\\PIMM\\Project\\Final Project\\dataset_day\\images\\test\\Weasel_599.jpg: 256x416 1 Weasel, 14.1ms\n",
      "image 483/636 D:\\University College Dublin\\Trimester 3\\PIMM\\Project\\Final Project\\dataset_day\\images\\test\\Weasel_604.jpg: 256x416 1 Weasel, 12.9ms\n",
      "image 484/636 D:\\University College Dublin\\Trimester 3\\PIMM\\Project\\Final Project\\dataset_day\\images\\test\\Weasel_605.jpg: 256x416 1 Weasel, 12.8ms\n",
      "image 485/636 D:\\University College Dublin\\Trimester 3\\PIMM\\Project\\Final Project\\dataset_day\\images\\test\\Weasel_624.jpg: 256x416 1 Weasel, 12.9ms\n",
      "image 486/636 D:\\University College Dublin\\Trimester 3\\PIMM\\Project\\Final Project\\dataset_day\\images\\test\\Weasel_64.jpg: 256x416 1 Weasel, 12.9ms\n",
      "image 487/636 D:\\University College Dublin\\Trimester 3\\PIMM\\Project\\Final Project\\dataset_day\\images\\test\\Weasel_640.jpg: 256x416 1 Weasel, 13.1ms\n",
      "image 488/636 D:\\University College Dublin\\Trimester 3\\PIMM\\Project\\Final Project\\dataset_day\\images\\test\\Weasel_641.jpg: 256x416 1 Weasel, 12.9ms\n",
      "image 489/636 D:\\University College Dublin\\Trimester 3\\PIMM\\Project\\Final Project\\dataset_day\\images\\test\\Weasel_645.jpg: 256x416 1 Weasel, 13.0ms\n",
      "image 490/636 D:\\University College Dublin\\Trimester 3\\PIMM\\Project\\Final Project\\dataset_day\\images\\test\\Weasel_660.jpg: 256x416 1 Weasel, 13.0ms\n",
      "image 491/636 D:\\University College Dublin\\Trimester 3\\PIMM\\Project\\Final Project\\dataset_day\\images\\test\\Weasel_691.jpg: 256x416 1 Weasel, 13.0ms\n",
      "image 492/636 D:\\University College Dublin\\Trimester 3\\PIMM\\Project\\Final Project\\dataset_day\\images\\test\\Weasel_697.jpg: 256x416 1 Weasel, 13.9ms\n",
      "image 493/636 D:\\University College Dublin\\Trimester 3\\PIMM\\Project\\Final Project\\dataset_day\\images\\test\\Weasel_704.jpg: 256x416 1 Weasel, 13.2ms\n",
      "image 494/636 D:\\University College Dublin\\Trimester 3\\PIMM\\Project\\Final Project\\dataset_day\\images\\test\\Weasel_709.jpg: 256x416 1 Weasel, 12.8ms\n",
      "image 495/636 D:\\University College Dublin\\Trimester 3\\PIMM\\Project\\Final Project\\dataset_day\\images\\test\\Weasel_721.jpg: 256x416 1 Weasel, 14.5ms\n",
      "image 496/636 D:\\University College Dublin\\Trimester 3\\PIMM\\Project\\Final Project\\dataset_day\\images\\test\\Weasel_725.jpg: 256x416 1 Weasel, 13.4ms\n",
      "image 497/636 D:\\University College Dublin\\Trimester 3\\PIMM\\Project\\Final Project\\dataset_day\\images\\test\\Weasel_731.jpg: 256x416 1 Weasel, 12.9ms\n",
      "image 498/636 D:\\University College Dublin\\Trimester 3\\PIMM\\Project\\Final Project\\dataset_day\\images\\test\\Weasel_732.jpg: 256x416 1 Weasel, 13.2ms\n",
      "image 499/636 D:\\University College Dublin\\Trimester 3\\PIMM\\Project\\Final Project\\dataset_day\\images\\test\\Weasel_734.jpg: 256x416 1 Weasel, 13.3ms\n",
      "image 500/636 D:\\University College Dublin\\Trimester 3\\PIMM\\Project\\Final Project\\dataset_day\\images\\test\\Weasel_742.jpg: 320x416 1 Weasel, 18.0ms\n",
      "image 501/636 D:\\University College Dublin\\Trimester 3\\PIMM\\Project\\Final Project\\dataset_day\\images\\test\\Weasel_747.jpg: 320x416 1 Weasel, 17.0ms\n",
      "image 502/636 D:\\University College Dublin\\Trimester 3\\PIMM\\Project\\Final Project\\dataset_day\\images\\test\\Weasel_751.jpg: 256x416 1 Weasel, 15.2ms\n",
      "image 503/636 D:\\University College Dublin\\Trimester 3\\PIMM\\Project\\Final Project\\dataset_day\\images\\test\\Weasel_757.jpg: 256x416 1 Weasel, 14.3ms\n",
      "image 504/636 D:\\University College Dublin\\Trimester 3\\PIMM\\Project\\Final Project\\dataset_day\\images\\test\\Weasel_764.jpg: 256x416 1 Weasel, 12.9ms\n",
      "image 505/636 D:\\University College Dublin\\Trimester 3\\PIMM\\Project\\Final Project\\dataset_day\\images\\test\\Weasel_783.jpg: 256x416 1 Weasel, 12.9ms\n",
      "image 506/636 D:\\University College Dublin\\Trimester 3\\PIMM\\Project\\Final Project\\dataset_day\\images\\test\\Weasel_786.jpg: 256x416 1 Weasel, 12.9ms\n",
      "image 507/636 D:\\University College Dublin\\Trimester 3\\PIMM\\Project\\Final Project\\dataset_day\\images\\test\\Weasel_789.jpg: 256x416 1 Weasel, 12.7ms\n",
      "image 508/636 D:\\University College Dublin\\Trimester 3\\PIMM\\Project\\Final Project\\dataset_day\\images\\test\\Weasel_791.jpg: 256x416 1 Weasel, 12.8ms\n",
      "image 509/636 D:\\University College Dublin\\Trimester 3\\PIMM\\Project\\Final Project\\dataset_day\\images\\test\\Weasel_793.jpg: 256x416 1 Weasel, 13.2ms\n",
      "image 510/636 D:\\University College Dublin\\Trimester 3\\PIMM\\Project\\Final Project\\dataset_day\\images\\test\\Weasel_795.jpg: 256x416 1 Weasel, 12.7ms\n",
      "image 511/636 D:\\University College Dublin\\Trimester 3\\PIMM\\Project\\Final Project\\dataset_day\\images\\test\\Weasel_801.jpg: 256x416 1 Weasel, 14.1ms\n",
      "image 512/636 D:\\University College Dublin\\Trimester 3\\PIMM\\Project\\Final Project\\dataset_day\\images\\test\\Weasel_805.jpg: 256x416 1 Weasel, 13.9ms\n",
      "image 513/636 D:\\University College Dublin\\Trimester 3\\PIMM\\Project\\Final Project\\dataset_day\\images\\test\\Weasel_81.jpg: 256x416 1 Weasel, 17.0ms\n",
      "image 514/636 D:\\University College Dublin\\Trimester 3\\PIMM\\Project\\Final Project\\dataset_day\\images\\test\\Weasel_811.jpg: 256x416 2 Weasels, 12.7ms\n",
      "image 515/636 D:\\University College Dublin\\Trimester 3\\PIMM\\Project\\Final Project\\dataset_day\\images\\test\\Weasel_812.jpg: 256x416 2 Weasels, 12.6ms\n",
      "image 516/636 D:\\University College Dublin\\Trimester 3\\PIMM\\Project\\Final Project\\dataset_day\\images\\test\\Weasel_813.jpg: 320x416 1 Weasel, 17.1ms\n",
      "image 517/636 D:\\University College Dublin\\Trimester 3\\PIMM\\Project\\Final Project\\dataset_day\\images\\test\\Weasel_822.jpg: 256x416 1 Weasel, 13.7ms\n",
      "image 518/636 D:\\University College Dublin\\Trimester 3\\PIMM\\Project\\Final Project\\dataset_day\\images\\test\\Weasel_834.jpg: 256x416 1 Weasel, 15.4ms\n",
      "image 519/636 D:\\University College Dublin\\Trimester 3\\PIMM\\Project\\Final Project\\dataset_day\\images\\test\\Weasel_847.jpg: 256x416 1 Weasel, 14.9ms\n",
      "image 520/636 D:\\University College Dublin\\Trimester 3\\PIMM\\Project\\Final Project\\dataset_day\\images\\test\\Weasel_855.jpg: 256x416 1 Weasel, 13.4ms\n",
      "image 521/636 D:\\University College Dublin\\Trimester 3\\PIMM\\Project\\Final Project\\dataset_day\\images\\test\\Weasel_869.jpg: 256x416 1 Weasel, 20.6ms\n",
      "image 522/636 D:\\University College Dublin\\Trimester 3\\PIMM\\Project\\Final Project\\dataset_day\\images\\test\\Weasel_877.jpg: 256x416 1 Weasel, 15.4ms\n",
      "image 523/636 D:\\University College Dublin\\Trimester 3\\PIMM\\Project\\Final Project\\dataset_day\\images\\test\\Weasel_895.jpg: 256x416 1 Weasel, 12.5ms\n",
      "image 524/636 D:\\University College Dublin\\Trimester 3\\PIMM\\Project\\Final Project\\dataset_day\\images\\test\\Weasel_899.jpg: 256x416 1 Weasel, 19.0ms\n",
      "image 525/636 D:\\University College Dublin\\Trimester 3\\PIMM\\Project\\Final Project\\dataset_day\\images\\test\\Weasel_91.jpg: 256x416 1 Weasel, 12.7ms\n",
      "image 526/636 D:\\University College Dublin\\Trimester 3\\PIMM\\Project\\Final Project\\dataset_day\\images\\test\\Weasel_925.jpg: 256x416 1 Weasel, 12.9ms\n",
      "image 527/636 D:\\University College Dublin\\Trimester 3\\PIMM\\Project\\Final Project\\dataset_day\\images\\test\\Weasel_928.jpg: 256x416 1 Weasel, 12.6ms\n",
      "image 528/636 D:\\University College Dublin\\Trimester 3\\PIMM\\Project\\Final Project\\dataset_day\\images\\test\\Weasel_953.jpg: 256x416 1 Weasel, 12.5ms\n",
      "image 529/636 D:\\University College Dublin\\Trimester 3\\PIMM\\Project\\Final Project\\dataset_day\\images\\test\\Weasel_959.jpg: 256x416 1 Weasel, 12.7ms\n",
      "image 530/636 D:\\University College Dublin\\Trimester 3\\PIMM\\Project\\Final Project\\dataset_day\\images\\test\\Weasel_965.jpg: 256x416 1 Weasel, 12.5ms\n",
      "image 531/636 D:\\University College Dublin\\Trimester 3\\PIMM\\Project\\Final Project\\dataset_day\\images\\test\\WildBoar (116).jpg: 256x416 1 WildBoar, 12.7ms\n",
      "image 532/636 D:\\University College Dublin\\Trimester 3\\PIMM\\Project\\Final Project\\dataset_day\\images\\test\\WildBoar (121).jpg: 256x416 1 WildBoar, 12.1ms\n",
      "image 533/636 D:\\University College Dublin\\Trimester 3\\PIMM\\Project\\Final Project\\dataset_day\\images\\test\\WildBoar (123).jpg: 256x416 1 WildBoar, 19.1ms\n",
      "image 534/636 D:\\University College Dublin\\Trimester 3\\PIMM\\Project\\Final Project\\dataset_day\\images\\test\\WildBoar (126).jpg: 256x416 2 WildBoars, 14.7ms\n",
      "image 535/636 D:\\University College Dublin\\Trimester 3\\PIMM\\Project\\Final Project\\dataset_day\\images\\test\\WildBoar (147).jpg: 256x416 1 WildBoar, 30.6ms\n",
      "image 536/636 D:\\University College Dublin\\Trimester 3\\PIMM\\Project\\Final Project\\dataset_day\\images\\test\\WildBoar (161).jpg: 256x416 1 WildBoar, 17.3ms\n",
      "image 537/636 D:\\University College Dublin\\Trimester 3\\PIMM\\Project\\Final Project\\dataset_day\\images\\test\\WildBoar (187).jpg: 256x416 1 WildBoar, 14.4ms\n",
      "image 538/636 D:\\University College Dublin\\Trimester 3\\PIMM\\Project\\Final Project\\dataset_day\\images\\test\\WildBoar (193).jpg: 256x416 1 WildBoar, 13.3ms\n",
      "image 539/636 D:\\University College Dublin\\Trimester 3\\PIMM\\Project\\Final Project\\dataset_day\\images\\test\\WildBoar (210).jpg: 256x416 2 WildBoars, 13.0ms\n",
      "image 540/636 D:\\University College Dublin\\Trimester 3\\PIMM\\Project\\Final Project\\dataset_day\\images\\test\\WildBoar (211).jpg: 256x416 1 WildBoar, 13.1ms\n",
      "image 541/636 D:\\University College Dublin\\Trimester 3\\PIMM\\Project\\Final Project\\dataset_day\\images\\test\\WildBoar (213).jpg: 256x416 2 WildBoars, 12.7ms\n",
      "image 542/636 D:\\University College Dublin\\Trimester 3\\PIMM\\Project\\Final Project\\dataset_day\\images\\test\\WildBoar (221).jpg: 256x416 1 WildBoar, 13.5ms\n",
      "image 543/636 D:\\University College Dublin\\Trimester 3\\PIMM\\Project\\Final Project\\dataset_day\\images\\test\\WildBoar (228).jpg: 256x416 1 WildBoar, 12.5ms\n",
      "image 544/636 D:\\University College Dublin\\Trimester 3\\PIMM\\Project\\Final Project\\dataset_day\\images\\test\\WildBoar (232).jpg: 256x416 1 WildBoar, 12.5ms\n",
      "image 545/636 D:\\University College Dublin\\Trimester 3\\PIMM\\Project\\Final Project\\dataset_day\\images\\test\\WildBoar (236).jpg: 256x416 1 WildBoar, 12.5ms\n",
      "image 546/636 D:\\University College Dublin\\Trimester 3\\PIMM\\Project\\Final Project\\dataset_day\\images\\test\\WildBoar (237).jpg: 256x416 1 WildBoar, 13.1ms\n",
      "image 547/636 D:\\University College Dublin\\Trimester 3\\PIMM\\Project\\Final Project\\dataset_day\\images\\test\\WildBoar (239).jpg: 256x416 1 WildBoar, 12.8ms\n",
      "image 548/636 D:\\University College Dublin\\Trimester 3\\PIMM\\Project\\Final Project\\dataset_day\\images\\test\\WildBoar (243).jpg: 256x416 1 WildBoar, 12.6ms\n",
      "image 549/636 D:\\University College Dublin\\Trimester 3\\PIMM\\Project\\Final Project\\dataset_day\\images\\test\\WildBoar (254).jpg: 256x416 1 LeopardCat, 2 WildBoars, 12.7ms\n",
      "image 550/636 D:\\University College Dublin\\Trimester 3\\PIMM\\Project\\Final Project\\dataset_day\\images\\test\\WildBoar (256).jpg: 256x416 1 WildBoar, 12.6ms\n",
      "image 551/636 D:\\University College Dublin\\Trimester 3\\PIMM\\Project\\Final Project\\dataset_day\\images\\test\\WildBoar (257).jpg: 256x416 1 WildBoar, 13.5ms\n",
      "image 552/636 D:\\University College Dublin\\Trimester 3\\PIMM\\Project\\Final Project\\dataset_day\\images\\test\\WildBoar (267).jpg: 256x416 1 WildBoar, 12.7ms\n",
      "image 553/636 D:\\University College Dublin\\Trimester 3\\PIMM\\Project\\Final Project\\dataset_day\\images\\test\\WildBoar (281).jpg: 256x416 1 WildBoar, 14.0ms\n",
      "image 554/636 D:\\University College Dublin\\Trimester 3\\PIMM\\Project\\Final Project\\dataset_day\\images\\test\\WildBoar (295).jpg: 256x416 1 WildBoar, 13.2ms\n",
      "image 555/636 D:\\University College Dublin\\Trimester 3\\PIMM\\Project\\Final Project\\dataset_day\\images\\test\\WildBoar (297).jpg: 256x416 1 WildBoar, 12.4ms\n",
      "image 556/636 D:\\University College Dublin\\Trimester 3\\PIMM\\Project\\Final Project\\dataset_day\\images\\test\\WildBoar (76).jpg: 256x416 1 WildBoar, 12.9ms\n",
      "image 557/636 D:\\University College Dublin\\Trimester 3\\PIMM\\Project\\Final Project\\dataset_day\\images\\test\\WildBoar (81).jpg: 256x416 2 WildBoars, 13.2ms\n",
      "image 558/636 D:\\University College Dublin\\Trimester 3\\PIMM\\Project\\Final Project\\dataset_day\\images\\test\\WildBoar (85).jpg: 256x416 1 WildBoar, 13.0ms\n",
      "image 559/636 D:\\University College Dublin\\Trimester 3\\PIMM\\Project\\Final Project\\dataset_day\\images\\test\\WildBoar0.jpg: 256x416 1 WildBoar, 15.6ms\n",
      "image 560/636 D:\\University College Dublin\\Trimester 3\\PIMM\\Project\\Final Project\\dataset_day\\images\\test\\WildBoar1.jpg: 256x416 1 WildBoar, 12.6ms\n",
      "image 561/636 D:\\University College Dublin\\Trimester 3\\PIMM\\Project\\Final Project\\dataset_day\\images\\test\\WildBoar117.jpg: 256x416 1 WildBoar, 13.5ms\n",
      "image 562/636 D:\\University College Dublin\\Trimester 3\\PIMM\\Project\\Final Project\\dataset_day\\images\\test\\WildBoar124.jpg: 256x416 1 WildBoar, 12.9ms\n",
      "image 563/636 D:\\University College Dublin\\Trimester 3\\PIMM\\Project\\Final Project\\dataset_day\\images\\test\\WildBoar140.jpg: 256x416 1 WildBoar, 14.1ms\n",
      "image 564/636 D:\\University College Dublin\\Trimester 3\\PIMM\\Project\\Final Project\\dataset_day\\images\\test\\WildBoar155.jpg: 256x416 1 WildBoar, 13.9ms\n",
      "image 565/636 D:\\University College Dublin\\Trimester 3\\PIMM\\Project\\Final Project\\dataset_day\\images\\test\\WildBoar157.jpg: 256x416 2 WildBoars, 14.1ms\n",
      "image 566/636 D:\\University College Dublin\\Trimester 3\\PIMM\\Project\\Final Project\\dataset_day\\images\\test\\WildBoar165.jpg: 256x416 1 WildBoar, 17.7ms\n",
      "image 567/636 D:\\University College Dublin\\Trimester 3\\PIMM\\Project\\Final Project\\dataset_day\\images\\test\\WildBoar167.jpg: 256x416 1 WildBoar, 13.7ms\n",
      "image 568/636 D:\\University College Dublin\\Trimester 3\\PIMM\\Project\\Final Project\\dataset_day\\images\\test\\WildBoar17.jpg: 256x416 1 WildBoar, 16.9ms\n",
      "image 569/636 D:\\University College Dublin\\Trimester 3\\PIMM\\Project\\Final Project\\dataset_day\\images\\test\\WildBoar192.jpg: 256x416 1 WildBoar, 14.2ms\n",
      "image 570/636 D:\\University College Dublin\\Trimester 3\\PIMM\\Project\\Final Project\\dataset_day\\images\\test\\WildBoar211.jpg: 256x416 1 WildBoar, 14.6ms\n",
      "image 571/636 D:\\University College Dublin\\Trimester 3\\PIMM\\Project\\Final Project\\dataset_day\\images\\test\\WildBoar212.jpg: 256x416 1 WildBoar, 14.1ms\n",
      "image 572/636 D:\\University College Dublin\\Trimester 3\\PIMM\\Project\\Final Project\\dataset_day\\images\\test\\WildBoar219.jpg: 256x416 1 WildBoar, 14.3ms\n",
      "image 573/636 D:\\University College Dublin\\Trimester 3\\PIMM\\Project\\Final Project\\dataset_day\\images\\test\\WildBoar22.jpg: 256x416 1 WildBoar, 17.0ms\n",
      "image 574/636 D:\\University College Dublin\\Trimester 3\\PIMM\\Project\\Final Project\\dataset_day\\images\\test\\WildBoar236.jpg: 256x416 1 WildBoar, 15.8ms\n",
      "image 575/636 D:\\University College Dublin\\Trimester 3\\PIMM\\Project\\Final Project\\dataset_day\\images\\test\\WildBoar32.jpg: 256x416 1 WildBoar, 14.3ms\n",
      "image 576/636 D:\\University College Dublin\\Trimester 3\\PIMM\\Project\\Final Project\\dataset_day\\images\\test\\WildBoar33.jpg: 256x416 1 WildBoar, 14.1ms\n",
      "image 577/636 D:\\University College Dublin\\Trimester 3\\PIMM\\Project\\Final Project\\dataset_day\\images\\test\\WildBoar40.jpg: 256x416 1 WildBoar, 14.1ms\n",
      "image 578/636 D:\\University College Dublin\\Trimester 3\\PIMM\\Project\\Final Project\\dataset_day\\images\\test\\WildBoar42.jpg: 256x416 1 WildBoar, 13.4ms\n",
      "image 579/636 D:\\University College Dublin\\Trimester 3\\PIMM\\Project\\Final Project\\dataset_day\\images\\test\\WildBoar52.jpg: 256x416 1 WildBoar, 13.4ms\n",
      "image 580/636 D:\\University College Dublin\\Trimester 3\\PIMM\\Project\\Final Project\\dataset_day\\images\\test\\WildBoar58.jpg: 256x416 1 WildBoar, 13.5ms\n",
      "image 581/636 D:\\University College Dublin\\Trimester 3\\PIMM\\Project\\Final Project\\dataset_day\\images\\test\\WildBoar60.jpg: 256x416 1 WildBoar, 13.4ms\n",
      "image 582/636 D:\\University College Dublin\\Trimester 3\\PIMM\\Project\\Final Project\\dataset_day\\images\\test\\WildBoar8.jpg: 256x416 1 WildBoar, 13.4ms\n",
      "image 583/636 D:\\University College Dublin\\Trimester 3\\PIMM\\Project\\Final Project\\dataset_day\\images\\test\\WildBoar82.jpg: 256x416 1 WildBoar, 13.3ms\n",
      "image 584/636 D:\\University College Dublin\\Trimester 3\\PIMM\\Project\\Final Project\\dataset_day\\images\\test\\WildBoar85.jpg: 256x416 1 WildBoar, 15.9ms\n",
      "image 585/636 D:\\University College Dublin\\Trimester 3\\PIMM\\Project\\Final Project\\dataset_day\\images\\test\\WildBoar87.jpg: 256x416 1 WildBoar, 14.1ms\n",
      "image 586/636 D:\\University College Dublin\\Trimester 3\\PIMM\\Project\\Final Project\\dataset_day\\images\\test\\WildBoar_2291.jpg: 256x416 1 WildBoar, 17.4ms\n",
      "image 587/636 D:\\University College Dublin\\Trimester 3\\PIMM\\Project\\Final Project\\dataset_day\\images\\test\\WildBoar_2303.jpg: 256x416 1 WildBoar, 13.4ms\n",
      "image 588/636 D:\\University College Dublin\\Trimester 3\\PIMM\\Project\\Final Project\\dataset_day\\images\\test\\WildBoar_2324.jpg: 256x416 1 WildBoar, 16.4ms\n",
      "image 589/636 D:\\University College Dublin\\Trimester 3\\PIMM\\Project\\Final Project\\dataset_day\\images\\test\\WildBoar_2327.jpg: 256x416 1 WildBoar, 13.5ms\n",
      "image 590/636 D:\\University College Dublin\\Trimester 3\\PIMM\\Project\\Final Project\\dataset_day\\images\\test\\WildBoar_2335.jpg: 256x416 1 WildBoar, 15.2ms\n",
      "image 591/636 D:\\University College Dublin\\Trimester 3\\PIMM\\Project\\Final Project\\dataset_day\\images\\test\\WildBoar_2341.jpg: 256x416 1 WildBoar, 13.4ms\n",
      "image 592/636 D:\\University College Dublin\\Trimester 3\\PIMM\\Project\\Final Project\\dataset_day\\images\\test\\WildBoar_2342.jpg: 256x416 1 WildBoar, 13.3ms\n",
      "image 593/636 D:\\University College Dublin\\Trimester 3\\PIMM\\Project\\Final Project\\dataset_day\\images\\test\\WildBoar_2350.jpg: 256x416 1 WildBoar, 13.3ms\n",
      "image 594/636 D:\\University College Dublin\\Trimester 3\\PIMM\\Project\\Final Project\\dataset_day\\images\\test\\WildBoar_2351.jpg: 256x416 1 WildBoar, 13.3ms\n",
      "image 595/636 D:\\University College Dublin\\Trimester 3\\PIMM\\Project\\Final Project\\dataset_day\\images\\test\\WildBoar_2353.jpg: 256x416 1 WildBoar, 22.1ms\n",
      "image 596/636 D:\\University College Dublin\\Trimester 3\\PIMM\\Project\\Final Project\\dataset_day\\images\\test\\WildBoar_2369.jpg: 256x416 1 WildBoar, 13.3ms\n",
      "image 597/636 D:\\University College Dublin\\Trimester 3\\PIMM\\Project\\Final Project\\dataset_day\\images\\test\\WildBoar_2396.jpg: 256x416 1 WildBoar, 13.4ms\n",
      "image 598/636 D:\\University College Dublin\\Trimester 3\\PIMM\\Project\\Final Project\\dataset_day\\images\\test\\WildBoar_2418.jpg: 256x416 1 WildBoar, 16.8ms\n",
      "image 599/636 D:\\University College Dublin\\Trimester 3\\PIMM\\Project\\Final Project\\dataset_day\\images\\test\\WildBoar_2430.jpg: 256x416 1 WildBoar, 16.6ms\n",
      "image 600/636 D:\\University College Dublin\\Trimester 3\\PIMM\\Project\\Final Project\\dataset_day\\images\\test\\WildBoar_2432.jpg: 256x416 1 WildBoar, 16.7ms\n",
      "image 601/636 D:\\University College Dublin\\Trimester 3\\PIMM\\Project\\Final Project\\dataset_day\\images\\test\\WildBoar_2458.jpg: 256x416 1 WildBoar, 17.3ms\n",
      "image 602/636 D:\\University College Dublin\\Trimester 3\\PIMM\\Project\\Final Project\\dataset_day\\images\\test\\WildBoar_2512.jpg: 256x416 1 WildBoar, 16.8ms\n",
      "image 603/636 D:\\University College Dublin\\Trimester 3\\PIMM\\Project\\Final Project\\dataset_day\\images\\test\\Wildboar_1787.jpg: 256x416 1 WildBoar, 18.1ms\n",
      "image 604/636 D:\\University College Dublin\\Trimester 3\\PIMM\\Project\\Final Project\\dataset_day\\images\\test\\Wildboar_1820.jpg: 256x416 1 WildBoar, 17.7ms\n",
      "image 605/636 D:\\University College Dublin\\Trimester 3\\PIMM\\Project\\Final Project\\dataset_day\\images\\test\\Wildboar_1829.jpg: 256x416 1 WildBoar, 17.5ms\n",
      "image 606/636 D:\\University College Dublin\\Trimester 3\\PIMM\\Project\\Final Project\\dataset_day\\images\\test\\Wildboar_1831.jpg: 256x416 1 WildBoar, 18.4ms\n",
      "image 607/636 D:\\University College Dublin\\Trimester 3\\PIMM\\Project\\Final Project\\dataset_day\\images\\test\\Wildboar_1884.jpg: 256x416 1 WildBoar, 23.2ms\n",
      "image 608/636 D:\\University College Dublin\\Trimester 3\\PIMM\\Project\\Final Project\\dataset_day\\images\\test\\Wildboar_1885.jpg: 256x416 1 WildBoar, 47.8ms\n",
      "image 609/636 D:\\University College Dublin\\Trimester 3\\PIMM\\Project\\Final Project\\dataset_day\\images\\test\\Wildboar_1886.jpg: 256x416 1 WildBoar, 49.5ms\n",
      "image 610/636 D:\\University College Dublin\\Trimester 3\\PIMM\\Project\\Final Project\\dataset_day\\images\\test\\Wildboar_1888.jpg: 256x416 1 WildBoar, 58.0ms\n",
      "image 611/636 D:\\University College Dublin\\Trimester 3\\PIMM\\Project\\Final Project\\dataset_day\\images\\test\\Wildboar_1889.jpg: 256x416 1 WildBoar, 102.8ms\n",
      "image 612/636 D:\\University College Dublin\\Trimester 3\\PIMM\\Project\\Final Project\\dataset_day\\images\\test\\Wildboar_1908.jpg: 256x416 1 WildBoar, 100.8ms\n",
      "image 613/636 D:\\University College Dublin\\Trimester 3\\PIMM\\Project\\Final Project\\dataset_day\\images\\test\\Wildboar_1918.jpg: 256x416 1 WildBoar, 66.3ms\n",
      "image 614/636 D:\\University College Dublin\\Trimester 3\\PIMM\\Project\\Final Project\\dataset_day\\images\\test\\Wildboar_1930.jpg: 256x416 1 WildBoar, 44.3ms\n",
      "image 615/636 D:\\University College Dublin\\Trimester 3\\PIMM\\Project\\Final Project\\dataset_day\\images\\test\\Wildboar_1945.jpg: 256x416 1 WildBoar, 44.2ms\n",
      "image 616/636 D:\\University College Dublin\\Trimester 3\\PIMM\\Project\\Final Project\\dataset_day\\images\\test\\Wildboar_1949.jpg: 256x416 1 WildBoar, 18.2ms\n",
      "image 617/636 D:\\University College Dublin\\Trimester 3\\PIMM\\Project\\Final Project\\dataset_day\\images\\test\\Wildboar_1954.jpg: 256x416 1 WildBoar, 18.6ms\n",
      "image 618/636 D:\\University College Dublin\\Trimester 3\\PIMM\\Project\\Final Project\\dataset_day\\images\\test\\Wildboar_1958.jpg: 256x416 1 WildBoar, 17.7ms\n",
      "image 619/636 D:\\University College Dublin\\Trimester 3\\PIMM\\Project\\Final Project\\dataset_day\\images\\test\\Wildboar_1970.jpg: 256x416 1 WildBoar, 17.5ms\n",
      "image 620/636 D:\\University College Dublin\\Trimester 3\\PIMM\\Project\\Final Project\\dataset_day\\images\\test\\Wildboar_1991.jpg: 256x416 1 WildBoar, 17.5ms\n",
      "image 621/636 D:\\University College Dublin\\Trimester 3\\PIMM\\Project\\Final Project\\dataset_day\\images\\test\\Wildboar_1994.jpg: 256x416 1 WildBoar, 17.5ms\n",
      "image 622/636 D:\\University College Dublin\\Trimester 3\\PIMM\\Project\\Final Project\\dataset_day\\images\\test\\Wildboar_2068.jpg: 256x416 1 WildBoar, 17.5ms\n",
      "image 623/636 D:\\University College Dublin\\Trimester 3\\PIMM\\Project\\Final Project\\dataset_day\\images\\test\\Wildboar_2075.jpg: 256x416 1 WildBoar, 17.5ms\n",
      "image 624/636 D:\\University College Dublin\\Trimester 3\\PIMM\\Project\\Final Project\\dataset_day\\images\\test\\Wildboar_2102.jpg: 256x416 1 WildBoar, 17.6ms\n",
      "image 625/636 D:\\University College Dublin\\Trimester 3\\PIMM\\Project\\Final Project\\dataset_day\\images\\test\\Wildboar_2118.jpg: 256x416 1 WildBoar, 17.5ms\n",
      "image 626/636 D:\\University College Dublin\\Trimester 3\\PIMM\\Project\\Final Project\\dataset_day\\images\\test\\Wildboar_2123.jpg: 256x416 1 WildBoar, 17.6ms\n",
      "image 627/636 D:\\University College Dublin\\Trimester 3\\PIMM\\Project\\Final Project\\dataset_day\\images\\test\\Wildboar_2138.jpg: 256x416 1 WildBoar, 17.6ms\n",
      "image 628/636 D:\\University College Dublin\\Trimester 3\\PIMM\\Project\\Final Project\\dataset_day\\images\\test\\Wildboar_2141.jpg: 256x416 1 WildBoar, 18.2ms\n",
      "image 629/636 D:\\University College Dublin\\Trimester 3\\PIMM\\Project\\Final Project\\dataset_day\\images\\test\\Wildboar_2143.jpg: 256x416 1 WildBoar, 17.7ms\n",
      "image 630/636 D:\\University College Dublin\\Trimester 3\\PIMM\\Project\\Final Project\\dataset_day\\images\\test\\Wildboar_2158.jpg: 256x416 1 WildBoar, 17.4ms\n",
      "image 631/636 D:\\University College Dublin\\Trimester 3\\PIMM\\Project\\Final Project\\dataset_day\\images\\test\\Wildboar_2182.jpg: 256x416 1 WildBoar, 17.5ms\n",
      "image 632/636 D:\\University College Dublin\\Trimester 3\\PIMM\\Project\\Final Project\\dataset_day\\images\\test\\Wildboar_2196.jpg: 256x416 1 WildBoar, 17.5ms\n",
      "image 633/636 D:\\University College Dublin\\Trimester 3\\PIMM\\Project\\Final Project\\dataset_day\\images\\test\\Wildboar_2234.jpg: 256x416 1 WildBoar, 17.7ms\n",
      "image 634/636 D:\\University College Dublin\\Trimester 3\\PIMM\\Project\\Final Project\\dataset_day\\images\\test\\Wildboar_2235.jpg: 256x416 1 WildBoar, 17.6ms\n",
      "image 635/636 D:\\University College Dublin\\Trimester 3\\PIMM\\Project\\Final Project\\dataset_day\\images\\test\\Wildboar_2253.jpg: 256x416 1 WildBoar, 17.6ms\n",
      "image 636/636 D:\\University College Dublin\\Trimester 3\\PIMM\\Project\\Final Project\\dataset_day\\images\\test\\Wildboar_2271.jpg: 256x416 1 WildBoar, 17.6ms\n",
      "Speed: 1.1ms preprocess, 17.7ms inference, 2.8ms postprocess per image at shape (1, 3, 256, 416)\n",
      "Results saved to \u001b[1mruns\\detect\\day_test_output_yolo11\u001b[0m\n",
      "636 labels saved to runs\\detect\\day_test_output_yolo11\\labels\n"
     ]
    }
   ],
   "source": [
    "# Running detection on all test images in the Day dataset\n",
    "results = model.predict(\n",
    "    source=\"dataset_day/images/test\",    \n",
    "    save=True,                            \n",
    "    save_txt=True,                       \n",
    "    conf=0.25,                           \n",
    "    imgsz=416,                            \n",
    "    device=1,\n",
    "    name=\"day_test_output_yolo11\",             \n",
    "    project=\"runs/detect\",                \n",
    "    exist_ok=True \n",
    ")"
   ]
  },
  {
   "cell_type": "markdown",
   "id": "82b27e78-986a-435f-8e36-5af4cc981cc4",
   "metadata": {},
   "source": [
    "The above code:\n",
    "- Uses the loaded **YOLO** model to predict bounding boxes and classes on all images in the **test folder**.\n",
    "- Saves the output images with detections drawn to the folder: `runs/detect/day_test_output_yolo11`.\n",
    "- Saves prediction results as `.txt` files for each image (*useful for further analysis*).\n",
    "- Uses a **confidence threshold of 0.25** to filter detections.\n",
    "- Runs inference with images resized to **416×416 pixels**.\n",
    "- Performs detection on the **GPU device 1** (*update if needed*).\n",
    "- `exist_ok=True` allows overwriting previous outputs in the folder without errors.\n",
    "\n",
    "\n",
    "---"
   ]
  }
 ],
 "metadata": {
  "kernelspec": {
   "display_name": "YOLO-ARTNC",
   "language": "python",
   "name": "yolo-artnc"
  },
  "language_info": {
   "codemirror_mode": {
    "name": "ipython",
    "version": 3
   },
   "file_extension": ".py",
   "mimetype": "text/x-python",
   "name": "python",
   "nbconvert_exporter": "python",
   "pygments_lexer": "ipython3",
   "version": "3.10.7"
  }
 },
 "nbformat": 4,
 "nbformat_minor": 5
}
