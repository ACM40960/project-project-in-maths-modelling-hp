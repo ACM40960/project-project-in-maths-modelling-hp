{
 "cells": [
  {
   "cell_type": "markdown",
   "id": "10dd1304-2171-45e7-94cf-74aa9debda79",
   "metadata": {},
   "source": [
    "## *<u>YOLO V12 (Night Model)</u>*"
   ]
  },
  {
   "cell_type": "markdown",
   "id": "1030625a-9102-4264-a8ea-7db65e24d3ad",
   "metadata": {},
   "source": [
    "The following code checks for **`GPU`** availability. If it returns **`False`**, you will need to either use the **`CPU`** for training or explore ways to enable *GPU support*, if your system is compatible."
   ]
  },
  {
   "cell_type": "code",
   "execution_count": 1,
   "id": "728ebefb-d4cd-40f4-95ce-402e96b7f568",
   "metadata": {},
   "outputs": [
    {
     "name": "stdout",
     "output_type": "stream",
     "text": [
      "CUDA available: True\n",
      "GPU device name: NVIDIA GeForce GTX 1650 Ti\n"
     ]
    }
   ],
   "source": [
    "# Importing torch for checking the availability of GPU\n",
    "import torch\n",
    "print(\"CUDA available:\", torch.cuda.is_available())\n",
    "print(\"GPU device name:\", torch.cuda.get_device_name(0))"
   ]
  },
  {
   "cell_type": "code",
   "execution_count": 2,
   "id": "55f6a0f5-c51d-463a-a4c0-a1e279431d2e",
   "metadata": {},
   "outputs": [],
   "source": [
    "# Importing YOLO\n",
    "from ultralytics import YOLO"
   ]
  },
  {
   "cell_type": "markdown",
   "id": "7b02059b-95ab-4b19-88e7-5aaaa1db39c0",
   "metadata": {},
   "source": [
    "We again imported the `YOLO` class so we can load and train YOLO models in the following steps.\n",
    "\n",
    "---"
   ]
  },
  {
   "cell_type": "markdown",
   "id": "b51c14fe-8824-448c-95bf-51fbc6f7de33",
   "metadata": {},
   "source": [
    "### *<u>Training</u>*"
   ]
  },
  {
   "cell_type": "markdown",
   "id": "192c10c3-aa28-4f1f-ac53-d5d78d5d8055",
   "metadata": {},
   "source": [
    "Now we load the trained **YOLOv12 Day model** to fine-tune it on the **Night dataset.**"
   ]
  },
  {
   "cell_type": "code",
   "execution_count": 3,
   "id": "5eebcdd2-31b2-49aa-9f07-14f50369e9b1",
   "metadata": {},
   "outputs": [
    {
     "name": "stdout",
     "output_type": "stream",
     "text": [
      "New https://pypi.org/project/ultralytics/8.3.170 available  Update with 'pip install -U ultralytics'\n",
      "Ultralytics 8.3.165  Python-3.10.7 torch-2.5.1+cu121 CUDA:1 (NVIDIA GeForce GTX 1650 Ti, 4096MiB)\n",
      "\u001b[34m\u001b[1mengine\\trainer: \u001b[0magnostic_nms=False, amp=True, augment=False, auto_augment=randaugment, batch=8, bgr=0.0, box=7.5, cache=False, cfg=None, classes=None, close_mosaic=10, cls=0.5, conf=None, copy_paste=0.0, copy_paste_mode=flip, cos_lr=False, cutmix=0.0, data=dataset_night.yaml, degrees=0.0, deterministic=True, device=1, dfl=1.5, dnn=False, dropout=0.0, dynamic=False, embed=None, epochs=30, erasing=0.4, exist_ok=True, fliplr=0.5, flipud=0.0, format=torchscript, fraction=1.0, freeze=None, half=False, hsv_h=0.015, hsv_s=0.7, hsv_v=0.4, imgsz=416, int8=False, iou=0.7, keras=False, kobj=1.0, line_width=None, lr0=0.01, lrf=0.01, mask_ratio=4, max_det=300, mixup=0.0, mode=train, model=yolo12_day/yolov12m_day/weights/best.pt, momentum=0.937, mosaic=1.0, multi_scale=False, name=yolov12m_night, nbs=64, nms=False, opset=None, optimize=False, optimizer=auto, overlap_mask=True, patience=100, perspective=0.0, plots=True, pose=12.0, pretrained=True, profile=False, project=yolo12_night, rect=False, resume=False, retina_masks=False, save=True, save_conf=False, save_crop=False, save_dir=yolo12_night\\yolov12m_night, save_frames=False, save_json=False, save_period=-1, save_txt=False, scale=0.5, seed=0, shear=0.0, show=False, show_boxes=True, show_conf=True, show_labels=True, simplify=True, single_cls=False, source=None, split=val, stream_buffer=False, task=detect, time=None, tracker=botsort.yaml, translate=0.1, val=True, verbose=True, vid_stride=1, visualize=False, warmup_bias_lr=0.1, warmup_epochs=3.0, warmup_momentum=0.8, weight_decay=0.0005, workers=8, workspace=None\n",
      "\n",
      "                   from  n    params  module                                       arguments                     \n",
      "  0                  -1  1      1856  ultralytics.nn.modules.conv.Conv             [3, 64, 3, 2]                 \n",
      "  1                  -1  1     73984  ultralytics.nn.modules.conv.Conv             [64, 128, 3, 2]               \n",
      "  2                  -1  1    111872  ultralytics.nn.modules.block.C3k2            [128, 256, 1, True, 0.25]     \n",
      "  3                  -1  1    590336  ultralytics.nn.modules.conv.Conv             [256, 256, 3, 2]              \n",
      "  4                  -1  1    444928  ultralytics.nn.modules.block.C3k2            [256, 512, 1, True, 0.25]     \n",
      "  5                  -1  1   2360320  ultralytics.nn.modules.conv.Conv             [512, 512, 3, 2]              \n",
      "  6                  -1  2   2689536  ultralytics.nn.modules.block.A2C2f           [512, 512, 2, True, 4]        \n",
      "  7                  -1  1   2360320  ultralytics.nn.modules.conv.Conv             [512, 512, 3, 2]              \n",
      "  8                  -1  2   2689536  ultralytics.nn.modules.block.A2C2f           [512, 512, 2, True, 1]        \n",
      "  9                  -1  1         0  torch.nn.modules.upsampling.Upsample         [None, 2, 'nearest']          \n",
      " 10             [-1, 6]  1         0  ultralytics.nn.modules.conv.Concat           [1]                           \n",
      " 11                  -1  1   1248768  ultralytics.nn.modules.block.A2C2f           [1024, 512, 1, False, -1]     \n",
      " 12                  -1  1         0  torch.nn.modules.upsampling.Upsample         [None, 2, 'nearest']          \n",
      " 13             [-1, 4]  1         0  ultralytics.nn.modules.conv.Concat           [1]                           \n",
      " 14                  -1  1    378624  ultralytics.nn.modules.block.A2C2f           [1024, 256, 1, False, -1]     \n",
      " 15                  -1  1    590336  ultralytics.nn.modules.conv.Conv             [256, 256, 3, 2]              \n",
      " 16            [-1, 11]  1         0  ultralytics.nn.modules.conv.Concat           [1]                           \n",
      " 17                  -1  1   1183232  ultralytics.nn.modules.block.A2C2f           [768, 512, 1, False, -1]      \n",
      " 18                  -1  1   2360320  ultralytics.nn.modules.conv.Conv             [512, 512, 3, 2]              \n",
      " 19             [-1, 8]  1         0  ultralytics.nn.modules.conv.Concat           [1]                           \n",
      " 20                  -1  1   1642496  ultralytics.nn.modules.block.C3k2            [1024, 512, 1, True]          \n",
      " 21        [14, 17, 20]  1   1415650  ultralytics.nn.modules.head.Detect           [6, [256, 512, 512]]          \n",
      "YOLOv12m summary: 292 layers, 20,142,114 parameters, 20,142,098 gradients, 67.8 GFLOPs\n",
      "\n",
      "Transferred 751/751 items from pretrained weights\n",
      "Freezing layer 'model.21.dfl.conv.weight'\n",
      "WARNING \u001b[34m\u001b[1mAMP: \u001b[0mchecks failed . AMP training on NVIDIA GeForce GTX 1650 Ti GPU may cause NaN losses or zero-mAP results, so AMP will be disabled during training.\n",
      "\u001b[34m\u001b[1mtrain: \u001b[0mFast image access  (ping: 0.20.0 ms, read: 6.83.0 MB/s, size: 220.2 KB)\n"
     ]
    },
    {
     "name": "stderr",
     "output_type": "stream",
     "text": [
      "\u001b[34m\u001b[1mtrain: \u001b[0mScanning D:\\University College Dublin\\Trimester 3\\PIMM\\Project\\Final Project\\dataset_night\\labels\\train.cache...\u001b[0m\n"
     ]
    },
    {
     "name": "stdout",
     "output_type": "stream",
     "text": [
      "\u001b[34m\u001b[1mval: \u001b[0mFast image access  (ping: 0.40.2 ms, read: 3.12.3 MB/s, size: 252.6 KB)\n"
     ]
    },
    {
     "name": "stderr",
     "output_type": "stream",
     "text": [
      "\u001b[34m\u001b[1mval: \u001b[0mScanning D:\\University College Dublin\\Trimester 3\\PIMM\\Project\\Final Project\\dataset_night\\labels\\val.cache... 450\u001b[0m\n"
     ]
    },
    {
     "name": "stdout",
     "output_type": "stream",
     "text": [
      "Plotting labels to yolo12_night\\yolov12m_night\\labels.jpg... \n",
      "\u001b[34m\u001b[1moptimizer:\u001b[0m 'optimizer=auto' found, ignoring 'lr0=0.01' and 'momentum=0.937' and determining best 'optimizer', 'lr0' and 'momentum' automatically... \n",
      "\u001b[34m\u001b[1moptimizer:\u001b[0m AdamW(lr=0.001, momentum=0.9) with parameter groups 123 weight(decay=0.0), 130 weight(decay=0.0005), 129 bias(decay=0.0)\n",
      "Image sizes 416 train, 416 val\n",
      "Using 8 dataloader workers\n",
      "Logging results to \u001b[1myolo12_night\\yolov12m_night\u001b[0m\n",
      "Starting training for 30 epochs...\n",
      "\n",
      "      Epoch    GPU_mem   box_loss   cls_loss   dfl_loss  Instances       Size\n"
     ]
    },
    {
     "name": "stderr",
     "output_type": "stream",
     "text": [
      "       1/30      4.24G      1.029      1.078      1.264          7        416: 100%|██████████| 263/263 [09:27<00:00,  \n",
      "                 Class     Images  Instances      Box(P          R      mAP50  mAP50-95): 100%|██████████| 29/29 [00:44\n"
     ]
    },
    {
     "name": "stdout",
     "output_type": "stream",
     "text": [
      "                   all        450        457      0.696      0.701      0.758      0.518\n",
      "\n",
      "      Epoch    GPU_mem   box_loss   cls_loss   dfl_loss  Instances       Size\n"
     ]
    },
    {
     "name": "stderr",
     "output_type": "stream",
     "text": [
      "       2/30      4.12G      1.015     0.9071      1.246          9        416: 100%|██████████| 263/263 [09:43<00:00,  \n",
      "                 Class     Images  Instances      Box(P          R      mAP50  mAP50-95): 100%|██████████| 29/29 [00:08"
     ]
    },
    {
     "name": "stdout",
     "output_type": "stream",
     "text": [
      "                   all        450        457      0.823      0.795      0.885      0.654\n"
     ]
    },
    {
     "name": "stderr",
     "output_type": "stream",
     "text": [
      "\n"
     ]
    },
    {
     "name": "stdout",
     "output_type": "stream",
     "text": [
      "\n",
      "      Epoch    GPU_mem   box_loss   cls_loss   dfl_loss  Instances       Size\n"
     ]
    },
    {
     "name": "stderr",
     "output_type": "stream",
     "text": [
      "       3/30      4.14G      1.025     0.9766      1.248         10        416: 100%|██████████| 263/263 [08:23<00:00,  \n",
      "                 Class     Images  Instances      Box(P          R      mAP50  mAP50-95): 100%|██████████| 29/29 [00:11"
     ]
    },
    {
     "name": "stdout",
     "output_type": "stream",
     "text": [
      "                   all        450        457      0.879      0.847      0.912      0.689\n"
     ]
    },
    {
     "name": "stderr",
     "output_type": "stream",
     "text": [
      "\n"
     ]
    },
    {
     "name": "stdout",
     "output_type": "stream",
     "text": [
      "\n",
      "      Epoch    GPU_mem   box_loss   cls_loss   dfl_loss  Instances       Size\n"
     ]
    },
    {
     "name": "stderr",
     "output_type": "stream",
     "text": [
      "       4/30      4.11G      1.032      0.954      1.252          8        416: 100%|██████████| 263/263 [07:20<00:00,  \n",
      "                 Class     Images  Instances      Box(P          R      mAP50  mAP50-95): 100%|██████████| 29/29 [00:08"
     ]
    },
    {
     "name": "stdout",
     "output_type": "stream",
     "text": [
      "                   all        450        457      0.844      0.846      0.913      0.676\n"
     ]
    },
    {
     "name": "stderr",
     "output_type": "stream",
     "text": [
      "\n"
     ]
    },
    {
     "name": "stdout",
     "output_type": "stream",
     "text": [
      "\n",
      "      Epoch    GPU_mem   box_loss   cls_loss   dfl_loss  Instances       Size\n"
     ]
    },
    {
     "name": "stderr",
     "output_type": "stream",
     "text": [
      "       5/30      4.12G      1.016     0.8945      1.245          7        416: 100%|██████████| 263/263 [05:25<00:00,  \n",
      "                 Class     Images  Instances      Box(P          R      mAP50  mAP50-95): 100%|██████████| 29/29 [00:11"
     ]
    },
    {
     "name": "stdout",
     "output_type": "stream",
     "text": [
      "                   all        450        457      0.848      0.849      0.886      0.645\n"
     ]
    },
    {
     "name": "stderr",
     "output_type": "stream",
     "text": [
      "\n"
     ]
    },
    {
     "name": "stdout",
     "output_type": "stream",
     "text": [
      "\n",
      "      Epoch    GPU_mem   box_loss   cls_loss   dfl_loss  Instances       Size\n"
     ]
    },
    {
     "name": "stderr",
     "output_type": "stream",
     "text": [
      "       6/30      4.12G      1.015     0.8826      1.233          9        416: 100%|██████████| 263/263 [06:58<00:00,  \n",
      "                 Class     Images  Instances      Box(P          R      mAP50  mAP50-95): 100%|██████████| 29/29 [00:08"
     ]
    },
    {
     "name": "stdout",
     "output_type": "stream",
     "text": [
      "                   all        450        457      0.898      0.872      0.922       0.72\n"
     ]
    },
    {
     "name": "stderr",
     "output_type": "stream",
     "text": [
      "\n"
     ]
    },
    {
     "name": "stdout",
     "output_type": "stream",
     "text": [
      "\n",
      "      Epoch    GPU_mem   box_loss   cls_loss   dfl_loss  Instances       Size\n"
     ]
    },
    {
     "name": "stderr",
     "output_type": "stream",
     "text": [
      "       7/30      4.12G     0.9507     0.7746      1.186          7        416: 100%|██████████| 263/263 [05:42<00:00,  \n",
      "                 Class     Images  Instances      Box(P          R      mAP50  mAP50-95): 100%|██████████| 29/29 [00:12"
     ]
    },
    {
     "name": "stdout",
     "output_type": "stream",
     "text": [
      "                   all        450        457      0.856      0.844      0.903      0.692\n"
     ]
    },
    {
     "name": "stderr",
     "output_type": "stream",
     "text": [
      "\n"
     ]
    },
    {
     "name": "stdout",
     "output_type": "stream",
     "text": [
      "\n",
      "      Epoch    GPU_mem   box_loss   cls_loss   dfl_loss  Instances       Size\n"
     ]
    },
    {
     "name": "stderr",
     "output_type": "stream",
     "text": [
      "       8/30      4.13G      0.957     0.8271      1.198         12        416: 100%|██████████| 263/263 [06:57<00:00,  \n",
      "                 Class     Images  Instances      Box(P          R      mAP50  mAP50-95): 100%|██████████| 29/29 [00:08"
     ]
    },
    {
     "name": "stdout",
     "output_type": "stream",
     "text": [
      "                   all        450        457      0.894      0.834      0.912       0.69\n"
     ]
    },
    {
     "name": "stderr",
     "output_type": "stream",
     "text": [
      "\n"
     ]
    },
    {
     "name": "stdout",
     "output_type": "stream",
     "text": [
      "\n",
      "      Epoch    GPU_mem   box_loss   cls_loss   dfl_loss  Instances       Size\n"
     ]
    },
    {
     "name": "stderr",
     "output_type": "stream",
     "text": [
      "       9/30      4.13G     0.9296     0.7609       1.18          9        416: 100%|██████████| 263/263 [06:53<00:00,  \n",
      "                 Class     Images  Instances      Box(P          R      mAP50  mAP50-95): 100%|██████████| 29/29 [00:08"
     ]
    },
    {
     "name": "stdout",
     "output_type": "stream",
     "text": [
      "                   all        450        457       0.91      0.886      0.947      0.734\n"
     ]
    },
    {
     "name": "stderr",
     "output_type": "stream",
     "text": [
      "\n"
     ]
    },
    {
     "name": "stdout",
     "output_type": "stream",
     "text": [
      "\n",
      "      Epoch    GPU_mem   box_loss   cls_loss   dfl_loss  Instances       Size\n"
     ]
    },
    {
     "name": "stderr",
     "output_type": "stream",
     "text": [
      "      10/30      4.05G     0.9241     0.7328      1.182          8        416: 100%|██████████| 263/263 [06:54<00:00,  \n",
      "                 Class     Images  Instances      Box(P          R      mAP50  mAP50-95): 100%|██████████| 29/29 [00:10"
     ]
    },
    {
     "name": "stdout",
     "output_type": "stream",
     "text": [
      "                   all        450        457      0.898      0.852      0.934      0.724\n"
     ]
    },
    {
     "name": "stderr",
     "output_type": "stream",
     "text": [
      "\n"
     ]
    },
    {
     "name": "stdout",
     "output_type": "stream",
     "text": [
      "\n",
      "      Epoch    GPU_mem   box_loss   cls_loss   dfl_loss  Instances       Size\n"
     ]
    },
    {
     "name": "stderr",
     "output_type": "stream",
     "text": [
      "      11/30      4.12G     0.9028     0.7277       1.17          7        416: 100%|██████████| 263/263 [05:56<00:00,  \n",
      "                 Class     Images  Instances      Box(P          R      mAP50  mAP50-95): 100%|██████████| 29/29 [00:09"
     ]
    },
    {
     "name": "stdout",
     "output_type": "stream",
     "text": [
      "                   all        450        457      0.807      0.826      0.885      0.686\n"
     ]
    },
    {
     "name": "stderr",
     "output_type": "stream",
     "text": [
      "\n"
     ]
    },
    {
     "name": "stdout",
     "output_type": "stream",
     "text": [
      "\n",
      "      Epoch    GPU_mem   box_loss   cls_loss   dfl_loss  Instances       Size\n"
     ]
    },
    {
     "name": "stderr",
     "output_type": "stream",
     "text": [
      "      12/30      4.11G     0.8734     0.6915      1.149          9        416: 100%|██████████| 263/263 [06:42<00:00,  \n",
      "                 Class     Images  Instances      Box(P          R      mAP50  mAP50-95): 100%|██████████| 29/29 [00:08"
     ]
    },
    {
     "name": "stdout",
     "output_type": "stream",
     "text": [
      "                   all        450        457      0.907      0.905      0.954      0.736\n"
     ]
    },
    {
     "name": "stderr",
     "output_type": "stream",
     "text": [
      "\n"
     ]
    },
    {
     "name": "stdout",
     "output_type": "stream",
     "text": [
      "\n",
      "      Epoch    GPU_mem   box_loss   cls_loss   dfl_loss  Instances       Size\n"
     ]
    },
    {
     "name": "stderr",
     "output_type": "stream",
     "text": [
      "      13/30      4.11G     0.8667     0.6859      1.141          8        416: 100%|██████████| 263/263 [07:06<00:00,  \n",
      "                 Class     Images  Instances      Box(P          R      mAP50  mAP50-95): 100%|██████████| 29/29 [00:08"
     ]
    },
    {
     "name": "stdout",
     "output_type": "stream",
     "text": [
      "                   all        450        457       0.89      0.905      0.931      0.725\n"
     ]
    },
    {
     "name": "stderr",
     "output_type": "stream",
     "text": [
      "\n"
     ]
    },
    {
     "name": "stdout",
     "output_type": "stream",
     "text": [
      "\n",
      "      Epoch    GPU_mem   box_loss   cls_loss   dfl_loss  Instances       Size\n"
     ]
    },
    {
     "name": "stderr",
     "output_type": "stream",
     "text": [
      "      14/30      4.12G     0.8498     0.6695      1.139         11        416: 100%|██████████| 263/263 [05:16<00:00,  \n",
      "                 Class     Images  Instances      Box(P          R      mAP50  mAP50-95): 100%|██████████| 29/29 [00:11"
     ]
    },
    {
     "name": "stdout",
     "output_type": "stream",
     "text": [
      "                   all        450        457      0.918      0.898      0.954      0.757\n"
     ]
    },
    {
     "name": "stderr",
     "output_type": "stream",
     "text": [
      "\n"
     ]
    },
    {
     "name": "stdout",
     "output_type": "stream",
     "text": [
      "\n",
      "      Epoch    GPU_mem   box_loss   cls_loss   dfl_loss  Instances       Size\n"
     ]
    },
    {
     "name": "stderr",
     "output_type": "stream",
     "text": [
      "      15/30      4.13G     0.8347     0.6413      1.126          8        416: 100%|██████████| 263/263 [07:26<00:00,  \n",
      "                 Class     Images  Instances      Box(P          R      mAP50  mAP50-95): 100%|██████████| 29/29 [00:08"
     ]
    },
    {
     "name": "stdout",
     "output_type": "stream",
     "text": [
      "                   all        450        457       0.91      0.929      0.963      0.779\n"
     ]
    },
    {
     "name": "stderr",
     "output_type": "stream",
     "text": [
      "\n"
     ]
    },
    {
     "name": "stdout",
     "output_type": "stream",
     "text": [
      "\n",
      "      Epoch    GPU_mem   box_loss   cls_loss   dfl_loss  Instances       Size\n"
     ]
    },
    {
     "name": "stderr",
     "output_type": "stream",
     "text": [
      "      16/30      4.12G     0.8313     0.6061      1.118         10        416: 100%|██████████| 263/263 [05:46<00:00,  \n",
      "                 Class     Images  Instances      Box(P          R      mAP50  mAP50-95): 100%|██████████| 29/29 [00:11"
     ]
    },
    {
     "name": "stdout",
     "output_type": "stream",
     "text": [
      "                   all        450        457      0.917      0.925      0.963      0.791\n"
     ]
    },
    {
     "name": "stderr",
     "output_type": "stream",
     "text": [
      "\n"
     ]
    },
    {
     "name": "stdout",
     "output_type": "stream",
     "text": [
      "\n",
      "      Epoch    GPU_mem   box_loss   cls_loss   dfl_loss  Instances       Size\n"
     ]
    },
    {
     "name": "stderr",
     "output_type": "stream",
     "text": [
      "      17/30      4.12G     0.8113     0.5969      1.115          8        416: 100%|██████████| 263/263 [06:06<00:00,  \n",
      "                 Class     Images  Instances      Box(P          R      mAP50  mAP50-95): 100%|██████████| 29/29 [00:08"
     ]
    },
    {
     "name": "stdout",
     "output_type": "stream",
     "text": [
      "                   all        450        457      0.903      0.873      0.933      0.762\n"
     ]
    },
    {
     "name": "stderr",
     "output_type": "stream",
     "text": [
      "\n"
     ]
    },
    {
     "name": "stdout",
     "output_type": "stream",
     "text": [
      "\n",
      "      Epoch    GPU_mem   box_loss   cls_loss   dfl_loss  Instances       Size\n"
     ]
    },
    {
     "name": "stderr",
     "output_type": "stream",
     "text": [
      "      18/30      4.05G     0.7921     0.5908      1.093          5        416: 100%|██████████| 263/263 [04:46<00:00,  \n",
      "                 Class     Images  Instances      Box(P          R      mAP50  mAP50-95): 100%|██████████| 29/29 [00:08"
     ]
    },
    {
     "name": "stdout",
     "output_type": "stream",
     "text": [
      "                   all        450        457      0.935      0.915      0.963      0.787\n"
     ]
    },
    {
     "name": "stderr",
     "output_type": "stream",
     "text": [
      "\n"
     ]
    },
    {
     "name": "stdout",
     "output_type": "stream",
     "text": [
      "\n",
      "      Epoch    GPU_mem   box_loss   cls_loss   dfl_loss  Instances       Size\n"
     ]
    },
    {
     "name": "stderr",
     "output_type": "stream",
     "text": [
      "      19/30      4.12G     0.7983     0.5613      1.099         10        416: 100%|██████████| 263/263 [06:25<00:00,  \n",
      "                 Class     Images  Instances      Box(P          R      mAP50  mAP50-95): 100%|██████████| 29/29 [00:08"
     ]
    },
    {
     "name": "stdout",
     "output_type": "stream",
     "text": [
      "                   all        450        457      0.943      0.936      0.966      0.796\n"
     ]
    },
    {
     "name": "stderr",
     "output_type": "stream",
     "text": [
      "\n"
     ]
    },
    {
     "name": "stdout",
     "output_type": "stream",
     "text": [
      "\n",
      "      Epoch    GPU_mem   box_loss   cls_loss   dfl_loss  Instances       Size\n"
     ]
    },
    {
     "name": "stderr",
     "output_type": "stream",
     "text": [
      "      20/30      4.11G      0.776      0.552       1.08          9        416: 100%|██████████| 263/263 [05:25<00:00,  \n",
      "                 Class     Images  Instances      Box(P          R      mAP50  mAP50-95): 100%|██████████| 29/29 [00:11"
     ]
    },
    {
     "name": "stdout",
     "output_type": "stream",
     "text": [
      "                   all        450        457      0.955      0.953      0.975      0.815\n"
     ]
    },
    {
     "name": "stderr",
     "output_type": "stream",
     "text": [
      "\n"
     ]
    },
    {
     "name": "stdout",
     "output_type": "stream",
     "text": [
      "Closing dataloader mosaic\n",
      "\n",
      "      Epoch    GPU_mem   box_loss   cls_loss   dfl_loss  Instances       Size\n"
     ]
    },
    {
     "name": "stderr",
     "output_type": "stream",
     "text": [
      "      21/30      4.11G     0.7127     0.4513      1.056          4        416: 100%|██████████| 263/263 [06:41<00:00,  \n",
      "                 Class     Images  Instances      Box(P          R      mAP50  mAP50-95): 100%|██████████| 29/29 [00:17\n"
     ]
    },
    {
     "name": "stdout",
     "output_type": "stream",
     "text": [
      "                   all        450        457      0.936      0.899      0.963      0.789\n",
      "\n",
      "      Epoch    GPU_mem   box_loss   cls_loss   dfl_loss  Instances       Size\n"
     ]
    },
    {
     "name": "stderr",
     "output_type": "stream",
     "text": [
      "      22/30      4.12G     0.7028     0.4249      1.043          4        416: 100%|██████████| 263/263 [05:30<00:00,  \n",
      "                 Class     Images  Instances      Box(P          R      mAP50  mAP50-95): 100%|██████████| 29/29 [00:12"
     ]
    },
    {
     "name": "stdout",
     "output_type": "stream",
     "text": [
      "                   all        450        457      0.942      0.938      0.969      0.803\n"
     ]
    },
    {
     "name": "stderr",
     "output_type": "stream",
     "text": [
      "\n"
     ]
    },
    {
     "name": "stdout",
     "output_type": "stream",
     "text": [
      "\n",
      "      Epoch    GPU_mem   box_loss   cls_loss   dfl_loss  Instances       Size\n"
     ]
    },
    {
     "name": "stderr",
     "output_type": "stream",
     "text": [
      "      23/30      4.13G     0.6869     0.4166      1.037          4        416: 100%|██████████| 263/263 [06:29<00:00,  \n",
      "                 Class     Images  Instances      Box(P          R      mAP50  mAP50-95): 100%|██████████| 29/29 [00:08"
     ]
    },
    {
     "name": "stdout",
     "output_type": "stream",
     "text": [
      "                   all        450        457       0.95      0.943      0.972       0.81\n"
     ]
    },
    {
     "name": "stderr",
     "output_type": "stream",
     "text": [
      "\n"
     ]
    },
    {
     "name": "stdout",
     "output_type": "stream",
     "text": [
      "\n",
      "      Epoch    GPU_mem   box_loss   cls_loss   dfl_loss  Instances       Size\n"
     ]
    },
    {
     "name": "stderr",
     "output_type": "stream",
     "text": [
      "      24/30      4.13G     0.6612     0.3912      1.014          4        416: 100%|██████████| 263/263 [05:18<00:00,  \n",
      "                 Class     Images  Instances      Box(P          R      mAP50  mAP50-95): 100%|██████████| 29/29 [00:08"
     ]
    },
    {
     "name": "stdout",
     "output_type": "stream",
     "text": [
      "                   all        450        457      0.951       0.94      0.973      0.812\n"
     ]
    },
    {
     "name": "stderr",
     "output_type": "stream",
     "text": [
      "\n"
     ]
    },
    {
     "name": "stdout",
     "output_type": "stream",
     "text": [
      "\n",
      "      Epoch    GPU_mem   box_loss   cls_loss   dfl_loss  Instances       Size\n"
     ]
    },
    {
     "name": "stderr",
     "output_type": "stream",
     "text": [
      "      25/30      4.14G     0.6502     0.3769      1.013          4        416: 100%|██████████| 263/263 [06:00<00:00,  \n",
      "                 Class     Images  Instances      Box(P          R      mAP50  mAP50-95): 100%|██████████| 29/29 [00:08"
     ]
    },
    {
     "name": "stdout",
     "output_type": "stream",
     "text": [
      "                   all        450        457      0.952       0.95      0.979      0.821\n"
     ]
    },
    {
     "name": "stderr",
     "output_type": "stream",
     "text": [
      "\n"
     ]
    },
    {
     "name": "stdout",
     "output_type": "stream",
     "text": [
      "\n",
      "      Epoch    GPU_mem   box_loss   cls_loss   dfl_loss  Instances       Size\n"
     ]
    },
    {
     "name": "stderr",
     "output_type": "stream",
     "text": [
      "      26/30      4.05G     0.6226     0.3571      1.001          4        416: 100%|██████████| 263/263 [05:19<00:00,  \n",
      "                 Class     Images  Instances      Box(P          R      mAP50  mAP50-95): 100%|██████████| 29/29 [00:08"
     ]
    },
    {
     "name": "stdout",
     "output_type": "stream",
     "text": [
      "                   all        450        457      0.962      0.958       0.98      0.831\n"
     ]
    },
    {
     "name": "stderr",
     "output_type": "stream",
     "text": [
      "\n"
     ]
    },
    {
     "name": "stdout",
     "output_type": "stream",
     "text": [
      "\n",
      "      Epoch    GPU_mem   box_loss   cls_loss   dfl_loss  Instances       Size\n"
     ]
    },
    {
     "name": "stderr",
     "output_type": "stream",
     "text": [
      "      27/30      4.12G     0.6176     0.3515     0.9966          4        416: 100%|██████████| 263/263 [05:00<00:00,  \n",
      "                 Class     Images  Instances      Box(P          R      mAP50  mAP50-95): 100%|██████████| 29/29 [00:12"
     ]
    },
    {
     "name": "stdout",
     "output_type": "stream",
     "text": [
      "                   all        450        457      0.968      0.945      0.979      0.833\n"
     ]
    },
    {
     "name": "stderr",
     "output_type": "stream",
     "text": [
      "\n"
     ]
    },
    {
     "name": "stdout",
     "output_type": "stream",
     "text": [
      "\n",
      "      Epoch    GPU_mem   box_loss   cls_loss   dfl_loss  Instances       Size\n"
     ]
    },
    {
     "name": "stderr",
     "output_type": "stream",
     "text": [
      "      28/30      4.13G      0.607     0.3389     0.9975          4        416: 100%|██████████| 263/263 [07:01<00:00,  \n",
      "                 Class     Images  Instances      Box(P          R      mAP50  mAP50-95): 100%|██████████| 29/29 [00:10"
     ]
    },
    {
     "name": "stdout",
     "output_type": "stream",
     "text": [
      "                   all        450        457      0.964      0.964       0.98      0.837\n"
     ]
    },
    {
     "name": "stderr",
     "output_type": "stream",
     "text": [
      "\n"
     ]
    },
    {
     "name": "stdout",
     "output_type": "stream",
     "text": [
      "\n",
      "      Epoch    GPU_mem   box_loss   cls_loss   dfl_loss  Instances       Size\n"
     ]
    },
    {
     "name": "stderr",
     "output_type": "stream",
     "text": [
      "      29/30      4.12G     0.5927     0.3254     0.9805          4        416: 100%|██████████| 263/263 [06:31<00:00,  \n",
      "                 Class     Images  Instances      Box(P          R      mAP50  mAP50-95): 100%|██████████| 29/29 [00:10"
     ]
    },
    {
     "name": "stdout",
     "output_type": "stream",
     "text": [
      "                   all        450        457      0.978      0.965      0.984      0.846\n"
     ]
    },
    {
     "name": "stderr",
     "output_type": "stream",
     "text": [
      "\n"
     ]
    },
    {
     "name": "stdout",
     "output_type": "stream",
     "text": [
      "\n",
      "      Epoch    GPU_mem   box_loss   cls_loss   dfl_loss  Instances       Size\n"
     ]
    },
    {
     "name": "stderr",
     "output_type": "stream",
     "text": [
      "      30/30      4.13G     0.5837     0.3177      0.977          4        416: 100%|██████████| 263/263 [06:17<00:00,  \n",
      "                 Class     Images  Instances      Box(P          R      mAP50  mAP50-95): 100%|██████████| 29/29 [00:08"
     ]
    },
    {
     "name": "stdout",
     "output_type": "stream",
     "text": [
      "                   all        450        457       0.97       0.97      0.983      0.848\n"
     ]
    },
    {
     "name": "stderr",
     "output_type": "stream",
     "text": [
      "\n"
     ]
    },
    {
     "name": "stdout",
     "output_type": "stream",
     "text": [
      "\n",
      "30 epochs completed in 3.397 hours.\n",
      "Optimizer stripped from yolo12_night\\yolov12m_night\\weights\\last.pt, 40.7MB\n",
      "Optimizer stripped from yolo12_night\\yolov12m_night\\weights\\best.pt, 40.7MB\n",
      "\n",
      "Validating yolo12_night\\yolov12m_night\\weights\\best.pt...\n",
      "Ultralytics 8.3.165  Python-3.10.7 torch-2.5.1+cu121 CUDA:1 (NVIDIA GeForce GTX 1650 Ti, 4096MiB)\n",
      "YOLOv12m summary (fused): 169 layers, 20,109,538 parameters, 0 gradients, 67.1 GFLOPs\n"
     ]
    },
    {
     "name": "stderr",
     "output_type": "stream",
     "text": [
      "                 Class     Images  Instances      Box(P          R      mAP50  mAP50-95): 100%|██████████| 29/29 [00:09\n"
     ]
    },
    {
     "name": "stdout",
     "output_type": "stream",
     "text": [
      "                   all        450        457       0.97       0.97      0.983      0.848\n",
      "           AmurLeopard         75         77      0.984      0.987      0.992      0.915\n",
      "             AmurTiger         75         75      0.981          1      0.993       0.91\n",
      "            LeopardCat         75         75      0.946       0.94      0.971      0.842\n",
      "                RedFox         75         75      0.961      0.979      0.988      0.835\n",
      "                Weasel         75         75      0.986       0.97      0.983      0.778\n",
      "              WildBoar         75         80      0.962      0.946      0.972      0.808\n",
      "Speed: 0.1ms preprocess, 12.7ms inference, 0.0ms loss, 3.4ms postprocess per image\n",
      "Results saved to \u001b[1myolo12_night\\yolov12m_night\u001b[0m\n"
     ]
    }
   ],
   "source": [
    "# Loading the trained Day model \n",
    "model = YOLO(\"yolo12_day/yolov12m_day/weights/best.pt\")\n",
    "\n",
    "# Using the Day model to train the Night model\n",
    "results = model.train(\n",
    "    data=\"dataset_night.yaml\",             \n",
    "    epochs=30,                             \n",
    "    imgsz=416,\n",
    "    batch=8,\n",
    "    device=1,\n",
    "    project=\"yolo12_night\",\n",
    "    name=\"yolov12m_night\",\n",
    "    exist_ok=True\n",
    ")"
   ]
  },
  {
   "cell_type": "markdown",
   "id": "da9db1b8-6702-4c19-9de8-5f5645eced33",
   "metadata": {},
   "source": [
    "The above code:\n",
    "- Loads the best weights from the **Day model training** (`best.pt`).\n",
    "- Continues training the model using the **Night dataset** specified in `dataset_night.yaml`.\n",
    "- Trains for **30 epochs** with image size **416×416** and batch size **8**.\n",
    "- Uses **GPU device 1** (adjust if needed).\n",
    "- Saves the fine-tuned model outputs under `yolo12_night/yolov12m_night/`.\n",
    "- `exist_ok=True` allows overwriting existing output folders without errors.\n",
    "\n",
    "*Fine-tuning helps the model adapt from well-lit Day images to the more challenging Night images.*\n",
    "\n",
    "\n",
    "--- "
   ]
  },
  {
   "cell_type": "markdown",
   "id": "c39af66b-2050-43ee-a89e-1ad7976824bd",
   "metadata": {},
   "source": [
    "### *<u>Evaluation</u>*"
   ]
  },
  {
   "cell_type": "markdown",
   "id": "7d98c0ec-4c66-4877-b2d2-1a0939f60aaa",
   "metadata": {},
   "source": [
    "Now we load the best fine-tuned **YOLOv12 Night model** to evaluate its performance."
   ]
  },
  {
   "cell_type": "code",
   "execution_count": 4,
   "id": "ad654dfc-f5a2-404e-b171-abbdadd4405d",
   "metadata": {},
   "outputs": [
    {
     "name": "stdout",
     "output_type": "stream",
     "text": [
      "Ultralytics 8.3.165  Python-3.10.7 torch-2.5.1+cu121 CUDA:1 (NVIDIA GeForce GTX 1650 Ti, 4096MiB)\n",
      "YOLOv12m summary (fused): 169 layers, 20,109,538 parameters, 0 gradients, 67.1 GFLOPs\n",
      "\u001b[34m\u001b[1mval: \u001b[0mFast image access  (ping: 0.20.1 ms, read: 13.66.4 MB/s, size: 257.7 KB)\n"
     ]
    },
    {
     "name": "stderr",
     "output_type": "stream",
     "text": [
      "\u001b[34m\u001b[1mval: \u001b[0mScanning D:\\University College Dublin\\Trimester 3\\PIMM\\Project\\Final Project\\dataset_night\\labels\\test.cache... 45\u001b[0m\n",
      "                 Class     Images  Instances      Box(P          R      mAP50  mAP50-95): 100%|██████████| 57/57 [00:11\n"
     ]
    },
    {
     "name": "stdout",
     "output_type": "stream",
     "text": [
      "                   all        450        453       0.99      0.962      0.988      0.854\n",
      "           AmurLeopard         75         76      0.993          1      0.995      0.886\n",
      "             AmurTiger         75         75      0.998          1      0.995      0.891\n",
      "            LeopardCat         75         75      0.977      0.973      0.994      0.879\n",
      "                RedFox         75         75      0.986      0.942      0.972      0.797\n",
      "                Weasel         75         75      0.985      0.897      0.983      0.794\n",
      "              WildBoar         75         77          1      0.963      0.988      0.879\n",
      "Speed: 0.2ms preprocess, 15.0ms inference, 0.0ms loss, 1.2ms postprocess per image\n",
      "Results saved to \u001b[1mruns\\detect\\yolo12_night_val\u001b[0m\n",
      "ultralytics.utils.metrics.DetMetrics object with attributes:\n",
      "\n",
      "ap_class_index: array([0, 1, 2, 3, 4, 5])\n",
      "box: ultralytics.utils.metrics.Metric object\n",
      "confusion_matrix: <ultralytics.utils.metrics.ConfusionMatrix object at 0x000002227C9F24D0>\n",
      "curves: ['Precision-Recall(B)', 'F1-Confidence(B)', 'Precision-Confidence(B)', 'Recall-Confidence(B)']\n",
      "curves_results: [[array([          0,    0.001001,    0.002002,    0.003003,    0.004004,    0.005005,    0.006006,    0.007007,    0.008008,    0.009009,     0.01001,    0.011011,    0.012012,    0.013013,    0.014014,    0.015015,    0.016016,    0.017017,    0.018018,    0.019019,     0.02002,    0.021021,    0.022022,    0.023023,\n",
      "          0.024024,    0.025025,    0.026026,    0.027027,    0.028028,    0.029029,     0.03003,    0.031031,    0.032032,    0.033033,    0.034034,    0.035035,    0.036036,    0.037037,    0.038038,    0.039039,     0.04004,    0.041041,    0.042042,    0.043043,    0.044044,    0.045045,    0.046046,    0.047047,\n",
      "          0.048048,    0.049049,     0.05005,    0.051051,    0.052052,    0.053053,    0.054054,    0.055055,    0.056056,    0.057057,    0.058058,    0.059059,     0.06006,    0.061061,    0.062062,    0.063063,    0.064064,    0.065065,    0.066066,    0.067067,    0.068068,    0.069069,     0.07007,    0.071071,\n",
      "          0.072072,    0.073073,    0.074074,    0.075075,    0.076076,    0.077077,    0.078078,    0.079079,     0.08008,    0.081081,    0.082082,    0.083083,    0.084084,    0.085085,    0.086086,    0.087087,    0.088088,    0.089089,     0.09009,    0.091091,    0.092092,    0.093093,    0.094094,    0.095095,\n",
      "          0.096096,    0.097097,    0.098098,    0.099099,      0.1001,      0.1011,      0.1021,      0.1031,      0.1041,     0.10511,     0.10611,     0.10711,     0.10811,     0.10911,     0.11011,     0.11111,     0.11211,     0.11311,     0.11411,     0.11512,     0.11612,     0.11712,     0.11812,     0.11912,\n",
      "           0.12012,     0.12112,     0.12212,     0.12312,     0.12412,     0.12513,     0.12613,     0.12713,     0.12813,     0.12913,     0.13013,     0.13113,     0.13213,     0.13313,     0.13413,     0.13514,     0.13614,     0.13714,     0.13814,     0.13914,     0.14014,     0.14114,     0.14214,     0.14314,\n",
      "           0.14414,     0.14515,     0.14615,     0.14715,     0.14815,     0.14915,     0.15015,     0.15115,     0.15215,     0.15315,     0.15415,     0.15516,     0.15616,     0.15716,     0.15816,     0.15916,     0.16016,     0.16116,     0.16216,     0.16316,     0.16416,     0.16517,     0.16617,     0.16717,\n",
      "           0.16817,     0.16917,     0.17017,     0.17117,     0.17217,     0.17317,     0.17417,     0.17518,     0.17618,     0.17718,     0.17818,     0.17918,     0.18018,     0.18118,     0.18218,     0.18318,     0.18418,     0.18519,     0.18619,     0.18719,     0.18819,     0.18919,     0.19019,     0.19119,\n",
      "           0.19219,     0.19319,     0.19419,      0.1952,      0.1962,      0.1972,      0.1982,      0.1992,      0.2002,      0.2012,      0.2022,      0.2032,      0.2042,     0.20521,     0.20621,     0.20721,     0.20821,     0.20921,     0.21021,     0.21121,     0.21221,     0.21321,     0.21421,     0.21522,\n",
      "           0.21622,     0.21722,     0.21822,     0.21922,     0.22022,     0.22122,     0.22222,     0.22322,     0.22422,     0.22523,     0.22623,     0.22723,     0.22823,     0.22923,     0.23023,     0.23123,     0.23223,     0.23323,     0.23423,     0.23524,     0.23624,     0.23724,     0.23824,     0.23924,\n",
      "           0.24024,     0.24124,     0.24224,     0.24324,     0.24424,     0.24525,     0.24625,     0.24725,     0.24825,     0.24925,     0.25025,     0.25125,     0.25225,     0.25325,     0.25425,     0.25526,     0.25626,     0.25726,     0.25826,     0.25926,     0.26026,     0.26126,     0.26226,     0.26326,\n",
      "           0.26426,     0.26527,     0.26627,     0.26727,     0.26827,     0.26927,     0.27027,     0.27127,     0.27227,     0.27327,     0.27427,     0.27528,     0.27628,     0.27728,     0.27828,     0.27928,     0.28028,     0.28128,     0.28228,     0.28328,     0.28428,     0.28529,     0.28629,     0.28729,\n",
      "           0.28829,     0.28929,     0.29029,     0.29129,     0.29229,     0.29329,     0.29429,      0.2953,      0.2963,      0.2973,      0.2983,      0.2993,      0.3003,      0.3013,      0.3023,      0.3033,      0.3043,     0.30531,     0.30631,     0.30731,     0.30831,     0.30931,     0.31031,     0.31131,\n",
      "           0.31231,     0.31331,     0.31431,     0.31532,     0.31632,     0.31732,     0.31832,     0.31932,     0.32032,     0.32132,     0.32232,     0.32332,     0.32432,     0.32533,     0.32633,     0.32733,     0.32833,     0.32933,     0.33033,     0.33133,     0.33233,     0.33333,     0.33433,     0.33534,\n",
      "           0.33634,     0.33734,     0.33834,     0.33934,     0.34034,     0.34134,     0.34234,     0.34334,     0.34434,     0.34535,     0.34635,     0.34735,     0.34835,     0.34935,     0.35035,     0.35135,     0.35235,     0.35335,     0.35435,     0.35536,     0.35636,     0.35736,     0.35836,     0.35936,\n",
      "           0.36036,     0.36136,     0.36236,     0.36336,     0.36436,     0.36537,     0.36637,     0.36737,     0.36837,     0.36937,     0.37037,     0.37137,     0.37237,     0.37337,     0.37437,     0.37538,     0.37638,     0.37738,     0.37838,     0.37938,     0.38038,     0.38138,     0.38238,     0.38338,\n",
      "           0.38438,     0.38539,     0.38639,     0.38739,     0.38839,     0.38939,     0.39039,     0.39139,     0.39239,     0.39339,     0.39439,      0.3954,      0.3964,      0.3974,      0.3984,      0.3994,      0.4004,      0.4014,      0.4024,      0.4034,      0.4044,     0.40541,     0.40641,     0.40741,\n",
      "           0.40841,     0.40941,     0.41041,     0.41141,     0.41241,     0.41341,     0.41441,     0.41542,     0.41642,     0.41742,     0.41842,     0.41942,     0.42042,     0.42142,     0.42242,     0.42342,     0.42442,     0.42543,     0.42643,     0.42743,     0.42843,     0.42943,     0.43043,     0.43143,\n",
      "           0.43243,     0.43343,     0.43443,     0.43544,     0.43644,     0.43744,     0.43844,     0.43944,     0.44044,     0.44144,     0.44244,     0.44344,     0.44444,     0.44545,     0.44645,     0.44745,     0.44845,     0.44945,     0.45045,     0.45145,     0.45245,     0.45345,     0.45445,     0.45546,\n",
      "           0.45646,     0.45746,     0.45846,     0.45946,     0.46046,     0.46146,     0.46246,     0.46346,     0.46446,     0.46547,     0.46647,     0.46747,     0.46847,     0.46947,     0.47047,     0.47147,     0.47247,     0.47347,     0.47447,     0.47548,     0.47648,     0.47748,     0.47848,     0.47948,\n",
      "           0.48048,     0.48148,     0.48248,     0.48348,     0.48448,     0.48549,     0.48649,     0.48749,     0.48849,     0.48949,     0.49049,     0.49149,     0.49249,     0.49349,     0.49449,      0.4955,      0.4965,      0.4975,      0.4985,      0.4995,      0.5005,      0.5015,      0.5025,      0.5035,\n",
      "            0.5045,     0.50551,     0.50651,     0.50751,     0.50851,     0.50951,     0.51051,     0.51151,     0.51251,     0.51351,     0.51451,     0.51552,     0.51652,     0.51752,     0.51852,     0.51952,     0.52052,     0.52152,     0.52252,     0.52352,     0.52452,     0.52553,     0.52653,     0.52753,\n",
      "           0.52853,     0.52953,     0.53053,     0.53153,     0.53253,     0.53353,     0.53453,     0.53554,     0.53654,     0.53754,     0.53854,     0.53954,     0.54054,     0.54154,     0.54254,     0.54354,     0.54454,     0.54555,     0.54655,     0.54755,     0.54855,     0.54955,     0.55055,     0.55155,\n",
      "           0.55255,     0.55355,     0.55455,     0.55556,     0.55656,     0.55756,     0.55856,     0.55956,     0.56056,     0.56156,     0.56256,     0.56356,     0.56456,     0.56557,     0.56657,     0.56757,     0.56857,     0.56957,     0.57057,     0.57157,     0.57257,     0.57357,     0.57457,     0.57558,\n",
      "           0.57658,     0.57758,     0.57858,     0.57958,     0.58058,     0.58158,     0.58258,     0.58358,     0.58458,     0.58559,     0.58659,     0.58759,     0.58859,     0.58959,     0.59059,     0.59159,     0.59259,     0.59359,     0.59459,      0.5956,      0.5966,      0.5976,      0.5986,      0.5996,\n",
      "            0.6006,      0.6016,      0.6026,      0.6036,      0.6046,     0.60561,     0.60661,     0.60761,     0.60861,     0.60961,     0.61061,     0.61161,     0.61261,     0.61361,     0.61461,     0.61562,     0.61662,     0.61762,     0.61862,     0.61962,     0.62062,     0.62162,     0.62262,     0.62362,\n",
      "           0.62462,     0.62563,     0.62663,     0.62763,     0.62863,     0.62963,     0.63063,     0.63163,     0.63263,     0.63363,     0.63463,     0.63564,     0.63664,     0.63764,     0.63864,     0.63964,     0.64064,     0.64164,     0.64264,     0.64364,     0.64464,     0.64565,     0.64665,     0.64765,\n",
      "           0.64865,     0.64965,     0.65065,     0.65165,     0.65265,     0.65365,     0.65465,     0.65566,     0.65666,     0.65766,     0.65866,     0.65966,     0.66066,     0.66166,     0.66266,     0.66366,     0.66466,     0.66567,     0.66667,     0.66767,     0.66867,     0.66967,     0.67067,     0.67167,\n",
      "           0.67267,     0.67367,     0.67467,     0.67568,     0.67668,     0.67768,     0.67868,     0.67968,     0.68068,     0.68168,     0.68268,     0.68368,     0.68468,     0.68569,     0.68669,     0.68769,     0.68869,     0.68969,     0.69069,     0.69169,     0.69269,     0.69369,     0.69469,      0.6957,\n",
      "            0.6967,      0.6977,      0.6987,      0.6997,      0.7007,      0.7017,      0.7027,      0.7037,      0.7047,     0.70571,     0.70671,     0.70771,     0.70871,     0.70971,     0.71071,     0.71171,     0.71271,     0.71371,     0.71471,     0.71572,     0.71672,     0.71772,     0.71872,     0.71972,\n",
      "           0.72072,     0.72172,     0.72272,     0.72372,     0.72472,     0.72573,     0.72673,     0.72773,     0.72873,     0.72973,     0.73073,     0.73173,     0.73273,     0.73373,     0.73473,     0.73574,     0.73674,     0.73774,     0.73874,     0.73974,     0.74074,     0.74174,     0.74274,     0.74374,\n",
      "           0.74474,     0.74575,     0.74675,     0.74775,     0.74875,     0.74975,     0.75075,     0.75175,     0.75275,     0.75375,     0.75475,     0.75576,     0.75676,     0.75776,     0.75876,     0.75976,     0.76076,     0.76176,     0.76276,     0.76376,     0.76476,     0.76577,     0.76677,     0.76777,\n",
      "           0.76877,     0.76977,     0.77077,     0.77177,     0.77277,     0.77377,     0.77477,     0.77578,     0.77678,     0.77778,     0.77878,     0.77978,     0.78078,     0.78178,     0.78278,     0.78378,     0.78478,     0.78579,     0.78679,     0.78779,     0.78879,     0.78979,     0.79079,     0.79179,\n",
      "           0.79279,     0.79379,     0.79479,      0.7958,      0.7968,      0.7978,      0.7988,      0.7998,      0.8008,      0.8018,      0.8028,      0.8038,      0.8048,     0.80581,     0.80681,     0.80781,     0.80881,     0.80981,     0.81081,     0.81181,     0.81281,     0.81381,     0.81481,     0.81582,\n",
      "           0.81682,     0.81782,     0.81882,     0.81982,     0.82082,     0.82182,     0.82282,     0.82382,     0.82482,     0.82583,     0.82683,     0.82783,     0.82883,     0.82983,     0.83083,     0.83183,     0.83283,     0.83383,     0.83483,     0.83584,     0.83684,     0.83784,     0.83884,     0.83984,\n",
      "           0.84084,     0.84184,     0.84284,     0.84384,     0.84484,     0.84585,     0.84685,     0.84785,     0.84885,     0.84985,     0.85085,     0.85185,     0.85285,     0.85385,     0.85485,     0.85586,     0.85686,     0.85786,     0.85886,     0.85986,     0.86086,     0.86186,     0.86286,     0.86386,\n",
      "           0.86486,     0.86587,     0.86687,     0.86787,     0.86887,     0.86987,     0.87087,     0.87187,     0.87287,     0.87387,     0.87487,     0.87588,     0.87688,     0.87788,     0.87888,     0.87988,     0.88088,     0.88188,     0.88288,     0.88388,     0.88488,     0.88589,     0.88689,     0.88789,\n",
      "           0.88889,     0.88989,     0.89089,     0.89189,     0.89289,     0.89389,     0.89489,      0.8959,      0.8969,      0.8979,      0.8989,      0.8999,      0.9009,      0.9019,      0.9029,      0.9039,      0.9049,     0.90591,     0.90691,     0.90791,     0.90891,     0.90991,     0.91091,     0.91191,\n",
      "           0.91291,     0.91391,     0.91491,     0.91592,     0.91692,     0.91792,     0.91892,     0.91992,     0.92092,     0.92192,     0.92292,     0.92392,     0.92492,     0.92593,     0.92693,     0.92793,     0.92893,     0.92993,     0.93093,     0.93193,     0.93293,     0.93393,     0.93493,     0.93594,\n",
      "           0.93694,     0.93794,     0.93894,     0.93994,     0.94094,     0.94194,     0.94294,     0.94394,     0.94494,     0.94595,     0.94695,     0.94795,     0.94895,     0.94995,     0.95095,     0.95195,     0.95295,     0.95395,     0.95495,     0.95596,     0.95696,     0.95796,     0.95896,     0.95996,\n",
      "           0.96096,     0.96196,     0.96296,     0.96396,     0.96496,     0.96597,     0.96697,     0.96797,     0.96897,     0.96997,     0.97097,     0.97197,     0.97297,     0.97397,     0.97497,     0.97598,     0.97698,     0.97798,     0.97898,     0.97998,     0.98098,     0.98198,     0.98298,     0.98398,\n",
      "           0.98498,     0.98599,     0.98699,     0.98799,     0.98899,     0.98999,     0.99099,     0.99199,     0.99299,     0.99399,     0.99499,       0.996,       0.997,       0.998,       0.999,           1]), array([[          1,           1,           1, ...,           1,           1,           0],\n",
      "       [          1,           1,           1, ...,           1,           1,           0],\n",
      "       [          1,           1,           1, ...,      0.9375,      0.9375,           0],\n",
      "       [          1,           1,           1, ...,    0.030617,    0.015309,           0],\n",
      "       [          1,           1,           1, ...,     0.54745,     0.54745,           0],\n",
      "       [          1,           1,           1, ...,    0.093726,    0.046863,           0]]), 'Recall', 'Precision'], [array([          0,    0.001001,    0.002002,    0.003003,    0.004004,    0.005005,    0.006006,    0.007007,    0.008008,    0.009009,     0.01001,    0.011011,    0.012012,    0.013013,    0.014014,    0.015015,    0.016016,    0.017017,    0.018018,    0.019019,     0.02002,    0.021021,    0.022022,    0.023023,\n",
      "          0.024024,    0.025025,    0.026026,    0.027027,    0.028028,    0.029029,     0.03003,    0.031031,    0.032032,    0.033033,    0.034034,    0.035035,    0.036036,    0.037037,    0.038038,    0.039039,     0.04004,    0.041041,    0.042042,    0.043043,    0.044044,    0.045045,    0.046046,    0.047047,\n",
      "          0.048048,    0.049049,     0.05005,    0.051051,    0.052052,    0.053053,    0.054054,    0.055055,    0.056056,    0.057057,    0.058058,    0.059059,     0.06006,    0.061061,    0.062062,    0.063063,    0.064064,    0.065065,    0.066066,    0.067067,    0.068068,    0.069069,     0.07007,    0.071071,\n",
      "          0.072072,    0.073073,    0.074074,    0.075075,    0.076076,    0.077077,    0.078078,    0.079079,     0.08008,    0.081081,    0.082082,    0.083083,    0.084084,    0.085085,    0.086086,    0.087087,    0.088088,    0.089089,     0.09009,    0.091091,    0.092092,    0.093093,    0.094094,    0.095095,\n",
      "          0.096096,    0.097097,    0.098098,    0.099099,      0.1001,      0.1011,      0.1021,      0.1031,      0.1041,     0.10511,     0.10611,     0.10711,     0.10811,     0.10911,     0.11011,     0.11111,     0.11211,     0.11311,     0.11411,     0.11512,     0.11612,     0.11712,     0.11812,     0.11912,\n",
      "           0.12012,     0.12112,     0.12212,     0.12312,     0.12412,     0.12513,     0.12613,     0.12713,     0.12813,     0.12913,     0.13013,     0.13113,     0.13213,     0.13313,     0.13413,     0.13514,     0.13614,     0.13714,     0.13814,     0.13914,     0.14014,     0.14114,     0.14214,     0.14314,\n",
      "           0.14414,     0.14515,     0.14615,     0.14715,     0.14815,     0.14915,     0.15015,     0.15115,     0.15215,     0.15315,     0.15415,     0.15516,     0.15616,     0.15716,     0.15816,     0.15916,     0.16016,     0.16116,     0.16216,     0.16316,     0.16416,     0.16517,     0.16617,     0.16717,\n",
      "           0.16817,     0.16917,     0.17017,     0.17117,     0.17217,     0.17317,     0.17417,     0.17518,     0.17618,     0.17718,     0.17818,     0.17918,     0.18018,     0.18118,     0.18218,     0.18318,     0.18418,     0.18519,     0.18619,     0.18719,     0.18819,     0.18919,     0.19019,     0.19119,\n",
      "           0.19219,     0.19319,     0.19419,      0.1952,      0.1962,      0.1972,      0.1982,      0.1992,      0.2002,      0.2012,      0.2022,      0.2032,      0.2042,     0.20521,     0.20621,     0.20721,     0.20821,     0.20921,     0.21021,     0.21121,     0.21221,     0.21321,     0.21421,     0.21522,\n",
      "           0.21622,     0.21722,     0.21822,     0.21922,     0.22022,     0.22122,     0.22222,     0.22322,     0.22422,     0.22523,     0.22623,     0.22723,     0.22823,     0.22923,     0.23023,     0.23123,     0.23223,     0.23323,     0.23423,     0.23524,     0.23624,     0.23724,     0.23824,     0.23924,\n",
      "           0.24024,     0.24124,     0.24224,     0.24324,     0.24424,     0.24525,     0.24625,     0.24725,     0.24825,     0.24925,     0.25025,     0.25125,     0.25225,     0.25325,     0.25425,     0.25526,     0.25626,     0.25726,     0.25826,     0.25926,     0.26026,     0.26126,     0.26226,     0.26326,\n",
      "           0.26426,     0.26527,     0.26627,     0.26727,     0.26827,     0.26927,     0.27027,     0.27127,     0.27227,     0.27327,     0.27427,     0.27528,     0.27628,     0.27728,     0.27828,     0.27928,     0.28028,     0.28128,     0.28228,     0.28328,     0.28428,     0.28529,     0.28629,     0.28729,\n",
      "           0.28829,     0.28929,     0.29029,     0.29129,     0.29229,     0.29329,     0.29429,      0.2953,      0.2963,      0.2973,      0.2983,      0.2993,      0.3003,      0.3013,      0.3023,      0.3033,      0.3043,     0.30531,     0.30631,     0.30731,     0.30831,     0.30931,     0.31031,     0.31131,\n",
      "           0.31231,     0.31331,     0.31431,     0.31532,     0.31632,     0.31732,     0.31832,     0.31932,     0.32032,     0.32132,     0.32232,     0.32332,     0.32432,     0.32533,     0.32633,     0.32733,     0.32833,     0.32933,     0.33033,     0.33133,     0.33233,     0.33333,     0.33433,     0.33534,\n",
      "           0.33634,     0.33734,     0.33834,     0.33934,     0.34034,     0.34134,     0.34234,     0.34334,     0.34434,     0.34535,     0.34635,     0.34735,     0.34835,     0.34935,     0.35035,     0.35135,     0.35235,     0.35335,     0.35435,     0.35536,     0.35636,     0.35736,     0.35836,     0.35936,\n",
      "           0.36036,     0.36136,     0.36236,     0.36336,     0.36436,     0.36537,     0.36637,     0.36737,     0.36837,     0.36937,     0.37037,     0.37137,     0.37237,     0.37337,     0.37437,     0.37538,     0.37638,     0.37738,     0.37838,     0.37938,     0.38038,     0.38138,     0.38238,     0.38338,\n",
      "           0.38438,     0.38539,     0.38639,     0.38739,     0.38839,     0.38939,     0.39039,     0.39139,     0.39239,     0.39339,     0.39439,      0.3954,      0.3964,      0.3974,      0.3984,      0.3994,      0.4004,      0.4014,      0.4024,      0.4034,      0.4044,     0.40541,     0.40641,     0.40741,\n",
      "           0.40841,     0.40941,     0.41041,     0.41141,     0.41241,     0.41341,     0.41441,     0.41542,     0.41642,     0.41742,     0.41842,     0.41942,     0.42042,     0.42142,     0.42242,     0.42342,     0.42442,     0.42543,     0.42643,     0.42743,     0.42843,     0.42943,     0.43043,     0.43143,\n",
      "           0.43243,     0.43343,     0.43443,     0.43544,     0.43644,     0.43744,     0.43844,     0.43944,     0.44044,     0.44144,     0.44244,     0.44344,     0.44444,     0.44545,     0.44645,     0.44745,     0.44845,     0.44945,     0.45045,     0.45145,     0.45245,     0.45345,     0.45445,     0.45546,\n",
      "           0.45646,     0.45746,     0.45846,     0.45946,     0.46046,     0.46146,     0.46246,     0.46346,     0.46446,     0.46547,     0.46647,     0.46747,     0.46847,     0.46947,     0.47047,     0.47147,     0.47247,     0.47347,     0.47447,     0.47548,     0.47648,     0.47748,     0.47848,     0.47948,\n",
      "           0.48048,     0.48148,     0.48248,     0.48348,     0.48448,     0.48549,     0.48649,     0.48749,     0.48849,     0.48949,     0.49049,     0.49149,     0.49249,     0.49349,     0.49449,      0.4955,      0.4965,      0.4975,      0.4985,      0.4995,      0.5005,      0.5015,      0.5025,      0.5035,\n",
      "            0.5045,     0.50551,     0.50651,     0.50751,     0.50851,     0.50951,     0.51051,     0.51151,     0.51251,     0.51351,     0.51451,     0.51552,     0.51652,     0.51752,     0.51852,     0.51952,     0.52052,     0.52152,     0.52252,     0.52352,     0.52452,     0.52553,     0.52653,     0.52753,\n",
      "           0.52853,     0.52953,     0.53053,     0.53153,     0.53253,     0.53353,     0.53453,     0.53554,     0.53654,     0.53754,     0.53854,     0.53954,     0.54054,     0.54154,     0.54254,     0.54354,     0.54454,     0.54555,     0.54655,     0.54755,     0.54855,     0.54955,     0.55055,     0.55155,\n",
      "           0.55255,     0.55355,     0.55455,     0.55556,     0.55656,     0.55756,     0.55856,     0.55956,     0.56056,     0.56156,     0.56256,     0.56356,     0.56456,     0.56557,     0.56657,     0.56757,     0.56857,     0.56957,     0.57057,     0.57157,     0.57257,     0.57357,     0.57457,     0.57558,\n",
      "           0.57658,     0.57758,     0.57858,     0.57958,     0.58058,     0.58158,     0.58258,     0.58358,     0.58458,     0.58559,     0.58659,     0.58759,     0.58859,     0.58959,     0.59059,     0.59159,     0.59259,     0.59359,     0.59459,      0.5956,      0.5966,      0.5976,      0.5986,      0.5996,\n",
      "            0.6006,      0.6016,      0.6026,      0.6036,      0.6046,     0.60561,     0.60661,     0.60761,     0.60861,     0.60961,     0.61061,     0.61161,     0.61261,     0.61361,     0.61461,     0.61562,     0.61662,     0.61762,     0.61862,     0.61962,     0.62062,     0.62162,     0.62262,     0.62362,\n",
      "           0.62462,     0.62563,     0.62663,     0.62763,     0.62863,     0.62963,     0.63063,     0.63163,     0.63263,     0.63363,     0.63463,     0.63564,     0.63664,     0.63764,     0.63864,     0.63964,     0.64064,     0.64164,     0.64264,     0.64364,     0.64464,     0.64565,     0.64665,     0.64765,\n",
      "           0.64865,     0.64965,     0.65065,     0.65165,     0.65265,     0.65365,     0.65465,     0.65566,     0.65666,     0.65766,     0.65866,     0.65966,     0.66066,     0.66166,     0.66266,     0.66366,     0.66466,     0.66567,     0.66667,     0.66767,     0.66867,     0.66967,     0.67067,     0.67167,\n",
      "           0.67267,     0.67367,     0.67467,     0.67568,     0.67668,     0.67768,     0.67868,     0.67968,     0.68068,     0.68168,     0.68268,     0.68368,     0.68468,     0.68569,     0.68669,     0.68769,     0.68869,     0.68969,     0.69069,     0.69169,     0.69269,     0.69369,     0.69469,      0.6957,\n",
      "            0.6967,      0.6977,      0.6987,      0.6997,      0.7007,      0.7017,      0.7027,      0.7037,      0.7047,     0.70571,     0.70671,     0.70771,     0.70871,     0.70971,     0.71071,     0.71171,     0.71271,     0.71371,     0.71471,     0.71572,     0.71672,     0.71772,     0.71872,     0.71972,\n",
      "           0.72072,     0.72172,     0.72272,     0.72372,     0.72472,     0.72573,     0.72673,     0.72773,     0.72873,     0.72973,     0.73073,     0.73173,     0.73273,     0.73373,     0.73473,     0.73574,     0.73674,     0.73774,     0.73874,     0.73974,     0.74074,     0.74174,     0.74274,     0.74374,\n",
      "           0.74474,     0.74575,     0.74675,     0.74775,     0.74875,     0.74975,     0.75075,     0.75175,     0.75275,     0.75375,     0.75475,     0.75576,     0.75676,     0.75776,     0.75876,     0.75976,     0.76076,     0.76176,     0.76276,     0.76376,     0.76476,     0.76577,     0.76677,     0.76777,\n",
      "           0.76877,     0.76977,     0.77077,     0.77177,     0.77277,     0.77377,     0.77477,     0.77578,     0.77678,     0.77778,     0.77878,     0.77978,     0.78078,     0.78178,     0.78278,     0.78378,     0.78478,     0.78579,     0.78679,     0.78779,     0.78879,     0.78979,     0.79079,     0.79179,\n",
      "           0.79279,     0.79379,     0.79479,      0.7958,      0.7968,      0.7978,      0.7988,      0.7998,      0.8008,      0.8018,      0.8028,      0.8038,      0.8048,     0.80581,     0.80681,     0.80781,     0.80881,     0.80981,     0.81081,     0.81181,     0.81281,     0.81381,     0.81481,     0.81582,\n",
      "           0.81682,     0.81782,     0.81882,     0.81982,     0.82082,     0.82182,     0.82282,     0.82382,     0.82482,     0.82583,     0.82683,     0.82783,     0.82883,     0.82983,     0.83083,     0.83183,     0.83283,     0.83383,     0.83483,     0.83584,     0.83684,     0.83784,     0.83884,     0.83984,\n",
      "           0.84084,     0.84184,     0.84284,     0.84384,     0.84484,     0.84585,     0.84685,     0.84785,     0.84885,     0.84985,     0.85085,     0.85185,     0.85285,     0.85385,     0.85485,     0.85586,     0.85686,     0.85786,     0.85886,     0.85986,     0.86086,     0.86186,     0.86286,     0.86386,\n",
      "           0.86486,     0.86587,     0.86687,     0.86787,     0.86887,     0.86987,     0.87087,     0.87187,     0.87287,     0.87387,     0.87487,     0.87588,     0.87688,     0.87788,     0.87888,     0.87988,     0.88088,     0.88188,     0.88288,     0.88388,     0.88488,     0.88589,     0.88689,     0.88789,\n",
      "           0.88889,     0.88989,     0.89089,     0.89189,     0.89289,     0.89389,     0.89489,      0.8959,      0.8969,      0.8979,      0.8989,      0.8999,      0.9009,      0.9019,      0.9029,      0.9039,      0.9049,     0.90591,     0.90691,     0.90791,     0.90891,     0.90991,     0.91091,     0.91191,\n",
      "           0.91291,     0.91391,     0.91491,     0.91592,     0.91692,     0.91792,     0.91892,     0.91992,     0.92092,     0.92192,     0.92292,     0.92392,     0.92492,     0.92593,     0.92693,     0.92793,     0.92893,     0.92993,     0.93093,     0.93193,     0.93293,     0.93393,     0.93493,     0.93594,\n",
      "           0.93694,     0.93794,     0.93894,     0.93994,     0.94094,     0.94194,     0.94294,     0.94394,     0.94494,     0.94595,     0.94695,     0.94795,     0.94895,     0.94995,     0.95095,     0.95195,     0.95295,     0.95395,     0.95495,     0.95596,     0.95696,     0.95796,     0.95896,     0.95996,\n",
      "           0.96096,     0.96196,     0.96296,     0.96396,     0.96496,     0.96597,     0.96697,     0.96797,     0.96897,     0.96997,     0.97097,     0.97197,     0.97297,     0.97397,     0.97497,     0.97598,     0.97698,     0.97798,     0.97898,     0.97998,     0.98098,     0.98198,     0.98298,     0.98398,\n",
      "           0.98498,     0.98599,     0.98699,     0.98799,     0.98899,     0.98999,     0.99099,     0.99199,     0.99299,     0.99399,     0.99499,       0.996,       0.997,       0.998,       0.999,           1]), array([[    0.61538,     0.61538,     0.72569, ...,           0,           0,           0],\n",
      "       [    0.87719,     0.87719,     0.89808, ...,           0,           0,           0],\n",
      "       [    0.54945,     0.54945,     0.70296, ...,           0,           0,           0],\n",
      "       [     0.5748,      0.5748,     0.66406, ...,           0,           0,           0],\n",
      "       [    0.60241,     0.60241,     0.70225, ...,           0,           0,           0],\n",
      "       [    0.75248,     0.75248,     0.84957, ...,           0,           0,           0]]), 'Confidence', 'F1'], [array([          0,    0.001001,    0.002002,    0.003003,    0.004004,    0.005005,    0.006006,    0.007007,    0.008008,    0.009009,     0.01001,    0.011011,    0.012012,    0.013013,    0.014014,    0.015015,    0.016016,    0.017017,    0.018018,    0.019019,     0.02002,    0.021021,    0.022022,    0.023023,\n",
      "          0.024024,    0.025025,    0.026026,    0.027027,    0.028028,    0.029029,     0.03003,    0.031031,    0.032032,    0.033033,    0.034034,    0.035035,    0.036036,    0.037037,    0.038038,    0.039039,     0.04004,    0.041041,    0.042042,    0.043043,    0.044044,    0.045045,    0.046046,    0.047047,\n",
      "          0.048048,    0.049049,     0.05005,    0.051051,    0.052052,    0.053053,    0.054054,    0.055055,    0.056056,    0.057057,    0.058058,    0.059059,     0.06006,    0.061061,    0.062062,    0.063063,    0.064064,    0.065065,    0.066066,    0.067067,    0.068068,    0.069069,     0.07007,    0.071071,\n",
      "          0.072072,    0.073073,    0.074074,    0.075075,    0.076076,    0.077077,    0.078078,    0.079079,     0.08008,    0.081081,    0.082082,    0.083083,    0.084084,    0.085085,    0.086086,    0.087087,    0.088088,    0.089089,     0.09009,    0.091091,    0.092092,    0.093093,    0.094094,    0.095095,\n",
      "          0.096096,    0.097097,    0.098098,    0.099099,      0.1001,      0.1011,      0.1021,      0.1031,      0.1041,     0.10511,     0.10611,     0.10711,     0.10811,     0.10911,     0.11011,     0.11111,     0.11211,     0.11311,     0.11411,     0.11512,     0.11612,     0.11712,     0.11812,     0.11912,\n",
      "           0.12012,     0.12112,     0.12212,     0.12312,     0.12412,     0.12513,     0.12613,     0.12713,     0.12813,     0.12913,     0.13013,     0.13113,     0.13213,     0.13313,     0.13413,     0.13514,     0.13614,     0.13714,     0.13814,     0.13914,     0.14014,     0.14114,     0.14214,     0.14314,\n",
      "           0.14414,     0.14515,     0.14615,     0.14715,     0.14815,     0.14915,     0.15015,     0.15115,     0.15215,     0.15315,     0.15415,     0.15516,     0.15616,     0.15716,     0.15816,     0.15916,     0.16016,     0.16116,     0.16216,     0.16316,     0.16416,     0.16517,     0.16617,     0.16717,\n",
      "           0.16817,     0.16917,     0.17017,     0.17117,     0.17217,     0.17317,     0.17417,     0.17518,     0.17618,     0.17718,     0.17818,     0.17918,     0.18018,     0.18118,     0.18218,     0.18318,     0.18418,     0.18519,     0.18619,     0.18719,     0.18819,     0.18919,     0.19019,     0.19119,\n",
      "           0.19219,     0.19319,     0.19419,      0.1952,      0.1962,      0.1972,      0.1982,      0.1992,      0.2002,      0.2012,      0.2022,      0.2032,      0.2042,     0.20521,     0.20621,     0.20721,     0.20821,     0.20921,     0.21021,     0.21121,     0.21221,     0.21321,     0.21421,     0.21522,\n",
      "           0.21622,     0.21722,     0.21822,     0.21922,     0.22022,     0.22122,     0.22222,     0.22322,     0.22422,     0.22523,     0.22623,     0.22723,     0.22823,     0.22923,     0.23023,     0.23123,     0.23223,     0.23323,     0.23423,     0.23524,     0.23624,     0.23724,     0.23824,     0.23924,\n",
      "           0.24024,     0.24124,     0.24224,     0.24324,     0.24424,     0.24525,     0.24625,     0.24725,     0.24825,     0.24925,     0.25025,     0.25125,     0.25225,     0.25325,     0.25425,     0.25526,     0.25626,     0.25726,     0.25826,     0.25926,     0.26026,     0.26126,     0.26226,     0.26326,\n",
      "           0.26426,     0.26527,     0.26627,     0.26727,     0.26827,     0.26927,     0.27027,     0.27127,     0.27227,     0.27327,     0.27427,     0.27528,     0.27628,     0.27728,     0.27828,     0.27928,     0.28028,     0.28128,     0.28228,     0.28328,     0.28428,     0.28529,     0.28629,     0.28729,\n",
      "           0.28829,     0.28929,     0.29029,     0.29129,     0.29229,     0.29329,     0.29429,      0.2953,      0.2963,      0.2973,      0.2983,      0.2993,      0.3003,      0.3013,      0.3023,      0.3033,      0.3043,     0.30531,     0.30631,     0.30731,     0.30831,     0.30931,     0.31031,     0.31131,\n",
      "           0.31231,     0.31331,     0.31431,     0.31532,     0.31632,     0.31732,     0.31832,     0.31932,     0.32032,     0.32132,     0.32232,     0.32332,     0.32432,     0.32533,     0.32633,     0.32733,     0.32833,     0.32933,     0.33033,     0.33133,     0.33233,     0.33333,     0.33433,     0.33534,\n",
      "           0.33634,     0.33734,     0.33834,     0.33934,     0.34034,     0.34134,     0.34234,     0.34334,     0.34434,     0.34535,     0.34635,     0.34735,     0.34835,     0.34935,     0.35035,     0.35135,     0.35235,     0.35335,     0.35435,     0.35536,     0.35636,     0.35736,     0.35836,     0.35936,\n",
      "           0.36036,     0.36136,     0.36236,     0.36336,     0.36436,     0.36537,     0.36637,     0.36737,     0.36837,     0.36937,     0.37037,     0.37137,     0.37237,     0.37337,     0.37437,     0.37538,     0.37638,     0.37738,     0.37838,     0.37938,     0.38038,     0.38138,     0.38238,     0.38338,\n",
      "           0.38438,     0.38539,     0.38639,     0.38739,     0.38839,     0.38939,     0.39039,     0.39139,     0.39239,     0.39339,     0.39439,      0.3954,      0.3964,      0.3974,      0.3984,      0.3994,      0.4004,      0.4014,      0.4024,      0.4034,      0.4044,     0.40541,     0.40641,     0.40741,\n",
      "           0.40841,     0.40941,     0.41041,     0.41141,     0.41241,     0.41341,     0.41441,     0.41542,     0.41642,     0.41742,     0.41842,     0.41942,     0.42042,     0.42142,     0.42242,     0.42342,     0.42442,     0.42543,     0.42643,     0.42743,     0.42843,     0.42943,     0.43043,     0.43143,\n",
      "           0.43243,     0.43343,     0.43443,     0.43544,     0.43644,     0.43744,     0.43844,     0.43944,     0.44044,     0.44144,     0.44244,     0.44344,     0.44444,     0.44545,     0.44645,     0.44745,     0.44845,     0.44945,     0.45045,     0.45145,     0.45245,     0.45345,     0.45445,     0.45546,\n",
      "           0.45646,     0.45746,     0.45846,     0.45946,     0.46046,     0.46146,     0.46246,     0.46346,     0.46446,     0.46547,     0.46647,     0.46747,     0.46847,     0.46947,     0.47047,     0.47147,     0.47247,     0.47347,     0.47447,     0.47548,     0.47648,     0.47748,     0.47848,     0.47948,\n",
      "           0.48048,     0.48148,     0.48248,     0.48348,     0.48448,     0.48549,     0.48649,     0.48749,     0.48849,     0.48949,     0.49049,     0.49149,     0.49249,     0.49349,     0.49449,      0.4955,      0.4965,      0.4975,      0.4985,      0.4995,      0.5005,      0.5015,      0.5025,      0.5035,\n",
      "            0.5045,     0.50551,     0.50651,     0.50751,     0.50851,     0.50951,     0.51051,     0.51151,     0.51251,     0.51351,     0.51451,     0.51552,     0.51652,     0.51752,     0.51852,     0.51952,     0.52052,     0.52152,     0.52252,     0.52352,     0.52452,     0.52553,     0.52653,     0.52753,\n",
      "           0.52853,     0.52953,     0.53053,     0.53153,     0.53253,     0.53353,     0.53453,     0.53554,     0.53654,     0.53754,     0.53854,     0.53954,     0.54054,     0.54154,     0.54254,     0.54354,     0.54454,     0.54555,     0.54655,     0.54755,     0.54855,     0.54955,     0.55055,     0.55155,\n",
      "           0.55255,     0.55355,     0.55455,     0.55556,     0.55656,     0.55756,     0.55856,     0.55956,     0.56056,     0.56156,     0.56256,     0.56356,     0.56456,     0.56557,     0.56657,     0.56757,     0.56857,     0.56957,     0.57057,     0.57157,     0.57257,     0.57357,     0.57457,     0.57558,\n",
      "           0.57658,     0.57758,     0.57858,     0.57958,     0.58058,     0.58158,     0.58258,     0.58358,     0.58458,     0.58559,     0.58659,     0.58759,     0.58859,     0.58959,     0.59059,     0.59159,     0.59259,     0.59359,     0.59459,      0.5956,      0.5966,      0.5976,      0.5986,      0.5996,\n",
      "            0.6006,      0.6016,      0.6026,      0.6036,      0.6046,     0.60561,     0.60661,     0.60761,     0.60861,     0.60961,     0.61061,     0.61161,     0.61261,     0.61361,     0.61461,     0.61562,     0.61662,     0.61762,     0.61862,     0.61962,     0.62062,     0.62162,     0.62262,     0.62362,\n",
      "           0.62462,     0.62563,     0.62663,     0.62763,     0.62863,     0.62963,     0.63063,     0.63163,     0.63263,     0.63363,     0.63463,     0.63564,     0.63664,     0.63764,     0.63864,     0.63964,     0.64064,     0.64164,     0.64264,     0.64364,     0.64464,     0.64565,     0.64665,     0.64765,\n",
      "           0.64865,     0.64965,     0.65065,     0.65165,     0.65265,     0.65365,     0.65465,     0.65566,     0.65666,     0.65766,     0.65866,     0.65966,     0.66066,     0.66166,     0.66266,     0.66366,     0.66466,     0.66567,     0.66667,     0.66767,     0.66867,     0.66967,     0.67067,     0.67167,\n",
      "           0.67267,     0.67367,     0.67467,     0.67568,     0.67668,     0.67768,     0.67868,     0.67968,     0.68068,     0.68168,     0.68268,     0.68368,     0.68468,     0.68569,     0.68669,     0.68769,     0.68869,     0.68969,     0.69069,     0.69169,     0.69269,     0.69369,     0.69469,      0.6957,\n",
      "            0.6967,      0.6977,      0.6987,      0.6997,      0.7007,      0.7017,      0.7027,      0.7037,      0.7047,     0.70571,     0.70671,     0.70771,     0.70871,     0.70971,     0.71071,     0.71171,     0.71271,     0.71371,     0.71471,     0.71572,     0.71672,     0.71772,     0.71872,     0.71972,\n",
      "           0.72072,     0.72172,     0.72272,     0.72372,     0.72472,     0.72573,     0.72673,     0.72773,     0.72873,     0.72973,     0.73073,     0.73173,     0.73273,     0.73373,     0.73473,     0.73574,     0.73674,     0.73774,     0.73874,     0.73974,     0.74074,     0.74174,     0.74274,     0.74374,\n",
      "           0.74474,     0.74575,     0.74675,     0.74775,     0.74875,     0.74975,     0.75075,     0.75175,     0.75275,     0.75375,     0.75475,     0.75576,     0.75676,     0.75776,     0.75876,     0.75976,     0.76076,     0.76176,     0.76276,     0.76376,     0.76476,     0.76577,     0.76677,     0.76777,\n",
      "           0.76877,     0.76977,     0.77077,     0.77177,     0.77277,     0.77377,     0.77477,     0.77578,     0.77678,     0.77778,     0.77878,     0.77978,     0.78078,     0.78178,     0.78278,     0.78378,     0.78478,     0.78579,     0.78679,     0.78779,     0.78879,     0.78979,     0.79079,     0.79179,\n",
      "           0.79279,     0.79379,     0.79479,      0.7958,      0.7968,      0.7978,      0.7988,      0.7998,      0.8008,      0.8018,      0.8028,      0.8038,      0.8048,     0.80581,     0.80681,     0.80781,     0.80881,     0.80981,     0.81081,     0.81181,     0.81281,     0.81381,     0.81481,     0.81582,\n",
      "           0.81682,     0.81782,     0.81882,     0.81982,     0.82082,     0.82182,     0.82282,     0.82382,     0.82482,     0.82583,     0.82683,     0.82783,     0.82883,     0.82983,     0.83083,     0.83183,     0.83283,     0.83383,     0.83483,     0.83584,     0.83684,     0.83784,     0.83884,     0.83984,\n",
      "           0.84084,     0.84184,     0.84284,     0.84384,     0.84484,     0.84585,     0.84685,     0.84785,     0.84885,     0.84985,     0.85085,     0.85185,     0.85285,     0.85385,     0.85485,     0.85586,     0.85686,     0.85786,     0.85886,     0.85986,     0.86086,     0.86186,     0.86286,     0.86386,\n",
      "           0.86486,     0.86587,     0.86687,     0.86787,     0.86887,     0.86987,     0.87087,     0.87187,     0.87287,     0.87387,     0.87487,     0.87588,     0.87688,     0.87788,     0.87888,     0.87988,     0.88088,     0.88188,     0.88288,     0.88388,     0.88488,     0.88589,     0.88689,     0.88789,\n",
      "           0.88889,     0.88989,     0.89089,     0.89189,     0.89289,     0.89389,     0.89489,      0.8959,      0.8969,      0.8979,      0.8989,      0.8999,      0.9009,      0.9019,      0.9029,      0.9039,      0.9049,     0.90591,     0.90691,     0.90791,     0.90891,     0.90991,     0.91091,     0.91191,\n",
      "           0.91291,     0.91391,     0.91491,     0.91592,     0.91692,     0.91792,     0.91892,     0.91992,     0.92092,     0.92192,     0.92292,     0.92392,     0.92492,     0.92593,     0.92693,     0.92793,     0.92893,     0.92993,     0.93093,     0.93193,     0.93293,     0.93393,     0.93493,     0.93594,\n",
      "           0.93694,     0.93794,     0.93894,     0.93994,     0.94094,     0.94194,     0.94294,     0.94394,     0.94494,     0.94595,     0.94695,     0.94795,     0.94895,     0.94995,     0.95095,     0.95195,     0.95295,     0.95395,     0.95495,     0.95596,     0.95696,     0.95796,     0.95896,     0.95996,\n",
      "           0.96096,     0.96196,     0.96296,     0.96396,     0.96496,     0.96597,     0.96697,     0.96797,     0.96897,     0.96997,     0.97097,     0.97197,     0.97297,     0.97397,     0.97497,     0.97598,     0.97698,     0.97798,     0.97898,     0.97998,     0.98098,     0.98198,     0.98298,     0.98398,\n",
      "           0.98498,     0.98599,     0.98699,     0.98799,     0.98899,     0.98999,     0.99099,     0.99199,     0.99299,     0.99399,     0.99499,       0.996,       0.997,       0.998,       0.999,           1]), array([[    0.44444,     0.44444,     0.56947, ...,           1,           1,           1],\n",
      "       [    0.78125,     0.78125,     0.81502, ...,           1,           1,           1],\n",
      "       [    0.37879,     0.37879,     0.54197, ...,           1,           1,           1],\n",
      "       [    0.40782,     0.40782,     0.50394, ...,           1,           1,           1],\n",
      "       [    0.43103,     0.43103,     0.54512, ...,           1,           1,           1],\n",
      "       [      0.608,       0.608,     0.74572, ...,           1,           1,           1]]), 'Confidence', 'Precision'], [array([          0,    0.001001,    0.002002,    0.003003,    0.004004,    0.005005,    0.006006,    0.007007,    0.008008,    0.009009,     0.01001,    0.011011,    0.012012,    0.013013,    0.014014,    0.015015,    0.016016,    0.017017,    0.018018,    0.019019,     0.02002,    0.021021,    0.022022,    0.023023,\n",
      "          0.024024,    0.025025,    0.026026,    0.027027,    0.028028,    0.029029,     0.03003,    0.031031,    0.032032,    0.033033,    0.034034,    0.035035,    0.036036,    0.037037,    0.038038,    0.039039,     0.04004,    0.041041,    0.042042,    0.043043,    0.044044,    0.045045,    0.046046,    0.047047,\n",
      "          0.048048,    0.049049,     0.05005,    0.051051,    0.052052,    0.053053,    0.054054,    0.055055,    0.056056,    0.057057,    0.058058,    0.059059,     0.06006,    0.061061,    0.062062,    0.063063,    0.064064,    0.065065,    0.066066,    0.067067,    0.068068,    0.069069,     0.07007,    0.071071,\n",
      "          0.072072,    0.073073,    0.074074,    0.075075,    0.076076,    0.077077,    0.078078,    0.079079,     0.08008,    0.081081,    0.082082,    0.083083,    0.084084,    0.085085,    0.086086,    0.087087,    0.088088,    0.089089,     0.09009,    0.091091,    0.092092,    0.093093,    0.094094,    0.095095,\n",
      "          0.096096,    0.097097,    0.098098,    0.099099,      0.1001,      0.1011,      0.1021,      0.1031,      0.1041,     0.10511,     0.10611,     0.10711,     0.10811,     0.10911,     0.11011,     0.11111,     0.11211,     0.11311,     0.11411,     0.11512,     0.11612,     0.11712,     0.11812,     0.11912,\n",
      "           0.12012,     0.12112,     0.12212,     0.12312,     0.12412,     0.12513,     0.12613,     0.12713,     0.12813,     0.12913,     0.13013,     0.13113,     0.13213,     0.13313,     0.13413,     0.13514,     0.13614,     0.13714,     0.13814,     0.13914,     0.14014,     0.14114,     0.14214,     0.14314,\n",
      "           0.14414,     0.14515,     0.14615,     0.14715,     0.14815,     0.14915,     0.15015,     0.15115,     0.15215,     0.15315,     0.15415,     0.15516,     0.15616,     0.15716,     0.15816,     0.15916,     0.16016,     0.16116,     0.16216,     0.16316,     0.16416,     0.16517,     0.16617,     0.16717,\n",
      "           0.16817,     0.16917,     0.17017,     0.17117,     0.17217,     0.17317,     0.17417,     0.17518,     0.17618,     0.17718,     0.17818,     0.17918,     0.18018,     0.18118,     0.18218,     0.18318,     0.18418,     0.18519,     0.18619,     0.18719,     0.18819,     0.18919,     0.19019,     0.19119,\n",
      "           0.19219,     0.19319,     0.19419,      0.1952,      0.1962,      0.1972,      0.1982,      0.1992,      0.2002,      0.2012,      0.2022,      0.2032,      0.2042,     0.20521,     0.20621,     0.20721,     0.20821,     0.20921,     0.21021,     0.21121,     0.21221,     0.21321,     0.21421,     0.21522,\n",
      "           0.21622,     0.21722,     0.21822,     0.21922,     0.22022,     0.22122,     0.22222,     0.22322,     0.22422,     0.22523,     0.22623,     0.22723,     0.22823,     0.22923,     0.23023,     0.23123,     0.23223,     0.23323,     0.23423,     0.23524,     0.23624,     0.23724,     0.23824,     0.23924,\n",
      "           0.24024,     0.24124,     0.24224,     0.24324,     0.24424,     0.24525,     0.24625,     0.24725,     0.24825,     0.24925,     0.25025,     0.25125,     0.25225,     0.25325,     0.25425,     0.25526,     0.25626,     0.25726,     0.25826,     0.25926,     0.26026,     0.26126,     0.26226,     0.26326,\n",
      "           0.26426,     0.26527,     0.26627,     0.26727,     0.26827,     0.26927,     0.27027,     0.27127,     0.27227,     0.27327,     0.27427,     0.27528,     0.27628,     0.27728,     0.27828,     0.27928,     0.28028,     0.28128,     0.28228,     0.28328,     0.28428,     0.28529,     0.28629,     0.28729,\n",
      "           0.28829,     0.28929,     0.29029,     0.29129,     0.29229,     0.29329,     0.29429,      0.2953,      0.2963,      0.2973,      0.2983,      0.2993,      0.3003,      0.3013,      0.3023,      0.3033,      0.3043,     0.30531,     0.30631,     0.30731,     0.30831,     0.30931,     0.31031,     0.31131,\n",
      "           0.31231,     0.31331,     0.31431,     0.31532,     0.31632,     0.31732,     0.31832,     0.31932,     0.32032,     0.32132,     0.32232,     0.32332,     0.32432,     0.32533,     0.32633,     0.32733,     0.32833,     0.32933,     0.33033,     0.33133,     0.33233,     0.33333,     0.33433,     0.33534,\n",
      "           0.33634,     0.33734,     0.33834,     0.33934,     0.34034,     0.34134,     0.34234,     0.34334,     0.34434,     0.34535,     0.34635,     0.34735,     0.34835,     0.34935,     0.35035,     0.35135,     0.35235,     0.35335,     0.35435,     0.35536,     0.35636,     0.35736,     0.35836,     0.35936,\n",
      "           0.36036,     0.36136,     0.36236,     0.36336,     0.36436,     0.36537,     0.36637,     0.36737,     0.36837,     0.36937,     0.37037,     0.37137,     0.37237,     0.37337,     0.37437,     0.37538,     0.37638,     0.37738,     0.37838,     0.37938,     0.38038,     0.38138,     0.38238,     0.38338,\n",
      "           0.38438,     0.38539,     0.38639,     0.38739,     0.38839,     0.38939,     0.39039,     0.39139,     0.39239,     0.39339,     0.39439,      0.3954,      0.3964,      0.3974,      0.3984,      0.3994,      0.4004,      0.4014,      0.4024,      0.4034,      0.4044,     0.40541,     0.40641,     0.40741,\n",
      "           0.40841,     0.40941,     0.41041,     0.41141,     0.41241,     0.41341,     0.41441,     0.41542,     0.41642,     0.41742,     0.41842,     0.41942,     0.42042,     0.42142,     0.42242,     0.42342,     0.42442,     0.42543,     0.42643,     0.42743,     0.42843,     0.42943,     0.43043,     0.43143,\n",
      "           0.43243,     0.43343,     0.43443,     0.43544,     0.43644,     0.43744,     0.43844,     0.43944,     0.44044,     0.44144,     0.44244,     0.44344,     0.44444,     0.44545,     0.44645,     0.44745,     0.44845,     0.44945,     0.45045,     0.45145,     0.45245,     0.45345,     0.45445,     0.45546,\n",
      "           0.45646,     0.45746,     0.45846,     0.45946,     0.46046,     0.46146,     0.46246,     0.46346,     0.46446,     0.46547,     0.46647,     0.46747,     0.46847,     0.46947,     0.47047,     0.47147,     0.47247,     0.47347,     0.47447,     0.47548,     0.47648,     0.47748,     0.47848,     0.47948,\n",
      "           0.48048,     0.48148,     0.48248,     0.48348,     0.48448,     0.48549,     0.48649,     0.48749,     0.48849,     0.48949,     0.49049,     0.49149,     0.49249,     0.49349,     0.49449,      0.4955,      0.4965,      0.4975,      0.4985,      0.4995,      0.5005,      0.5015,      0.5025,      0.5035,\n",
      "            0.5045,     0.50551,     0.50651,     0.50751,     0.50851,     0.50951,     0.51051,     0.51151,     0.51251,     0.51351,     0.51451,     0.51552,     0.51652,     0.51752,     0.51852,     0.51952,     0.52052,     0.52152,     0.52252,     0.52352,     0.52452,     0.52553,     0.52653,     0.52753,\n",
      "           0.52853,     0.52953,     0.53053,     0.53153,     0.53253,     0.53353,     0.53453,     0.53554,     0.53654,     0.53754,     0.53854,     0.53954,     0.54054,     0.54154,     0.54254,     0.54354,     0.54454,     0.54555,     0.54655,     0.54755,     0.54855,     0.54955,     0.55055,     0.55155,\n",
      "           0.55255,     0.55355,     0.55455,     0.55556,     0.55656,     0.55756,     0.55856,     0.55956,     0.56056,     0.56156,     0.56256,     0.56356,     0.56456,     0.56557,     0.56657,     0.56757,     0.56857,     0.56957,     0.57057,     0.57157,     0.57257,     0.57357,     0.57457,     0.57558,\n",
      "           0.57658,     0.57758,     0.57858,     0.57958,     0.58058,     0.58158,     0.58258,     0.58358,     0.58458,     0.58559,     0.58659,     0.58759,     0.58859,     0.58959,     0.59059,     0.59159,     0.59259,     0.59359,     0.59459,      0.5956,      0.5966,      0.5976,      0.5986,      0.5996,\n",
      "            0.6006,      0.6016,      0.6026,      0.6036,      0.6046,     0.60561,     0.60661,     0.60761,     0.60861,     0.60961,     0.61061,     0.61161,     0.61261,     0.61361,     0.61461,     0.61562,     0.61662,     0.61762,     0.61862,     0.61962,     0.62062,     0.62162,     0.62262,     0.62362,\n",
      "           0.62462,     0.62563,     0.62663,     0.62763,     0.62863,     0.62963,     0.63063,     0.63163,     0.63263,     0.63363,     0.63463,     0.63564,     0.63664,     0.63764,     0.63864,     0.63964,     0.64064,     0.64164,     0.64264,     0.64364,     0.64464,     0.64565,     0.64665,     0.64765,\n",
      "           0.64865,     0.64965,     0.65065,     0.65165,     0.65265,     0.65365,     0.65465,     0.65566,     0.65666,     0.65766,     0.65866,     0.65966,     0.66066,     0.66166,     0.66266,     0.66366,     0.66466,     0.66567,     0.66667,     0.66767,     0.66867,     0.66967,     0.67067,     0.67167,\n",
      "           0.67267,     0.67367,     0.67467,     0.67568,     0.67668,     0.67768,     0.67868,     0.67968,     0.68068,     0.68168,     0.68268,     0.68368,     0.68468,     0.68569,     0.68669,     0.68769,     0.68869,     0.68969,     0.69069,     0.69169,     0.69269,     0.69369,     0.69469,      0.6957,\n",
      "            0.6967,      0.6977,      0.6987,      0.6997,      0.7007,      0.7017,      0.7027,      0.7037,      0.7047,     0.70571,     0.70671,     0.70771,     0.70871,     0.70971,     0.71071,     0.71171,     0.71271,     0.71371,     0.71471,     0.71572,     0.71672,     0.71772,     0.71872,     0.71972,\n",
      "           0.72072,     0.72172,     0.72272,     0.72372,     0.72472,     0.72573,     0.72673,     0.72773,     0.72873,     0.72973,     0.73073,     0.73173,     0.73273,     0.73373,     0.73473,     0.73574,     0.73674,     0.73774,     0.73874,     0.73974,     0.74074,     0.74174,     0.74274,     0.74374,\n",
      "           0.74474,     0.74575,     0.74675,     0.74775,     0.74875,     0.74975,     0.75075,     0.75175,     0.75275,     0.75375,     0.75475,     0.75576,     0.75676,     0.75776,     0.75876,     0.75976,     0.76076,     0.76176,     0.76276,     0.76376,     0.76476,     0.76577,     0.76677,     0.76777,\n",
      "           0.76877,     0.76977,     0.77077,     0.77177,     0.77277,     0.77377,     0.77477,     0.77578,     0.77678,     0.77778,     0.77878,     0.77978,     0.78078,     0.78178,     0.78278,     0.78378,     0.78478,     0.78579,     0.78679,     0.78779,     0.78879,     0.78979,     0.79079,     0.79179,\n",
      "           0.79279,     0.79379,     0.79479,      0.7958,      0.7968,      0.7978,      0.7988,      0.7998,      0.8008,      0.8018,      0.8028,      0.8038,      0.8048,     0.80581,     0.80681,     0.80781,     0.80881,     0.80981,     0.81081,     0.81181,     0.81281,     0.81381,     0.81481,     0.81582,\n",
      "           0.81682,     0.81782,     0.81882,     0.81982,     0.82082,     0.82182,     0.82282,     0.82382,     0.82482,     0.82583,     0.82683,     0.82783,     0.82883,     0.82983,     0.83083,     0.83183,     0.83283,     0.83383,     0.83483,     0.83584,     0.83684,     0.83784,     0.83884,     0.83984,\n",
      "           0.84084,     0.84184,     0.84284,     0.84384,     0.84484,     0.84585,     0.84685,     0.84785,     0.84885,     0.84985,     0.85085,     0.85185,     0.85285,     0.85385,     0.85485,     0.85586,     0.85686,     0.85786,     0.85886,     0.85986,     0.86086,     0.86186,     0.86286,     0.86386,\n",
      "           0.86486,     0.86587,     0.86687,     0.86787,     0.86887,     0.86987,     0.87087,     0.87187,     0.87287,     0.87387,     0.87487,     0.87588,     0.87688,     0.87788,     0.87888,     0.87988,     0.88088,     0.88188,     0.88288,     0.88388,     0.88488,     0.88589,     0.88689,     0.88789,\n",
      "           0.88889,     0.88989,     0.89089,     0.89189,     0.89289,     0.89389,     0.89489,      0.8959,      0.8969,      0.8979,      0.8989,      0.8999,      0.9009,      0.9019,      0.9029,      0.9039,      0.9049,     0.90591,     0.90691,     0.90791,     0.90891,     0.90991,     0.91091,     0.91191,\n",
      "           0.91291,     0.91391,     0.91491,     0.91592,     0.91692,     0.91792,     0.91892,     0.91992,     0.92092,     0.92192,     0.92292,     0.92392,     0.92492,     0.92593,     0.92693,     0.92793,     0.92893,     0.92993,     0.93093,     0.93193,     0.93293,     0.93393,     0.93493,     0.93594,\n",
      "           0.93694,     0.93794,     0.93894,     0.93994,     0.94094,     0.94194,     0.94294,     0.94394,     0.94494,     0.94595,     0.94695,     0.94795,     0.94895,     0.94995,     0.95095,     0.95195,     0.95295,     0.95395,     0.95495,     0.95596,     0.95696,     0.95796,     0.95896,     0.95996,\n",
      "           0.96096,     0.96196,     0.96296,     0.96396,     0.96496,     0.96597,     0.96697,     0.96797,     0.96897,     0.96997,     0.97097,     0.97197,     0.97297,     0.97397,     0.97497,     0.97598,     0.97698,     0.97798,     0.97898,     0.97998,     0.98098,     0.98198,     0.98298,     0.98398,\n",
      "           0.98498,     0.98599,     0.98699,     0.98799,     0.98899,     0.98999,     0.99099,     0.99199,     0.99299,     0.99399,     0.99499,       0.996,       0.997,       0.998,       0.999,           1]), array([[          1,           1,           1, ...,           0,           0,           0],\n",
      "       [          1,           1,           1, ...,           0,           0,           0],\n",
      "       [          1,           1,           1, ...,           0,           0,           0],\n",
      "       [    0.97333,     0.97333,     0.97333, ...,           0,           0,           0],\n",
      "       [          1,           1,     0.98667, ...,           0,           0,           0],\n",
      "       [    0.98701,     0.98701,     0.98701, ...,           0,           0,           0]]), 'Confidence', 'Recall']]\n",
      "fitness: np.float64(0.8676268928075997)\n",
      "keys: ['metrics/precision(B)', 'metrics/recall(B)', 'metrics/mAP50(B)', 'metrics/mAP50-95(B)']\n",
      "maps: array([    0.88575,     0.89095,     0.87872,     0.79742,     0.79386,       0.879])\n",
      "names: {0: 'AmurLeopard', 1: 'AmurTiger', 2: 'LeopardCat', 3: 'RedFox', 4: 'Weasel', 5: 'WildBoar'}\n",
      "nt_per_class: array([76, 75, 75, 75, 75, 77])\n",
      "nt_per_image: array([75, 75, 75, 75, 75, 75])\n",
      "results_dict: {'metrics/precision(B)': np.float64(0.9899293572156916), 'metrics/recall(B)': np.float64(0.9624587659784797), 'metrics/mAP50(B)': np.float64(0.9877341864009933), 'metrics/mAP50-95(B)': np.float64(0.8542816379638893), 'fitness': np.float64(0.8676268928075997)}\n",
      "save_dir: WindowsPath('runs/detect/yolo12_night_val')\n",
      "speed: {'preprocess': 0.19415844438804522, 'inference': 15.002343111134703, 'loss': 0.0012993333479648249, 'postprocess': 1.1774455555455965}\n",
      "stats: {'tp': [], 'conf': [], 'pred_cls': [], 'target_cls': [], 'target_img': []}\n",
      "task: 'detect'\n"
     ]
    }
   ],
   "source": [
    "# Loading the best Night model\n",
    "model = YOLO(\"yolo12_night/yolov12m_night/weights/best.pt\")\n",
    "\n",
    "# Evaluating on the test set of the Night dataset\n",
    "metrics = model.val(\n",
    "    data=\"dataset_night.yaml\",  \n",
    "    split=\"test\",              \n",
    "    imgsz=416,\n",
    "    batch=8,\n",
    "    device=1, \n",
    "    project=\"runs/detect\",      \n",
    "    name=\"yolo12_night_val\",      \n",
    "    exist_ok=True \n",
    ")\n",
    "\n",
    "# Displaying evaluation metrics (mAP, precision, recall, etc.)\n",
    "print(metrics)"
   ]
  },
  {
   "cell_type": "markdown",
   "id": "b7406230-bdff-49a6-bbbf-6355357a3825",
   "metadata": {},
   "source": [
    "The above code:\n",
    "- Loads the best saved weights from Night model training (`best.pt`).\n",
    "- Evaluates the model on the **test split** of the Night dataset defined in `dataset_night.yaml`.\n",
    "- Uses batch size **8** and image size **416×416** for evaluation.\n",
    "- Runs evaluation on **GPU device 1** (update if needed).\n",
    "- Prints key metrics such as **mAP** (mean Average Precision), **precision**, **recall**, and others to assess model accuracy on night images.\n",
    "- It also stores **confusion matrix**, **precision-recall curve**, **precision curve**, **recall curve**, **f1-score curve** in the directory `runs/detect/yolo12_night_val`.\n",
    "\n",
    "---\n",
    "\n",
    "Now we run object detection on all **test images** in the **Night dataset**.\n"
   ]
  },
  {
   "cell_type": "code",
   "execution_count": 5,
   "id": "aa94e39d-d2a6-4953-ab4f-3301b8837761",
   "metadata": {},
   "outputs": [
    {
     "name": "stdout",
     "output_type": "stream",
     "text": [
      "\n",
      "image 1/450 D:\\University College Dublin\\Trimester 3\\PIMM\\Project\\Final Project\\dataset_night\\images\\test\\AmurLeopard_1186.jpg: 256x416 1 AmurLeopard, 177.9ms\n",
      "image 2/450 D:\\University College Dublin\\Trimester 3\\PIMM\\Project\\Final Project\\dataset_night\\images\\test\\AmurLeopard_1195.jpg: 256x416 1 AmurLeopard, 81.4ms\n",
      "image 3/450 D:\\University College Dublin\\Trimester 3\\PIMM\\Project\\Final Project\\dataset_night\\images\\test\\AmurLeopard_1196.jpg: 256x416 1 AmurLeopard, 141.2ms\n",
      "image 4/450 D:\\University College Dublin\\Trimester 3\\PIMM\\Project\\Final Project\\dataset_night\\images\\test\\AmurLeopard_1205.jpg: 256x416 1 AmurLeopard, 50.2ms\n",
      "image 5/450 D:\\University College Dublin\\Trimester 3\\PIMM\\Project\\Final Project\\dataset_night\\images\\test\\AmurLeopard_1209.jpg: 256x416 1 AmurLeopard, 18.1ms\n",
      "image 6/450 D:\\University College Dublin\\Trimester 3\\PIMM\\Project\\Final Project\\dataset_night\\images\\test\\AmurLeopard_1212.jpg: 256x416 1 AmurLeopard, 16.7ms\n",
      "image 7/450 D:\\University College Dublin\\Trimester 3\\PIMM\\Project\\Final Project\\dataset_night\\images\\test\\AmurLeopard_1217.jpg: 256x416 1 AmurLeopard, 32.4ms\n",
      "image 8/450 D:\\University College Dublin\\Trimester 3\\PIMM\\Project\\Final Project\\dataset_night\\images\\test\\AmurLeopard_1219.jpg: 256x416 1 AmurLeopard, 18.3ms\n",
      "image 9/450 D:\\University College Dublin\\Trimester 3\\PIMM\\Project\\Final Project\\dataset_night\\images\\test\\AmurLeopard_1221.jpg: 256x416 1 AmurLeopard, 21.6ms\n",
      "image 10/450 D:\\University College Dublin\\Trimester 3\\PIMM\\Project\\Final Project\\dataset_night\\images\\test\\AmurLeopard_1227.jpg: 256x416 1 AmurLeopard, 23.6ms\n",
      "image 11/450 D:\\University College Dublin\\Trimester 3\\PIMM\\Project\\Final Project\\dataset_night\\images\\test\\AmurLeopard_1235.jpg: 256x416 1 AmurLeopard, 16.0ms\n",
      "image 12/450 D:\\University College Dublin\\Trimester 3\\PIMM\\Project\\Final Project\\dataset_night\\images\\test\\AmurLeopard_1237.jpg: 256x416 1 AmurLeopard, 18.8ms\n",
      "image 13/450 D:\\University College Dublin\\Trimester 3\\PIMM\\Project\\Final Project\\dataset_night\\images\\test\\AmurLeopard_1238.jpg: 256x416 1 AmurLeopard, 20.6ms\n",
      "image 14/450 D:\\University College Dublin\\Trimester 3\\PIMM\\Project\\Final Project\\dataset_night\\images\\test\\AmurLeopard_1244_dup141.jpg: 256x416 1 AmurLeopard, 17.0ms\n",
      "image 15/450 D:\\University College Dublin\\Trimester 3\\PIMM\\Project\\Final Project\\dataset_night\\images\\test\\AmurLeopard_1253_dup066.jpg: 256x416 1 AmurLeopard, 19.6ms\n",
      "image 16/450 D:\\University College Dublin\\Trimester 3\\PIMM\\Project\\Final Project\\dataset_night\\images\\test\\AmurLeopard_1269.jpg: 256x416 2 AmurLeopards, 18.9ms\n",
      "image 17/450 D:\\University College Dublin\\Trimester 3\\PIMM\\Project\\Final Project\\dataset_night\\images\\test\\AmurLeopard_1272.jpg: 256x416 1 AmurLeopard, 23.2ms\n",
      "image 18/450 D:\\University College Dublin\\Trimester 3\\PIMM\\Project\\Final Project\\dataset_night\\images\\test\\AmurLeopard_1275_dup129.jpg: 256x416 1 AmurLeopard, 21.1ms\n",
      "image 19/450 D:\\University College Dublin\\Trimester 3\\PIMM\\Project\\Final Project\\dataset_night\\images\\test\\AmurLeopard_1279.jpg: 256x416 1 AmurLeopard, 19.5ms\n",
      "image 20/450 D:\\University College Dublin\\Trimester 3\\PIMM\\Project\\Final Project\\dataset_night\\images\\test\\AmurLeopard_1289.jpg: 256x416 1 AmurLeopard, 18.4ms\n",
      "image 21/450 D:\\University College Dublin\\Trimester 3\\PIMM\\Project\\Final Project\\dataset_night\\images\\test\\AmurLeopard_1292.jpg: 256x416 1 AmurLeopard, 20.9ms\n",
      "image 22/450 D:\\University College Dublin\\Trimester 3\\PIMM\\Project\\Final Project\\dataset_night\\images\\test\\AmurLeopard_1299.jpg: 256x416 1 AmurLeopard, 21.7ms\n",
      "image 23/450 D:\\University College Dublin\\Trimester 3\\PIMM\\Project\\Final Project\\dataset_night\\images\\test\\AmurLeopard_1310.jpg: 256x416 1 AmurLeopard, 20.1ms\n",
      "image 24/450 D:\\University College Dublin\\Trimester 3\\PIMM\\Project\\Final Project\\dataset_night\\images\\test\\AmurLeopard_1311.jpg: 256x416 1 AmurLeopard, 20.8ms\n",
      "image 25/450 D:\\University College Dublin\\Trimester 3\\PIMM\\Project\\Final Project\\dataset_night\\images\\test\\AmurLeopard_1315_dup099.jpg: 256x416 1 AmurLeopard, 19.6ms\n",
      "image 26/450 D:\\University College Dublin\\Trimester 3\\PIMM\\Project\\Final Project\\dataset_night\\images\\test\\AmurLeopard_1317.jpg: 256x416 1 AmurLeopard, 22.4ms\n",
      "image 27/450 D:\\University College Dublin\\Trimester 3\\PIMM\\Project\\Final Project\\dataset_night\\images\\test\\AmurLeopard_1318.jpg: 256x416 1 AmurLeopard, 18.9ms\n",
      "image 28/450 D:\\University College Dublin\\Trimester 3\\PIMM\\Project\\Final Project\\dataset_night\\images\\test\\AmurLeopard_1321.jpg: 256x416 1 AmurLeopard, 17.5ms\n",
      "image 29/450 D:\\University College Dublin\\Trimester 3\\PIMM\\Project\\Final Project\\dataset_night\\images\\test\\AmurLeopard_1323.jpg: 256x416 1 AmurLeopard, 18.0ms\n",
      "image 30/450 D:\\University College Dublin\\Trimester 3\\PIMM\\Project\\Final Project\\dataset_night\\images\\test\\AmurLeopard_1324.jpg: 256x416 1 AmurLeopard, 22.3ms\n",
      "image 31/450 D:\\University College Dublin\\Trimester 3\\PIMM\\Project\\Final Project\\dataset_night\\images\\test\\AmurLeopard_1326.jpg: 256x416 1 AmurLeopard, 20.3ms\n",
      "image 32/450 D:\\University College Dublin\\Trimester 3\\PIMM\\Project\\Final Project\\dataset_night\\images\\test\\AmurLeopard_1330_dup033.jpg: 256x416 1 AmurLeopard, 22.1ms\n",
      "image 33/450 D:\\University College Dublin\\Trimester 3\\PIMM\\Project\\Final Project\\dataset_night\\images\\test\\AmurLeopard_1336_dup004.jpg: 256x416 1 AmurLeopard, 22.8ms\n",
      "image 34/450 D:\\University College Dublin\\Trimester 3\\PIMM\\Project\\Final Project\\dataset_night\\images\\test\\AmurLeopard_1340_dup087.jpg: 256x416 1 AmurLeopard, 18.0ms\n",
      "image 35/450 D:\\University College Dublin\\Trimester 3\\PIMM\\Project\\Final Project\\dataset_night\\images\\test\\AmurLeopard_1344.jpg: 256x416 1 AmurLeopard, 23.4ms\n",
      "image 36/450 D:\\University College Dublin\\Trimester 3\\PIMM\\Project\\Final Project\\dataset_night\\images\\test\\AmurLeopard_1353.jpg: 256x416 1 AmurLeopard, 26.3ms\n",
      "image 37/450 D:\\University College Dublin\\Trimester 3\\PIMM\\Project\\Final Project\\dataset_night\\images\\test\\AmurLeopard_1354.jpg: 256x416 1 AmurLeopard, 21.8ms\n",
      "image 38/450 D:\\University College Dublin\\Trimester 3\\PIMM\\Project\\Final Project\\dataset_night\\images\\test\\AmurLeopard_1359_dup047.jpg: 256x416 1 AmurLeopard, 20.3ms\n",
      "image 39/450 D:\\University College Dublin\\Trimester 3\\PIMM\\Project\\Final Project\\dataset_night\\images\\test\\AmurLeopard_1364_dup095.jpg: 256x416 1 AmurLeopard, 25.1ms\n",
      "image 40/450 D:\\University College Dublin\\Trimester 3\\PIMM\\Project\\Final Project\\dataset_night\\images\\test\\AmurLeopard_1366.jpg: 256x416 1 AmurLeopard, 17.5ms\n",
      "image 41/450 D:\\University College Dublin\\Trimester 3\\PIMM\\Project\\Final Project\\dataset_night\\images\\test\\AmurLeopard_1368_dup108.jpg: 256x416 1 AmurLeopard, 17.9ms\n",
      "image 42/450 D:\\University College Dublin\\Trimester 3\\PIMM\\Project\\Final Project\\dataset_night\\images\\test\\AmurLeopard_1369.jpg: 256x416 1 AmurLeopard, 20.5ms\n",
      "image 43/450 D:\\University College Dublin\\Trimester 3\\PIMM\\Project\\Final Project\\dataset_night\\images\\test\\AmurLeopard_1369_dup149.jpg: 256x416 1 AmurLeopard, 22.4ms\n",
      "image 44/450 D:\\University College Dublin\\Trimester 3\\PIMM\\Project\\Final Project\\dataset_night\\images\\test\\AmurLeopard_1374.jpg: 256x416 1 AmurLeopard, 17.1ms\n",
      "image 45/450 D:\\University College Dublin\\Trimester 3\\PIMM\\Project\\Final Project\\dataset_night\\images\\test\\AmurLeopard_177_dup041.jpg: 256x416 1 AmurLeopard, 17.1ms\n",
      "image 46/450 D:\\University College Dublin\\Trimester 3\\PIMM\\Project\\Final Project\\dataset_night\\images\\test\\AmurLeopard_187.jpg: 256x416 1 AmurLeopard, 25.4ms\n",
      "image 47/450 D:\\University College Dublin\\Trimester 3\\PIMM\\Project\\Final Project\\dataset_night\\images\\test\\AmurLeopard_189.jpg: 256x416 1 AmurLeopard, 21.0ms\n",
      "image 48/450 D:\\University College Dublin\\Trimester 3\\PIMM\\Project\\Final Project\\dataset_night\\images\\test\\AmurLeopard_32_dup169.jpg: 256x416 1 AmurLeopard, 24.8ms\n",
      "image 49/450 D:\\University College Dublin\\Trimester 3\\PIMM\\Project\\Final Project\\dataset_night\\images\\test\\AmurLeopard_334.jpg: 256x416 1 AmurLeopard, 18.9ms\n",
      "image 50/450 D:\\University College Dublin\\Trimester 3\\PIMM\\Project\\Final Project\\dataset_night\\images\\test\\AmurLeopard_37_dup005.jpg: 256x416 1 AmurLeopard, 24.9ms\n",
      "image 51/450 D:\\University College Dublin\\Trimester 3\\PIMM\\Project\\Final Project\\dataset_night\\images\\test\\AmurLeopard_507.jpg: 256x416 1 AmurLeopard, 18.5ms\n",
      "image 52/450 D:\\University College Dublin\\Trimester 3\\PIMM\\Project\\Final Project\\dataset_night\\images\\test\\AmurLeopard_520.jpg: 256x416 1 AmurLeopard, 16.3ms\n",
      "image 53/450 D:\\University College Dublin\\Trimester 3\\PIMM\\Project\\Final Project\\dataset_night\\images\\test\\AmurLeopard_530_dup144.jpg: 256x416 1 AmurLeopard, 16.9ms\n",
      "image 54/450 D:\\University College Dublin\\Trimester 3\\PIMM\\Project\\Final Project\\dataset_night\\images\\test\\AmurLeopard_539.jpg: 256x416 1 AmurLeopard, 19.3ms\n",
      "image 55/450 D:\\University College Dublin\\Trimester 3\\PIMM\\Project\\Final Project\\dataset_night\\images\\test\\AmurLeopard_545.jpg: 256x416 1 AmurLeopard, 26.4ms\n",
      "image 56/450 D:\\University College Dublin\\Trimester 3\\PIMM\\Project\\Final Project\\dataset_night\\images\\test\\AmurLeopard_547_dup101.jpg: 256x416 1 AmurLeopard, 21.6ms\n",
      "image 57/450 D:\\University College Dublin\\Trimester 3\\PIMM\\Project\\Final Project\\dataset_night\\images\\test\\AmurLeopard_574_dup016.jpg: 256x416 1 AmurLeopard, 18.0ms\n",
      "image 58/450 D:\\University College Dublin\\Trimester 3\\PIMM\\Project\\Final Project\\dataset_night\\images\\test\\AmurLeopard_611_dup028.jpg: 256x416 1 AmurLeopard, 17.1ms\n",
      "image 59/450 D:\\University College Dublin\\Trimester 3\\PIMM\\Project\\Final Project\\dataset_night\\images\\test\\AmurLeopard_653.jpg: 256x416 1 AmurLeopard, 17.4ms\n",
      "image 60/450 D:\\University College Dublin\\Trimester 3\\PIMM\\Project\\Final Project\\dataset_night\\images\\test\\AmurLeopard_653_dup018.jpg: 256x416 1 AmurLeopard, 16.8ms\n",
      "image 61/450 D:\\University College Dublin\\Trimester 3\\PIMM\\Project\\Final Project\\dataset_night\\images\\test\\AmurLeopard_655.jpg: 256x416 1 AmurLeopard, 16.5ms\n",
      "image 62/450 D:\\University College Dublin\\Trimester 3\\PIMM\\Project\\Final Project\\dataset_night\\images\\test\\AmurLeopard_665.jpg: 256x416 1 AmurLeopard, 16.9ms\n",
      "image 63/450 D:\\University College Dublin\\Trimester 3\\PIMM\\Project\\Final Project\\dataset_night\\images\\test\\AmurLeopard_670_dup017.jpg: 256x416 1 AmurLeopard, 21.8ms\n",
      "image 64/450 D:\\University College Dublin\\Trimester 3\\PIMM\\Project\\Final Project\\dataset_night\\images\\test\\AmurLeopard_673_dup039.jpg: 256x416 1 AmurLeopard, 17.9ms\n",
      "image 65/450 D:\\University College Dublin\\Trimester 3\\PIMM\\Project\\Final Project\\dataset_night\\images\\test\\AmurLeopard_677_dup167.jpg: 256x416 1 AmurLeopard, 17.0ms\n",
      "image 66/450 D:\\University College Dublin\\Trimester 3\\PIMM\\Project\\Final Project\\dataset_night\\images\\test\\AmurLeopard_679.jpg: 256x416 1 AmurLeopard, 16.4ms\n",
      "image 67/450 D:\\University College Dublin\\Trimester 3\\PIMM\\Project\\Final Project\\dataset_night\\images\\test\\AmurLeopard_681_dup073.jpg: 256x416 1 AmurLeopard, 16.5ms\n",
      "image 68/450 D:\\University College Dublin\\Trimester 3\\PIMM\\Project\\Final Project\\dataset_night\\images\\test\\AmurLeopard_682_dup166.jpg: 256x416 1 AmurLeopard, 16.9ms\n",
      "image 69/450 D:\\University College Dublin\\Trimester 3\\PIMM\\Project\\Final Project\\dataset_night\\images\\test\\AmurLeopard_706_dup078.jpg: 256x416 1 AmurLeopard, 16.3ms\n",
      "image 70/450 D:\\University College Dublin\\Trimester 3\\PIMM\\Project\\Final Project\\dataset_night\\images\\test\\AmurLeopard_714_dup042.jpg: 256x416 1 AmurLeopard, 16.5ms\n",
      "image 71/450 D:\\University College Dublin\\Trimester 3\\PIMM\\Project\\Final Project\\dataset_night\\images\\test\\AmurLeopard_715.jpg: 256x416 1 AmurLeopard, 16.7ms\n",
      "image 72/450 D:\\University College Dublin\\Trimester 3\\PIMM\\Project\\Final Project\\dataset_night\\images\\test\\AmurLeopard_716.jpg: 256x416 1 AmurLeopard, 16.3ms\n",
      "image 73/450 D:\\University College Dublin\\Trimester 3\\PIMM\\Project\\Final Project\\dataset_night\\images\\test\\AmurLeopard_717.jpg: 256x416 1 AmurLeopard, 16.3ms\n",
      "image 74/450 D:\\University College Dublin\\Trimester 3\\PIMM\\Project\\Final Project\\dataset_night\\images\\test\\AmurLeopard_719_dup049.jpg: 256x416 1 AmurLeopard, 16.5ms\n",
      "image 75/450 D:\\University College Dublin\\Trimester 3\\PIMM\\Project\\Final Project\\dataset_night\\images\\test\\AmurLeopard_90_dup023.jpg: 256x416 1 AmurLeopard, 20.0ms\n",
      "image 76/450 D:\\University College Dublin\\Trimester 3\\PIMM\\Project\\Final Project\\dataset_night\\images\\test\\AmurTiger1138.jpg: 256x416 1 AmurTiger, 21.7ms\n",
      "image 77/450 D:\\University College Dublin\\Trimester 3\\PIMM\\Project\\Final Project\\dataset_night\\images\\test\\AmurTiger1285.jpg: 256x416 1 AmurTiger, 18.7ms\n",
      "image 78/450 D:\\University College Dublin\\Trimester 3\\PIMM\\Project\\Final Project\\dataset_night\\images\\test\\AmurTiger172.jpg: 256x416 1 AmurTiger, 17.8ms\n",
      "image 79/450 D:\\University College Dublin\\Trimester 3\\PIMM\\Project\\Final Project\\dataset_night\\images\\test\\AmurTiger186.jpg: 256x416 1 AmurTiger, 18.3ms\n",
      "image 80/450 D:\\University College Dublin\\Trimester 3\\PIMM\\Project\\Final Project\\dataset_night\\images\\test\\AmurTiger189.jpg: 256x416 1 AmurTiger, 18.0ms\n",
      "image 81/450 D:\\University College Dublin\\Trimester 3\\PIMM\\Project\\Final Project\\dataset_night\\images\\test\\AmurTiger31.jpg: 256x416 1 AmurTiger, 17.1ms\n",
      "image 82/450 D:\\University College Dublin\\Trimester 3\\PIMM\\Project\\Final Project\\dataset_night\\images\\test\\AmurTiger343.jpg: 256x416 1 AmurTiger, 17.4ms\n",
      "image 83/450 D:\\University College Dublin\\Trimester 3\\PIMM\\Project\\Final Project\\dataset_night\\images\\test\\AmurTiger36.jpg: 256x416 1 AmurTiger, 17.4ms\n",
      "image 84/450 D:\\University College Dublin\\Trimester 3\\PIMM\\Project\\Final Project\\dataset_night\\images\\test\\AmurTiger448.jpg: 256x416 1 AmurTiger, 17.2ms\n",
      "image 85/450 D:\\University College Dublin\\Trimester 3\\PIMM\\Project\\Final Project\\dataset_night\\images\\test\\AmurTiger449.jpg: 256x416 1 AmurTiger, 27.1ms\n",
      "image 86/450 D:\\University College Dublin\\Trimester 3\\PIMM\\Project\\Final Project\\dataset_night\\images\\test\\AmurTiger56.jpg: 256x416 1 AmurTiger, 20.5ms\n",
      "image 87/450 D:\\University College Dublin\\Trimester 3\\PIMM\\Project\\Final Project\\dataset_night\\images\\test\\AmurTiger584.jpg: 256x416 1 AmurTiger, 18.3ms\n",
      "image 88/450 D:\\University College Dublin\\Trimester 3\\PIMM\\Project\\Final Project\\dataset_night\\images\\test\\AmurTiger612.jpg: 256x416 1 AmurTiger, 22.3ms\n",
      "image 89/450 D:\\University College Dublin\\Trimester 3\\PIMM\\Project\\Final Project\\dataset_night\\images\\test\\AmurTiger897.jpg: 256x416 1 AmurTiger, 17.4ms\n",
      "image 90/450 D:\\University College Dublin\\Trimester 3\\PIMM\\Project\\Final Project\\dataset_night\\images\\test\\AmurTiger_1008.jpg: 320x416 1 AmurTiger, 49.3ms\n",
      "image 91/450 D:\\University College Dublin\\Trimester 3\\PIMM\\Project\\Final Project\\dataset_night\\images\\test\\AmurTiger_1014.jpg: 256x416 1 AmurTiger, 19.9ms\n",
      "image 92/450 D:\\University College Dublin\\Trimester 3\\PIMM\\Project\\Final Project\\dataset_night\\images\\test\\AmurTiger_1041.jpg: 320x416 1 AmurTiger, 19.0ms\n",
      "image 93/450 D:\\University College Dublin\\Trimester 3\\PIMM\\Project\\Final Project\\dataset_night\\images\\test\\AmurTiger_1054.jpg: 256x416 1 AmurTiger, 21.5ms\n",
      "image 94/450 D:\\University College Dublin\\Trimester 3\\PIMM\\Project\\Final Project\\dataset_night\\images\\test\\AmurTiger_1060.jpg: 256x416 1 AmurTiger, 19.2ms\n",
      "image 95/450 D:\\University College Dublin\\Trimester 3\\PIMM\\Project\\Final Project\\dataset_night\\images\\test\\AmurTiger_175.jpg: 256x416 1 AmurTiger, 18.8ms\n",
      "image 96/450 D:\\University College Dublin\\Trimester 3\\PIMM\\Project\\Final Project\\dataset_night\\images\\test\\AmurTiger_186.jpg: 256x416 1 AmurTiger, 18.7ms\n",
      "image 97/450 D:\\University College Dublin\\Trimester 3\\PIMM\\Project\\Final Project\\dataset_night\\images\\test\\AmurTiger_227.jpg: 256x416 1 AmurTiger, 18.0ms\n",
      "image 98/450 D:\\University College Dublin\\Trimester 3\\PIMM\\Project\\Final Project\\dataset_night\\images\\test\\AmurTiger_230.jpg: 256x416 1 AmurTiger, 18.2ms\n",
      "image 99/450 D:\\University College Dublin\\Trimester 3\\PIMM\\Project\\Final Project\\dataset_night\\images\\test\\AmurTiger_232.jpg: 256x416 1 AmurTiger, 16.8ms\n",
      "image 100/450 D:\\University College Dublin\\Trimester 3\\PIMM\\Project\\Final Project\\dataset_night\\images\\test\\AmurTiger_238.jpg: 256x416 1 AmurTiger, 16.6ms\n",
      "image 101/450 D:\\University College Dublin\\Trimester 3\\PIMM\\Project\\Final Project\\dataset_night\\images\\test\\AmurTiger_241.jpg: 256x416 1 AmurTiger, 17.5ms\n",
      "image 102/450 D:\\University College Dublin\\Trimester 3\\PIMM\\Project\\Final Project\\dataset_night\\images\\test\\AmurTiger_242.jpg: 256x416 1 AmurTiger, 18.3ms\n",
      "image 103/450 D:\\University College Dublin\\Trimester 3\\PIMM\\Project\\Final Project\\dataset_night\\images\\test\\AmurTiger_263.jpg: 256x416 1 AmurTiger, 20.8ms\n",
      "image 104/450 D:\\University College Dublin\\Trimester 3\\PIMM\\Project\\Final Project\\dataset_night\\images\\test\\AmurTiger_264.jpg: 256x416 1 AmurTiger, 22.0ms\n",
      "image 105/450 D:\\University College Dublin\\Trimester 3\\PIMM\\Project\\Final Project\\dataset_night\\images\\test\\AmurTiger_274.jpg: 256x416 1 AmurTiger, 23.3ms\n",
      "image 106/450 D:\\University College Dublin\\Trimester 3\\PIMM\\Project\\Final Project\\dataset_night\\images\\test\\AmurTiger_31.jpg: 256x416 1 AmurTiger, 19.6ms\n",
      "image 107/450 D:\\University College Dublin\\Trimester 3\\PIMM\\Project\\Final Project\\dataset_night\\images\\test\\AmurTiger_315.jpg: 256x416 1 AmurTiger, 20.4ms\n",
      "image 108/450 D:\\University College Dublin\\Trimester 3\\PIMM\\Project\\Final Project\\dataset_night\\images\\test\\AmurTiger_316.jpg: 256x416 1 AmurTiger, 17.5ms\n",
      "image 109/450 D:\\University College Dublin\\Trimester 3\\PIMM\\Project\\Final Project\\dataset_night\\images\\test\\AmurTiger_391.jpg: 256x416 1 AmurTiger, 16.2ms\n",
      "image 110/450 D:\\University College Dublin\\Trimester 3\\PIMM\\Project\\Final Project\\dataset_night\\images\\test\\AmurTiger_396.jpg: 256x416 2 AmurTigers, 17.4ms\n",
      "image 111/450 D:\\University College Dublin\\Trimester 3\\PIMM\\Project\\Final Project\\dataset_night\\images\\test\\AmurTiger_412.jpg: 256x416 1 AmurTiger, 17.2ms\n",
      "image 112/450 D:\\University College Dublin\\Trimester 3\\PIMM\\Project\\Final Project\\dataset_night\\images\\test\\AmurTiger_419.jpg: 256x416 1 AmurTiger, 18.0ms\n",
      "image 113/450 D:\\University College Dublin\\Trimester 3\\PIMM\\Project\\Final Project\\dataset_night\\images\\test\\AmurTiger_445.jpg: 256x416 1 AmurTiger, 18.1ms\n",
      "image 114/450 D:\\University College Dublin\\Trimester 3\\PIMM\\Project\\Final Project\\dataset_night\\images\\test\\AmurTiger_446.jpg: 256x416 1 AmurTiger, 19.6ms\n",
      "image 115/450 D:\\University College Dublin\\Trimester 3\\PIMM\\Project\\Final Project\\dataset_night\\images\\test\\AmurTiger_449.jpg: 256x416 1 AmurTiger, 24.3ms\n",
      "image 116/450 D:\\University College Dublin\\Trimester 3\\PIMM\\Project\\Final Project\\dataset_night\\images\\test\\AmurTiger_489.jpg: 256x416 1 AmurTiger, 19.6ms\n",
      "image 117/450 D:\\University College Dublin\\Trimester 3\\PIMM\\Project\\Final Project\\dataset_night\\images\\test\\AmurTiger_75.jpg: 256x416 1 AmurTiger, 19.8ms\n",
      "image 118/450 D:\\University College Dublin\\Trimester 3\\PIMM\\Project\\Final Project\\dataset_night\\images\\test\\AmurTiger_83.jpg: 256x416 1 AmurTiger, 19.3ms\n",
      "image 119/450 D:\\University College Dublin\\Trimester 3\\PIMM\\Project\\Final Project\\dataset_night\\images\\test\\AmurTiger_84.jpg: 256x416 1 AmurTiger, 23.5ms\n",
      "image 120/450 D:\\University College Dublin\\Trimester 3\\PIMM\\Project\\Final Project\\dataset_night\\images\\test\\AmurTiger_849.jpg: 256x416 1 AmurTiger, 25.9ms\n",
      "image 121/450 D:\\University College Dublin\\Trimester 3\\PIMM\\Project\\Final Project\\dataset_night\\images\\test\\AmurTiger_852.jpg: 256x416 1 AmurTiger, 19.9ms\n",
      "image 122/450 D:\\University College Dublin\\Trimester 3\\PIMM\\Project\\Final Project\\dataset_night\\images\\test\\AmurTiger_853.jpg: 256x416 1 AmurTiger, 22.8ms\n",
      "image 123/450 D:\\University College Dublin\\Trimester 3\\PIMM\\Project\\Final Project\\dataset_night\\images\\test\\AmurTiger_856.jpg: 256x416 1 AmurTiger, 26.1ms\n",
      "image 124/450 D:\\University College Dublin\\Trimester 3\\PIMM\\Project\\Final Project\\dataset_night\\images\\test\\AmurTiger_858.jpg: 256x416 1 AmurTiger, 24.9ms\n",
      "image 125/450 D:\\University College Dublin\\Trimester 3\\PIMM\\Project\\Final Project\\dataset_night\\images\\test\\AmurTiger_861.jpg: 256x416 1 AmurTiger, 26.2ms\n",
      "image 126/450 D:\\University College Dublin\\Trimester 3\\PIMM\\Project\\Final Project\\dataset_night\\images\\test\\AmurTiger_863.jpg: 256x416 1 AmurTiger, 23.5ms\n",
      "image 127/450 D:\\University College Dublin\\Trimester 3\\PIMM\\Project\\Final Project\\dataset_night\\images\\test\\AmurTiger_865.jpg: 256x416 1 AmurTiger, 21.2ms\n",
      "image 128/450 D:\\University College Dublin\\Trimester 3\\PIMM\\Project\\Final Project\\dataset_night\\images\\test\\AmurTiger_875.jpg: 256x416 1 AmurTiger, 28.2ms\n",
      "image 129/450 D:\\University College Dublin\\Trimester 3\\PIMM\\Project\\Final Project\\dataset_night\\images\\test\\AmurTiger_876.jpg: 256x416 1 AmurTiger, 23.3ms\n",
      "image 130/450 D:\\University College Dublin\\Trimester 3\\PIMM\\Project\\Final Project\\dataset_night\\images\\test\\AmurTiger_877.jpg: 256x416 1 AmurTiger, 24.8ms\n",
      "image 131/450 D:\\University College Dublin\\Trimester 3\\PIMM\\Project\\Final Project\\dataset_night\\images\\test\\AmurTiger_884.jpg: 256x416 1 AmurTiger, 24.5ms\n",
      "image 132/450 D:\\University College Dublin\\Trimester 3\\PIMM\\Project\\Final Project\\dataset_night\\images\\test\\AmurTiger_896.jpg: 256x416 1 AmurTiger, 18.8ms\n",
      "image 133/450 D:\\University College Dublin\\Trimester 3\\PIMM\\Project\\Final Project\\dataset_night\\images\\test\\AmurTiger_901.jpg: 256x416 1 AmurTiger, 25.6ms\n",
      "image 134/450 D:\\University College Dublin\\Trimester 3\\PIMM\\Project\\Final Project\\dataset_night\\images\\test\\AmurTiger_911.jpg: 256x416 1 AmurTiger, 26.8ms\n",
      "image 135/450 D:\\University College Dublin\\Trimester 3\\PIMM\\Project\\Final Project\\dataset_night\\images\\test\\AmurTiger_912.jpg: 256x416 1 AmurTiger, 21.5ms\n",
      "image 136/450 D:\\University College Dublin\\Trimester 3\\PIMM\\Project\\Final Project\\dataset_night\\images\\test\\AmurTiger_913.jpg: 256x416 1 AmurTiger, 23.3ms\n",
      "image 137/450 D:\\University College Dublin\\Trimester 3\\PIMM\\Project\\Final Project\\dataset_night\\images\\test\\AmurTiger_931.jpg: 256x416 1 AmurTiger, 25.6ms\n",
      "image 138/450 D:\\University College Dublin\\Trimester 3\\PIMM\\Project\\Final Project\\dataset_night\\images\\test\\AmurTiger_934.jpg: 256x416 1 AmurTiger, 24.1ms\n",
      "image 139/450 D:\\University College Dublin\\Trimester 3\\PIMM\\Project\\Final Project\\dataset_night\\images\\test\\AmurTiger_942.jpg: 256x416 1 AmurTiger, 20.3ms\n",
      "image 140/450 D:\\University College Dublin\\Trimester 3\\PIMM\\Project\\Final Project\\dataset_night\\images\\test\\AmurTiger_945.jpg: 256x416 1 AmurTiger, 23.4ms\n",
      "image 141/450 D:\\University College Dublin\\Trimester 3\\PIMM\\Project\\Final Project\\dataset_night\\images\\test\\AmurTiger_951.jpg: 256x416 1 AmurTiger, 21.4ms\n",
      "image 142/450 D:\\University College Dublin\\Trimester 3\\PIMM\\Project\\Final Project\\dataset_night\\images\\test\\AmurTiger_954.jpg: 256x416 1 AmurTiger, 19.8ms\n",
      "image 143/450 D:\\University College Dublin\\Trimester 3\\PIMM\\Project\\Final Project\\dataset_night\\images\\test\\AmurTiger_955.jpg: 256x416 1 AmurTiger, 20.2ms\n",
      "image 144/450 D:\\University College Dublin\\Trimester 3\\PIMM\\Project\\Final Project\\dataset_night\\images\\test\\AmurTiger_957.jpg: 256x416 1 AmurTiger, 21.3ms\n",
      "image 145/450 D:\\University College Dublin\\Trimester 3\\PIMM\\Project\\Final Project\\dataset_night\\images\\test\\AmurTiger_966.jpg: 320x416 1 AmurTiger, 23.0ms\n",
      "image 146/450 D:\\University College Dublin\\Trimester 3\\PIMM\\Project\\Final Project\\dataset_night\\images\\test\\AmurTiger_967.jpg: 320x416 1 AmurTiger, 23.8ms\n",
      "image 147/450 D:\\University College Dublin\\Trimester 3\\PIMM\\Project\\Final Project\\dataset_night\\images\\test\\AmurTiger_978.jpg: 256x416 1 AmurTiger, 22.2ms\n",
      "image 148/450 D:\\University College Dublin\\Trimester 3\\PIMM\\Project\\Final Project\\dataset_night\\images\\test\\AmurTiger_981.jpg: 320x416 1 AmurTiger, 27.1ms\n",
      "image 149/450 D:\\University College Dublin\\Trimester 3\\PIMM\\Project\\Final Project\\dataset_night\\images\\test\\AmurTiger_982.jpg: 320x416 1 AmurTiger, 24.2ms\n",
      "image 150/450 D:\\University College Dublin\\Trimester 3\\PIMM\\Project\\Final Project\\dataset_night\\images\\test\\AmurTiger_993.jpg: 320x416 1 AmurTiger, 23.5ms\n",
      "image 151/450 D:\\University College Dublin\\Trimester 3\\PIMM\\Project\\Final Project\\dataset_night\\images\\test\\LeopardCat__1467.jpg: 256x416 1 LeopardCat, 23.6ms\n",
      "image 152/450 D:\\University College Dublin\\Trimester 3\\PIMM\\Project\\Final Project\\dataset_night\\images\\test\\LeopardCat__1520.jpg: 256x416 1 LeopardCat, 48.5ms\n",
      "image 153/450 D:\\University College Dublin\\Trimester 3\\PIMM\\Project\\Final Project\\dataset_night\\images\\test\\LeopardCat__1534.jpg: 256x416 1 LeopardCat, 37.3ms\n",
      "image 154/450 D:\\University College Dublin\\Trimester 3\\PIMM\\Project\\Final Project\\dataset_night\\images\\test\\LeopardCat__1539.jpg: 256x416 1 LeopardCat, 19.4ms\n",
      "image 155/450 D:\\University College Dublin\\Trimester 3\\PIMM\\Project\\Final Project\\dataset_night\\images\\test\\LeopardCat__1541.jpg: 256x416 1 LeopardCat, 24.3ms\n",
      "image 156/450 D:\\University College Dublin\\Trimester 3\\PIMM\\Project\\Final Project\\dataset_night\\images\\test\\LeopardCat__1559.jpg: 256x416 1 LeopardCat, 26.8ms\n",
      "image 157/450 D:\\University College Dublin\\Trimester 3\\PIMM\\Project\\Final Project\\dataset_night\\images\\test\\LeopardCat__1560.jpg: 256x416 1 LeopardCat, 22.6ms\n",
      "image 158/450 D:\\University College Dublin\\Trimester 3\\PIMM\\Project\\Final Project\\dataset_night\\images\\test\\LeopardCat__1567.jpg: 256x416 1 LeopardCat, 21.1ms\n",
      "image 159/450 D:\\University College Dublin\\Trimester 3\\PIMM\\Project\\Final Project\\dataset_night\\images\\test\\LeopardCat__1580.jpg: 256x416 1 LeopardCat, 24.7ms\n",
      "image 160/450 D:\\University College Dublin\\Trimester 3\\PIMM\\Project\\Final Project\\dataset_night\\images\\test\\LeopardCat__1583.jpg: 256x416 1 LeopardCat, 19.1ms\n",
      "image 161/450 D:\\University College Dublin\\Trimester 3\\PIMM\\Project\\Final Project\\dataset_night\\images\\test\\LeopardCat__1610.jpg: 256x416 1 LeopardCat, 19.3ms\n",
      "image 162/450 D:\\University College Dublin\\Trimester 3\\PIMM\\Project\\Final Project\\dataset_night\\images\\test\\LeopardCat__1617.jpg: 256x416 1 LeopardCat, 22.0ms\n",
      "image 163/450 D:\\University College Dublin\\Trimester 3\\PIMM\\Project\\Final Project\\dataset_night\\images\\test\\LeopardCat__1621.jpg: 256x416 1 LeopardCat, 18.8ms\n",
      "image 164/450 D:\\University College Dublin\\Trimester 3\\PIMM\\Project\\Final Project\\dataset_night\\images\\test\\LeopardCat__1634.jpg: 256x416 1 LeopardCat, 23.6ms\n",
      "image 165/450 D:\\University College Dublin\\Trimester 3\\PIMM\\Project\\Final Project\\dataset_night\\images\\test\\LeopardCat__1636.jpg: 256x416 1 LeopardCat, 17.9ms\n",
      "image 166/450 D:\\University College Dublin\\Trimester 3\\PIMM\\Project\\Final Project\\dataset_night\\images\\test\\LeopardCat__1642.jpg: 256x416 1 LeopardCat, 20.2ms\n",
      "image 167/450 D:\\University College Dublin\\Trimester 3\\PIMM\\Project\\Final Project\\dataset_night\\images\\test\\LeopardCat__1646.jpg: 256x416 1 LeopardCat, 21.1ms\n",
      "image 168/450 D:\\University College Dublin\\Trimester 3\\PIMM\\Project\\Final Project\\dataset_night\\images\\test\\LeopardCat__1678.jpg: 256x416 1 LeopardCat, 22.7ms\n",
      "image 169/450 D:\\University College Dublin\\Trimester 3\\PIMM\\Project\\Final Project\\dataset_night\\images\\test\\LeopardCat__1690.jpg: 256x416 1 LeopardCat, 26.5ms\n",
      "image 170/450 D:\\University College Dublin\\Trimester 3\\PIMM\\Project\\Final Project\\dataset_night\\images\\test\\LeopardCat__1708.jpg: 256x416 1 LeopardCat, 24.5ms\n",
      "image 171/450 D:\\University College Dublin\\Trimester 3\\PIMM\\Project\\Final Project\\dataset_night\\images\\test\\LeopardCat__1711.jpg: 256x416 1 LeopardCat, 23.6ms\n",
      "image 172/450 D:\\University College Dublin\\Trimester 3\\PIMM\\Project\\Final Project\\dataset_night\\images\\test\\LeopardCat__1712.jpg: 256x416 1 LeopardCat, 22.6ms\n",
      "image 173/450 D:\\University College Dublin\\Trimester 3\\PIMM\\Project\\Final Project\\dataset_night\\images\\test\\LeopardCat__1740.jpg: 256x416 1 LeopardCat, 18.8ms\n",
      "image 174/450 D:\\University College Dublin\\Trimester 3\\PIMM\\Project\\Final Project\\dataset_night\\images\\test\\LeopardCat__1744.jpg: 256x416 1 LeopardCat, 17.6ms\n",
      "image 175/450 D:\\University College Dublin\\Trimester 3\\PIMM\\Project\\Final Project\\dataset_night\\images\\test\\LeopardCat__1749.jpg: 256x416 1 LeopardCat, 17.8ms\n",
      "image 176/450 D:\\University College Dublin\\Trimester 3\\PIMM\\Project\\Final Project\\dataset_night\\images\\test\\LeopardCat__1761.jpg: 320x416 1 LeopardCat, 23.4ms\n",
      "image 177/450 D:\\University College Dublin\\Trimester 3\\PIMM\\Project\\Final Project\\dataset_night\\images\\test\\LeopardCat__1767.jpg: 320x416 1 LeopardCat, 17.1ms\n",
      "image 178/450 D:\\University College Dublin\\Trimester 3\\PIMM\\Project\\Final Project\\dataset_night\\images\\test\\LeopardCat__1768.jpg: 320x416 1 LeopardCat, 17.0ms\n",
      "image 179/450 D:\\University College Dublin\\Trimester 3\\PIMM\\Project\\Final Project\\dataset_night\\images\\test\\LeopardCat__1769.jpg: 320x416 1 LeopardCat, 17.4ms\n",
      "image 180/450 D:\\University College Dublin\\Trimester 3\\PIMM\\Project\\Final Project\\dataset_night\\images\\test\\LeopardCat__1788.jpg: 320x416 1 LeopardCat, 17.0ms\n",
      "image 181/450 D:\\University College Dublin\\Trimester 3\\PIMM\\Project\\Final Project\\dataset_night\\images\\test\\LeopardCat__1789.jpg: 320x416 1 LeopardCat, 16.4ms\n",
      "image 182/450 D:\\University College Dublin\\Trimester 3\\PIMM\\Project\\Final Project\\dataset_night\\images\\test\\LeopardCat__1809.jpg: 320x416 1 LeopardCat, 17.8ms\n",
      "image 183/450 D:\\University College Dublin\\Trimester 3\\PIMM\\Project\\Final Project\\dataset_night\\images\\test\\LeopardCat__1815.jpg: 320x416 1 LeopardCat, 18.8ms\n",
      "image 184/450 D:\\University College Dublin\\Trimester 3\\PIMM\\Project\\Final Project\\dataset_night\\images\\test\\LeopardCat__1817.jpg: 320x416 1 LeopardCat, 24.6ms\n",
      "image 185/450 D:\\University College Dublin\\Trimester 3\\PIMM\\Project\\Final Project\\dataset_night\\images\\test\\LeopardCat__1894.jpg: 320x416 1 LeopardCat, 18.4ms\n",
      "image 186/450 D:\\University College Dublin\\Trimester 3\\PIMM\\Project\\Final Project\\dataset_night\\images\\test\\LeopardCat__1902.jpg: 320x416 1 LeopardCat, 17.0ms\n",
      "image 187/450 D:\\University College Dublin\\Trimester 3\\PIMM\\Project\\Final Project\\dataset_night\\images\\test\\LeopardCat__1913.jpg: 320x416 1 LeopardCat, 17.3ms\n",
      "image 188/450 D:\\University College Dublin\\Trimester 3\\PIMM\\Project\\Final Project\\dataset_night\\images\\test\\LeopardCat__1921.jpg: 256x416 1 LeopardCat, 31.8ms\n",
      "image 189/450 D:\\University College Dublin\\Trimester 3\\PIMM\\Project\\Final Project\\dataset_night\\images\\test\\LeopardCat__1955.jpg: 320x416 1 LeopardCat, 18.2ms\n",
      "image 190/450 D:\\University College Dublin\\Trimester 3\\PIMM\\Project\\Final Project\\dataset_night\\images\\test\\LeopardCat__1962.jpg: 256x416 1 LeopardCat, 18.1ms\n",
      "image 191/450 D:\\University College Dublin\\Trimester 3\\PIMM\\Project\\Final Project\\dataset_night\\images\\test\\LeopardCat__2051.jpg: 320x416 1 LeopardCat, 19.2ms\n",
      "image 192/450 D:\\University College Dublin\\Trimester 3\\PIMM\\Project\\Final Project\\dataset_night\\images\\test\\LeopardCat__2062.jpg: 320x416 1 LeopardCat, 18.5ms\n",
      "image 193/450 D:\\University College Dublin\\Trimester 3\\PIMM\\Project\\Final Project\\dataset_night\\images\\test\\LeopardCat__2063.jpg: 256x416 1 LeopardCat, 19.3ms\n",
      "image 194/450 D:\\University College Dublin\\Trimester 3\\PIMM\\Project\\Final Project\\dataset_night\\images\\test\\LeopardCat__2074.jpg: 256x416 1 LeopardCat, 17.5ms\n",
      "image 195/450 D:\\University College Dublin\\Trimester 3\\PIMM\\Project\\Final Project\\dataset_night\\images\\test\\LeopardCat__2077.jpg: 256x416 1 LeopardCat, 25.2ms\n",
      "image 196/450 D:\\University College Dublin\\Trimester 3\\PIMM\\Project\\Final Project\\dataset_night\\images\\test\\LeopardCat__2112.jpg: 256x416 1 LeopardCat, 17.5ms\n",
      "image 197/450 D:\\University College Dublin\\Trimester 3\\PIMM\\Project\\Final Project\\dataset_night\\images\\test\\LeopardCat__2119.jpg: 256x416 1 LeopardCat, 19.1ms\n",
      "image 198/450 D:\\University College Dublin\\Trimester 3\\PIMM\\Project\\Final Project\\dataset_night\\images\\test\\LeopardCat__2139.jpg: 256x416 1 LeopardCat, 18.4ms\n",
      "image 199/450 D:\\University College Dublin\\Trimester 3\\PIMM\\Project\\Final Project\\dataset_night\\images\\test\\LeopardCat__2141.jpg: 256x416 1 LeopardCat, 18.3ms\n",
      "image 200/450 D:\\University College Dublin\\Trimester 3\\PIMM\\Project\\Final Project\\dataset_night\\images\\test\\LeopardCat__2147.jpg: 256x416 1 LeopardCat, 20.3ms\n",
      "image 201/450 D:\\University College Dublin\\Trimester 3\\PIMM\\Project\\Final Project\\dataset_night\\images\\test\\LeopardCat__2149.jpg: 256x416 1 LeopardCat, 17.9ms\n",
      "image 202/450 D:\\University College Dublin\\Trimester 3\\PIMM\\Project\\Final Project\\dataset_night\\images\\test\\LeopardCat__2156.jpg: 256x416 1 LeopardCat, 17.6ms\n",
      "image 203/450 D:\\University College Dublin\\Trimester 3\\PIMM\\Project\\Final Project\\dataset_night\\images\\test\\LeopardCat__2160.jpg: 256x416 1 LeopardCat, 22.6ms\n",
      "image 204/450 D:\\University College Dublin\\Trimester 3\\PIMM\\Project\\Final Project\\dataset_night\\images\\test\\LeopardCat__2169.jpg: 256x416 1 LeopardCat, 20.3ms\n",
      "image 205/450 D:\\University College Dublin\\Trimester 3\\PIMM\\Project\\Final Project\\dataset_night\\images\\test\\LeopardCat__2211.jpg: 320x416 1 LeopardCat, 19.9ms\n",
      "image 206/450 D:\\University College Dublin\\Trimester 3\\PIMM\\Project\\Final Project\\dataset_night\\images\\test\\LeopardCat__2228.jpg: 256x416 1 AmurLeopard, 1 LeopardCat, 19.7ms\n",
      "image 207/450 D:\\University College Dublin\\Trimester 3\\PIMM\\Project\\Final Project\\dataset_night\\images\\test\\LeopardCat__2233.jpg: 320x416 1 LeopardCat, 29.2ms\n",
      "image 208/450 D:\\University College Dublin\\Trimester 3\\PIMM\\Project\\Final Project\\dataset_night\\images\\test\\LeopardCat__2236.jpg: 320x416 1 LeopardCat, 18.1ms\n",
      "image 209/450 D:\\University College Dublin\\Trimester 3\\PIMM\\Project\\Final Project\\dataset_night\\images\\test\\LeopardCat__2246.jpg: 320x416 1 LeopardCat, 18.0ms\n",
      "image 210/450 D:\\University College Dublin\\Trimester 3\\PIMM\\Project\\Final Project\\dataset_night\\images\\test\\LeopardCat__2285.jpg: 256x416 1 LeopardCat, 18.3ms\n",
      "image 211/450 D:\\University College Dublin\\Trimester 3\\PIMM\\Project\\Final Project\\dataset_night\\images\\test\\LeopardCat__2302.jpg: 320x416 1 LeopardCat, 17.4ms\n",
      "image 212/450 D:\\University College Dublin\\Trimester 3\\PIMM\\Project\\Final Project\\dataset_night\\images\\test\\LeopardCat__2310.jpg: 256x416 1 LeopardCat, 18.2ms\n",
      "image 213/450 D:\\University College Dublin\\Trimester 3\\PIMM\\Project\\Final Project\\dataset_night\\images\\test\\LeopardCat__2325.jpg: 320x416 1 LeopardCat, 24.3ms\n",
      "image 214/450 D:\\University College Dublin\\Trimester 3\\PIMM\\Project\\Final Project\\dataset_night\\images\\test\\LeopardCat__2329.jpg: 320x416 1 LeopardCat, 16.5ms\n",
      "image 215/450 D:\\University College Dublin\\Trimester 3\\PIMM\\Project\\Final Project\\dataset_night\\images\\test\\LeopardCat__2337.jpg: 320x416 1 LeopardCat, 16.6ms\n",
      "image 216/450 D:\\University College Dublin\\Trimester 3\\PIMM\\Project\\Final Project\\dataset_night\\images\\test\\LeopardCat__2338.jpg: 320x416 1 LeopardCat, 18.5ms\n",
      "image 217/450 D:\\University College Dublin\\Trimester 3\\PIMM\\Project\\Final Project\\dataset_night\\images\\test\\LeopardCat__2428.jpg: 256x416 1 LeopardCat, 18.6ms\n",
      "image 218/450 D:\\University College Dublin\\Trimester 3\\PIMM\\Project\\Final Project\\dataset_night\\images\\test\\LeopardCat__2445.jpg: 320x416 1 LeopardCat, 28.8ms\n",
      "image 219/450 D:\\University College Dublin\\Trimester 3\\PIMM\\Project\\Final Project\\dataset_night\\images\\test\\LeopardCat__2446.jpg: 320x416 1 LeopardCat, 17.4ms\n",
      "image 220/450 D:\\University College Dublin\\Trimester 3\\PIMM\\Project\\Final Project\\dataset_night\\images\\test\\LeopardCat__2452.jpg: 320x416 1 LeopardCat, 17.5ms\n",
      "image 221/450 D:\\University College Dublin\\Trimester 3\\PIMM\\Project\\Final Project\\dataset_night\\images\\test\\LeopardCat__2460.jpg: 256x416 1 LeopardCat, 1 RedFox, 19.4ms\n",
      "image 222/450 D:\\University College Dublin\\Trimester 3\\PIMM\\Project\\Final Project\\dataset_night\\images\\test\\LeopardCat__2462.jpg: 320x416 1 LeopardCat, 18.9ms\n",
      "image 223/450 D:\\University College Dublin\\Trimester 3\\PIMM\\Project\\Final Project\\dataset_night\\images\\test\\LeopardCat__2465.jpg: 320x416 1 LeopardCat, 17.6ms\n",
      "image 224/450 D:\\University College Dublin\\Trimester 3\\PIMM\\Project\\Final Project\\dataset_night\\images\\test\\LeopardCat__2469.jpg: 320x416 1 LeopardCat, 23.0ms\n",
      "image 225/450 D:\\University College Dublin\\Trimester 3\\PIMM\\Project\\Final Project\\dataset_night\\images\\test\\LeopardCat__2470.jpg: 320x416 1 LeopardCat, 17.5ms\n",
      "image 226/450 D:\\University College Dublin\\Trimester 3\\PIMM\\Project\\Final Project\\dataset_night\\images\\test\\RedFox(101).jpg: 256x416 1 RedFox, 19.0ms\n",
      "image 227/450 D:\\University College Dublin\\Trimester 3\\PIMM\\Project\\Final Project\\dataset_night\\images\\test\\RedFox(133).jpg: 256x416 1 RedFox, 26.5ms\n",
      "image 228/450 D:\\University College Dublin\\Trimester 3\\PIMM\\Project\\Final Project\\dataset_night\\images\\test\\RedFox(138).jpg: 256x416 1 RedFox, 25.3ms\n",
      "image 229/450 D:\\University College Dublin\\Trimester 3\\PIMM\\Project\\Final Project\\dataset_night\\images\\test\\RedFox(157).jpg: 256x416 1 RedFox, 18.4ms\n",
      "image 230/450 D:\\University College Dublin\\Trimester 3\\PIMM\\Project\\Final Project\\dataset_night\\images\\test\\RedFox(172).jpg: 256x416 1 RedFox, 18.5ms\n",
      "image 231/450 D:\\University College Dublin\\Trimester 3\\PIMM\\Project\\Final Project\\dataset_night\\images\\test\\RedFox(218).jpg: 256x416 (no detections), 19.1ms\n",
      "image 232/450 D:\\University College Dublin\\Trimester 3\\PIMM\\Project\\Final Project\\dataset_night\\images\\test\\RedFox(23).jpg: 256x416 1 RedFox, 25.0ms\n",
      "image 233/450 D:\\University College Dublin\\Trimester 3\\PIMM\\Project\\Final Project\\dataset_night\\images\\test\\RedFox(242).jpg: 256x416 1 RedFox, 25.3ms\n",
      "image 234/450 D:\\University College Dublin\\Trimester 3\\PIMM\\Project\\Final Project\\dataset_night\\images\\test\\RedFox(314).jpg: 256x416 (no detections), 17.2ms\n",
      "image 235/450 D:\\University College Dublin\\Trimester 3\\PIMM\\Project\\Final Project\\dataset_night\\images\\test\\RedFox(332).jpg: 256x416 1 RedFox, 17.8ms\n",
      "image 236/450 D:\\University College Dublin\\Trimester 3\\PIMM\\Project\\Final Project\\dataset_night\\images\\test\\RedFox(337).jpg: 256x416 1 RedFox, 17.6ms\n",
      "image 237/450 D:\\University College Dublin\\Trimester 3\\PIMM\\Project\\Final Project\\dataset_night\\images\\test\\RedFox(348).jpg: 256x416 1 RedFox, 23.4ms\n",
      "image 238/450 D:\\University College Dublin\\Trimester 3\\PIMM\\Project\\Final Project\\dataset_night\\images\\test\\RedFox(349).jpg: 256x416 1 RedFox, 16.6ms\n",
      "image 239/450 D:\\University College Dublin\\Trimester 3\\PIMM\\Project\\Final Project\\dataset_night\\images\\test\\RedFox(351).jpg: 256x416 1 RedFox, 18.4ms\n",
      "image 240/450 D:\\University College Dublin\\Trimester 3\\PIMM\\Project\\Final Project\\dataset_night\\images\\test\\RedFox(365).jpg: 256x416 1 RedFox, 17.6ms\n",
      "image 241/450 D:\\University College Dublin\\Trimester 3\\PIMM\\Project\\Final Project\\dataset_night\\images\\test\\RedFox(379).jpg: 256x416 1 RedFox, 18.2ms\n",
      "image 242/450 D:\\University College Dublin\\Trimester 3\\PIMM\\Project\\Final Project\\dataset_night\\images\\test\\RedFox(388).jpg: 256x416 1 RedFox, 18.3ms\n",
      "image 243/450 D:\\University College Dublin\\Trimester 3\\PIMM\\Project\\Final Project\\dataset_night\\images\\test\\RedFox(391).jpg: 256x416 1 RedFox, 24.6ms\n",
      "image 244/450 D:\\University College Dublin\\Trimester 3\\PIMM\\Project\\Final Project\\dataset_night\\images\\test\\RedFox(399).jpg: 256x416 1 RedFox, 18.8ms\n",
      "image 245/450 D:\\University College Dublin\\Trimester 3\\PIMM\\Project\\Final Project\\dataset_night\\images\\test\\RedFox(402).jpg: 256x416 1 RedFox, 18.5ms\n",
      "image 246/450 D:\\University College Dublin\\Trimester 3\\PIMM\\Project\\Final Project\\dataset_night\\images\\test\\RedFox(54).jpg: 256x416 1 RedFox, 18.0ms\n",
      "image 247/450 D:\\University College Dublin\\Trimester 3\\PIMM\\Project\\Final Project\\dataset_night\\images\\test\\RedFox(6).jpg: 256x416 2 RedFoxs, 17.0ms\n",
      "image 248/450 D:\\University College Dublin\\Trimester 3\\PIMM\\Project\\Final Project\\dataset_night\\images\\test\\RedFox(63).jpg: 256x416 1 LeopardCat, 1 RedFox, 18.5ms\n",
      "image 249/450 D:\\University College Dublin\\Trimester 3\\PIMM\\Project\\Final Project\\dataset_night\\images\\test\\RedFox(67).jpg: 256x416 1 RedFox, 17.9ms\n",
      "image 250/450 D:\\University College Dublin\\Trimester 3\\PIMM\\Project\\Final Project\\dataset_night\\images\\test\\RedFox(94).jpg: 256x416 1 RedFox, 17.3ms\n",
      "image 251/450 D:\\University College Dublin\\Trimester 3\\PIMM\\Project\\Final Project\\dataset_night\\images\\test\\RedFox(95).jpg: 256x416 1 RedFox, 18.4ms\n",
      "image 252/450 D:\\University College Dublin\\Trimester 3\\PIMM\\Project\\Final Project\\dataset_night\\images\\test\\RedFox1019.jpg: 256x416 1 RedFox, 18.1ms\n",
      "image 253/450 D:\\University College Dublin\\Trimester 3\\PIMM\\Project\\Final Project\\dataset_night\\images\\test\\RedFox1023.jpg: 256x416 1 LeopardCat, 1 RedFox, 17.9ms\n",
      "image 254/450 D:\\University College Dublin\\Trimester 3\\PIMM\\Project\\Final Project\\dataset_night\\images\\test\\RedFox1024.jpg: 256x416 1 RedFox, 18.2ms\n",
      "image 255/450 D:\\University College Dublin\\Trimester 3\\PIMM\\Project\\Final Project\\dataset_night\\images\\test\\RedFox1032.jpg: 256x416 1 RedFox, 18.1ms\n",
      "image 256/450 D:\\University College Dublin\\Trimester 3\\PIMM\\Project\\Final Project\\dataset_night\\images\\test\\RedFox1045.jpg: 256x416 1 RedFox, 18.5ms\n",
      "image 257/450 D:\\University College Dublin\\Trimester 3\\PIMM\\Project\\Final Project\\dataset_night\\images\\test\\RedFox1047.jpg: 256x416 1 RedFox, 18.0ms\n",
      "image 258/450 D:\\University College Dublin\\Trimester 3\\PIMM\\Project\\Final Project\\dataset_night\\images\\test\\RedFox1064.jpg: 256x416 1 RedFox, 18.2ms\n",
      "image 259/450 D:\\University College Dublin\\Trimester 3\\PIMM\\Project\\Final Project\\dataset_night\\images\\test\\RedFox1101.jpg: 320x416 1 LeopardCat, 1 RedFox, 18.0ms\n",
      "image 260/450 D:\\University College Dublin\\Trimester 3\\PIMM\\Project\\Final Project\\dataset_night\\images\\test\\RedFox1102.jpg: 320x416 1 RedFox, 17.0ms\n",
      "image 261/450 D:\\University College Dublin\\Trimester 3\\PIMM\\Project\\Final Project\\dataset_night\\images\\test\\RedFox1104.jpg: 320x416 1 RedFox, 20.1ms\n",
      "image 262/450 D:\\University College Dublin\\Trimester 3\\PIMM\\Project\\Final Project\\dataset_night\\images\\test\\RedFox1109.jpg: 320x416 1 RedFox, 19.4ms\n",
      "image 263/450 D:\\University College Dublin\\Trimester 3\\PIMM\\Project\\Final Project\\dataset_night\\images\\test\\RedFox1110.jpg: 320x416 1 RedFox, 16.8ms\n",
      "image 264/450 D:\\University College Dublin\\Trimester 3\\PIMM\\Project\\Final Project\\dataset_night\\images\\test\\RedFox1113.jpg: 320x416 1 RedFox, 18.0ms\n",
      "image 265/450 D:\\University College Dublin\\Trimester 3\\PIMM\\Project\\Final Project\\dataset_night\\images\\test\\RedFox1115.jpg: 320x416 1 RedFox, 18.9ms\n",
      "image 266/450 D:\\University College Dublin\\Trimester 3\\PIMM\\Project\\Final Project\\dataset_night\\images\\test\\RedFox1124.jpg: 320x416 1 RedFox, 16.7ms\n",
      "image 267/450 D:\\University College Dublin\\Trimester 3\\PIMM\\Project\\Final Project\\dataset_night\\images\\test\\RedFox1132.jpg: 320x416 1 RedFox, 17.4ms\n",
      "image 268/450 D:\\University College Dublin\\Trimester 3\\PIMM\\Project\\Final Project\\dataset_night\\images\\test\\RedFox1139.jpg: 256x416 1 RedFox, 19.7ms\n",
      "image 269/450 D:\\University College Dublin\\Trimester 3\\PIMM\\Project\\Final Project\\dataset_night\\images\\test\\RedFox1140.jpg: 256x416 1 RedFox, 27.5ms\n",
      "image 270/450 D:\\University College Dublin\\Trimester 3\\PIMM\\Project\\Final Project\\dataset_night\\images\\test\\RedFox1163.jpg: 320x416 1 LeopardCat, 17.8ms\n",
      "image 271/450 D:\\University College Dublin\\Trimester 3\\PIMM\\Project\\Final Project\\dataset_night\\images\\test\\RedFox1164.jpg: 320x416 1 RedFox, 18.3ms\n",
      "image 272/450 D:\\University College Dublin\\Trimester 3\\PIMM\\Project\\Final Project\\dataset_night\\images\\test\\RedFox1165.jpg: 320x416 1 RedFox, 17.4ms\n",
      "image 273/450 D:\\University College Dublin\\Trimester 3\\PIMM\\Project\\Final Project\\dataset_night\\images\\test\\RedFox1186.jpg: 256x416 1 RedFox, 18.5ms\n",
      "image 274/450 D:\\University College Dublin\\Trimester 3\\PIMM\\Project\\Final Project\\dataset_night\\images\\test\\RedFox1188.jpg: 256x416 1 RedFox, 17.8ms\n",
      "image 275/450 D:\\University College Dublin\\Trimester 3\\PIMM\\Project\\Final Project\\dataset_night\\images\\test\\RedFox1189.jpg: 320x416 1 RedFox, 18.1ms\n",
      "image 276/450 D:\\University College Dublin\\Trimester 3\\PIMM\\Project\\Final Project\\dataset_night\\images\\test\\RedFox1211.jpg: 320x416 2 RedFoxs, 16.7ms\n",
      "image 277/450 D:\\University College Dublin\\Trimester 3\\PIMM\\Project\\Final Project\\dataset_night\\images\\test\\RedFox1218.jpg: 320x416 1 RedFox, 25.2ms\n",
      "image 278/450 D:\\University College Dublin\\Trimester 3\\PIMM\\Project\\Final Project\\dataset_night\\images\\test\\RedFox1221.jpg: 256x416 1 RedFox, 18.7ms\n",
      "image 279/450 D:\\University College Dublin\\Trimester 3\\PIMM\\Project\\Final Project\\dataset_night\\images\\test\\RedFox1228.jpg: 320x416 1 RedFox, 17.6ms\n",
      "image 280/450 D:\\University College Dublin\\Trimester 3\\PIMM\\Project\\Final Project\\dataset_night\\images\\test\\RedFox940.jpg: 256x416 1 RedFox, 20.1ms\n",
      "image 281/450 D:\\University College Dublin\\Trimester 3\\PIMM\\Project\\Final Project\\dataset_night\\images\\test\\RedFox941.jpg: 256x416 1 RedFox, 18.7ms\n",
      "image 282/450 D:\\University College Dublin\\Trimester 3\\PIMM\\Project\\Final Project\\dataset_night\\images\\test\\RedFox947.jpg: 256x416 1 RedFox, 27.2ms\n",
      "image 283/450 D:\\University College Dublin\\Trimester 3\\PIMM\\Project\\Final Project\\dataset_night\\images\\test\\RedFox949.jpg: 256x416 1 RedFox, 21.4ms\n",
      "image 284/450 D:\\University College Dublin\\Trimester 3\\PIMM\\Project\\Final Project\\dataset_night\\images\\test\\RedFox964.jpg: 256x416 1 RedFox, 27.7ms\n",
      "image 285/450 D:\\University College Dublin\\Trimester 3\\PIMM\\Project\\Final Project\\dataset_night\\images\\test\\RedFox974.jpg: 256x416 1 RedFox, 21.6ms\n",
      "image 286/450 D:\\University College Dublin\\Trimester 3\\PIMM\\Project\\Final Project\\dataset_night\\images\\test\\RedFox975.jpg: 256x416 1 RedFox, 19.5ms\n",
      "image 287/450 D:\\University College Dublin\\Trimester 3\\PIMM\\Project\\Final Project\\dataset_night\\images\\test\\RedFox991.jpg: 256x416 1 RedFox, 17.7ms\n",
      "image 288/450 D:\\University College Dublin\\Trimester 3\\PIMM\\Project\\Final Project\\dataset_night\\images\\test\\RedFox_0 (357).jpg: 256x416 1 RedFox, 20.3ms\n",
      "image 289/450 D:\\University College Dublin\\Trimester 3\\PIMM\\Project\\Final Project\\dataset_night\\images\\test\\RedFox_0 (382).jpg: 256x416 1 RedFox, 18.8ms\n",
      "image 290/450 D:\\University College Dublin\\Trimester 3\\PIMM\\Project\\Final Project\\dataset_night\\images\\test\\RedFox_0 (489).jpg: 256x416 1 RedFox, 17.6ms\n",
      "image 291/450 D:\\University College Dublin\\Trimester 3\\PIMM\\Project\\Final Project\\dataset_night\\images\\test\\RedFox_0 (517).jpg: 256x416 1 RedFox, 23.0ms\n",
      "image 292/450 D:\\University College Dublin\\Trimester 3\\PIMM\\Project\\Final Project\\dataset_night\\images\\test\\RedFox_0 (617).jpg: 256x416 1 RedFox, 17.8ms\n",
      "image 293/450 D:\\University College Dublin\\Trimester 3\\PIMM\\Project\\Final Project\\dataset_night\\images\\test\\RedFox_0 (628).jpg: 256x416 1 RedFox, 17.6ms\n",
      "image 294/450 D:\\University College Dublin\\Trimester 3\\PIMM\\Project\\Final Project\\dataset_night\\images\\test\\RedFox_0 (843).jpg: 256x416 1 RedFox, 25.0ms\n",
      "image 295/450 D:\\University College Dublin\\Trimester 3\\PIMM\\Project\\Final Project\\dataset_night\\images\\test\\RedFox_0 (900).jpg: 256x416 1 RedFox, 17.5ms\n",
      "image 296/450 D:\\University College Dublin\\Trimester 3\\PIMM\\Project\\Final Project\\dataset_night\\images\\test\\RedFox_0 (986).jpg: 256x416 1 RedFox, 18.3ms\n",
      "image 297/450 D:\\University College Dublin\\Trimester 3\\PIMM\\Project\\Final Project\\dataset_night\\images\\test\\RedFox_1 (347).jpg: 256x416 1 RedFox, 18.3ms\n",
      "image 298/450 D:\\University College Dublin\\Trimester 3\\PIMM\\Project\\Final Project\\dataset_night\\images\\test\\RedFox_1 (691).jpg: 256x416 1 RedFox, 20.7ms\n",
      "image 299/450 D:\\University College Dublin\\Trimester 3\\PIMM\\Project\\Final Project\\dataset_night\\images\\test\\RedFox_2 (431).jpg: 256x416 1 RedFox, 18.2ms\n",
      "image 300/450 D:\\University College Dublin\\Trimester 3\\PIMM\\Project\\Final Project\\dataset_night\\images\\test\\RedFox_2 (837).jpg: 256x416 1 RedFox, 17.5ms\n",
      "image 301/450 D:\\University College Dublin\\Trimester 3\\PIMM\\Project\\Final Project\\dataset_night\\images\\test\\Weasel1.jpg: 256x416 1 Weasel, 16.5ms\n",
      "image 302/450 D:\\University College Dublin\\Trimester 3\\PIMM\\Project\\Final Project\\dataset_night\\images\\test\\Weasel140.jpg: 256x416 1 RedFox, 17.2ms\n",
      "image 303/450 D:\\University College Dublin\\Trimester 3\\PIMM\\Project\\Final Project\\dataset_night\\images\\test\\Weasel186.jpg: 256x416 1 Weasel, 17.2ms\n",
      "image 304/450 D:\\University College Dublin\\Trimester 3\\PIMM\\Project\\Final Project\\dataset_night\\images\\test\\Weasel207.jpg: 256x416 1 Weasel, 22.7ms\n",
      "image 305/450 D:\\University College Dublin\\Trimester 3\\PIMM\\Project\\Final Project\\dataset_night\\images\\test\\Weasel210.jpg: 256x416 1 Weasel, 20.9ms\n",
      "image 306/450 D:\\University College Dublin\\Trimester 3\\PIMM\\Project\\Final Project\\dataset_night\\images\\test\\Weasel3.jpg: 256x416 (no detections), 18.7ms\n",
      "image 307/450 D:\\University College Dublin\\Trimester 3\\PIMM\\Project\\Final Project\\dataset_night\\images\\test\\Weasel47.jpg: 256x416 (no detections), 18.3ms\n",
      "image 308/450 D:\\University College Dublin\\Trimester 3\\PIMM\\Project\\Final Project\\dataset_night\\images\\test\\Weasel51.jpg: 256x416 1 LeopardCat, 1 Weasel, 18.5ms\n",
      "image 309/450 D:\\University College Dublin\\Trimester 3\\PIMM\\Project\\Final Project\\dataset_night\\images\\test\\Weasel_1002.jpg: 256x416 1 Weasel, 18.3ms\n",
      "image 310/450 D:\\University College Dublin\\Trimester 3\\PIMM\\Project\\Final Project\\dataset_night\\images\\test\\Weasel_1003.jpg: 320x416 1 Weasel, 20.4ms\n",
      "image 311/450 D:\\University College Dublin\\Trimester 3\\PIMM\\Project\\Final Project\\dataset_night\\images\\test\\Weasel_1008.jpg: 256x416 1 Weasel, 19.2ms\n",
      "image 312/450 D:\\University College Dublin\\Trimester 3\\PIMM\\Project\\Final Project\\dataset_night\\images\\test\\Weasel_1010.jpg: 256x416 1 Weasel, 19.2ms\n",
      "image 313/450 D:\\University College Dublin\\Trimester 3\\PIMM\\Project\\Final Project\\dataset_night\\images\\test\\Weasel_1021.jpg: 320x416 1 Weasel, 19.5ms\n",
      "image 314/450 D:\\University College Dublin\\Trimester 3\\PIMM\\Project\\Final Project\\dataset_night\\images\\test\\Weasel_1034.jpg: 256x416 1 Weasel, 19.4ms\n",
      "image 315/450 D:\\University College Dublin\\Trimester 3\\PIMM\\Project\\Final Project\\dataset_night\\images\\test\\Weasel_1036.jpg: 320x416 1 Weasel, 18.6ms\n",
      "image 316/450 D:\\University College Dublin\\Trimester 3\\PIMM\\Project\\Final Project\\dataset_night\\images\\test\\Weasel_1050.jpg: 320x416 1 Weasel, 17.3ms\n",
      "image 317/450 D:\\University College Dublin\\Trimester 3\\PIMM\\Project\\Final Project\\dataset_night\\images\\test\\Weasel_1055.jpg: 320x416 1 Weasel, 17.9ms\n",
      "image 318/450 D:\\University College Dublin\\Trimester 3\\PIMM\\Project\\Final Project\\dataset_night\\images\\test\\Weasel_1058.jpg: 320x416 1 Weasel, 17.3ms\n",
      "image 319/450 D:\\University College Dublin\\Trimester 3\\PIMM\\Project\\Final Project\\dataset_night\\images\\test\\Weasel_1059.jpg: 320x416 1 Weasel, 17.1ms\n",
      "image 320/450 D:\\University College Dublin\\Trimester 3\\PIMM\\Project\\Final Project\\dataset_night\\images\\test\\Weasel_1063.jpg: 320x416 1 Weasel, 17.7ms\n",
      "image 321/450 D:\\University College Dublin\\Trimester 3\\PIMM\\Project\\Final Project\\dataset_night\\images\\test\\Weasel_1074.jpg: 320x416 1 Weasel, 17.2ms\n",
      "image 322/450 D:\\University College Dublin\\Trimester 3\\PIMM\\Project\\Final Project\\dataset_night\\images\\test\\Weasel_1084.jpg: 320x416 1 Weasel, 16.8ms\n",
      "image 323/450 D:\\University College Dublin\\Trimester 3\\PIMM\\Project\\Final Project\\dataset_night\\images\\test\\Weasel_1094.jpg: 320x416 1 Weasel, 18.8ms\n",
      "image 324/450 D:\\University College Dublin\\Trimester 3\\PIMM\\Project\\Final Project\\dataset_night\\images\\test\\Weasel_1099.jpg: 320x416 1 Weasel, 18.6ms\n",
      "image 325/450 D:\\University College Dublin\\Trimester 3\\PIMM\\Project\\Final Project\\dataset_night\\images\\test\\Weasel_1110.jpg: 320x416 1 Weasel, 17.3ms\n",
      "image 326/450 D:\\University College Dublin\\Trimester 3\\PIMM\\Project\\Final Project\\dataset_night\\images\\test\\Weasel_1120.jpg: 320x416 1 Weasel, 17.7ms\n",
      "image 327/450 D:\\University College Dublin\\Trimester 3\\PIMM\\Project\\Final Project\\dataset_night\\images\\test\\Weasel_1133.jpg: 320x416 1 Weasel, 17.2ms\n",
      "image 328/450 D:\\University College Dublin\\Trimester 3\\PIMM\\Project\\Final Project\\dataset_night\\images\\test\\Weasel_1134.jpg: 320x416 1 Weasel, 20.0ms\n",
      "image 329/450 D:\\University College Dublin\\Trimester 3\\PIMM\\Project\\Final Project\\dataset_night\\images\\test\\Weasel_1159.jpg: 320x416 1 Weasel, 17.4ms\n",
      "image 330/450 D:\\University College Dublin\\Trimester 3\\PIMM\\Project\\Final Project\\dataset_night\\images\\test\\Weasel_1160.jpg: 320x416 1 Weasel, 19.6ms\n",
      "image 331/450 D:\\University College Dublin\\Trimester 3\\PIMM\\Project\\Final Project\\dataset_night\\images\\test\\Weasel_1167.jpg: 320x416 1 Weasel, 22.9ms\n",
      "image 332/450 D:\\University College Dublin\\Trimester 3\\PIMM\\Project\\Final Project\\dataset_night\\images\\test\\Weasel_1172.jpg: 320x416 1 Weasel, 18.0ms\n",
      "image 333/450 D:\\University College Dublin\\Trimester 3\\PIMM\\Project\\Final Project\\dataset_night\\images\\test\\Weasel_1184.jpg: 320x416 1 Weasel, 17.1ms\n",
      "image 334/450 D:\\University College Dublin\\Trimester 3\\PIMM\\Project\\Final Project\\dataset_night\\images\\test\\Weasel_1215.jpg: 320x416 1 Weasel, 25.1ms\n",
      "image 335/450 D:\\University College Dublin\\Trimester 3\\PIMM\\Project\\Final Project\\dataset_night\\images\\test\\Weasel_1217.jpg: 320x416 1 Weasel, 17.7ms\n",
      "image 336/450 D:\\University College Dublin\\Trimester 3\\PIMM\\Project\\Final Project\\dataset_night\\images\\test\\Weasel_1239.jpg: 320x416 1 Weasel, 20.2ms\n",
      "image 337/450 D:\\University College Dublin\\Trimester 3\\PIMM\\Project\\Final Project\\dataset_night\\images\\test\\Weasel_1241.jpg: 256x416 1 Weasel, 17.7ms\n",
      "image 338/450 D:\\University College Dublin\\Trimester 3\\PIMM\\Project\\Final Project\\dataset_night\\images\\test\\Weasel_1245.jpg: 256x416 1 Weasel, 17.2ms\n",
      "image 339/450 D:\\University College Dublin\\Trimester 3\\PIMM\\Project\\Final Project\\dataset_night\\images\\test\\Weasel_1250.jpg: 320x416 1 Weasel, 17.4ms\n",
      "image 340/450 D:\\University College Dublin\\Trimester 3\\PIMM\\Project\\Final Project\\dataset_night\\images\\test\\Weasel_1263.jpg: 320x416 1 Weasel, 20.4ms\n",
      "image 341/450 D:\\University College Dublin\\Trimester 3\\PIMM\\Project\\Final Project\\dataset_night\\images\\test\\Weasel_1264.jpg: 320x416 1 Weasel, 24.3ms\n",
      "image 342/450 D:\\University College Dublin\\Trimester 3\\PIMM\\Project\\Final Project\\dataset_night\\images\\test\\Weasel_1265.jpg: 256x416 1 Weasel, 17.8ms\n",
      "image 343/450 D:\\University College Dublin\\Trimester 3\\PIMM\\Project\\Final Project\\dataset_night\\images\\test\\Weasel_1267.jpg: 256x416 1 Weasel, 16.7ms\n",
      "image 344/450 D:\\University College Dublin\\Trimester 3\\PIMM\\Project\\Final Project\\dataset_night\\images\\test\\Weasel_1281.jpg: 256x416 1 Weasel, 18.1ms\n",
      "image 345/450 D:\\University College Dublin\\Trimester 3\\PIMM\\Project\\Final Project\\dataset_night\\images\\test\\Weasel_1285.jpg: 256x416 1 Weasel, 18.1ms\n",
      "image 346/450 D:\\University College Dublin\\Trimester 3\\PIMM\\Project\\Final Project\\dataset_night\\images\\test\\Weasel_1292.jpg: 256x416 1 Weasel, 26.2ms\n",
      "image 347/450 D:\\University College Dublin\\Trimester 3\\PIMM\\Project\\Final Project\\dataset_night\\images\\test\\Weasel_1304.jpg: 256x416 1 Weasel, 18.8ms\n",
      "image 348/450 D:\\University College Dublin\\Trimester 3\\PIMM\\Project\\Final Project\\dataset_night\\images\\test\\Weasel_1318.jpg: 256x416 1 Weasel, 35.3ms\n",
      "image 349/450 D:\\University College Dublin\\Trimester 3\\PIMM\\Project\\Final Project\\dataset_night\\images\\test\\Weasel_1337.jpg: 256x416 1 Weasel, 17.7ms\n",
      "image 350/450 D:\\University College Dublin\\Trimester 3\\PIMM\\Project\\Final Project\\dataset_night\\images\\test\\Weasel_1341.jpg: 256x416 1 Weasel, 18.1ms\n",
      "image 351/450 D:\\University College Dublin\\Trimester 3\\PIMM\\Project\\Final Project\\dataset_night\\images\\test\\Weasel_1344.jpg: 320x416 1 Weasel, 19.0ms\n",
      "image 352/450 D:\\University College Dublin\\Trimester 3\\PIMM\\Project\\Final Project\\dataset_night\\images\\test\\Weasel_1351.jpg: 320x416 1 Weasel, 17.5ms\n",
      "image 353/450 D:\\University College Dublin\\Trimester 3\\PIMM\\Project\\Final Project\\dataset_night\\images\\test\\Weasel_1353.jpg: 256x416 1 Weasel, 17.7ms\n",
      "image 354/450 D:\\University College Dublin\\Trimester 3\\PIMM\\Project\\Final Project\\dataset_night\\images\\test\\Weasel_1361.jpg: 320x416 1 Weasel, 17.1ms\n",
      "image 355/450 D:\\University College Dublin\\Trimester 3\\PIMM\\Project\\Final Project\\dataset_night\\images\\test\\Weasel_1362.jpg: 256x416 1 Weasel, 18.6ms\n",
      "image 356/450 D:\\University College Dublin\\Trimester 3\\PIMM\\Project\\Final Project\\dataset_night\\images\\test\\Weasel_1374.jpg: 256x416 1 Weasel, 20.0ms\n",
      "image 357/450 D:\\University College Dublin\\Trimester 3\\PIMM\\Project\\Final Project\\dataset_night\\images\\test\\Weasel_1386.jpg: 320x416 1 Weasel, 17.4ms\n",
      "image 358/450 D:\\University College Dublin\\Trimester 3\\PIMM\\Project\\Final Project\\dataset_night\\images\\test\\Weasel_1397.jpg: 320x416 1 Weasel, 18.6ms\n",
      "image 359/450 D:\\University College Dublin\\Trimester 3\\PIMM\\Project\\Final Project\\dataset_night\\images\\test\\Weasel_1403.jpg: 320x416 1 Weasel, 18.0ms\n",
      "image 360/450 D:\\University College Dublin\\Trimester 3\\PIMM\\Project\\Final Project\\dataset_night\\images\\test\\Weasel_1430.jpg: 320x416 1 Weasel, 18.1ms\n",
      "image 361/450 D:\\University College Dublin\\Trimester 3\\PIMM\\Project\\Final Project\\dataset_night\\images\\test\\Weasel_1440.jpg: 256x416 2 Weasels, 22.4ms\n",
      "image 362/450 D:\\University College Dublin\\Trimester 3\\PIMM\\Project\\Final Project\\dataset_night\\images\\test\\Weasel_1469.jpg: 256x416 1 Weasel, 17.2ms\n",
      "image 363/450 D:\\University College Dublin\\Trimester 3\\PIMM\\Project\\Final Project\\dataset_night\\images\\test\\Weasel_1479.jpg: 320x416 1 Weasel, 29.7ms\n",
      "image 364/450 D:\\University College Dublin\\Trimester 3\\PIMM\\Project\\Final Project\\dataset_night\\images\\test\\Weasel_1480.jpg: 320x416 1 Weasel, 20.4ms\n",
      "image 365/450 D:\\University College Dublin\\Trimester 3\\PIMM\\Project\\Final Project\\dataset_night\\images\\test\\Weasel_1492.jpg: 320x416 1 Weasel, 17.4ms\n",
      "image 366/450 D:\\University College Dublin\\Trimester 3\\PIMM\\Project\\Final Project\\dataset_night\\images\\test\\Weasel_1502.jpg: 320x416 1 Weasel, 17.4ms\n",
      "image 367/450 D:\\University College Dublin\\Trimester 3\\PIMM\\Project\\Final Project\\dataset_night\\images\\test\\Weasel_1515.jpg: 320x416 1 Weasel, 16.8ms\n",
      "image 368/450 D:\\University College Dublin\\Trimester 3\\PIMM\\Project\\Final Project\\dataset_night\\images\\test\\Weasel_21.jpg: 256x416 1 Weasel, 17.7ms\n",
      "image 369/450 D:\\University College Dublin\\Trimester 3\\PIMM\\Project\\Final Project\\dataset_night\\images\\test\\Weasel_427.jpg: 256x416 1 Weasel, 17.3ms\n",
      "image 370/450 D:\\University College Dublin\\Trimester 3\\PIMM\\Project\\Final Project\\dataset_night\\images\\test\\Weasel_48.jpg: 256x416 1 LeopardCat, 17.4ms\n",
      "image 371/450 D:\\University College Dublin\\Trimester 3\\PIMM\\Project\\Final Project\\dataset_night\\images\\test\\Weasel_60.jpg: 256x416 1 LeopardCat, 1 RedFox, 22.5ms\n",
      "image 372/450 D:\\University College Dublin\\Trimester 3\\PIMM\\Project\\Final Project\\dataset_night\\images\\test\\Weasel_976.jpg: 320x416 1 Weasel, 19.1ms\n",
      "image 373/450 D:\\University College Dublin\\Trimester 3\\PIMM\\Project\\Final Project\\dataset_night\\images\\test\\Weasel_986.jpg: 256x416 1 Weasel, 19.2ms\n",
      "image 374/450 D:\\University College Dublin\\Trimester 3\\PIMM\\Project\\Final Project\\dataset_night\\images\\test\\Weasel_991.jpg: 256x416 1 Weasel, 18.6ms\n",
      "image 375/450 D:\\University College Dublin\\Trimester 3\\PIMM\\Project\\Final Project\\dataset_night\\images\\test\\Weasel_994.jpg: 320x416 1 Weasel, 18.5ms\n",
      "image 376/450 D:\\University College Dublin\\Trimester 3\\PIMM\\Project\\Final Project\\dataset_night\\images\\test\\WildBoar (146).jpg: 256x416 1 WildBoar, 25.4ms\n",
      "image 377/450 D:\\University College Dublin\\Trimester 3\\PIMM\\Project\\Final Project\\dataset_night\\images\\test\\WildBoar (163).jpg: 256x416 1 WildBoar, 21.8ms\n",
      "image 378/450 D:\\University College Dublin\\Trimester 3\\PIMM\\Project\\Final Project\\dataset_night\\images\\test\\WildBoar (164).jpg: 256x416 1 WildBoar, 20.2ms\n",
      "image 379/450 D:\\University College Dublin\\Trimester 3\\PIMM\\Project\\Final Project\\dataset_night\\images\\test\\WildBoar (177).jpg: 256x416 1 WildBoar, 25.6ms\n",
      "image 380/450 D:\\University College Dublin\\Trimester 3\\PIMM\\Project\\Final Project\\dataset_night\\images\\test\\WildBoar (179).jpg: 256x416 1 WildBoar, 23.5ms\n",
      "image 381/450 D:\\University College Dublin\\Trimester 3\\PIMM\\Project\\Final Project\\dataset_night\\images\\test\\WildBoar (287).jpg: 256x416 1 WildBoar, 27.6ms\n",
      "image 382/450 D:\\University College Dublin\\Trimester 3\\PIMM\\Project\\Final Project\\dataset_night\\images\\test\\WildBoar101.jpg: 256x416 1 WildBoar, 38.3ms\n",
      "image 383/450 D:\\University College Dublin\\Trimester 3\\PIMM\\Project\\Final Project\\dataset_night\\images\\test\\WildBoar173.jpg: 256x416 (no detections), 19.9ms\n",
      "image 384/450 D:\\University College Dublin\\Trimester 3\\PIMM\\Project\\Final Project\\dataset_night\\images\\test\\WildBoar197.jpg: 256x416 1 WildBoar, 27.2ms\n",
      "image 385/450 D:\\University College Dublin\\Trimester 3\\PIMM\\Project\\Final Project\\dataset_night\\images\\test\\WildBoar339.jpg: 256x416 1 WildBoar, 24.2ms\n",
      "image 386/450 D:\\University College Dublin\\Trimester 3\\PIMM\\Project\\Final Project\\dataset_night\\images\\test\\WildBoar340.jpg: 256x416 1 WildBoar, 19.5ms\n",
      "image 387/450 D:\\University College Dublin\\Trimester 3\\PIMM\\Project\\Final Project\\dataset_night\\images\\test\\WildBoar413.jpg: 256x416 1 WildBoar, 25.2ms\n",
      "image 388/450 D:\\University College Dublin\\Trimester 3\\PIMM\\Project\\Final Project\\dataset_night\\images\\test\\WildBoar430.jpg: 256x416 1 WildBoar, 24.5ms\n",
      "image 389/450 D:\\University College Dublin\\Trimester 3\\PIMM\\Project\\Final Project\\dataset_night\\images\\test\\WildBoar435.jpg: 256x416 1 WildBoar, 22.9ms\n",
      "image 390/450 D:\\University College Dublin\\Trimester 3\\PIMM\\Project\\Final Project\\dataset_night\\images\\test\\WildBoar444.jpg: 256x416 1 WildBoar, 23.9ms\n",
      "image 391/450 D:\\University College Dublin\\Trimester 3\\PIMM\\Project\\Final Project\\dataset_night\\images\\test\\WildBoar452.jpg: 256x416 1 WildBoar, 22.4ms\n",
      "image 392/450 D:\\University College Dublin\\Trimester 3\\PIMM\\Project\\Final Project\\dataset_night\\images\\test\\WildBoar459.jpg: 256x416 1 WildBoar, 21.6ms\n",
      "image 393/450 D:\\University College Dublin\\Trimester 3\\PIMM\\Project\\Final Project\\dataset_night\\images\\test\\WildBoar569.jpg: 256x416 1 WildBoar, 21.4ms\n",
      "image 394/450 D:\\University College Dublin\\Trimester 3\\PIMM\\Project\\Final Project\\dataset_night\\images\\test\\WildBoar587.jpg: 256x416 1 WildBoar, 28.7ms\n",
      "image 395/450 D:\\University College Dublin\\Trimester 3\\PIMM\\Project\\Final Project\\dataset_night\\images\\test\\WildBoar590.jpg: 256x416 1 WildBoar, 64.6ms\n",
      "image 396/450 D:\\University College Dublin\\Trimester 3\\PIMM\\Project\\Final Project\\dataset_night\\images\\test\\WildBoar591.jpg: 256x416 1 WildBoar, 37.4ms\n",
      "image 397/450 D:\\University College Dublin\\Trimester 3\\PIMM\\Project\\Final Project\\dataset_night\\images\\test\\WildBoar592.jpg: 256x416 2 WildBoars, 26.4ms\n",
      "image 398/450 D:\\University College Dublin\\Trimester 3\\PIMM\\Project\\Final Project\\dataset_night\\images\\test\\WildBoar599.jpg: 256x416 2 WildBoars, 23.3ms\n",
      "image 399/450 D:\\University College Dublin\\Trimester 3\\PIMM\\Project\\Final Project\\dataset_night\\images\\test\\WildBoar623.jpg: 256x416 1 WildBoar, 22.0ms\n",
      "image 400/450 D:\\University College Dublin\\Trimester 3\\PIMM\\Project\\Final Project\\dataset_night\\images\\test\\WildBoar627.jpg: 256x416 1 WildBoar, 25.6ms\n",
      "image 401/450 D:\\University College Dublin\\Trimester 3\\PIMM\\Project\\Final Project\\dataset_night\\images\\test\\WildBoar64.jpg: 256x416 1 WildBoar, 26.8ms\n",
      "image 402/450 D:\\University College Dublin\\Trimester 3\\PIMM\\Project\\Final Project\\dataset_night\\images\\test\\WildBoar65.jpg: 256x416 (no detections), 25.3ms\n",
      "image 403/450 D:\\University College Dublin\\Trimester 3\\PIMM\\Project\\Final Project\\dataset_night\\images\\test\\WildBoar77.jpg: 256x416 1 WildBoar, 24.2ms\n",
      "image 404/450 D:\\University College Dublin\\Trimester 3\\PIMM\\Project\\Final Project\\dataset_night\\images\\test\\WildBoar84.jpg: 256x416 1 WildBoar, 30.9ms\n",
      "image 405/450 D:\\University College Dublin\\Trimester 3\\PIMM\\Project\\Final Project\\dataset_night\\images\\test\\WildBoar9.jpg: 256x416 1 WildBoar, 24.7ms\n",
      "image 406/450 D:\\University College Dublin\\Trimester 3\\PIMM\\Project\\Final Project\\dataset_night\\images\\test\\WildBoar93.jpg: 256x416 1 WildBoar, 24.6ms\n",
      "image 407/450 D:\\University College Dublin\\Trimester 3\\PIMM\\Project\\Final Project\\dataset_night\\images\\test\\WildBoar94.jpg: 256x416 1 WildBoar, 20.8ms\n",
      "image 408/450 D:\\University College Dublin\\Trimester 3\\PIMM\\Project\\Final Project\\dataset_night\\images\\test\\WildBoar_2384.jpg: 256x416 1 WildBoar, 29.9ms\n",
      "image 409/450 D:\\University College Dublin\\Trimester 3\\PIMM\\Project\\Final Project\\dataset_night\\images\\test\\WildBoar_2389.jpg: 256x416 1 WildBoar, 22.9ms\n",
      "image 410/450 D:\\University College Dublin\\Trimester 3\\PIMM\\Project\\Final Project\\dataset_night\\images\\test\\WildBoar_2390.jpg: 256x416 1 WildBoar, 21.0ms\n",
      "image 411/450 D:\\University College Dublin\\Trimester 3\\PIMM\\Project\\Final Project\\dataset_night\\images\\test\\WildBoar_2395.jpg: 256x416 1 WildBoar, 26.4ms\n",
      "image 412/450 D:\\University College Dublin\\Trimester 3\\PIMM\\Project\\Final Project\\dataset_night\\images\\test\\WildBoar_2406.jpg: 256x416 1 WildBoar, 23.1ms\n",
      "image 413/450 D:\\University College Dublin\\Trimester 3\\PIMM\\Project\\Final Project\\dataset_night\\images\\test\\WildBoar_2409.jpg: 256x416 1 WildBoar, 21.3ms\n",
      "image 414/450 D:\\University College Dublin\\Trimester 3\\PIMM\\Project\\Final Project\\dataset_night\\images\\test\\WildBoar_2410.jpg: 256x416 1 WildBoar, 27.3ms\n",
      "image 415/450 D:\\University College Dublin\\Trimester 3\\PIMM\\Project\\Final Project\\dataset_night\\images\\test\\WildBoar_2431.jpg: 256x416 1 WildBoar, 20.2ms\n",
      "image 416/450 D:\\University College Dublin\\Trimester 3\\PIMM\\Project\\Final Project\\dataset_night\\images\\test\\WildBoar_2455.jpg: 256x416 1 WildBoar, 29.1ms\n",
      "image 417/450 D:\\University College Dublin\\Trimester 3\\PIMM\\Project\\Final Project\\dataset_night\\images\\test\\WildBoar_2457.jpg: 256x416 1 WildBoar, 31.4ms\n",
      "image 418/450 D:\\University College Dublin\\Trimester 3\\PIMM\\Project\\Final Project\\dataset_night\\images\\test\\WildBoar_2476.jpg: 256x416 1 WildBoar, 23.9ms\n",
      "image 419/450 D:\\University College Dublin\\Trimester 3\\PIMM\\Project\\Final Project\\dataset_night\\images\\test\\WildBoar_2488.jpg: 256x416 1 WildBoar, 22.7ms\n",
      "image 420/450 D:\\University College Dublin\\Trimester 3\\PIMM\\Project\\Final Project\\dataset_night\\images\\test\\WildBoar_2492.jpg: 256x416 1 WildBoar, 22.3ms\n",
      "image 421/450 D:\\University College Dublin\\Trimester 3\\PIMM\\Project\\Final Project\\dataset_night\\images\\test\\WildBoar_2505.jpg: 256x416 1 WildBoar, 66.3ms\n",
      "image 422/450 D:\\University College Dublin\\Trimester 3\\PIMM\\Project\\Final Project\\dataset_night\\images\\test\\Wildboar_1788.jpg: 256x416 1 WildBoar, 23.7ms\n",
      "image 423/450 D:\\University College Dublin\\Trimester 3\\PIMM\\Project\\Final Project\\dataset_night\\images\\test\\Wildboar_1805.jpg: 256x416 1 WildBoar, 22.7ms\n",
      "image 424/450 D:\\University College Dublin\\Trimester 3\\PIMM\\Project\\Final Project\\dataset_night\\images\\test\\Wildboar_1806.jpg: 256x416 1 WildBoar, 24.8ms\n",
      "image 425/450 D:\\University College Dublin\\Trimester 3\\PIMM\\Project\\Final Project\\dataset_night\\images\\test\\Wildboar_1807.jpg: 256x416 1 WildBoar, 22.1ms\n",
      "image 426/450 D:\\University College Dublin\\Trimester 3\\PIMM\\Project\\Final Project\\dataset_night\\images\\test\\Wildboar_1816.jpg: 256x416 1 WildBoar, 26.8ms\n",
      "image 427/450 D:\\University College Dublin\\Trimester 3\\PIMM\\Project\\Final Project\\dataset_night\\images\\test\\Wildboar_1836.jpg: 256x416 1 WildBoar, 23.0ms\n",
      "image 428/450 D:\\University College Dublin\\Trimester 3\\PIMM\\Project\\Final Project\\dataset_night\\images\\test\\Wildboar_1837.jpg: 256x416 1 WildBoar, 25.7ms\n",
      "image 429/450 D:\\University College Dublin\\Trimester 3\\PIMM\\Project\\Final Project\\dataset_night\\images\\test\\Wildboar_1852.jpg: 256x416 1 WildBoar, 21.1ms\n",
      "image 430/450 D:\\University College Dublin\\Trimester 3\\PIMM\\Project\\Final Project\\dataset_night\\images\\test\\Wildboar_1866.jpg: 256x416 1 WildBoar, 25.4ms\n",
      "image 431/450 D:\\University College Dublin\\Trimester 3\\PIMM\\Project\\Final Project\\dataset_night\\images\\test\\Wildboar_1879.jpg: 256x416 1 WildBoar, 21.2ms\n",
      "image 432/450 D:\\University College Dublin\\Trimester 3\\PIMM\\Project\\Final Project\\dataset_night\\images\\test\\Wildboar_1898.jpg: 256x416 1 WildBoar, 24.9ms\n",
      "image 433/450 D:\\University College Dublin\\Trimester 3\\PIMM\\Project\\Final Project\\dataset_night\\images\\test\\Wildboar_1900.jpg: 256x416 1 WildBoar, 40.5ms\n",
      "image 434/450 D:\\University College Dublin\\Trimester 3\\PIMM\\Project\\Final Project\\dataset_night\\images\\test\\Wildboar_1902.jpg: 256x416 1 WildBoar, 27.1ms\n",
      "image 435/450 D:\\University College Dublin\\Trimester 3\\PIMM\\Project\\Final Project\\dataset_night\\images\\test\\Wildboar_1955.jpg: 256x416 1 WildBoar, 22.2ms\n",
      "image 436/450 D:\\University College Dublin\\Trimester 3\\PIMM\\Project\\Final Project\\dataset_night\\images\\test\\Wildboar_1985.jpg: 256x416 1 WildBoar, 22.0ms\n",
      "image 437/450 D:\\University College Dublin\\Trimester 3\\PIMM\\Project\\Final Project\\dataset_night\\images\\test\\Wildboar_1987.jpg: 256x416 1 WildBoar, 28.7ms\n",
      "image 438/450 D:\\University College Dublin\\Trimester 3\\PIMM\\Project\\Final Project\\dataset_night\\images\\test\\Wildboar_2050.jpg: 256x416 1 WildBoar, 21.8ms\n",
      "image 439/450 D:\\University College Dublin\\Trimester 3\\PIMM\\Project\\Final Project\\dataset_night\\images\\test\\Wildboar_2051.jpg: 256x416 1 WildBoar, 26.0ms\n",
      "image 440/450 D:\\University College Dublin\\Trimester 3\\PIMM\\Project\\Final Project\\dataset_night\\images\\test\\Wildboar_2130.jpg: 256x416 1 WildBoar, 21.7ms\n",
      "image 441/450 D:\\University College Dublin\\Trimester 3\\PIMM\\Project\\Final Project\\dataset_night\\images\\test\\Wildboar_2150.jpg: 256x416 1 WildBoar, 24.4ms\n",
      "image 442/450 D:\\University College Dublin\\Trimester 3\\PIMM\\Project\\Final Project\\dataset_night\\images\\test\\Wildboar_2187.jpg: 256x416 1 WildBoar, 31.8ms\n",
      "image 443/450 D:\\University College Dublin\\Trimester 3\\PIMM\\Project\\Final Project\\dataset_night\\images\\test\\Wildboar_2191.jpg: 256x416 1 WildBoar, 23.2ms\n",
      "image 444/450 D:\\University College Dublin\\Trimester 3\\PIMM\\Project\\Final Project\\dataset_night\\images\\test\\Wildboar_2203.jpg: 256x416 1 WildBoar, 25.0ms\n",
      "image 445/450 D:\\University College Dublin\\Trimester 3\\PIMM\\Project\\Final Project\\dataset_night\\images\\test\\Wildboar_2218.jpg: 256x416 1 WildBoar, 53.2ms\n",
      "image 446/450 D:\\University College Dublin\\Trimester 3\\PIMM\\Project\\Final Project\\dataset_night\\images\\test\\Wildboar_2219.jpg: 256x416 1 WildBoar, 22.4ms\n",
      "image 447/450 D:\\University College Dublin\\Trimester 3\\PIMM\\Project\\Final Project\\dataset_night\\images\\test\\Wildboar_2224.jpg: 256x416 1 WildBoar, 23.5ms\n",
      "image 448/450 D:\\University College Dublin\\Trimester 3\\PIMM\\Project\\Final Project\\dataset_night\\images\\test\\Wildboar_2264.jpg: 256x416 1 WildBoar, 18.3ms\n",
      "image 449/450 D:\\University College Dublin\\Trimester 3\\PIMM\\Project\\Final Project\\dataset_night\\images\\test\\Wildboar_2265.jpg: 256x416 1 WildBoar, 21.0ms\n",
      "image 450/450 D:\\University College Dublin\\Trimester 3\\PIMM\\Project\\Final Project\\dataset_night\\images\\test\\Wildboar_2266.jpg: 256x416 1 WildBoar, 23.6ms\n",
      "Speed: 1.5ms preprocess, 21.9ms inference, 3.0ms postprocess per image at shape (1, 3, 256, 416)\n",
      "Results saved to \u001b[1mruns\\detect\\night_test_output_yolo12\u001b[0m\n",
      "444 labels saved to runs\\detect\\night_test_output_yolo12\\labels\n"
     ]
    }
   ],
   "source": [
    "# Running prediction on all test images in the Night dataset\n",
    "results = model.predict(\n",
    "    source=\"dataset_night/images/test\",   \n",
    "    save=True,                            \n",
    "    save_txt=True,                        \n",
    "    conf=0.25,                            \n",
    "    imgsz=416,\n",
    "    device=1,                             \n",
    "    name=\"night_test_output_yolo12\",             \n",
    "    project=\"runs/detect\",                \n",
    "    exist_ok=True                         \n",
    ")"
   ]
  },
  {
   "cell_type": "markdown",
   "id": "8e2d0c2e-8674-47ec-a126-b72cf2672926",
   "metadata": {},
   "source": [
    "The above code:\n",
    "- Uses the fine-tuned **Night model** to predict animals in all images from the Night **test folder**.\n",
    "- Saves the output images with detected bounding boxes to `runs/detect/night_test_output_yolo12`.\n",
    "- Saves the detection results as `.txt` files in **YOLO format** alongside the images.\n",
    "- Filters detections with a confidence threshold of **0.25**.\n",
    "- Resizes images to **416×416** for prediction.\n",
    "- Performs inference on **GPU device 1** (adjust if needed).\n",
    "- Overwrites previous outputs in the folder if they exist (`exist_ok=True`).\n",
    "\n",
    "---\n",
    "\n",
    "Now we load the best **Night-trained YOLOv12 model** to run detection on a video."
   ]
  },
  {
   "cell_type": "code",
   "execution_count": 7,
   "id": "edc4e72d-5919-4a1b-80e6-bfd9c1a84e83",
   "metadata": {},
   "outputs": [
    {
     "name": "stdout",
     "output_type": "stream",
     "text": [
      "WARNING \n",
      "inference results will accumulate in RAM unless `stream=True` is passed, causing potential out-of-memory\n",
      "errors for large sources or long-running streams and videos. See https://docs.ultralytics.com/modes/predict/ for help.\n",
      "\n",
      "Example:\n",
      "    results = model(source=..., stream=True)  # generator of Results objects\n",
      "    for r in results:\n",
      "        boxes = r.boxes  # Boxes object for bbox outputs\n",
      "        masks = r.masks  # Masks object for segment masks outputs\n",
      "        probs = r.probs  # Class probabilities for classification outputs\n",
      "\n",
      "Results saved to \u001b[1mruns\\detect\\night_video_test_output_yolo12\u001b[0m\n",
      "✅ Video detection completed. Output saved at: runs/detect/night_video_test_output_yolo12\n"
     ]
    }
   ],
   "source": [
    "# Loading the best trained model\n",
    "model = YOLO(\"yolo12_night/yolov12m_night/weights/best.pt\")\n",
    "\n",
    "# Running detection on videos\n",
    "results = model.predict(\n",
    "    source=\"videos/\",  # You need to specify location of video here \n",
    "    save=True,                 \n",
    "    conf=0.25,                 \n",
    "    imgsz=416,\n",
    "    device=1,   \n",
    "    project=\"runs/detect\",                \n",
    "    name=\"night_video_test_output_yolo12\",       \n",
    "    exist_ok=True,\n",
    "    verbose = False\n",
    ")\n",
    "\n",
    "print(\"✅ Video detection completed. Output saved at: runs/detect/night_video_test_output_yolo12\")"
   ]
  },
  {
   "cell_type": "markdown",
   "id": "185ad11f-8e44-421a-b047-18cefc5e29a5",
   "metadata": {},
   "source": [
    "The above code:\n",
    "- Loads the fine-tuned **Night model** weights (`best.pt`).\n",
    "- Performs object detection on the videos available in the folder `videos/`.\n",
    "- Saves the output videos with bounding boxes to the folder `runs/detect/night_video_test_output_yolo12`.\n",
    "- Uses a confidence threshold of **0.25** and resizes frames to **416×416**.\n",
    "- Runs inference on **GPU device 1** (adjust if necessary).\n",
    "- Overwrites the output folder if it already exists (`exist_ok=True`).\n",
    "\n",
    "---"
   ]
  },
  {
   "cell_type": "markdown",
   "id": "2ebceb55-bc8e-4914-9fcc-aa8aac864c78",
   "metadata": {},
   "source": [
    "Now we will use some test images downloaded directly from the **web**, which are not present in our dataset, for **prediction**."
   ]
  },
  {
   "cell_type": "code",
   "execution_count": 8,
   "id": "95671b2a-535d-4544-9d5c-c7f7ac61d1a7",
   "metadata": {},
   "outputs": [
    {
     "name": "stdout",
     "output_type": "stream",
     "text": [
      "\n",
      "image 1/6 D:\\University College Dublin\\Trimester 3\\PIMM\\Project\\Final Project\\images for testing\\amurleopard.jpg: 320x416 2 AmurLeopards, 567.9ms\n",
      "image 2/6 D:\\University College Dublin\\Trimester 3\\PIMM\\Project\\Final Project\\images for testing\\amurtiger.jpg: 256x416 1 AmurTiger, 170.5ms\n",
      "image 3/6 D:\\University College Dublin\\Trimester 3\\PIMM\\Project\\Final Project\\images for testing\\leopardcat.png: 224x416 1 LeopardCat, 9222.5ms\n",
      "image 4/6 D:\\University College Dublin\\Trimester 3\\PIMM\\Project\\Final Project\\images for testing\\redfox.jpg: 256x416 1 WildBoar, 217.4ms\n",
      "image 5/6 D:\\University College Dublin\\Trimester 3\\PIMM\\Project\\Final Project\\images for testing\\weasel.jpg: 224x416 1 Weasel, 19.6ms\n",
      "image 6/6 D:\\University College Dublin\\Trimester 3\\PIMM\\Project\\Final Project\\images for testing\\wildboar.jpg: 288x416 1 WildBoar, 848.1ms\n",
      "Speed: 50.7ms preprocess, 1841.0ms inference, 84.7ms postprocess per image at shape (1, 3, 288, 416)\n",
      "Results saved to \u001b[1mruns\\detect\\yolo12_testing_images\u001b[0m\n",
      "6 labels saved to runs\\detect\\yolo12_testing_images\\labels\n"
     ]
    }
   ],
   "source": [
    "# Loading the best model\n",
    "model = YOLO(\"yolo12_night/yolov12m_night/weights/best.pt\")\n",
    "\n",
    "# Running predictions on all images from our test set folder\n",
    "results = model.predict(\n",
    "    source=\"images for testing\", \n",
    "    save=True,                            \n",
    "    save_txt=True,                        \n",
    "    conf=0.25,                            \n",
    "    imgsz=416,                           \n",
    "    project=\"runs/detect\",\n",
    "    name=\"yolo12_testing_images\",              \n",
    "    exist_ok=True                         \n",
    ")"
   ]
  },
  {
   "cell_type": "markdown",
   "id": "a7b3c2b4-f354-484f-a869-fb56d0f2d611",
   "metadata": {},
   "source": [
    "The above code:\n",
    "\n",
    "- Loads the best-trained **Night model** weights (`best.pt`).\n",
    "- Performs object detection on all images inside the folder `\"images for testing\"`.\n",
    "- Saves the output images with bounding boxes to the folder `runs/detect/yolo12_testing_images`.\n",
    "- Also saves the detection results (class labels and bounding box coordinates) as `.txt` files alongside each image.\n",
    "- Uses a confidence threshold of **0.25** to filter predictions.\n",
    "- Resizes all images to **416×416** before detection.\n",
    "- Overwrites the output folder if it already exists (`exist_ok=True`).\n",
    "\n",
    "---"
   ]
  }
 ],
 "metadata": {
  "kernelspec": {
   "display_name": "YOLO-ARTNC",
   "language": "python",
   "name": "yolo-artnc"
  },
  "language_info": {
   "codemirror_mode": {
    "name": "ipython",
    "version": 3
   },
   "file_extension": ".py",
   "mimetype": "text/x-python",
   "name": "python",
   "nbconvert_exporter": "python",
   "pygments_lexer": "ipython3",
   "version": "3.10.7"
  }
 },
 "nbformat": 4,
 "nbformat_minor": 5
}
